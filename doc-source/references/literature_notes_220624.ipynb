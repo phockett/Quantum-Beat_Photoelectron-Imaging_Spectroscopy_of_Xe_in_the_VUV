{
 "cells": [
  {
   "cell_type": "markdown",
   "id": "75d8963f-c731-41b0-9a19-0f96122357ca",
   "metadata": {},
   "source": [
    "# Literature notes\n",
    "22/06/24"
   ]
  },
  {
   "cell_type": "markdown",
   "id": "136f00da-4477-436f-ad7b-2437e1782b9e",
   "metadata": {},
   "source": [
    "{cite:ps}`gilb2006MappingTimedependentElectron`\n",
    "\n",
    "- PADs and QB FT analysis.\n",
    "    \n",
    "- Basic wavepacket + ionization model, MQDT style.\n",
    "    \n",
    "- Brief discussion of entanglement and Bell states.\n",
    "    \n",
    "- Should relate to Blum stuff for more…?\n",
    "\n"
   ]
  },
  {
   "cell_type": "markdown",
   "id": "0c7338ba-a810-4fc9-a811-53534306b6e0",
   "metadata": {},
   "source": [
    "```{bibliography}\n",
    "```"
   ]
  },
  {
   "cell_type": "code",
   "execution_count": null,
   "id": "5fb37052-7b9e-4224-a49f-46b7b1489d49",
   "metadata": {},
   "outputs": [],
   "source": []
  }
 ],
 "metadata": {
  "kernelspec": {
   "display_name": "Python 3 (ipykernel)",
   "language": "python",
   "name": "python3"
  },
  "language_info": {
   "codemirror_mode": {
    "name": "ipython",
    "version": 3
   },
   "file_extension": ".py",
   "mimetype": "text/x-python",
   "name": "python",
   "nbconvert_exporter": "python",
   "pygments_lexer": "ipython3",
   "version": "3.10.11"
  }
 },
 "nbformat": 4,
 "nbformat_minor": 5
}
