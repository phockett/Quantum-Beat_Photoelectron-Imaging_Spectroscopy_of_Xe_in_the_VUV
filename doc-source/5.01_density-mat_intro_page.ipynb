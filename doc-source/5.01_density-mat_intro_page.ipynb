{
 "cells": [
  {
   "cell_type": "markdown",
   "id": "2bc0319d-3cc3-4aa4-8611-b0c80775f31f",
   "metadata": {
    "tags": [
     "remove-cell"
    ]
   },
   "source": [
    "03/06/25\n",
    "- Stub for density matrix intro index only. (For template, see 4.02 fitting intro.)"
   ]
  },
  {
   "cell_type": "markdown",
   "id": "7ddae47c-7f40-4810-9085-bbe0bf3593df",
   "metadata": {},
   "source": [
    "(page:denmat-intro)=\n",
    "# Density matrices from hyperfine beat\n",
    "\n",
    "From the simulated electronic wavepacket, we can analyse the properties in density matrix and real-space representations.\n",
    "\n",
    "- Basic \"Legacy version\" uses basic code from [Alignment 3 notebook](https://github.com/phockett/Quantum-Metrology-with-Photoelectrons/blob/master/Alignment/Alignment-3.ipynb). See {ref}`page:denMat`.\n",
    "- Update version, uses code from this project and ePSproc for analysis. See {ref}`page:denMatUpdated`.\n",
    "\n",
    "---\n",
    "\n",
    "From prior work and data:\n",
    "\n",
    "- Forbes, R. et al. (2018) ‘Quantum-beat photoelectron-imaging spectroscopy of Xe in the VUV’, Physical Review A, 97(6), p. 063417. Available at: https://doi.org/10.1103/PhysRevA.97.063417. arXiv: http://arxiv.org/abs/1803.01081, Authorea (original HTML version): https://doi.org/10.22541/au.156045380.07795038\n",
    "- Data (OSF): https://osf.io/ds8mk/\n",
    "- [Quantum Metrology with Photoelectrons (Github repo)](https://github.com/phockett/Quantum-Metrology-with-Photoelectrons), particularly the [Alignment 3 notebook](https://github.com/phockett/Quantum-Metrology-with-Photoelectrons/blob/master/Alignment/Alignment-3.ipynb). Functions from this notebook have been incorporated in the current project, under `qbanalysis.hyperfine`."
   ]
  },
  {
   "cell_type": "code",
   "execution_count": null,
   "id": "510e3a4f-24ea-49b1-b2bd-ba0d46fff4a0",
   "metadata": {},
   "outputs": [],
   "source": []
  }
 ],
 "metadata": {
  "jupytext": {
   "formats": "ipynb,md:myst"
  },
  "kernelspec": {
   "display_name": "Python 3 (ipykernel)",
   "language": "python",
   "name": "python3"
  },
  "language_info": {
   "codemirror_mode": {
    "name": "ipython",
    "version": 3
   },
   "file_extension": ".py",
   "mimetype": "text/x-python",
   "name": "python",
   "nbconvert_exporter": "python",
   "pygments_lexer": "ipython3",
   "version": "3.10.11"
  }
 },
 "nbformat": 4,
 "nbformat_minor": 5
}
