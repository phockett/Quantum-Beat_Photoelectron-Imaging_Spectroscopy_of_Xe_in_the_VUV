{
 "cells": [
  {
   "cell_type": "markdown",
   "id": "f65b6260-7917-44cd-be69-e11cae604805",
   "metadata": {
    "tags": [
     "remove-cell"
    ]
   },
   "source": [
    "Added for ongoing notes and also bib testing.\n",
    "\n",
    "For configuration see:\n",
    "\n",
    "- https://jupyterbook.org/en/stable/tutorials/references.html#tutorials-references\n",
    "- https://jupyterbook.org/en/stable/content/citations.html\n",
    "- https://sphinxcontrib-bibtex.readthedocs.io/en/latest/usage.html#roles-and-directives\n",
    "- https://sphinxcontrib-bibtex.readthedocs.io/en/latest/usage.html#referencing-style\n",
    "\n",
    "Note styles configured in `_config.yml`, and also in {bibliography} directive, which can include filters and stuff too, e.g. https://jupyterbook.org/en/stable/content/citations.html#local-bibliographies"
   ]
  },
  {
   "cell_type": "markdown",
   "id": "75d8963f-c731-41b0-9a19-0f96122357ca",
   "metadata": {},
   "source": [
    "# Literature notes\n",
    "22/06/24"
   ]
  },
  {
   "cell_type": "markdown",
   "id": "136f00da-4477-436f-ad7b-2437e1782b9e",
   "metadata": {},
   "source": [
    "{cite:ps}`gilb2006MappingTimedependentElectron`\n",
    "\n",
    "- PADs and QB FT analysis.\n",
    "    \n",
    "- Basic wavepacket + ionization model, MQDT style.\n",
    "    \n",
    "- Brief discussion of entanglement and Bell states.\n",
    "    \n",
    "- Should relate to Blum stuff for more…?\n",
    "\n"
   ]
  },
  {
   "cell_type": "markdown",
   "id": "0c7338ba-a810-4fc9-a811-53534306b6e0",
   "metadata": {},
   "source": [
    "```{bibliography}\n",
    "```"
   ]
  },
  {
   "cell_type": "code",
   "execution_count": null,
   "id": "5fb37052-7b9e-4224-a49f-46b7b1489d49",
   "metadata": {},
   "outputs": [],
   "source": []
  }
 ],
 "metadata": {
  "jupytext": {
   "formats": "ipynb,md:myst"
  },
  "kernelspec": {
   "display_name": "Python 3 (ipykernel)",
   "language": "python",
   "name": "python3"
  },
  "language_info": {
   "codemirror_mode": {
    "name": "ipython",
    "version": 3
   },
   "file_extension": ".py",
   "mimetype": "text/x-python",
   "name": "python",
   "nbconvert_exporter": "python",
   "pygments_lexer": "ipython3",
   "version": "3.10.11"
  }
 },
 "nbformat": 4,
 "nbformat_minor": 5
}
