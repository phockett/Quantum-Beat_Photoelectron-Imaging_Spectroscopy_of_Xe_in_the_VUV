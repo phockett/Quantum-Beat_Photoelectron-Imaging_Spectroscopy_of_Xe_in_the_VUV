{
 "cells": [
  {
   "cell_type": "markdown",
   "id": "2bc0319d-3cc3-4aa4-8611-b0c80775f31f",
   "metadata": {
    "tags": [
     "remove-cell"
    ]
   },
   "source": [
    "22/06/24\n",
    "- Stub for fitting intro index only.\n"
   ]
  },
  {
   "cell_type": "markdown",
   "id": "7ddae47c-7f40-4810-9085-bbe0bf3593df",
   "metadata": {},
   "source": [
    "(page:fitting-intro)=\n",
    "# Basic fitting for hyperfine beat (stage 1 bootstrap)\n",
    "\n",
    "For basic fitting, try a stage 1 style bootstrap. In this case, options are:\n",
    "\n",
    "- \"basic\" ignore the photoionization dynamics and just try fitting the beat to the $l=4$, ROI=0 case, since it is already pretty close and may be assumed to be directly mapped here. See {ref}`page:basic-fitting`.\n",
    "- \"advanced\" set (arbitrary) parameters per final state for the probe, and fit these plus the hyperfine beat model parameters. This should allow for a match to a single set of hyperfine parameters for all observables, and fulfil the stage 1 bootstrap criteria. See {ref}`page:advanced-fitting`.\n",
    "\n",
    "---\n",
    "\n",
    "From prior work and data:\n",
    "\n",
    "- Forbes, R. et al. (2018) ‘Quantum-beat photoelectron-imaging spectroscopy of Xe in the VUV’, Physical Review A, 97(6), p. 063417. Available at: https://doi.org/10.1103/PhysRevA.97.063417. arXiv: http://arxiv.org/abs/1803.01081, Authorea (original HTML version): https://doi.org/10.22541/au.156045380.07795038\n",
    "- Data (OSF): https://osf.io/ds8mk/\n",
    "- [Quantum Metrology with Photoelectrons (Github repo)](https://github.com/phockett/Quantum-Metrology-with-Photoelectrons), particularly the [Alignment 3 notebook](https://github.com/phockett/Quantum-Metrology-with-Photoelectrons/blob/master/Alignment/Alignment-3.ipynb). Functions from this notebook have been incorporated in the current project, under `qbanalysis.hyperfine`."
   ]
  }
 ],
 "metadata": {
  "jupytext": {
   "formats": "ipynb,md:myst"
  },
  "kernelspec": {
   "display_name": "Python 3 (ipykernel)",
   "language": "python",
   "name": "python3"
  },
  "language_info": {
   "codemirror_mode": {
    "name": "ipython",
    "version": 3
   },
   "file_extension": ".py",
   "mimetype": "text/x-python",
   "name": "python",
   "nbconvert_exporter": "python",
   "pygments_lexer": "ipython3",
   "version": "3.10.11"
  }
 },
 "nbformat": 4,
 "nbformat_minor": 5
}
