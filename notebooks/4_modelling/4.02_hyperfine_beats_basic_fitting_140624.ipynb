{
 "cells": [
  {
   "cell_type": "markdown",
   "id": "b4f30fd8-c051-4a2f-85dd-4f160ff8bef5",
   "metadata": {},
   "source": [
    "# Basic fitting for hyperfine beat (stage 1 bootstrap)\n",
    "\n",
    "From prior work and data:\n",
    "\n",
    "- Forbes, R. et al. (2018) ‘Quantum-beat photoelectron-imaging spectroscopy of Xe in the VUV’, Physical Review A, 97(6), p. 063417. Available at: https://doi.org/10.1103/PhysRevA.97.063417. arXiv: http://arxiv.org/abs/1803.01081, Authorea (original HTML version): https://doi.org/10.22541/au.156045380.07795038\n",
    "- Data (OSF): https://osf.io/ds8mk/\n",
    "- [Quantum Metrology with Photoelectrons (Github repo)](https://github.com/phockett/Quantum-Metrology-with-Photoelectrons), particularly the [Alignment 3 notebook](https://github.com/phockett/Quantum-Metrology-with-Photoelectrons/blob/master/Alignment/Alignment-3.ipynb). Functions from this notebook have been incorporated in the current project, under `qbanalysis.hyperfine`."
   ]
  },
  {
   "cell_type": "markdown",
   "id": "19fd6778-10a7-4ace-bb71-123f08a8c00d",
   "metadata": {},
   "source": [
    "For basic fitting, try a stage 1 style bootstrap. In this case, set (arbitrary) parameters per final state for the probe, and fit these plus the hyperfine beat model parameters. This should allow for a match to a single set of hyperfine parameters for all observables.\n",
    "\n",
    "- 14/06/24: basic fit for L=4/ROI-0 data working with Scipy. Next should add ionization model and use all states...\n",
    "   - Xarray wrapper may be neater? See https://docs.xarray.dev/en/latest/generated/xarray.DataArray.curvefit.html#xarray.DataArray.curvefit\n",
    "   - 16/06/24: A,B param determination with Scipy.least_squares working. Seems like overkill, but other methods not very flexible? Currently pass Xarray data for calcs, with wrappers for Scipy. Quite annoying.\n",
    "   - TODO: try PD-based calc, should actually be easier in this case."
   ]
  },
  {
   "cell_type": "markdown",
   "id": "5f4e1177-b339-4147-bbed-5a106d915418",
   "metadata": {},
   "source": [
    "## Setup fitting model\n",
    "\n",
    "Follow the modelling notebook, but wrap functions for fitting.\n",
    "\n",
    "New functions are in `qbanalysis.basic_fitting.py`."
   ]
  },
  {
   "cell_type": "markdown",
   "id": "758008b0-5e6b-4cc0-901d-e8b6e171272d",
   "metadata": {},
   "source": [
    "### Imports"
   ]
  },
  {
   "cell_type": "code",
   "execution_count": 1,
   "id": "5fecf417-0bae-42cf-90e0-8beeddf8965a",
   "metadata": {
    "tags": []
   },
   "outputs": [
    {
     "name": "stderr",
     "output_type": "stream",
     "text": [
      "\u001b[32m2024-06-17 15:57:25.965\u001b[0m | \u001b[1mINFO    \u001b[0m | \u001b[36mqbanalysis.config\u001b[0m:\u001b[36m<module>\u001b[0m:\u001b[36m11\u001b[0m - \u001b[1mPROJ_ROOT path is: /home/jovyan/code-share/github-share/Quantum-Beat_Photoelectron-Imaging_Spectroscopy_of_Xe_in_the_VUV\u001b[0m\n",
      "OMP: Info #276: omp_set_nested routine deprecated, please use omp_set_max_active_levels instead.\n"
     ]
    },
    {
     "name": "stdout",
     "output_type": "stream",
     "text": [
      "* sparse not found, sparse matrix forms not available. \n",
      "* natsort not found, some sorting functions not available. \n"
     ]
    },
    {
     "data": {
      "application/javascript": [
       "(function(root) {\n",
       "  function now() {\n",
       "    return new Date();\n",
       "  }\n",
       "\n",
       "  var force = true;\n",
       "  var py_version = '3.1.1'.replace('rc', '-rc.').replace('.dev', '-dev.');\n",
       "  var is_dev = py_version.indexOf(\"+\") !== -1 || py_version.indexOf(\"-\") !== -1;\n",
       "  var reloading = false;\n",
       "  var Bokeh = root.Bokeh;\n",
       "  var bokeh_loaded = Bokeh != null && (Bokeh.version === py_version || (Bokeh.versions !== undefined && Bokeh.versions.has(py_version)));\n",
       "\n",
       "  if (typeof (root._bokeh_timeout) === \"undefined\" || force) {\n",
       "    root._bokeh_timeout = Date.now() + 5000;\n",
       "    root._bokeh_failed_load = false;\n",
       "  }\n",
       "\n",
       "  function run_callbacks() {\n",
       "    try {\n",
       "      root._bokeh_onload_callbacks.forEach(function(callback) {\n",
       "        if (callback != null)\n",
       "          callback();\n",
       "      });\n",
       "    } finally {\n",
       "      delete root._bokeh_onload_callbacks;\n",
       "    }\n",
       "    console.debug(\"Bokeh: all callbacks have finished\");\n",
       "  }\n",
       "\n",
       "  function load_libs(css_urls, js_urls, js_modules, js_exports, callback) {\n",
       "    if (css_urls == null) css_urls = [];\n",
       "    if (js_urls == null) js_urls = [];\n",
       "    if (js_modules == null) js_modules = [];\n",
       "    if (js_exports == null) js_exports = {};\n",
       "\n",
       "    root._bokeh_onload_callbacks.push(callback);\n",
       "\n",
       "    if (root._bokeh_is_loading > 0) {\n",
       "      console.debug(\"Bokeh: BokehJS is being loaded, scheduling callback at\", now());\n",
       "      return null;\n",
       "    }\n",
       "    if (js_urls.length === 0 && js_modules.length === 0 && Object.keys(js_exports).length === 0) {\n",
       "      run_callbacks();\n",
       "      return null;\n",
       "    }\n",
       "    if (!reloading) {\n",
       "      console.debug(\"Bokeh: BokehJS not loaded, scheduling load and callback at\", now());\n",
       "    }\n",
       "\n",
       "    function on_load() {\n",
       "      root._bokeh_is_loading--;\n",
       "      if (root._bokeh_is_loading === 0) {\n",
       "        console.debug(\"Bokeh: all BokehJS libraries/stylesheets loaded\");\n",
       "        run_callbacks()\n",
       "      }\n",
       "    }\n",
       "    window._bokeh_on_load = on_load\n",
       "\n",
       "    function on_error() {\n",
       "      console.error(\"failed to load \" + url);\n",
       "    }\n",
       "\n",
       "    var skip = [];\n",
       "    if (window.requirejs) {\n",
       "      window.requirejs.config({'packages': {}, 'paths': {'jspanel': 'https://cdn.jsdelivr.net/npm/jspanel4@4.12.0/dist/jspanel', 'jspanel-modal': 'https://cdn.jsdelivr.net/npm/jspanel4@4.12.0/dist/extensions/modal/jspanel.modal', 'jspanel-tooltip': 'https://cdn.jsdelivr.net/npm/jspanel4@4.12.0/dist/extensions/tooltip/jspanel.tooltip', 'jspanel-hint': 'https://cdn.jsdelivr.net/npm/jspanel4@4.12.0/dist/extensions/hint/jspanel.hint', 'jspanel-layout': 'https://cdn.jsdelivr.net/npm/jspanel4@4.12.0/dist/extensions/layout/jspanel.layout', 'jspanel-contextmenu': 'https://cdn.jsdelivr.net/npm/jspanel4@4.12.0/dist/extensions/contextmenu/jspanel.contextmenu', 'jspanel-dock': 'https://cdn.jsdelivr.net/npm/jspanel4@4.12.0/dist/extensions/dock/jspanel.dock', 'gridstack': 'https://cdn.jsdelivr.net/npm/gridstack@7.2.3/dist/gridstack-all', 'notyf': 'https://cdn.jsdelivr.net/npm/notyf@3/notyf.min'}, 'shim': {'jspanel': {'exports': 'jsPanel'}, 'gridstack': {'exports': 'GridStack'}}});\n",
       "      require([\"jspanel\"], function(jsPanel) {\n",
       "\twindow.jsPanel = jsPanel\n",
       "\ton_load()\n",
       "      })\n",
       "      require([\"jspanel-modal\"], function() {\n",
       "\ton_load()\n",
       "      })\n",
       "      require([\"jspanel-tooltip\"], function() {\n",
       "\ton_load()\n",
       "      })\n",
       "      require([\"jspanel-hint\"], function() {\n",
       "\ton_load()\n",
       "      })\n",
       "      require([\"jspanel-layout\"], function() {\n",
       "\ton_load()\n",
       "      })\n",
       "      require([\"jspanel-contextmenu\"], function() {\n",
       "\ton_load()\n",
       "      })\n",
       "      require([\"jspanel-dock\"], function() {\n",
       "\ton_load()\n",
       "      })\n",
       "      require([\"gridstack\"], function(GridStack) {\n",
       "\twindow.GridStack = GridStack\n",
       "\ton_load()\n",
       "      })\n",
       "      require([\"notyf\"], function() {\n",
       "\ton_load()\n",
       "      })\n",
       "      root._bokeh_is_loading = css_urls.length + 9;\n",
       "    } else {\n",
       "      root._bokeh_is_loading = css_urls.length + js_urls.length + js_modules.length + Object.keys(js_exports).length;\n",
       "    }\n",
       "\n",
       "    var existing_stylesheets = []\n",
       "    var links = document.getElementsByTagName('link')\n",
       "    for (var i = 0; i < links.length; i++) {\n",
       "      var link = links[i]\n",
       "      if (link.href != null) {\n",
       "\texisting_stylesheets.push(link.href)\n",
       "      }\n",
       "    }\n",
       "    for (var i = 0; i < css_urls.length; i++) {\n",
       "      var url = css_urls[i];\n",
       "      if (existing_stylesheets.indexOf(url) !== -1) {\n",
       "\ton_load()\n",
       "\tcontinue;\n",
       "      }\n",
       "      const element = document.createElement(\"link\");\n",
       "      element.onload = on_load;\n",
       "      element.onerror = on_error;\n",
       "      element.rel = \"stylesheet\";\n",
       "      element.type = \"text/css\";\n",
       "      element.href = url;\n",
       "      console.debug(\"Bokeh: injecting link tag for BokehJS stylesheet: \", url);\n",
       "      document.body.appendChild(element);\n",
       "    }    if (((window['jsPanel'] !== undefined) && (!(window['jsPanel'] instanceof HTMLElement))) || window.requirejs) {\n",
       "      var urls = ['https://cdn.holoviz.org/panel/1.2.0/dist/bundled/floatpanel/jspanel4@4.12.0/dist/jspanel.js', 'https://cdn.holoviz.org/panel/1.2.0/dist/bundled/floatpanel/jspanel4@4.12.0/dist/extensions/modal/jspanel.modal.js', 'https://cdn.holoviz.org/panel/1.2.0/dist/bundled/floatpanel/jspanel4@4.12.0/dist/extensions/tooltip/jspanel.tooltip.js', 'https://cdn.holoviz.org/panel/1.2.0/dist/bundled/floatpanel/jspanel4@4.12.0/dist/extensions/hint/jspanel.hint.js', 'https://cdn.holoviz.org/panel/1.2.0/dist/bundled/floatpanel/jspanel4@4.12.0/dist/extensions/layout/jspanel.layout.js', 'https://cdn.holoviz.org/panel/1.2.0/dist/bundled/floatpanel/jspanel4@4.12.0/dist/extensions/contextmenu/jspanel.contextmenu.js', 'https://cdn.holoviz.org/panel/1.2.0/dist/bundled/floatpanel/jspanel4@4.12.0/dist/extensions/dock/jspanel.dock.js'];\n",
       "      for (var i = 0; i < urls.length; i++) {\n",
       "        skip.push(urls[i])\n",
       "      }\n",
       "    }    if (((window['GridStack'] !== undefined) && (!(window['GridStack'] instanceof HTMLElement))) || window.requirejs) {\n",
       "      var urls = ['https://cdn.holoviz.org/panel/1.2.0/dist/bundled/gridstack/gridstack@7.2.3/dist/gridstack-all.js'];\n",
       "      for (var i = 0; i < urls.length; i++) {\n",
       "        skip.push(urls[i])\n",
       "      }\n",
       "    }    if (((window['Notyf'] !== undefined) && (!(window['Notyf'] instanceof HTMLElement))) || window.requirejs) {\n",
       "      var urls = ['https://cdn.holoviz.org/panel/1.2.0/dist/bundled/notificationarea/notyf@3/notyf.min.js'];\n",
       "      for (var i = 0; i < urls.length; i++) {\n",
       "        skip.push(urls[i])\n",
       "      }\n",
       "    }    var existing_scripts = []\n",
       "    var scripts = document.getElementsByTagName('script')\n",
       "    for (var i = 0; i < scripts.length; i++) {\n",
       "      var script = scripts[i]\n",
       "      if (script.src != null) {\n",
       "\texisting_scripts.push(script.src)\n",
       "      }\n",
       "    }\n",
       "    for (var i = 0; i < js_urls.length; i++) {\n",
       "      var url = js_urls[i];\n",
       "      if (skip.indexOf(url) !== -1 || existing_scripts.indexOf(url) !== -1) {\n",
       "\tif (!window.requirejs) {\n",
       "\t  on_load();\n",
       "\t}\n",
       "\tcontinue;\n",
       "      }\n",
       "      var element = document.createElement('script');\n",
       "      element.onload = on_load;\n",
       "      element.onerror = on_error;\n",
       "      element.async = false;\n",
       "      element.src = url;\n",
       "      console.debug(\"Bokeh: injecting script tag for BokehJS library: \", url);\n",
       "      document.head.appendChild(element);\n",
       "    }\n",
       "    for (var i = 0; i < js_modules.length; i++) {\n",
       "      var url = js_modules[i];\n",
       "      if (skip.indexOf(url) !== -1 || existing_scripts.indexOf(url) !== -1) {\n",
       "\tif (!window.requirejs) {\n",
       "\t  on_load();\n",
       "\t}\n",
       "\tcontinue;\n",
       "      }\n",
       "      var element = document.createElement('script');\n",
       "      element.onload = on_load;\n",
       "      element.onerror = on_error;\n",
       "      element.async = false;\n",
       "      element.src = url;\n",
       "      element.type = \"module\";\n",
       "      console.debug(\"Bokeh: injecting script tag for BokehJS library: \", url);\n",
       "      document.head.appendChild(element);\n",
       "    }\n",
       "    for (const name in js_exports) {\n",
       "      var url = js_exports[name];\n",
       "      if (skip.indexOf(url) >= 0 || root[name] != null) {\n",
       "\tif (!window.requirejs) {\n",
       "\t  on_load();\n",
       "\t}\n",
       "\tcontinue;\n",
       "      }\n",
       "      var element = document.createElement('script');\n",
       "      element.onerror = on_error;\n",
       "      element.async = false;\n",
       "      element.type = \"module\";\n",
       "      console.debug(\"Bokeh: injecting script tag for BokehJS library: \", url);\n",
       "      element.textContent = `\n",
       "      import ${name} from \"${url}\"\n",
       "      window.${name} = ${name}\n",
       "      window._bokeh_on_load()\n",
       "      `\n",
       "      document.head.appendChild(element);\n",
       "    }\n",
       "    if (!js_urls.length && !js_modules.length) {\n",
       "      on_load()\n",
       "    }\n",
       "  };\n",
       "\n",
       "  function inject_raw_css(css) {\n",
       "    const element = document.createElement(\"style\");\n",
       "    element.appendChild(document.createTextNode(css));\n",
       "    document.body.appendChild(element);\n",
       "  }\n",
       "\n",
       "  var js_urls = [\"https://cdn.bokeh.org/bokeh/release/bokeh-3.1.1.min.js\", \"https://cdn.bokeh.org/bokeh/release/bokeh-gl-3.1.1.min.js\", \"https://cdn.bokeh.org/bokeh/release/bokeh-widgets-3.1.1.min.js\", \"https://cdn.bokeh.org/bokeh/release/bokeh-tables-3.1.1.min.js\", \"https://cdn.holoviz.org/panel/1.2.0/dist/panel.min.js\"];\n",
       "  var js_modules = [];\n",
       "  var js_exports = {};\n",
       "  var css_urls = [];\n",
       "  var inline_js = [    function(Bokeh) {\n",
       "      Bokeh.set_log_level(\"info\");\n",
       "    },\n",
       "function(Bokeh) {} // ensure no trailing comma for IE\n",
       "  ];\n",
       "\n",
       "  function run_inline_js() {\n",
       "    if ((root.Bokeh !== undefined) || (force === true)) {\n",
       "      for (var i = 0; i < inline_js.length; i++) {\n",
       "        inline_js[i].call(root, root.Bokeh);\n",
       "      }\n",
       "      // Cache old bokeh versions\n",
       "      if (Bokeh != undefined && !reloading) {\n",
       "\tvar NewBokeh = root.Bokeh;\n",
       "\tif (Bokeh.versions === undefined) {\n",
       "\t  Bokeh.versions = new Map();\n",
       "\t}\n",
       "\tif (NewBokeh.version !== Bokeh.version) {\n",
       "\t  Bokeh.versions.set(NewBokeh.version, NewBokeh)\n",
       "\t}\n",
       "\troot.Bokeh = Bokeh;\n",
       "      }} else if (Date.now() < root._bokeh_timeout) {\n",
       "      setTimeout(run_inline_js, 100);\n",
       "    } else if (!root._bokeh_failed_load) {\n",
       "      console.log(\"Bokeh: BokehJS failed to load within specified timeout.\");\n",
       "      root._bokeh_failed_load = true;\n",
       "    }\n",
       "    root._bokeh_is_initializing = false\n",
       "  }\n",
       "\n",
       "  function load_or_wait() {\n",
       "    // Implement a backoff loop that tries to ensure we do not load multiple\n",
       "    // versions of Bokeh and its dependencies at the same time.\n",
       "    // In recent versions we use the root._bokeh_is_initializing flag\n",
       "    // to determine whether there is an ongoing attempt to initialize\n",
       "    // bokeh, however for backward compatibility we also try to ensure\n",
       "    // that we do not start loading a newer (Panel>=1.0 and Bokeh>3) version\n",
       "    // before older versions are fully initialized.\n",
       "    if (root._bokeh_is_initializing && Date.now() > root._bokeh_timeout) {\n",
       "      root._bokeh_is_initializing = false;\n",
       "      root._bokeh_onload_callbacks = undefined;\n",
       "      console.log(\"Bokeh: BokehJS was loaded multiple times but one version failed to initialize.\");\n",
       "      load_or_wait();\n",
       "    } else if (root._bokeh_is_initializing || (typeof root._bokeh_is_initializing === \"undefined\" && root._bokeh_onload_callbacks !== undefined)) {\n",
       "      setTimeout(load_or_wait, 100);\n",
       "    } else {\n",
       "      Bokeh = root.Bokeh;\n",
       "      bokeh_loaded = Bokeh != null && (Bokeh.version === py_version || (Bokeh.versions !== undefined && Bokeh.versions.has(py_version)));\n",
       "      root._bokeh_is_initializing = true\n",
       "      root._bokeh_onload_callbacks = []\n",
       "      if (!reloading && (!bokeh_loaded || is_dev)) {\n",
       "\troot.Bokeh = undefined;\n",
       "      }\n",
       "      load_libs(css_urls, js_urls, js_modules, js_exports, function() {\n",
       "\tconsole.debug(\"Bokeh: BokehJS plotting callback run at\", now());\n",
       "\trun_inline_js();\n",
       "      });\n",
       "    }\n",
       "  }\n",
       "  // Give older versions of the autoload script a head-start to ensure\n",
       "  // they initialize before we start loading newer version.\n",
       "  setTimeout(load_or_wait, 100)\n",
       "}(window));"
      ],
      "application/vnd.holoviews_load.v0+json": "(function(root) {\n  function now() {\n    return new Date();\n  }\n\n  var force = true;\n  var py_version = '3.1.1'.replace('rc', '-rc.').replace('.dev', '-dev.');\n  var is_dev = py_version.indexOf(\"+\") !== -1 || py_version.indexOf(\"-\") !== -1;\n  var reloading = false;\n  var Bokeh = root.Bokeh;\n  var bokeh_loaded = Bokeh != null && (Bokeh.version === py_version || (Bokeh.versions !== undefined && Bokeh.versions.has(py_version)));\n\n  if (typeof (root._bokeh_timeout) === \"undefined\" || force) {\n    root._bokeh_timeout = Date.now() + 5000;\n    root._bokeh_failed_load = false;\n  }\n\n  function run_callbacks() {\n    try {\n      root._bokeh_onload_callbacks.forEach(function(callback) {\n        if (callback != null)\n          callback();\n      });\n    } finally {\n      delete root._bokeh_onload_callbacks;\n    }\n    console.debug(\"Bokeh: all callbacks have finished\");\n  }\n\n  function load_libs(css_urls, js_urls, js_modules, js_exports, callback) {\n    if (css_urls == null) css_urls = [];\n    if (js_urls == null) js_urls = [];\n    if (js_modules == null) js_modules = [];\n    if (js_exports == null) js_exports = {};\n\n    root._bokeh_onload_callbacks.push(callback);\n\n    if (root._bokeh_is_loading > 0) {\n      console.debug(\"Bokeh: BokehJS is being loaded, scheduling callback at\", now());\n      return null;\n    }\n    if (js_urls.length === 0 && js_modules.length === 0 && Object.keys(js_exports).length === 0) {\n      run_callbacks();\n      return null;\n    }\n    if (!reloading) {\n      console.debug(\"Bokeh: BokehJS not loaded, scheduling load and callback at\", now());\n    }\n\n    function on_load() {\n      root._bokeh_is_loading--;\n      if (root._bokeh_is_loading === 0) {\n        console.debug(\"Bokeh: all BokehJS libraries/stylesheets loaded\");\n        run_callbacks()\n      }\n    }\n    window._bokeh_on_load = on_load\n\n    function on_error() {\n      console.error(\"failed to load \" + url);\n    }\n\n    var skip = [];\n    if (window.requirejs) {\n      window.requirejs.config({'packages': {}, 'paths': {'jspanel': 'https://cdn.jsdelivr.net/npm/jspanel4@4.12.0/dist/jspanel', 'jspanel-modal': 'https://cdn.jsdelivr.net/npm/jspanel4@4.12.0/dist/extensions/modal/jspanel.modal', 'jspanel-tooltip': 'https://cdn.jsdelivr.net/npm/jspanel4@4.12.0/dist/extensions/tooltip/jspanel.tooltip', 'jspanel-hint': 'https://cdn.jsdelivr.net/npm/jspanel4@4.12.0/dist/extensions/hint/jspanel.hint', 'jspanel-layout': 'https://cdn.jsdelivr.net/npm/jspanel4@4.12.0/dist/extensions/layout/jspanel.layout', 'jspanel-contextmenu': 'https://cdn.jsdelivr.net/npm/jspanel4@4.12.0/dist/extensions/contextmenu/jspanel.contextmenu', 'jspanel-dock': 'https://cdn.jsdelivr.net/npm/jspanel4@4.12.0/dist/extensions/dock/jspanel.dock', 'gridstack': 'https://cdn.jsdelivr.net/npm/gridstack@7.2.3/dist/gridstack-all', 'notyf': 'https://cdn.jsdelivr.net/npm/notyf@3/notyf.min'}, 'shim': {'jspanel': {'exports': 'jsPanel'}, 'gridstack': {'exports': 'GridStack'}}});\n      require([\"jspanel\"], function(jsPanel) {\n\twindow.jsPanel = jsPanel\n\ton_load()\n      })\n      require([\"jspanel-modal\"], function() {\n\ton_load()\n      })\n      require([\"jspanel-tooltip\"], function() {\n\ton_load()\n      })\n      require([\"jspanel-hint\"], function() {\n\ton_load()\n      })\n      require([\"jspanel-layout\"], function() {\n\ton_load()\n      })\n      require([\"jspanel-contextmenu\"], function() {\n\ton_load()\n      })\n      require([\"jspanel-dock\"], function() {\n\ton_load()\n      })\n      require([\"gridstack\"], function(GridStack) {\n\twindow.GridStack = GridStack\n\ton_load()\n      })\n      require([\"notyf\"], function() {\n\ton_load()\n      })\n      root._bokeh_is_loading = css_urls.length + 9;\n    } else {\n      root._bokeh_is_loading = css_urls.length + js_urls.length + js_modules.length + Object.keys(js_exports).length;\n    }\n\n    var existing_stylesheets = []\n    var links = document.getElementsByTagName('link')\n    for (var i = 0; i < links.length; i++) {\n      var link = links[i]\n      if (link.href != null) {\n\texisting_stylesheets.push(link.href)\n      }\n    }\n    for (var i = 0; i < css_urls.length; i++) {\n      var url = css_urls[i];\n      if (existing_stylesheets.indexOf(url) !== -1) {\n\ton_load()\n\tcontinue;\n      }\n      const element = document.createElement(\"link\");\n      element.onload = on_load;\n      element.onerror = on_error;\n      element.rel = \"stylesheet\";\n      element.type = \"text/css\";\n      element.href = url;\n      console.debug(\"Bokeh: injecting link tag for BokehJS stylesheet: \", url);\n      document.body.appendChild(element);\n    }    if (((window['jsPanel'] !== undefined) && (!(window['jsPanel'] instanceof HTMLElement))) || window.requirejs) {\n      var urls = ['https://cdn.holoviz.org/panel/1.2.0/dist/bundled/floatpanel/jspanel4@4.12.0/dist/jspanel.js', 'https://cdn.holoviz.org/panel/1.2.0/dist/bundled/floatpanel/jspanel4@4.12.0/dist/extensions/modal/jspanel.modal.js', 'https://cdn.holoviz.org/panel/1.2.0/dist/bundled/floatpanel/jspanel4@4.12.0/dist/extensions/tooltip/jspanel.tooltip.js', 'https://cdn.holoviz.org/panel/1.2.0/dist/bundled/floatpanel/jspanel4@4.12.0/dist/extensions/hint/jspanel.hint.js', 'https://cdn.holoviz.org/panel/1.2.0/dist/bundled/floatpanel/jspanel4@4.12.0/dist/extensions/layout/jspanel.layout.js', 'https://cdn.holoviz.org/panel/1.2.0/dist/bundled/floatpanel/jspanel4@4.12.0/dist/extensions/contextmenu/jspanel.contextmenu.js', 'https://cdn.holoviz.org/panel/1.2.0/dist/bundled/floatpanel/jspanel4@4.12.0/dist/extensions/dock/jspanel.dock.js'];\n      for (var i = 0; i < urls.length; i++) {\n        skip.push(urls[i])\n      }\n    }    if (((window['GridStack'] !== undefined) && (!(window['GridStack'] instanceof HTMLElement))) || window.requirejs) {\n      var urls = ['https://cdn.holoviz.org/panel/1.2.0/dist/bundled/gridstack/gridstack@7.2.3/dist/gridstack-all.js'];\n      for (var i = 0; i < urls.length; i++) {\n        skip.push(urls[i])\n      }\n    }    if (((window['Notyf'] !== undefined) && (!(window['Notyf'] instanceof HTMLElement))) || window.requirejs) {\n      var urls = ['https://cdn.holoviz.org/panel/1.2.0/dist/bundled/notificationarea/notyf@3/notyf.min.js'];\n      for (var i = 0; i < urls.length; i++) {\n        skip.push(urls[i])\n      }\n    }    var existing_scripts = []\n    var scripts = document.getElementsByTagName('script')\n    for (var i = 0; i < scripts.length; i++) {\n      var script = scripts[i]\n      if (script.src != null) {\n\texisting_scripts.push(script.src)\n      }\n    }\n    for (var i = 0; i < js_urls.length; i++) {\n      var url = js_urls[i];\n      if (skip.indexOf(url) !== -1 || existing_scripts.indexOf(url) !== -1) {\n\tif (!window.requirejs) {\n\t  on_load();\n\t}\n\tcontinue;\n      }\n      var element = document.createElement('script');\n      element.onload = on_load;\n      element.onerror = on_error;\n      element.async = false;\n      element.src = url;\n      console.debug(\"Bokeh: injecting script tag for BokehJS library: \", url);\n      document.head.appendChild(element);\n    }\n    for (var i = 0; i < js_modules.length; i++) {\n      var url = js_modules[i];\n      if (skip.indexOf(url) !== -1 || existing_scripts.indexOf(url) !== -1) {\n\tif (!window.requirejs) {\n\t  on_load();\n\t}\n\tcontinue;\n      }\n      var element = document.createElement('script');\n      element.onload = on_load;\n      element.onerror = on_error;\n      element.async = false;\n      element.src = url;\n      element.type = \"module\";\n      console.debug(\"Bokeh: injecting script tag for BokehJS library: \", url);\n      document.head.appendChild(element);\n    }\n    for (const name in js_exports) {\n      var url = js_exports[name];\n      if (skip.indexOf(url) >= 0 || root[name] != null) {\n\tif (!window.requirejs) {\n\t  on_load();\n\t}\n\tcontinue;\n      }\n      var element = document.createElement('script');\n      element.onerror = on_error;\n      element.async = false;\n      element.type = \"module\";\n      console.debug(\"Bokeh: injecting script tag for BokehJS library: \", url);\n      element.textContent = `\n      import ${name} from \"${url}\"\n      window.${name} = ${name}\n      window._bokeh_on_load()\n      `\n      document.head.appendChild(element);\n    }\n    if (!js_urls.length && !js_modules.length) {\n      on_load()\n    }\n  };\n\n  function inject_raw_css(css) {\n    const element = document.createElement(\"style\");\n    element.appendChild(document.createTextNode(css));\n    document.body.appendChild(element);\n  }\n\n  var js_urls = [\"https://cdn.bokeh.org/bokeh/release/bokeh-3.1.1.min.js\", \"https://cdn.bokeh.org/bokeh/release/bokeh-gl-3.1.1.min.js\", \"https://cdn.bokeh.org/bokeh/release/bokeh-widgets-3.1.1.min.js\", \"https://cdn.bokeh.org/bokeh/release/bokeh-tables-3.1.1.min.js\", \"https://cdn.holoviz.org/panel/1.2.0/dist/panel.min.js\"];\n  var js_modules = [];\n  var js_exports = {};\n  var css_urls = [];\n  var inline_js = [    function(Bokeh) {\n      Bokeh.set_log_level(\"info\");\n    },\nfunction(Bokeh) {} // ensure no trailing comma for IE\n  ];\n\n  function run_inline_js() {\n    if ((root.Bokeh !== undefined) || (force === true)) {\n      for (var i = 0; i < inline_js.length; i++) {\n        inline_js[i].call(root, root.Bokeh);\n      }\n      // Cache old bokeh versions\n      if (Bokeh != undefined && !reloading) {\n\tvar NewBokeh = root.Bokeh;\n\tif (Bokeh.versions === undefined) {\n\t  Bokeh.versions = new Map();\n\t}\n\tif (NewBokeh.version !== Bokeh.version) {\n\t  Bokeh.versions.set(NewBokeh.version, NewBokeh)\n\t}\n\troot.Bokeh = Bokeh;\n      }} else if (Date.now() < root._bokeh_timeout) {\n      setTimeout(run_inline_js, 100);\n    } else if (!root._bokeh_failed_load) {\n      console.log(\"Bokeh: BokehJS failed to load within specified timeout.\");\n      root._bokeh_failed_load = true;\n    }\n    root._bokeh_is_initializing = false\n  }\n\n  function load_or_wait() {\n    // Implement a backoff loop that tries to ensure we do not load multiple\n    // versions of Bokeh and its dependencies at the same time.\n    // In recent versions we use the root._bokeh_is_initializing flag\n    // to determine whether there is an ongoing attempt to initialize\n    // bokeh, however for backward compatibility we also try to ensure\n    // that we do not start loading a newer (Panel>=1.0 and Bokeh>3) version\n    // before older versions are fully initialized.\n    if (root._bokeh_is_initializing && Date.now() > root._bokeh_timeout) {\n      root._bokeh_is_initializing = false;\n      root._bokeh_onload_callbacks = undefined;\n      console.log(\"Bokeh: BokehJS was loaded multiple times but one version failed to initialize.\");\n      load_or_wait();\n    } else if (root._bokeh_is_initializing || (typeof root._bokeh_is_initializing === \"undefined\" && root._bokeh_onload_callbacks !== undefined)) {\n      setTimeout(load_or_wait, 100);\n    } else {\n      Bokeh = root.Bokeh;\n      bokeh_loaded = Bokeh != null && (Bokeh.version === py_version || (Bokeh.versions !== undefined && Bokeh.versions.has(py_version)));\n      root._bokeh_is_initializing = true\n      root._bokeh_onload_callbacks = []\n      if (!reloading && (!bokeh_loaded || is_dev)) {\n\troot.Bokeh = undefined;\n      }\n      load_libs(css_urls, js_urls, js_modules, js_exports, function() {\n\tconsole.debug(\"Bokeh: BokehJS plotting callback run at\", now());\n\trun_inline_js();\n      });\n    }\n  }\n  // Give older versions of the autoload script a head-start to ensure\n  // they initialize before we start loading newer version.\n  setTimeout(load_or_wait, 100)\n}(window));"
     },
     "metadata": {},
     "output_type": "display_data"
    },
    {
     "data": {
      "application/javascript": [
       "\n",
       "if ((window.PyViz === undefined) || (window.PyViz instanceof HTMLElement)) {\n",
       "  window.PyViz = {comms: {}, comm_status:{}, kernels:{}, receivers: {}, plot_index: []}\n",
       "}\n",
       "\n",
       "\n",
       "    function JupyterCommManager() {\n",
       "    }\n",
       "\n",
       "    JupyterCommManager.prototype.register_target = function(plot_id, comm_id, msg_handler) {\n",
       "      if (window.comm_manager || ((window.Jupyter !== undefined) && (Jupyter.notebook.kernel != null))) {\n",
       "        var comm_manager = window.comm_manager || Jupyter.notebook.kernel.comm_manager;\n",
       "        comm_manager.register_target(comm_id, function(comm) {\n",
       "          comm.on_msg(msg_handler);\n",
       "        });\n",
       "      } else if ((plot_id in window.PyViz.kernels) && (window.PyViz.kernels[plot_id])) {\n",
       "        window.PyViz.kernels[plot_id].registerCommTarget(comm_id, function(comm) {\n",
       "          comm.onMsg = msg_handler;\n",
       "        });\n",
       "      } else if (typeof google != 'undefined' && google.colab.kernel != null) {\n",
       "        google.colab.kernel.comms.registerTarget(comm_id, (comm) => {\n",
       "          var messages = comm.messages[Symbol.asyncIterator]();\n",
       "          function processIteratorResult(result) {\n",
       "            var message = result.value;\n",
       "            console.log(message)\n",
       "            var content = {data: message.data, comm_id};\n",
       "            var buffers = []\n",
       "            for (var buffer of message.buffers || []) {\n",
       "              buffers.push(new DataView(buffer))\n",
       "            }\n",
       "            var metadata = message.metadata || {};\n",
       "            var msg = {content, buffers, metadata}\n",
       "            msg_handler(msg);\n",
       "            return messages.next().then(processIteratorResult);\n",
       "          }\n",
       "          return messages.next().then(processIteratorResult);\n",
       "        })\n",
       "      }\n",
       "    }\n",
       "\n",
       "    JupyterCommManager.prototype.get_client_comm = function(plot_id, comm_id, msg_handler) {\n",
       "      if (comm_id in window.PyViz.comms) {\n",
       "        return window.PyViz.comms[comm_id];\n",
       "      } else if (window.comm_manager || ((window.Jupyter !== undefined) && (Jupyter.notebook.kernel != null))) {\n",
       "        var comm_manager = window.comm_manager || Jupyter.notebook.kernel.comm_manager;\n",
       "        var comm = comm_manager.new_comm(comm_id, {}, {}, {}, comm_id);\n",
       "        if (msg_handler) {\n",
       "          comm.on_msg(msg_handler);\n",
       "        }\n",
       "      } else if ((plot_id in window.PyViz.kernels) && (window.PyViz.kernels[plot_id])) {\n",
       "        var comm = window.PyViz.kernels[plot_id].connectToComm(comm_id);\n",
       "        comm.open();\n",
       "        if (msg_handler) {\n",
       "          comm.onMsg = msg_handler;\n",
       "        }\n",
       "      } else if (typeof google != 'undefined' && google.colab.kernel != null) {\n",
       "        var comm_promise = google.colab.kernel.comms.open(comm_id)\n",
       "        comm_promise.then((comm) => {\n",
       "          window.PyViz.comms[comm_id] = comm;\n",
       "          if (msg_handler) {\n",
       "            var messages = comm.messages[Symbol.asyncIterator]();\n",
       "            function processIteratorResult(result) {\n",
       "              var message = result.value;\n",
       "              var content = {data: message.data};\n",
       "              var metadata = message.metadata || {comm_id};\n",
       "              var msg = {content, metadata}\n",
       "              msg_handler(msg);\n",
       "              return messages.next().then(processIteratorResult);\n",
       "            }\n",
       "            return messages.next().then(processIteratorResult);\n",
       "          }\n",
       "        }) \n",
       "        var sendClosure = (data, metadata, buffers, disposeOnDone) => {\n",
       "          return comm_promise.then((comm) => {\n",
       "            comm.send(data, metadata, buffers, disposeOnDone);\n",
       "          });\n",
       "        };\n",
       "        var comm = {\n",
       "          send: sendClosure\n",
       "        };\n",
       "      }\n",
       "      window.PyViz.comms[comm_id] = comm;\n",
       "      return comm;\n",
       "    }\n",
       "    window.PyViz.comm_manager = new JupyterCommManager();\n",
       "    \n",
       "\n",
       "\n",
       "var JS_MIME_TYPE = 'application/javascript';\n",
       "var HTML_MIME_TYPE = 'text/html';\n",
       "var EXEC_MIME_TYPE = 'application/vnd.holoviews_exec.v0+json';\n",
       "var CLASS_NAME = 'output';\n",
       "\n",
       "/**\n",
       " * Render data to the DOM node\n",
       " */\n",
       "function render(props, node) {\n",
       "  var div = document.createElement(\"div\");\n",
       "  var script = document.createElement(\"script\");\n",
       "  node.appendChild(div);\n",
       "  node.appendChild(script);\n",
       "}\n",
       "\n",
       "/**\n",
       " * Handle when a new output is added\n",
       " */\n",
       "function handle_add_output(event, handle) {\n",
       "  var output_area = handle.output_area;\n",
       "  var output = handle.output;\n",
       "  if ((output.data == undefined) || (!output.data.hasOwnProperty(EXEC_MIME_TYPE))) {\n",
       "    return\n",
       "  }\n",
       "  var id = output.metadata[EXEC_MIME_TYPE][\"id\"];\n",
       "  var toinsert = output_area.element.find(\".\" + CLASS_NAME.split(' ')[0]);\n",
       "  if (id !== undefined) {\n",
       "    var nchildren = toinsert.length;\n",
       "    var html_node = toinsert[nchildren-1].children[0];\n",
       "    html_node.innerHTML = output.data[HTML_MIME_TYPE];\n",
       "    var scripts = [];\n",
       "    var nodelist = html_node.querySelectorAll(\"script\");\n",
       "    for (var i in nodelist) {\n",
       "      if (nodelist.hasOwnProperty(i)) {\n",
       "        scripts.push(nodelist[i])\n",
       "      }\n",
       "    }\n",
       "\n",
       "    scripts.forEach( function (oldScript) {\n",
       "      var newScript = document.createElement(\"script\");\n",
       "      var attrs = [];\n",
       "      var nodemap = oldScript.attributes;\n",
       "      for (var j in nodemap) {\n",
       "        if (nodemap.hasOwnProperty(j)) {\n",
       "          attrs.push(nodemap[j])\n",
       "        }\n",
       "      }\n",
       "      attrs.forEach(function(attr) { newScript.setAttribute(attr.name, attr.value) });\n",
       "      newScript.appendChild(document.createTextNode(oldScript.innerHTML));\n",
       "      oldScript.parentNode.replaceChild(newScript, oldScript);\n",
       "    });\n",
       "    if (JS_MIME_TYPE in output.data) {\n",
       "      toinsert[nchildren-1].children[1].textContent = output.data[JS_MIME_TYPE];\n",
       "    }\n",
       "    output_area._hv_plot_id = id;\n",
       "    if ((window.Bokeh !== undefined) && (id in Bokeh.index)) {\n",
       "      window.PyViz.plot_index[id] = Bokeh.index[id];\n",
       "    } else {\n",
       "      window.PyViz.plot_index[id] = null;\n",
       "    }\n",
       "  } else if (output.metadata[EXEC_MIME_TYPE][\"server_id\"] !== undefined) {\n",
       "    var bk_div = document.createElement(\"div\");\n",
       "    bk_div.innerHTML = output.data[HTML_MIME_TYPE];\n",
       "    var script_attrs = bk_div.children[0].attributes;\n",
       "    for (var i = 0; i < script_attrs.length; i++) {\n",
       "      toinsert[toinsert.length - 1].childNodes[1].setAttribute(script_attrs[i].name, script_attrs[i].value);\n",
       "    }\n",
       "    // store reference to server id on output_area\n",
       "    output_area._bokeh_server_id = output.metadata[EXEC_MIME_TYPE][\"server_id\"];\n",
       "  }\n",
       "}\n",
       "\n",
       "/**\n",
       " * Handle when an output is cleared or removed\n",
       " */\n",
       "function handle_clear_output(event, handle) {\n",
       "  var id = handle.cell.output_area._hv_plot_id;\n",
       "  var server_id = handle.cell.output_area._bokeh_server_id;\n",
       "  if (((id === undefined) || !(id in PyViz.plot_index)) && (server_id !== undefined)) { return; }\n",
       "  var comm = window.PyViz.comm_manager.get_client_comm(\"hv-extension-comm\", \"hv-extension-comm\", function () {});\n",
       "  if (server_id !== null) {\n",
       "    comm.send({event_type: 'server_delete', 'id': server_id});\n",
       "    return;\n",
       "  } else if (comm !== null) {\n",
       "    comm.send({event_type: 'delete', 'id': id});\n",
       "  }\n",
       "  delete PyViz.plot_index[id];\n",
       "  if ((window.Bokeh !== undefined) & (id in window.Bokeh.index)) {\n",
       "    var doc = window.Bokeh.index[id].model.document\n",
       "    doc.clear();\n",
       "    const i = window.Bokeh.documents.indexOf(doc);\n",
       "    if (i > -1) {\n",
       "      window.Bokeh.documents.splice(i, 1);\n",
       "    }\n",
       "  }\n",
       "}\n",
       "\n",
       "/**\n",
       " * Handle kernel restart event\n",
       " */\n",
       "function handle_kernel_cleanup(event, handle) {\n",
       "  delete PyViz.comms[\"hv-extension-comm\"];\n",
       "  window.PyViz.plot_index = {}\n",
       "}\n",
       "\n",
       "/**\n",
       " * Handle update_display_data messages\n",
       " */\n",
       "function handle_update_output(event, handle) {\n",
       "  handle_clear_output(event, {cell: {output_area: handle.output_area}})\n",
       "  handle_add_output(event, handle)\n",
       "}\n",
       "\n",
       "function register_renderer(events, OutputArea) {\n",
       "  function append_mime(data, metadata, element) {\n",
       "    // create a DOM node to render to\n",
       "    var toinsert = this.create_output_subarea(\n",
       "    metadata,\n",
       "    CLASS_NAME,\n",
       "    EXEC_MIME_TYPE\n",
       "    );\n",
       "    this.keyboard_manager.register_events(toinsert);\n",
       "    // Render to node\n",
       "    var props = {data: data, metadata: metadata[EXEC_MIME_TYPE]};\n",
       "    render(props, toinsert[0]);\n",
       "    element.append(toinsert);\n",
       "    return toinsert\n",
       "  }\n",
       "\n",
       "  events.on('output_added.OutputArea', handle_add_output);\n",
       "  events.on('output_updated.OutputArea', handle_update_output);\n",
       "  events.on('clear_output.CodeCell', handle_clear_output);\n",
       "  events.on('delete.Cell', handle_clear_output);\n",
       "  events.on('kernel_ready.Kernel', handle_kernel_cleanup);\n",
       "\n",
       "  OutputArea.prototype.register_mime_type(EXEC_MIME_TYPE, append_mime, {\n",
       "    safe: true,\n",
       "    index: 0\n",
       "  });\n",
       "}\n",
       "\n",
       "if (window.Jupyter !== undefined) {\n",
       "  try {\n",
       "    var events = require('base/js/events');\n",
       "    var OutputArea = require('notebook/js/outputarea').OutputArea;\n",
       "    if (OutputArea.prototype.mime_types().indexOf(EXEC_MIME_TYPE) == -1) {\n",
       "      register_renderer(events, OutputArea);\n",
       "    }\n",
       "  } catch(err) {\n",
       "  }\n",
       "}\n"
      ],
      "application/vnd.holoviews_load.v0+json": "\nif ((window.PyViz === undefined) || (window.PyViz instanceof HTMLElement)) {\n  window.PyViz = {comms: {}, comm_status:{}, kernels:{}, receivers: {}, plot_index: []}\n}\n\n\n    function JupyterCommManager() {\n    }\n\n    JupyterCommManager.prototype.register_target = function(plot_id, comm_id, msg_handler) {\n      if (window.comm_manager || ((window.Jupyter !== undefined) && (Jupyter.notebook.kernel != null))) {\n        var comm_manager = window.comm_manager || Jupyter.notebook.kernel.comm_manager;\n        comm_manager.register_target(comm_id, function(comm) {\n          comm.on_msg(msg_handler);\n        });\n      } else if ((plot_id in window.PyViz.kernels) && (window.PyViz.kernels[plot_id])) {\n        window.PyViz.kernels[plot_id].registerCommTarget(comm_id, function(comm) {\n          comm.onMsg = msg_handler;\n        });\n      } else if (typeof google != 'undefined' && google.colab.kernel != null) {\n        google.colab.kernel.comms.registerTarget(comm_id, (comm) => {\n          var messages = comm.messages[Symbol.asyncIterator]();\n          function processIteratorResult(result) {\n            var message = result.value;\n            console.log(message)\n            var content = {data: message.data, comm_id};\n            var buffers = []\n            for (var buffer of message.buffers || []) {\n              buffers.push(new DataView(buffer))\n            }\n            var metadata = message.metadata || {};\n            var msg = {content, buffers, metadata}\n            msg_handler(msg);\n            return messages.next().then(processIteratorResult);\n          }\n          return messages.next().then(processIteratorResult);\n        })\n      }\n    }\n\n    JupyterCommManager.prototype.get_client_comm = function(plot_id, comm_id, msg_handler) {\n      if (comm_id in window.PyViz.comms) {\n        return window.PyViz.comms[comm_id];\n      } else if (window.comm_manager || ((window.Jupyter !== undefined) && (Jupyter.notebook.kernel != null))) {\n        var comm_manager = window.comm_manager || Jupyter.notebook.kernel.comm_manager;\n        var comm = comm_manager.new_comm(comm_id, {}, {}, {}, comm_id);\n        if (msg_handler) {\n          comm.on_msg(msg_handler);\n        }\n      } else if ((plot_id in window.PyViz.kernels) && (window.PyViz.kernels[plot_id])) {\n        var comm = window.PyViz.kernels[plot_id].connectToComm(comm_id);\n        comm.open();\n        if (msg_handler) {\n          comm.onMsg = msg_handler;\n        }\n      } else if (typeof google != 'undefined' && google.colab.kernel != null) {\n        var comm_promise = google.colab.kernel.comms.open(comm_id)\n        comm_promise.then((comm) => {\n          window.PyViz.comms[comm_id] = comm;\n          if (msg_handler) {\n            var messages = comm.messages[Symbol.asyncIterator]();\n            function processIteratorResult(result) {\n              var message = result.value;\n              var content = {data: message.data};\n              var metadata = message.metadata || {comm_id};\n              var msg = {content, metadata}\n              msg_handler(msg);\n              return messages.next().then(processIteratorResult);\n            }\n            return messages.next().then(processIteratorResult);\n          }\n        }) \n        var sendClosure = (data, metadata, buffers, disposeOnDone) => {\n          return comm_promise.then((comm) => {\n            comm.send(data, metadata, buffers, disposeOnDone);\n          });\n        };\n        var comm = {\n          send: sendClosure\n        };\n      }\n      window.PyViz.comms[comm_id] = comm;\n      return comm;\n    }\n    window.PyViz.comm_manager = new JupyterCommManager();\n    \n\n\nvar JS_MIME_TYPE = 'application/javascript';\nvar HTML_MIME_TYPE = 'text/html';\nvar EXEC_MIME_TYPE = 'application/vnd.holoviews_exec.v0+json';\nvar CLASS_NAME = 'output';\n\n/**\n * Render data to the DOM node\n */\nfunction render(props, node) {\n  var div = document.createElement(\"div\");\n  var script = document.createElement(\"script\");\n  node.appendChild(div);\n  node.appendChild(script);\n}\n\n/**\n * Handle when a new output is added\n */\nfunction handle_add_output(event, handle) {\n  var output_area = handle.output_area;\n  var output = handle.output;\n  if ((output.data == undefined) || (!output.data.hasOwnProperty(EXEC_MIME_TYPE))) {\n    return\n  }\n  var id = output.metadata[EXEC_MIME_TYPE][\"id\"];\n  var toinsert = output_area.element.find(\".\" + CLASS_NAME.split(' ')[0]);\n  if (id !== undefined) {\n    var nchildren = toinsert.length;\n    var html_node = toinsert[nchildren-1].children[0];\n    html_node.innerHTML = output.data[HTML_MIME_TYPE];\n    var scripts = [];\n    var nodelist = html_node.querySelectorAll(\"script\");\n    for (var i in nodelist) {\n      if (nodelist.hasOwnProperty(i)) {\n        scripts.push(nodelist[i])\n      }\n    }\n\n    scripts.forEach( function (oldScript) {\n      var newScript = document.createElement(\"script\");\n      var attrs = [];\n      var nodemap = oldScript.attributes;\n      for (var j in nodemap) {\n        if (nodemap.hasOwnProperty(j)) {\n          attrs.push(nodemap[j])\n        }\n      }\n      attrs.forEach(function(attr) { newScript.setAttribute(attr.name, attr.value) });\n      newScript.appendChild(document.createTextNode(oldScript.innerHTML));\n      oldScript.parentNode.replaceChild(newScript, oldScript);\n    });\n    if (JS_MIME_TYPE in output.data) {\n      toinsert[nchildren-1].children[1].textContent = output.data[JS_MIME_TYPE];\n    }\n    output_area._hv_plot_id = id;\n    if ((window.Bokeh !== undefined) && (id in Bokeh.index)) {\n      window.PyViz.plot_index[id] = Bokeh.index[id];\n    } else {\n      window.PyViz.plot_index[id] = null;\n    }\n  } else if (output.metadata[EXEC_MIME_TYPE][\"server_id\"] !== undefined) {\n    var bk_div = document.createElement(\"div\");\n    bk_div.innerHTML = output.data[HTML_MIME_TYPE];\n    var script_attrs = bk_div.children[0].attributes;\n    for (var i = 0; i < script_attrs.length; i++) {\n      toinsert[toinsert.length - 1].childNodes[1].setAttribute(script_attrs[i].name, script_attrs[i].value);\n    }\n    // store reference to server id on output_area\n    output_area._bokeh_server_id = output.metadata[EXEC_MIME_TYPE][\"server_id\"];\n  }\n}\n\n/**\n * Handle when an output is cleared or removed\n */\nfunction handle_clear_output(event, handle) {\n  var id = handle.cell.output_area._hv_plot_id;\n  var server_id = handle.cell.output_area._bokeh_server_id;\n  if (((id === undefined) || !(id in PyViz.plot_index)) && (server_id !== undefined)) { return; }\n  var comm = window.PyViz.comm_manager.get_client_comm(\"hv-extension-comm\", \"hv-extension-comm\", function () {});\n  if (server_id !== null) {\n    comm.send({event_type: 'server_delete', 'id': server_id});\n    return;\n  } else if (comm !== null) {\n    comm.send({event_type: 'delete', 'id': id});\n  }\n  delete PyViz.plot_index[id];\n  if ((window.Bokeh !== undefined) & (id in window.Bokeh.index)) {\n    var doc = window.Bokeh.index[id].model.document\n    doc.clear();\n    const i = window.Bokeh.documents.indexOf(doc);\n    if (i > -1) {\n      window.Bokeh.documents.splice(i, 1);\n    }\n  }\n}\n\n/**\n * Handle kernel restart event\n */\nfunction handle_kernel_cleanup(event, handle) {\n  delete PyViz.comms[\"hv-extension-comm\"];\n  window.PyViz.plot_index = {}\n}\n\n/**\n * Handle update_display_data messages\n */\nfunction handle_update_output(event, handle) {\n  handle_clear_output(event, {cell: {output_area: handle.output_area}})\n  handle_add_output(event, handle)\n}\n\nfunction register_renderer(events, OutputArea) {\n  function append_mime(data, metadata, element) {\n    // create a DOM node to render to\n    var toinsert = this.create_output_subarea(\n    metadata,\n    CLASS_NAME,\n    EXEC_MIME_TYPE\n    );\n    this.keyboard_manager.register_events(toinsert);\n    // Render to node\n    var props = {data: data, metadata: metadata[EXEC_MIME_TYPE]};\n    render(props, toinsert[0]);\n    element.append(toinsert);\n    return toinsert\n  }\n\n  events.on('output_added.OutputArea', handle_add_output);\n  events.on('output_updated.OutputArea', handle_update_output);\n  events.on('clear_output.CodeCell', handle_clear_output);\n  events.on('delete.Cell', handle_clear_output);\n  events.on('kernel_ready.Kernel', handle_kernel_cleanup);\n\n  OutputArea.prototype.register_mime_type(EXEC_MIME_TYPE, append_mime, {\n    safe: true,\n    index: 0\n  });\n}\n\nif (window.Jupyter !== undefined) {\n  try {\n    var events = require('base/js/events');\n    var OutputArea = require('notebook/js/outputarea').OutputArea;\n    if (OutputArea.prototype.mime_types().indexOf(EXEC_MIME_TYPE) == -1) {\n      register_renderer(events, OutputArea);\n    }\n  } catch(err) {\n  }\n}\n"
     },
     "metadata": {},
     "output_type": "display_data"
    },
    {
     "data": {
      "text/html": [
       "<style>*[data-root-id],\n",
       "*[data-root-id] > * {\n",
       "  box-sizing: border-box;\n",
       "  font-family: var(--jp-ui-font-family);\n",
       "  font-size: var(--jp-ui-font-size1);\n",
       "  color: var(--vscode-editor-foreground, var(--jp-ui-font-color1));\n",
       "}\n",
       "\n",
       "/* Override VSCode background color */\n",
       ".cell-output-ipywidget-background:has(\n",
       "    > .cell-output-ipywidget-background > .lm-Widget > *[data-root-id]\n",
       "  ),\n",
       ".cell-output-ipywidget-background:has(> .lm-Widget > *[data-root-id]) {\n",
       "  background-color: transparent !important;\n",
       "}\n",
       "</style>"
      ]
     },
     "metadata": {},
     "output_type": "display_data"
    },
    {
     "name": "stdout",
     "output_type": "stream",
     "text": [
      "* Setting plotter defaults with epsproc.basicPlotters.setPlotters(). Run directly to modify, or change options in local env.\n"
     ]
    },
    {
     "data": {
      "application/javascript": [
       "(function(root) {\n",
       "  function now() {\n",
       "    return new Date();\n",
       "  }\n",
       "\n",
       "  var force = true;\n",
       "  var py_version = '3.1.1'.replace('rc', '-rc.').replace('.dev', '-dev.');\n",
       "  var is_dev = py_version.indexOf(\"+\") !== -1 || py_version.indexOf(\"-\") !== -1;\n",
       "  var reloading = true;\n",
       "  var Bokeh = root.Bokeh;\n",
       "  var bokeh_loaded = Bokeh != null && (Bokeh.version === py_version || (Bokeh.versions !== undefined && Bokeh.versions.has(py_version)));\n",
       "\n",
       "  if (typeof (root._bokeh_timeout) === \"undefined\" || force) {\n",
       "    root._bokeh_timeout = Date.now() + 5000;\n",
       "    root._bokeh_failed_load = false;\n",
       "  }\n",
       "\n",
       "  function run_callbacks() {\n",
       "    try {\n",
       "      root._bokeh_onload_callbacks.forEach(function(callback) {\n",
       "        if (callback != null)\n",
       "          callback();\n",
       "      });\n",
       "    } finally {\n",
       "      delete root._bokeh_onload_callbacks;\n",
       "    }\n",
       "    console.debug(\"Bokeh: all callbacks have finished\");\n",
       "  }\n",
       "\n",
       "  function load_libs(css_urls, js_urls, js_modules, js_exports, callback) {\n",
       "    if (css_urls == null) css_urls = [];\n",
       "    if (js_urls == null) js_urls = [];\n",
       "    if (js_modules == null) js_modules = [];\n",
       "    if (js_exports == null) js_exports = {};\n",
       "\n",
       "    root._bokeh_onload_callbacks.push(callback);\n",
       "\n",
       "    if (root._bokeh_is_loading > 0) {\n",
       "      console.debug(\"Bokeh: BokehJS is being loaded, scheduling callback at\", now());\n",
       "      return null;\n",
       "    }\n",
       "    if (js_urls.length === 0 && js_modules.length === 0 && Object.keys(js_exports).length === 0) {\n",
       "      run_callbacks();\n",
       "      return null;\n",
       "    }\n",
       "    if (!reloading) {\n",
       "      console.debug(\"Bokeh: BokehJS not loaded, scheduling load and callback at\", now());\n",
       "    }\n",
       "\n",
       "    function on_load() {\n",
       "      root._bokeh_is_loading--;\n",
       "      if (root._bokeh_is_loading === 0) {\n",
       "        console.debug(\"Bokeh: all BokehJS libraries/stylesheets loaded\");\n",
       "        run_callbacks()\n",
       "      }\n",
       "    }\n",
       "    window._bokeh_on_load = on_load\n",
       "\n",
       "    function on_error() {\n",
       "      console.error(\"failed to load \" + url);\n",
       "    }\n",
       "\n",
       "    var skip = [];\n",
       "    if (window.requirejs) {\n",
       "      window.requirejs.config({'packages': {}, 'paths': {'jspanel': 'https://cdn.jsdelivr.net/npm/jspanel4@4.12.0/dist/jspanel', 'jspanel-modal': 'https://cdn.jsdelivr.net/npm/jspanel4@4.12.0/dist/extensions/modal/jspanel.modal', 'jspanel-tooltip': 'https://cdn.jsdelivr.net/npm/jspanel4@4.12.0/dist/extensions/tooltip/jspanel.tooltip', 'jspanel-hint': 'https://cdn.jsdelivr.net/npm/jspanel4@4.12.0/dist/extensions/hint/jspanel.hint', 'jspanel-layout': 'https://cdn.jsdelivr.net/npm/jspanel4@4.12.0/dist/extensions/layout/jspanel.layout', 'jspanel-contextmenu': 'https://cdn.jsdelivr.net/npm/jspanel4@4.12.0/dist/extensions/contextmenu/jspanel.contextmenu', 'jspanel-dock': 'https://cdn.jsdelivr.net/npm/jspanel4@4.12.0/dist/extensions/dock/jspanel.dock', 'gridstack': 'https://cdn.jsdelivr.net/npm/gridstack@7.2.3/dist/gridstack-all', 'notyf': 'https://cdn.jsdelivr.net/npm/notyf@3/notyf.min'}, 'shim': {'jspanel': {'exports': 'jsPanel'}, 'gridstack': {'exports': 'GridStack'}}});\n",
       "      require([\"jspanel\"], function(jsPanel) {\n",
       "\twindow.jsPanel = jsPanel\n",
       "\ton_load()\n",
       "      })\n",
       "      require([\"jspanel-modal\"], function() {\n",
       "\ton_load()\n",
       "      })\n",
       "      require([\"jspanel-tooltip\"], function() {\n",
       "\ton_load()\n",
       "      })\n",
       "      require([\"jspanel-hint\"], function() {\n",
       "\ton_load()\n",
       "      })\n",
       "      require([\"jspanel-layout\"], function() {\n",
       "\ton_load()\n",
       "      })\n",
       "      require([\"jspanel-contextmenu\"], function() {\n",
       "\ton_load()\n",
       "      })\n",
       "      require([\"jspanel-dock\"], function() {\n",
       "\ton_load()\n",
       "      })\n",
       "      require([\"gridstack\"], function(GridStack) {\n",
       "\twindow.GridStack = GridStack\n",
       "\ton_load()\n",
       "      })\n",
       "      require([\"notyf\"], function() {\n",
       "\ton_load()\n",
       "      })\n",
       "      root._bokeh_is_loading = css_urls.length + 9;\n",
       "    } else {\n",
       "      root._bokeh_is_loading = css_urls.length + js_urls.length + js_modules.length + Object.keys(js_exports).length;\n",
       "    }\n",
       "\n",
       "    var existing_stylesheets = []\n",
       "    var links = document.getElementsByTagName('link')\n",
       "    for (var i = 0; i < links.length; i++) {\n",
       "      var link = links[i]\n",
       "      if (link.href != null) {\n",
       "\texisting_stylesheets.push(link.href)\n",
       "      }\n",
       "    }\n",
       "    for (var i = 0; i < css_urls.length; i++) {\n",
       "      var url = css_urls[i];\n",
       "      if (existing_stylesheets.indexOf(url) !== -1) {\n",
       "\ton_load()\n",
       "\tcontinue;\n",
       "      }\n",
       "      const element = document.createElement(\"link\");\n",
       "      element.onload = on_load;\n",
       "      element.onerror = on_error;\n",
       "      element.rel = \"stylesheet\";\n",
       "      element.type = \"text/css\";\n",
       "      element.href = url;\n",
       "      console.debug(\"Bokeh: injecting link tag for BokehJS stylesheet: \", url);\n",
       "      document.body.appendChild(element);\n",
       "    }    if (((window['jsPanel'] !== undefined) && (!(window['jsPanel'] instanceof HTMLElement))) || window.requirejs) {\n",
       "      var urls = ['https://cdn.holoviz.org/panel/1.2.0/dist/bundled/floatpanel/jspanel4@4.12.0/dist/jspanel.js', 'https://cdn.holoviz.org/panel/1.2.0/dist/bundled/floatpanel/jspanel4@4.12.0/dist/extensions/modal/jspanel.modal.js', 'https://cdn.holoviz.org/panel/1.2.0/dist/bundled/floatpanel/jspanel4@4.12.0/dist/extensions/tooltip/jspanel.tooltip.js', 'https://cdn.holoviz.org/panel/1.2.0/dist/bundled/floatpanel/jspanel4@4.12.0/dist/extensions/hint/jspanel.hint.js', 'https://cdn.holoviz.org/panel/1.2.0/dist/bundled/floatpanel/jspanel4@4.12.0/dist/extensions/layout/jspanel.layout.js', 'https://cdn.holoviz.org/panel/1.2.0/dist/bundled/floatpanel/jspanel4@4.12.0/dist/extensions/contextmenu/jspanel.contextmenu.js', 'https://cdn.holoviz.org/panel/1.2.0/dist/bundled/floatpanel/jspanel4@4.12.0/dist/extensions/dock/jspanel.dock.js'];\n",
       "      for (var i = 0; i < urls.length; i++) {\n",
       "        skip.push(urls[i])\n",
       "      }\n",
       "    }    if (((window['GridStack'] !== undefined) && (!(window['GridStack'] instanceof HTMLElement))) || window.requirejs) {\n",
       "      var urls = ['https://cdn.holoviz.org/panel/1.2.0/dist/bundled/gridstack/gridstack@7.2.3/dist/gridstack-all.js'];\n",
       "      for (var i = 0; i < urls.length; i++) {\n",
       "        skip.push(urls[i])\n",
       "      }\n",
       "    }    if (((window['Notyf'] !== undefined) && (!(window['Notyf'] instanceof HTMLElement))) || window.requirejs) {\n",
       "      var urls = ['https://cdn.holoviz.org/panel/1.2.0/dist/bundled/notificationarea/notyf@3/notyf.min.js'];\n",
       "      for (var i = 0; i < urls.length; i++) {\n",
       "        skip.push(urls[i])\n",
       "      }\n",
       "    }    var existing_scripts = []\n",
       "    var scripts = document.getElementsByTagName('script')\n",
       "    for (var i = 0; i < scripts.length; i++) {\n",
       "      var script = scripts[i]\n",
       "      if (script.src != null) {\n",
       "\texisting_scripts.push(script.src)\n",
       "      }\n",
       "    }\n",
       "    for (var i = 0; i < js_urls.length; i++) {\n",
       "      var url = js_urls[i];\n",
       "      if (skip.indexOf(url) !== -1 || existing_scripts.indexOf(url) !== -1) {\n",
       "\tif (!window.requirejs) {\n",
       "\t  on_load();\n",
       "\t}\n",
       "\tcontinue;\n",
       "      }\n",
       "      var element = document.createElement('script');\n",
       "      element.onload = on_load;\n",
       "      element.onerror = on_error;\n",
       "      element.async = false;\n",
       "      element.src = url;\n",
       "      console.debug(\"Bokeh: injecting script tag for BokehJS library: \", url);\n",
       "      document.head.appendChild(element);\n",
       "    }\n",
       "    for (var i = 0; i < js_modules.length; i++) {\n",
       "      var url = js_modules[i];\n",
       "      if (skip.indexOf(url) !== -1 || existing_scripts.indexOf(url) !== -1) {\n",
       "\tif (!window.requirejs) {\n",
       "\t  on_load();\n",
       "\t}\n",
       "\tcontinue;\n",
       "      }\n",
       "      var element = document.createElement('script');\n",
       "      element.onload = on_load;\n",
       "      element.onerror = on_error;\n",
       "      element.async = false;\n",
       "      element.src = url;\n",
       "      element.type = \"module\";\n",
       "      console.debug(\"Bokeh: injecting script tag for BokehJS library: \", url);\n",
       "      document.head.appendChild(element);\n",
       "    }\n",
       "    for (const name in js_exports) {\n",
       "      var url = js_exports[name];\n",
       "      if (skip.indexOf(url) >= 0 || root[name] != null) {\n",
       "\tif (!window.requirejs) {\n",
       "\t  on_load();\n",
       "\t}\n",
       "\tcontinue;\n",
       "      }\n",
       "      var element = document.createElement('script');\n",
       "      element.onerror = on_error;\n",
       "      element.async = false;\n",
       "      element.type = \"module\";\n",
       "      console.debug(\"Bokeh: injecting script tag for BokehJS library: \", url);\n",
       "      element.textContent = `\n",
       "      import ${name} from \"${url}\"\n",
       "      window.${name} = ${name}\n",
       "      window._bokeh_on_load()\n",
       "      `\n",
       "      document.head.appendChild(element);\n",
       "    }\n",
       "    if (!js_urls.length && !js_modules.length) {\n",
       "      on_load()\n",
       "    }\n",
       "  };\n",
       "\n",
       "  function inject_raw_css(css) {\n",
       "    const element = document.createElement(\"style\");\n",
       "    element.appendChild(document.createTextNode(css));\n",
       "    document.body.appendChild(element);\n",
       "  }\n",
       "\n",
       "  var js_urls = [];\n",
       "  var js_modules = [];\n",
       "  var js_exports = {};\n",
       "  var css_urls = [];\n",
       "  var inline_js = [    function(Bokeh) {\n",
       "      Bokeh.set_log_level(\"info\");\n",
       "    },\n",
       "function(Bokeh) {} // ensure no trailing comma for IE\n",
       "  ];\n",
       "\n",
       "  function run_inline_js() {\n",
       "    if ((root.Bokeh !== undefined) || (force === true)) {\n",
       "      for (var i = 0; i < inline_js.length; i++) {\n",
       "        inline_js[i].call(root, root.Bokeh);\n",
       "      }\n",
       "      // Cache old bokeh versions\n",
       "      if (Bokeh != undefined && !reloading) {\n",
       "\tvar NewBokeh = root.Bokeh;\n",
       "\tif (Bokeh.versions === undefined) {\n",
       "\t  Bokeh.versions = new Map();\n",
       "\t}\n",
       "\tif (NewBokeh.version !== Bokeh.version) {\n",
       "\t  Bokeh.versions.set(NewBokeh.version, NewBokeh)\n",
       "\t}\n",
       "\troot.Bokeh = Bokeh;\n",
       "      }} else if (Date.now() < root._bokeh_timeout) {\n",
       "      setTimeout(run_inline_js, 100);\n",
       "    } else if (!root._bokeh_failed_load) {\n",
       "      console.log(\"Bokeh: BokehJS failed to load within specified timeout.\");\n",
       "      root._bokeh_failed_load = true;\n",
       "    }\n",
       "    root._bokeh_is_initializing = false\n",
       "  }\n",
       "\n",
       "  function load_or_wait() {\n",
       "    // Implement a backoff loop that tries to ensure we do not load multiple\n",
       "    // versions of Bokeh and its dependencies at the same time.\n",
       "    // In recent versions we use the root._bokeh_is_initializing flag\n",
       "    // to determine whether there is an ongoing attempt to initialize\n",
       "    // bokeh, however for backward compatibility we also try to ensure\n",
       "    // that we do not start loading a newer (Panel>=1.0 and Bokeh>3) version\n",
       "    // before older versions are fully initialized.\n",
       "    if (root._bokeh_is_initializing && Date.now() > root._bokeh_timeout) {\n",
       "      root._bokeh_is_initializing = false;\n",
       "      root._bokeh_onload_callbacks = undefined;\n",
       "      console.log(\"Bokeh: BokehJS was loaded multiple times but one version failed to initialize.\");\n",
       "      load_or_wait();\n",
       "    } else if (root._bokeh_is_initializing || (typeof root._bokeh_is_initializing === \"undefined\" && root._bokeh_onload_callbacks !== undefined)) {\n",
       "      setTimeout(load_or_wait, 100);\n",
       "    } else {\n",
       "      Bokeh = root.Bokeh;\n",
       "      bokeh_loaded = Bokeh != null && (Bokeh.version === py_version || (Bokeh.versions !== undefined && Bokeh.versions.has(py_version)));\n",
       "      root._bokeh_is_initializing = true\n",
       "      root._bokeh_onload_callbacks = []\n",
       "      if (!reloading && (!bokeh_loaded || is_dev)) {\n",
       "\troot.Bokeh = undefined;\n",
       "      }\n",
       "      load_libs(css_urls, js_urls, js_modules, js_exports, function() {\n",
       "\tconsole.debug(\"Bokeh: BokehJS plotting callback run at\", now());\n",
       "\trun_inline_js();\n",
       "      });\n",
       "    }\n",
       "  }\n",
       "  // Give older versions of the autoload script a head-start to ensure\n",
       "  // they initialize before we start loading newer version.\n",
       "  setTimeout(load_or_wait, 100)\n",
       "}(window));"
      ],
      "application/vnd.holoviews_load.v0+json": "(function(root) {\n  function now() {\n    return new Date();\n  }\n\n  var force = true;\n  var py_version = '3.1.1'.replace('rc', '-rc.').replace('.dev', '-dev.');\n  var is_dev = py_version.indexOf(\"+\") !== -1 || py_version.indexOf(\"-\") !== -1;\n  var reloading = true;\n  var Bokeh = root.Bokeh;\n  var bokeh_loaded = Bokeh != null && (Bokeh.version === py_version || (Bokeh.versions !== undefined && Bokeh.versions.has(py_version)));\n\n  if (typeof (root._bokeh_timeout) === \"undefined\" || force) {\n    root._bokeh_timeout = Date.now() + 5000;\n    root._bokeh_failed_load = false;\n  }\n\n  function run_callbacks() {\n    try {\n      root._bokeh_onload_callbacks.forEach(function(callback) {\n        if (callback != null)\n          callback();\n      });\n    } finally {\n      delete root._bokeh_onload_callbacks;\n    }\n    console.debug(\"Bokeh: all callbacks have finished\");\n  }\n\n  function load_libs(css_urls, js_urls, js_modules, js_exports, callback) {\n    if (css_urls == null) css_urls = [];\n    if (js_urls == null) js_urls = [];\n    if (js_modules == null) js_modules = [];\n    if (js_exports == null) js_exports = {};\n\n    root._bokeh_onload_callbacks.push(callback);\n\n    if (root._bokeh_is_loading > 0) {\n      console.debug(\"Bokeh: BokehJS is being loaded, scheduling callback at\", now());\n      return null;\n    }\n    if (js_urls.length === 0 && js_modules.length === 0 && Object.keys(js_exports).length === 0) {\n      run_callbacks();\n      return null;\n    }\n    if (!reloading) {\n      console.debug(\"Bokeh: BokehJS not loaded, scheduling load and callback at\", now());\n    }\n\n    function on_load() {\n      root._bokeh_is_loading--;\n      if (root._bokeh_is_loading === 0) {\n        console.debug(\"Bokeh: all BokehJS libraries/stylesheets loaded\");\n        run_callbacks()\n      }\n    }\n    window._bokeh_on_load = on_load\n\n    function on_error() {\n      console.error(\"failed to load \" + url);\n    }\n\n    var skip = [];\n    if (window.requirejs) {\n      window.requirejs.config({'packages': {}, 'paths': {'jspanel': 'https://cdn.jsdelivr.net/npm/jspanel4@4.12.0/dist/jspanel', 'jspanel-modal': 'https://cdn.jsdelivr.net/npm/jspanel4@4.12.0/dist/extensions/modal/jspanel.modal', 'jspanel-tooltip': 'https://cdn.jsdelivr.net/npm/jspanel4@4.12.0/dist/extensions/tooltip/jspanel.tooltip', 'jspanel-hint': 'https://cdn.jsdelivr.net/npm/jspanel4@4.12.0/dist/extensions/hint/jspanel.hint', 'jspanel-layout': 'https://cdn.jsdelivr.net/npm/jspanel4@4.12.0/dist/extensions/layout/jspanel.layout', 'jspanel-contextmenu': 'https://cdn.jsdelivr.net/npm/jspanel4@4.12.0/dist/extensions/contextmenu/jspanel.contextmenu', 'jspanel-dock': 'https://cdn.jsdelivr.net/npm/jspanel4@4.12.0/dist/extensions/dock/jspanel.dock', 'gridstack': 'https://cdn.jsdelivr.net/npm/gridstack@7.2.3/dist/gridstack-all', 'notyf': 'https://cdn.jsdelivr.net/npm/notyf@3/notyf.min'}, 'shim': {'jspanel': {'exports': 'jsPanel'}, 'gridstack': {'exports': 'GridStack'}}});\n      require([\"jspanel\"], function(jsPanel) {\n\twindow.jsPanel = jsPanel\n\ton_load()\n      })\n      require([\"jspanel-modal\"], function() {\n\ton_load()\n      })\n      require([\"jspanel-tooltip\"], function() {\n\ton_load()\n      })\n      require([\"jspanel-hint\"], function() {\n\ton_load()\n      })\n      require([\"jspanel-layout\"], function() {\n\ton_load()\n      })\n      require([\"jspanel-contextmenu\"], function() {\n\ton_load()\n      })\n      require([\"jspanel-dock\"], function() {\n\ton_load()\n      })\n      require([\"gridstack\"], function(GridStack) {\n\twindow.GridStack = GridStack\n\ton_load()\n      })\n      require([\"notyf\"], function() {\n\ton_load()\n      })\n      root._bokeh_is_loading = css_urls.length + 9;\n    } else {\n      root._bokeh_is_loading = css_urls.length + js_urls.length + js_modules.length + Object.keys(js_exports).length;\n    }\n\n    var existing_stylesheets = []\n    var links = document.getElementsByTagName('link')\n    for (var i = 0; i < links.length; i++) {\n      var link = links[i]\n      if (link.href != null) {\n\texisting_stylesheets.push(link.href)\n      }\n    }\n    for (var i = 0; i < css_urls.length; i++) {\n      var url = css_urls[i];\n      if (existing_stylesheets.indexOf(url) !== -1) {\n\ton_load()\n\tcontinue;\n      }\n      const element = document.createElement(\"link\");\n      element.onload = on_load;\n      element.onerror = on_error;\n      element.rel = \"stylesheet\";\n      element.type = \"text/css\";\n      element.href = url;\n      console.debug(\"Bokeh: injecting link tag for BokehJS stylesheet: \", url);\n      document.body.appendChild(element);\n    }    if (((window['jsPanel'] !== undefined) && (!(window['jsPanel'] instanceof HTMLElement))) || window.requirejs) {\n      var urls = ['https://cdn.holoviz.org/panel/1.2.0/dist/bundled/floatpanel/jspanel4@4.12.0/dist/jspanel.js', 'https://cdn.holoviz.org/panel/1.2.0/dist/bundled/floatpanel/jspanel4@4.12.0/dist/extensions/modal/jspanel.modal.js', 'https://cdn.holoviz.org/panel/1.2.0/dist/bundled/floatpanel/jspanel4@4.12.0/dist/extensions/tooltip/jspanel.tooltip.js', 'https://cdn.holoviz.org/panel/1.2.0/dist/bundled/floatpanel/jspanel4@4.12.0/dist/extensions/hint/jspanel.hint.js', 'https://cdn.holoviz.org/panel/1.2.0/dist/bundled/floatpanel/jspanel4@4.12.0/dist/extensions/layout/jspanel.layout.js', 'https://cdn.holoviz.org/panel/1.2.0/dist/bundled/floatpanel/jspanel4@4.12.0/dist/extensions/contextmenu/jspanel.contextmenu.js', 'https://cdn.holoviz.org/panel/1.2.0/dist/bundled/floatpanel/jspanel4@4.12.0/dist/extensions/dock/jspanel.dock.js'];\n      for (var i = 0; i < urls.length; i++) {\n        skip.push(urls[i])\n      }\n    }    if (((window['GridStack'] !== undefined) && (!(window['GridStack'] instanceof HTMLElement))) || window.requirejs) {\n      var urls = ['https://cdn.holoviz.org/panel/1.2.0/dist/bundled/gridstack/gridstack@7.2.3/dist/gridstack-all.js'];\n      for (var i = 0; i < urls.length; i++) {\n        skip.push(urls[i])\n      }\n    }    if (((window['Notyf'] !== undefined) && (!(window['Notyf'] instanceof HTMLElement))) || window.requirejs) {\n      var urls = ['https://cdn.holoviz.org/panel/1.2.0/dist/bundled/notificationarea/notyf@3/notyf.min.js'];\n      for (var i = 0; i < urls.length; i++) {\n        skip.push(urls[i])\n      }\n    }    var existing_scripts = []\n    var scripts = document.getElementsByTagName('script')\n    for (var i = 0; i < scripts.length; i++) {\n      var script = scripts[i]\n      if (script.src != null) {\n\texisting_scripts.push(script.src)\n      }\n    }\n    for (var i = 0; i < js_urls.length; i++) {\n      var url = js_urls[i];\n      if (skip.indexOf(url) !== -1 || existing_scripts.indexOf(url) !== -1) {\n\tif (!window.requirejs) {\n\t  on_load();\n\t}\n\tcontinue;\n      }\n      var element = document.createElement('script');\n      element.onload = on_load;\n      element.onerror = on_error;\n      element.async = false;\n      element.src = url;\n      console.debug(\"Bokeh: injecting script tag for BokehJS library: \", url);\n      document.head.appendChild(element);\n    }\n    for (var i = 0; i < js_modules.length; i++) {\n      var url = js_modules[i];\n      if (skip.indexOf(url) !== -1 || existing_scripts.indexOf(url) !== -1) {\n\tif (!window.requirejs) {\n\t  on_load();\n\t}\n\tcontinue;\n      }\n      var element = document.createElement('script');\n      element.onload = on_load;\n      element.onerror = on_error;\n      element.async = false;\n      element.src = url;\n      element.type = \"module\";\n      console.debug(\"Bokeh: injecting script tag for BokehJS library: \", url);\n      document.head.appendChild(element);\n    }\n    for (const name in js_exports) {\n      var url = js_exports[name];\n      if (skip.indexOf(url) >= 0 || root[name] != null) {\n\tif (!window.requirejs) {\n\t  on_load();\n\t}\n\tcontinue;\n      }\n      var element = document.createElement('script');\n      element.onerror = on_error;\n      element.async = false;\n      element.type = \"module\";\n      console.debug(\"Bokeh: injecting script tag for BokehJS library: \", url);\n      element.textContent = `\n      import ${name} from \"${url}\"\n      window.${name} = ${name}\n      window._bokeh_on_load()\n      `\n      document.head.appendChild(element);\n    }\n    if (!js_urls.length && !js_modules.length) {\n      on_load()\n    }\n  };\n\n  function inject_raw_css(css) {\n    const element = document.createElement(\"style\");\n    element.appendChild(document.createTextNode(css));\n    document.body.appendChild(element);\n  }\n\n  var js_urls = [];\n  var js_modules = [];\n  var js_exports = {};\n  var css_urls = [];\n  var inline_js = [    function(Bokeh) {\n      Bokeh.set_log_level(\"info\");\n    },\nfunction(Bokeh) {} // ensure no trailing comma for IE\n  ];\n\n  function run_inline_js() {\n    if ((root.Bokeh !== undefined) || (force === true)) {\n      for (var i = 0; i < inline_js.length; i++) {\n        inline_js[i].call(root, root.Bokeh);\n      }\n      // Cache old bokeh versions\n      if (Bokeh != undefined && !reloading) {\n\tvar NewBokeh = root.Bokeh;\n\tif (Bokeh.versions === undefined) {\n\t  Bokeh.versions = new Map();\n\t}\n\tif (NewBokeh.version !== Bokeh.version) {\n\t  Bokeh.versions.set(NewBokeh.version, NewBokeh)\n\t}\n\troot.Bokeh = Bokeh;\n      }} else if (Date.now() < root._bokeh_timeout) {\n      setTimeout(run_inline_js, 100);\n    } else if (!root._bokeh_failed_load) {\n      console.log(\"Bokeh: BokehJS failed to load within specified timeout.\");\n      root._bokeh_failed_load = true;\n    }\n    root._bokeh_is_initializing = false\n  }\n\n  function load_or_wait() {\n    // Implement a backoff loop that tries to ensure we do not load multiple\n    // versions of Bokeh and its dependencies at the same time.\n    // In recent versions we use the root._bokeh_is_initializing flag\n    // to determine whether there is an ongoing attempt to initialize\n    // bokeh, however for backward compatibility we also try to ensure\n    // that we do not start loading a newer (Panel>=1.0 and Bokeh>3) version\n    // before older versions are fully initialized.\n    if (root._bokeh_is_initializing && Date.now() > root._bokeh_timeout) {\n      root._bokeh_is_initializing = false;\n      root._bokeh_onload_callbacks = undefined;\n      console.log(\"Bokeh: BokehJS was loaded multiple times but one version failed to initialize.\");\n      load_or_wait();\n    } else if (root._bokeh_is_initializing || (typeof root._bokeh_is_initializing === \"undefined\" && root._bokeh_onload_callbacks !== undefined)) {\n      setTimeout(load_or_wait, 100);\n    } else {\n      Bokeh = root.Bokeh;\n      bokeh_loaded = Bokeh != null && (Bokeh.version === py_version || (Bokeh.versions !== undefined && Bokeh.versions.has(py_version)));\n      root._bokeh_is_initializing = true\n      root._bokeh_onload_callbacks = []\n      if (!reloading && (!bokeh_loaded || is_dev)) {\n\troot.Bokeh = undefined;\n      }\n      load_libs(css_urls, js_urls, js_modules, js_exports, function() {\n\tconsole.debug(\"Bokeh: BokehJS plotting callback run at\", now());\n\trun_inline_js();\n      });\n    }\n  }\n  // Give older versions of the autoload script a head-start to ensure\n  // they initialize before we start loading newer version.\n  setTimeout(load_or_wait, 100)\n}(window));"
     },
     "metadata": {},
     "output_type": "display_data"
    },
    {
     "data": {
      "application/javascript": [
       "\n",
       "if ((window.PyViz === undefined) || (window.PyViz instanceof HTMLElement)) {\n",
       "  window.PyViz = {comms: {}, comm_status:{}, kernels:{}, receivers: {}, plot_index: []}\n",
       "}\n",
       "\n",
       "\n",
       "    function JupyterCommManager() {\n",
       "    }\n",
       "\n",
       "    JupyterCommManager.prototype.register_target = function(plot_id, comm_id, msg_handler) {\n",
       "      if (window.comm_manager || ((window.Jupyter !== undefined) && (Jupyter.notebook.kernel != null))) {\n",
       "        var comm_manager = window.comm_manager || Jupyter.notebook.kernel.comm_manager;\n",
       "        comm_manager.register_target(comm_id, function(comm) {\n",
       "          comm.on_msg(msg_handler);\n",
       "        });\n",
       "      } else if ((plot_id in window.PyViz.kernels) && (window.PyViz.kernels[plot_id])) {\n",
       "        window.PyViz.kernels[plot_id].registerCommTarget(comm_id, function(comm) {\n",
       "          comm.onMsg = msg_handler;\n",
       "        });\n",
       "      } else if (typeof google != 'undefined' && google.colab.kernel != null) {\n",
       "        google.colab.kernel.comms.registerTarget(comm_id, (comm) => {\n",
       "          var messages = comm.messages[Symbol.asyncIterator]();\n",
       "          function processIteratorResult(result) {\n",
       "            var message = result.value;\n",
       "            console.log(message)\n",
       "            var content = {data: message.data, comm_id};\n",
       "            var buffers = []\n",
       "            for (var buffer of message.buffers || []) {\n",
       "              buffers.push(new DataView(buffer))\n",
       "            }\n",
       "            var metadata = message.metadata || {};\n",
       "            var msg = {content, buffers, metadata}\n",
       "            msg_handler(msg);\n",
       "            return messages.next().then(processIteratorResult);\n",
       "          }\n",
       "          return messages.next().then(processIteratorResult);\n",
       "        })\n",
       "      }\n",
       "    }\n",
       "\n",
       "    JupyterCommManager.prototype.get_client_comm = function(plot_id, comm_id, msg_handler) {\n",
       "      if (comm_id in window.PyViz.comms) {\n",
       "        return window.PyViz.comms[comm_id];\n",
       "      } else if (window.comm_manager || ((window.Jupyter !== undefined) && (Jupyter.notebook.kernel != null))) {\n",
       "        var comm_manager = window.comm_manager || Jupyter.notebook.kernel.comm_manager;\n",
       "        var comm = comm_manager.new_comm(comm_id, {}, {}, {}, comm_id);\n",
       "        if (msg_handler) {\n",
       "          comm.on_msg(msg_handler);\n",
       "        }\n",
       "      } else if ((plot_id in window.PyViz.kernels) && (window.PyViz.kernels[plot_id])) {\n",
       "        var comm = window.PyViz.kernels[plot_id].connectToComm(comm_id);\n",
       "        comm.open();\n",
       "        if (msg_handler) {\n",
       "          comm.onMsg = msg_handler;\n",
       "        }\n",
       "      } else if (typeof google != 'undefined' && google.colab.kernel != null) {\n",
       "        var comm_promise = google.colab.kernel.comms.open(comm_id)\n",
       "        comm_promise.then((comm) => {\n",
       "          window.PyViz.comms[comm_id] = comm;\n",
       "          if (msg_handler) {\n",
       "            var messages = comm.messages[Symbol.asyncIterator]();\n",
       "            function processIteratorResult(result) {\n",
       "              var message = result.value;\n",
       "              var content = {data: message.data};\n",
       "              var metadata = message.metadata || {comm_id};\n",
       "              var msg = {content, metadata}\n",
       "              msg_handler(msg);\n",
       "              return messages.next().then(processIteratorResult);\n",
       "            }\n",
       "            return messages.next().then(processIteratorResult);\n",
       "          }\n",
       "        }) \n",
       "        var sendClosure = (data, metadata, buffers, disposeOnDone) => {\n",
       "          return comm_promise.then((comm) => {\n",
       "            comm.send(data, metadata, buffers, disposeOnDone);\n",
       "          });\n",
       "        };\n",
       "        var comm = {\n",
       "          send: sendClosure\n",
       "        };\n",
       "      }\n",
       "      window.PyViz.comms[comm_id] = comm;\n",
       "      return comm;\n",
       "    }\n",
       "    window.PyViz.comm_manager = new JupyterCommManager();\n",
       "    \n",
       "\n",
       "\n",
       "var JS_MIME_TYPE = 'application/javascript';\n",
       "var HTML_MIME_TYPE = 'text/html';\n",
       "var EXEC_MIME_TYPE = 'application/vnd.holoviews_exec.v0+json';\n",
       "var CLASS_NAME = 'output';\n",
       "\n",
       "/**\n",
       " * Render data to the DOM node\n",
       " */\n",
       "function render(props, node) {\n",
       "  var div = document.createElement(\"div\");\n",
       "  var script = document.createElement(\"script\");\n",
       "  node.appendChild(div);\n",
       "  node.appendChild(script);\n",
       "}\n",
       "\n",
       "/**\n",
       " * Handle when a new output is added\n",
       " */\n",
       "function handle_add_output(event, handle) {\n",
       "  var output_area = handle.output_area;\n",
       "  var output = handle.output;\n",
       "  if ((output.data == undefined) || (!output.data.hasOwnProperty(EXEC_MIME_TYPE))) {\n",
       "    return\n",
       "  }\n",
       "  var id = output.metadata[EXEC_MIME_TYPE][\"id\"];\n",
       "  var toinsert = output_area.element.find(\".\" + CLASS_NAME.split(' ')[0]);\n",
       "  if (id !== undefined) {\n",
       "    var nchildren = toinsert.length;\n",
       "    var html_node = toinsert[nchildren-1].children[0];\n",
       "    html_node.innerHTML = output.data[HTML_MIME_TYPE];\n",
       "    var scripts = [];\n",
       "    var nodelist = html_node.querySelectorAll(\"script\");\n",
       "    for (var i in nodelist) {\n",
       "      if (nodelist.hasOwnProperty(i)) {\n",
       "        scripts.push(nodelist[i])\n",
       "      }\n",
       "    }\n",
       "\n",
       "    scripts.forEach( function (oldScript) {\n",
       "      var newScript = document.createElement(\"script\");\n",
       "      var attrs = [];\n",
       "      var nodemap = oldScript.attributes;\n",
       "      for (var j in nodemap) {\n",
       "        if (nodemap.hasOwnProperty(j)) {\n",
       "          attrs.push(nodemap[j])\n",
       "        }\n",
       "      }\n",
       "      attrs.forEach(function(attr) { newScript.setAttribute(attr.name, attr.value) });\n",
       "      newScript.appendChild(document.createTextNode(oldScript.innerHTML));\n",
       "      oldScript.parentNode.replaceChild(newScript, oldScript);\n",
       "    });\n",
       "    if (JS_MIME_TYPE in output.data) {\n",
       "      toinsert[nchildren-1].children[1].textContent = output.data[JS_MIME_TYPE];\n",
       "    }\n",
       "    output_area._hv_plot_id = id;\n",
       "    if ((window.Bokeh !== undefined) && (id in Bokeh.index)) {\n",
       "      window.PyViz.plot_index[id] = Bokeh.index[id];\n",
       "    } else {\n",
       "      window.PyViz.plot_index[id] = null;\n",
       "    }\n",
       "  } else if (output.metadata[EXEC_MIME_TYPE][\"server_id\"] !== undefined) {\n",
       "    var bk_div = document.createElement(\"div\");\n",
       "    bk_div.innerHTML = output.data[HTML_MIME_TYPE];\n",
       "    var script_attrs = bk_div.children[0].attributes;\n",
       "    for (var i = 0; i < script_attrs.length; i++) {\n",
       "      toinsert[toinsert.length - 1].childNodes[1].setAttribute(script_attrs[i].name, script_attrs[i].value);\n",
       "    }\n",
       "    // store reference to server id on output_area\n",
       "    output_area._bokeh_server_id = output.metadata[EXEC_MIME_TYPE][\"server_id\"];\n",
       "  }\n",
       "}\n",
       "\n",
       "/**\n",
       " * Handle when an output is cleared or removed\n",
       " */\n",
       "function handle_clear_output(event, handle) {\n",
       "  var id = handle.cell.output_area._hv_plot_id;\n",
       "  var server_id = handle.cell.output_area._bokeh_server_id;\n",
       "  if (((id === undefined) || !(id in PyViz.plot_index)) && (server_id !== undefined)) { return; }\n",
       "  var comm = window.PyViz.comm_manager.get_client_comm(\"hv-extension-comm\", \"hv-extension-comm\", function () {});\n",
       "  if (server_id !== null) {\n",
       "    comm.send({event_type: 'server_delete', 'id': server_id});\n",
       "    return;\n",
       "  } else if (comm !== null) {\n",
       "    comm.send({event_type: 'delete', 'id': id});\n",
       "  }\n",
       "  delete PyViz.plot_index[id];\n",
       "  if ((window.Bokeh !== undefined) & (id in window.Bokeh.index)) {\n",
       "    var doc = window.Bokeh.index[id].model.document\n",
       "    doc.clear();\n",
       "    const i = window.Bokeh.documents.indexOf(doc);\n",
       "    if (i > -1) {\n",
       "      window.Bokeh.documents.splice(i, 1);\n",
       "    }\n",
       "  }\n",
       "}\n",
       "\n",
       "/**\n",
       " * Handle kernel restart event\n",
       " */\n",
       "function handle_kernel_cleanup(event, handle) {\n",
       "  delete PyViz.comms[\"hv-extension-comm\"];\n",
       "  window.PyViz.plot_index = {}\n",
       "}\n",
       "\n",
       "/**\n",
       " * Handle update_display_data messages\n",
       " */\n",
       "function handle_update_output(event, handle) {\n",
       "  handle_clear_output(event, {cell: {output_area: handle.output_area}})\n",
       "  handle_add_output(event, handle)\n",
       "}\n",
       "\n",
       "function register_renderer(events, OutputArea) {\n",
       "  function append_mime(data, metadata, element) {\n",
       "    // create a DOM node to render to\n",
       "    var toinsert = this.create_output_subarea(\n",
       "    metadata,\n",
       "    CLASS_NAME,\n",
       "    EXEC_MIME_TYPE\n",
       "    );\n",
       "    this.keyboard_manager.register_events(toinsert);\n",
       "    // Render to node\n",
       "    var props = {data: data, metadata: metadata[EXEC_MIME_TYPE]};\n",
       "    render(props, toinsert[0]);\n",
       "    element.append(toinsert);\n",
       "    return toinsert\n",
       "  }\n",
       "\n",
       "  events.on('output_added.OutputArea', handle_add_output);\n",
       "  events.on('output_updated.OutputArea', handle_update_output);\n",
       "  events.on('clear_output.CodeCell', handle_clear_output);\n",
       "  events.on('delete.Cell', handle_clear_output);\n",
       "  events.on('kernel_ready.Kernel', handle_kernel_cleanup);\n",
       "\n",
       "  OutputArea.prototype.register_mime_type(EXEC_MIME_TYPE, append_mime, {\n",
       "    safe: true,\n",
       "    index: 0\n",
       "  });\n",
       "}\n",
       "\n",
       "if (window.Jupyter !== undefined) {\n",
       "  try {\n",
       "    var events = require('base/js/events');\n",
       "    var OutputArea = require('notebook/js/outputarea').OutputArea;\n",
       "    if (OutputArea.prototype.mime_types().indexOf(EXEC_MIME_TYPE) == -1) {\n",
       "      register_renderer(events, OutputArea);\n",
       "    }\n",
       "  } catch(err) {\n",
       "  }\n",
       "}\n"
      ],
      "application/vnd.holoviews_load.v0+json": "\nif ((window.PyViz === undefined) || (window.PyViz instanceof HTMLElement)) {\n  window.PyViz = {comms: {}, comm_status:{}, kernels:{}, receivers: {}, plot_index: []}\n}\n\n\n    function JupyterCommManager() {\n    }\n\n    JupyterCommManager.prototype.register_target = function(plot_id, comm_id, msg_handler) {\n      if (window.comm_manager || ((window.Jupyter !== undefined) && (Jupyter.notebook.kernel != null))) {\n        var comm_manager = window.comm_manager || Jupyter.notebook.kernel.comm_manager;\n        comm_manager.register_target(comm_id, function(comm) {\n          comm.on_msg(msg_handler);\n        });\n      } else if ((plot_id in window.PyViz.kernels) && (window.PyViz.kernels[plot_id])) {\n        window.PyViz.kernels[plot_id].registerCommTarget(comm_id, function(comm) {\n          comm.onMsg = msg_handler;\n        });\n      } else if (typeof google != 'undefined' && google.colab.kernel != null) {\n        google.colab.kernel.comms.registerTarget(comm_id, (comm) => {\n          var messages = comm.messages[Symbol.asyncIterator]();\n          function processIteratorResult(result) {\n            var message = result.value;\n            console.log(message)\n            var content = {data: message.data, comm_id};\n            var buffers = []\n            for (var buffer of message.buffers || []) {\n              buffers.push(new DataView(buffer))\n            }\n            var metadata = message.metadata || {};\n            var msg = {content, buffers, metadata}\n            msg_handler(msg);\n            return messages.next().then(processIteratorResult);\n          }\n          return messages.next().then(processIteratorResult);\n        })\n      }\n    }\n\n    JupyterCommManager.prototype.get_client_comm = function(plot_id, comm_id, msg_handler) {\n      if (comm_id in window.PyViz.comms) {\n        return window.PyViz.comms[comm_id];\n      } else if (window.comm_manager || ((window.Jupyter !== undefined) && (Jupyter.notebook.kernel != null))) {\n        var comm_manager = window.comm_manager || Jupyter.notebook.kernel.comm_manager;\n        var comm = comm_manager.new_comm(comm_id, {}, {}, {}, comm_id);\n        if (msg_handler) {\n          comm.on_msg(msg_handler);\n        }\n      } else if ((plot_id in window.PyViz.kernels) && (window.PyViz.kernels[plot_id])) {\n        var comm = window.PyViz.kernels[plot_id].connectToComm(comm_id);\n        comm.open();\n        if (msg_handler) {\n          comm.onMsg = msg_handler;\n        }\n      } else if (typeof google != 'undefined' && google.colab.kernel != null) {\n        var comm_promise = google.colab.kernel.comms.open(comm_id)\n        comm_promise.then((comm) => {\n          window.PyViz.comms[comm_id] = comm;\n          if (msg_handler) {\n            var messages = comm.messages[Symbol.asyncIterator]();\n            function processIteratorResult(result) {\n              var message = result.value;\n              var content = {data: message.data};\n              var metadata = message.metadata || {comm_id};\n              var msg = {content, metadata}\n              msg_handler(msg);\n              return messages.next().then(processIteratorResult);\n            }\n            return messages.next().then(processIteratorResult);\n          }\n        }) \n        var sendClosure = (data, metadata, buffers, disposeOnDone) => {\n          return comm_promise.then((comm) => {\n            comm.send(data, metadata, buffers, disposeOnDone);\n          });\n        };\n        var comm = {\n          send: sendClosure\n        };\n      }\n      window.PyViz.comms[comm_id] = comm;\n      return comm;\n    }\n    window.PyViz.comm_manager = new JupyterCommManager();\n    \n\n\nvar JS_MIME_TYPE = 'application/javascript';\nvar HTML_MIME_TYPE = 'text/html';\nvar EXEC_MIME_TYPE = 'application/vnd.holoviews_exec.v0+json';\nvar CLASS_NAME = 'output';\n\n/**\n * Render data to the DOM node\n */\nfunction render(props, node) {\n  var div = document.createElement(\"div\");\n  var script = document.createElement(\"script\");\n  node.appendChild(div);\n  node.appendChild(script);\n}\n\n/**\n * Handle when a new output is added\n */\nfunction handle_add_output(event, handle) {\n  var output_area = handle.output_area;\n  var output = handle.output;\n  if ((output.data == undefined) || (!output.data.hasOwnProperty(EXEC_MIME_TYPE))) {\n    return\n  }\n  var id = output.metadata[EXEC_MIME_TYPE][\"id\"];\n  var toinsert = output_area.element.find(\".\" + CLASS_NAME.split(' ')[0]);\n  if (id !== undefined) {\n    var nchildren = toinsert.length;\n    var html_node = toinsert[nchildren-1].children[0];\n    html_node.innerHTML = output.data[HTML_MIME_TYPE];\n    var scripts = [];\n    var nodelist = html_node.querySelectorAll(\"script\");\n    for (var i in nodelist) {\n      if (nodelist.hasOwnProperty(i)) {\n        scripts.push(nodelist[i])\n      }\n    }\n\n    scripts.forEach( function (oldScript) {\n      var newScript = document.createElement(\"script\");\n      var attrs = [];\n      var nodemap = oldScript.attributes;\n      for (var j in nodemap) {\n        if (nodemap.hasOwnProperty(j)) {\n          attrs.push(nodemap[j])\n        }\n      }\n      attrs.forEach(function(attr) { newScript.setAttribute(attr.name, attr.value) });\n      newScript.appendChild(document.createTextNode(oldScript.innerHTML));\n      oldScript.parentNode.replaceChild(newScript, oldScript);\n    });\n    if (JS_MIME_TYPE in output.data) {\n      toinsert[nchildren-1].children[1].textContent = output.data[JS_MIME_TYPE];\n    }\n    output_area._hv_plot_id = id;\n    if ((window.Bokeh !== undefined) && (id in Bokeh.index)) {\n      window.PyViz.plot_index[id] = Bokeh.index[id];\n    } else {\n      window.PyViz.plot_index[id] = null;\n    }\n  } else if (output.metadata[EXEC_MIME_TYPE][\"server_id\"] !== undefined) {\n    var bk_div = document.createElement(\"div\");\n    bk_div.innerHTML = output.data[HTML_MIME_TYPE];\n    var script_attrs = bk_div.children[0].attributes;\n    for (var i = 0; i < script_attrs.length; i++) {\n      toinsert[toinsert.length - 1].childNodes[1].setAttribute(script_attrs[i].name, script_attrs[i].value);\n    }\n    // store reference to server id on output_area\n    output_area._bokeh_server_id = output.metadata[EXEC_MIME_TYPE][\"server_id\"];\n  }\n}\n\n/**\n * Handle when an output is cleared or removed\n */\nfunction handle_clear_output(event, handle) {\n  var id = handle.cell.output_area._hv_plot_id;\n  var server_id = handle.cell.output_area._bokeh_server_id;\n  if (((id === undefined) || !(id in PyViz.plot_index)) && (server_id !== undefined)) { return; }\n  var comm = window.PyViz.comm_manager.get_client_comm(\"hv-extension-comm\", \"hv-extension-comm\", function () {});\n  if (server_id !== null) {\n    comm.send({event_type: 'server_delete', 'id': server_id});\n    return;\n  } else if (comm !== null) {\n    comm.send({event_type: 'delete', 'id': id});\n  }\n  delete PyViz.plot_index[id];\n  if ((window.Bokeh !== undefined) & (id in window.Bokeh.index)) {\n    var doc = window.Bokeh.index[id].model.document\n    doc.clear();\n    const i = window.Bokeh.documents.indexOf(doc);\n    if (i > -1) {\n      window.Bokeh.documents.splice(i, 1);\n    }\n  }\n}\n\n/**\n * Handle kernel restart event\n */\nfunction handle_kernel_cleanup(event, handle) {\n  delete PyViz.comms[\"hv-extension-comm\"];\n  window.PyViz.plot_index = {}\n}\n\n/**\n * Handle update_display_data messages\n */\nfunction handle_update_output(event, handle) {\n  handle_clear_output(event, {cell: {output_area: handle.output_area}})\n  handle_add_output(event, handle)\n}\n\nfunction register_renderer(events, OutputArea) {\n  function append_mime(data, metadata, element) {\n    // create a DOM node to render to\n    var toinsert = this.create_output_subarea(\n    metadata,\n    CLASS_NAME,\n    EXEC_MIME_TYPE\n    );\n    this.keyboard_manager.register_events(toinsert);\n    // Render to node\n    var props = {data: data, metadata: metadata[EXEC_MIME_TYPE]};\n    render(props, toinsert[0]);\n    element.append(toinsert);\n    return toinsert\n  }\n\n  events.on('output_added.OutputArea', handle_add_output);\n  events.on('output_updated.OutputArea', handle_update_output);\n  events.on('clear_output.CodeCell', handle_clear_output);\n  events.on('delete.Cell', handle_clear_output);\n  events.on('kernel_ready.Kernel', handle_kernel_cleanup);\n\n  OutputArea.prototype.register_mime_type(EXEC_MIME_TYPE, append_mime, {\n    safe: true,\n    index: 0\n  });\n}\n\nif (window.Jupyter !== undefined) {\n  try {\n    var events = require('base/js/events');\n    var OutputArea = require('notebook/js/outputarea').OutputArea;\n    if (OutputArea.prototype.mime_types().indexOf(EXEC_MIME_TYPE) == -1) {\n      register_renderer(events, OutputArea);\n    }\n  } catch(err) {\n  }\n}\n"
     },
     "metadata": {},
     "output_type": "display_data"
    },
    {
     "data": {
      "text/html": [
       "<style>*[data-root-id],\n",
       "*[data-root-id] > * {\n",
       "  box-sizing: border-box;\n",
       "  font-family: var(--jp-ui-font-family);\n",
       "  font-size: var(--jp-ui-font-size1);\n",
       "  color: var(--vscode-editor-foreground, var(--jp-ui-font-color1));\n",
       "}\n",
       "\n",
       "/* Override VSCode background color */\n",
       ".cell-output-ipywidget-background:has(\n",
       "    > .cell-output-ipywidget-background > .lm-Widget > *[data-root-id]\n",
       "  ),\n",
       ".cell-output-ipywidget-background:has(> .lm-Widget > *[data-root-id]) {\n",
       "  background-color: transparent !important;\n",
       "}\n",
       "</style>"
      ]
     },
     "metadata": {},
     "output_type": "display_data"
    },
    {
     "name": "stdout",
     "output_type": "stream",
     "text": [
      "* Set Holoviews with bokeh.\n",
      "* pyevtk not found, VTK export not available. \n",
      "\u001b[32m2024-06-17 15:57:31.570\u001b[0m | \u001b[1mINFO    \u001b[0m | \u001b[36mqbanalysis.hyperfine\u001b[0m:\u001b[36m<module>\u001b[0m:\u001b[36m28\u001b[0m - \u001b[1mUsing uncertainties modules, Sympy maths functions will be forced to float outputs.\u001b[0m\n",
      "\u001b[32m2024-06-17 15:57:31.637\u001b[0m | \u001b[1mINFO    \u001b[0m | \u001b[36mqbanalysis.dataset\u001b[0m:\u001b[36mloadDataset\u001b[0m:\u001b[36m244\u001b[0m - \u001b[1mLoaded data cpBasex_results_cycleSummed_rot90_quad1_ROI_results_with_FT_NFFT1024_hanningWindow_270717.mat.\u001b[0m\n",
      "\u001b[32m2024-06-17 15:57:31.683\u001b[0m | \u001b[1mINFO    \u001b[0m | \u001b[36mqbanalysis.dataset\u001b[0m:\u001b[36mloadDataset\u001b[0m:\u001b[36m244\u001b[0m - \u001b[1mLoaded data cpBasex_results_allCycles_ROIs_with_FTs_NFFT1024_hanningWindow_270717.mat.\u001b[0m\n",
      "\u001b[32m2024-06-17 15:57:31.995\u001b[0m | \u001b[1mINFO    \u001b[0m | \u001b[36mqbanalysis.dataset\u001b[0m:\u001b[36mloadFinalDataset\u001b[0m:\u001b[36m220\u001b[0m - \u001b[1mProcessed data to Xarray OK.\u001b[0m\n",
      "\u001b[32m2024-06-17 15:57:32.035\u001b[0m | \u001b[1mINFO    \u001b[0m | \u001b[36mqbanalysis.dataset\u001b[0m:\u001b[36mloadXeProps\u001b[0m:\u001b[36m71\u001b[0m - \u001b[1mLoaded Xe data from /home/jovyan/code-share/github-share/Quantum-Beat_Photoelectron-Imaging_Spectroscopy_of_Xe_in_the_VUV/dataLocal/Xe_data_table_fixedFractions.ods.\u001b[0m\n",
      "\n",
      "**Xe measured level splittings and the hyperfine constants.**\n",
      "Statistical uncertainty estimates are given for the measurements. (See manuscript for details).\n"
     ]
    },
    {
     "data": {
      "text/html": [
       "<div>\n",
       "<style scoped>\n",
       "    .dataframe tbody tr th:only-of-type {\n",
       "        vertical-align: middle;\n",
       "    }\n",
       "\n",
       "    .dataframe tbody tr th {\n",
       "        vertical-align: top;\n",
       "    }\n",
       "\n",
       "    .dataframe thead th {\n",
       "        text-align: right;\n",
       "    }\n",
       "</style>\n",
       "<table border=\"1\" class=\"dataframe\">\n",
       "  <thead>\n",
       "    <tr style=\"text-align: right;\">\n",
       "      <th></th>\n",
       "      <th></th>\n",
       "      <th></th>\n",
       "      <th></th>\n",
       "      <th>A/MHz</th>\n",
       "      <th>B/MHz</th>\n",
       "      <th>Splitting/cm−1</th>\n",
       "    </tr>\n",
       "    <tr>\n",
       "      <th>Isotope</th>\n",
       "      <th>I</th>\n",
       "      <th>F</th>\n",
       "      <th>F′</th>\n",
       "      <th></th>\n",
       "      <th></th>\n",
       "      <th></th>\n",
       "    </tr>\n",
       "  </thead>\n",
       "  <tbody>\n",
       "    <tr>\n",
       "      <th>129</th>\n",
       "      <th>0.5</th>\n",
       "      <th>0.5</th>\n",
       "      <th>1.5</th>\n",
       "      <td>-5723+/-9</td>\n",
       "      <td>nan+/-nan</td>\n",
       "      <td>0.2863+/-0.0005</td>\n",
       "    </tr>\n",
       "    <tr>\n",
       "      <th rowspan=\"3\" valign=\"top\">131</th>\n",
       "      <th rowspan=\"3\" valign=\"top\">1.5</th>\n",
       "      <th>1.5</th>\n",
       "      <th>0.5</th>\n",
       "      <td>1697+/-30</td>\n",
       "      <td>-8+/-7</td>\n",
       "      <td>0.0855+/-0.0010</td>\n",
       "    </tr>\n",
       "    <tr>\n",
       "      <th rowspan=\"2\" valign=\"top\">2.5</th>\n",
       "      <th>1.5</th>\n",
       "      <td>1697+/-30</td>\n",
       "      <td>-8+/-7</td>\n",
       "      <td>0.1411+/-0.0029</td>\n",
       "    </tr>\n",
       "    <tr>\n",
       "      <th>0.5</th>\n",
       "      <td>1697+/-30</td>\n",
       "      <td>-8+/-7</td>\n",
       "      <td>0.2276+/-0.0029</td>\n",
       "    </tr>\n",
       "  </tbody>\n",
       "</table>\n",
       "</div>"
      ],
      "text/plain": [
       "                         A/MHz      B/MHz   Splitting/cm−1\n",
       "Isotope I   F   F′                                        \n",
       "129     0.5 0.5 1.5  -5723+/-9  nan+/-nan  0.2863+/-0.0005\n",
       "131     1.5 1.5 0.5  1697+/-30     -8+/-7  0.0855+/-0.0010\n",
       "            2.5 1.5  1697+/-30     -8+/-7  0.1411+/-0.0029\n",
       "                0.5  1697+/-30     -8+/-7  0.2276+/-0.0029"
      ]
     },
     "metadata": {},
     "output_type": "display_data"
    }
   ],
   "source": [
    "# Load packages\n",
    "# Main functions used herein from qbanalysis.hyperfine\n",
    "from qbanalysis.hyperfine import *\n",
    "import numpy as np\n",
    "from epsproc.sphCalc import setBLMs\n",
    "\n",
    "from pathlib import Path\n",
    "\n",
    "dataPath = Path('/tmp/xe_analysis')\n",
    "# dataTypes = ['BLMall', 'BLMerr', 'BLMerrCycle']   # Read these types, should just do dir scan here.\n",
    "\n",
    "# # Read from HDF5/NetCDF files\n",
    "# # TO FIX: this should be identical to loadFinalDataset(dataPath), but gives slightly different plots - possibly complex/real/abs confusion?\n",
    "# dataDict = {}\n",
    "# for item in dataTypes:\n",
    "#     dataDict[item] = IO.readXarray(fileName=f'Xe_dataset_{item}.nc', filePath=dataPath.as_posix()).real\n",
    "#     dataDict[item].name = item\n",
    "\n",
    "# Read from raw data files\n",
    "from qbanalysis.dataset import loadFinalDataset\n",
    "dataDict = loadFinalDataset(dataPath)\n",
    "\n",
    "# Use Pandas and load Xe local data (ODS)\n",
    "# These values were detemermined from the experimental data as detailed in ref. [4].\n",
    "from qbanalysis.dataset import loadXeProps\n",
    "xeProps = loadXeProps()"
   ]
  },
  {
   "cell_type": "markdown",
   "id": "5c7dd85a-8277-4668-a2ab-5d15e914d85d",
   "metadata": {},
   "source": [
    "### Init parameters & test\n",
    "\n",
    "Here use `xeProps` to set and define fit paramters. Note in the original work the splittings were determined by FT of the data, and A, B parameters via Eqn. 2 therein.\n",
    "\n",
    "TODO: may want to use lmfit here for more flexibility."
   ]
  },
  {
   "cell_type": "code",
   "execution_count": 2,
   "id": "e5232279-c6f6-4f02-a61a-4fdf9ee5315a",
   "metadata": {
    "tags": []
   },
   "outputs": [],
   "source": [
    "# Set splittings\n",
    "fitParamsCol = 'Splitting/cm−1'\n",
    "xePropsFit = xeProps.copy()\n",
    "\n",
    "xeSplittings = xePropsFit[fitParamsCol].to_numpy()"
   ]
  },
  {
   "cell_type": "code",
   "execution_count": 3,
   "id": "174fc14e-e102-4a20-ba71-2ed43d9c4673",
   "metadata": {
    "tags": []
   },
   "outputs": [],
   "source": [
    "# # Test beat model with changed params...\n",
    "# xeSplittings = np.random.randn(4)\n",
    "# xeSplittings"
   ]
  },
  {
   "cell_type": "code",
   "execution_count": 4,
   "id": "8f3fd339-269f-48df-b09a-e9270ce986ac",
   "metadata": {
    "tags": []
   },
   "outputs": [],
   "source": [
    "# xePropsFit[fitParamsCol] = 0.1*np.abs(xeSplittings)\n",
    "# xePropsFit"
   ]
  },
  {
   "cell_type": "code",
   "execution_count": 5,
   "id": "6ffdd3d3-5fa2-4c62-b084-9194b0524bf5",
   "metadata": {
    "tags": []
   },
   "outputs": [
    {
     "data": {},
     "metadata": {},
     "output_type": "display_data"
    },
    {
     "data": {
      "application/vnd.holoviews_exec.v0+json": "",
      "text/html": [
       "<div id='p1002'>\n",
       "  <div id=\"a7fb1be9-dc79-4430-b06a-f7b8e307d216\" data-root-id=\"p1002\" style=\"display: contents;\"></div>\n",
       "</div>\n",
       "<script type=\"application/javascript\">(function(root) {\n",
       "  var docs_json = {\"bcd41e1f-841b-4465-89a0-a28e409ecd5f\":{\"version\":\"3.1.1\",\"title\":\"Bokeh Application\",\"defs\":[{\"type\":\"model\",\"name\":\"ReactiveHTML1\"},{\"type\":\"model\",\"name\":\"FlexBox1\",\"properties\":[{\"name\":\"align_content\",\"kind\":\"Any\",\"default\":\"flex-start\"},{\"name\":\"align_items\",\"kind\":\"Any\",\"default\":\"flex-start\"},{\"name\":\"flex_direction\",\"kind\":\"Any\",\"default\":\"row\"},{\"name\":\"flex_wrap\",\"kind\":\"Any\",\"default\":\"wrap\"},{\"name\":\"justify_content\",\"kind\":\"Any\",\"default\":\"flex-start\"}]},{\"type\":\"model\",\"name\":\"FloatPanel1\",\"properties\":[{\"name\":\"config\",\"kind\":\"Any\",\"default\":{\"type\":\"map\"}},{\"name\":\"contained\",\"kind\":\"Any\",\"default\":true},{\"name\":\"position\",\"kind\":\"Any\",\"default\":\"right-top\"},{\"name\":\"offsetx\",\"kind\":\"Any\",\"default\":null},{\"name\":\"offsety\",\"kind\":\"Any\",\"default\":null},{\"name\":\"theme\",\"kind\":\"Any\",\"default\":\"primary\"},{\"name\":\"status\",\"kind\":\"Any\",\"default\":\"normalized\"}]},{\"type\":\"model\",\"name\":\"GridStack1\",\"properties\":[{\"name\":\"mode\",\"kind\":\"Any\",\"default\":\"warn\"},{\"name\":\"ncols\",\"kind\":\"Any\",\"default\":null},{\"name\":\"nrows\",\"kind\":\"Any\",\"default\":null},{\"name\":\"allow_resize\",\"kind\":\"Any\",\"default\":true},{\"name\":\"allow_drag\",\"kind\":\"Any\",\"default\":true},{\"name\":\"state\",\"kind\":\"Any\",\"default\":[]}]},{\"type\":\"model\",\"name\":\"drag1\",\"properties\":[{\"name\":\"slider_width\",\"kind\":\"Any\",\"default\":5},{\"name\":\"slider_color\",\"kind\":\"Any\",\"default\":\"black\"},{\"name\":\"value\",\"kind\":\"Any\",\"default\":50}]},{\"type\":\"model\",\"name\":\"click1\",\"properties\":[{\"name\":\"terminal_output\",\"kind\":\"Any\",\"default\":\"\"},{\"name\":\"debug_name\",\"kind\":\"Any\",\"default\":\"\"},{\"name\":\"clears\",\"kind\":\"Any\",\"default\":0}]},{\"type\":\"model\",\"name\":\"FastWrapper1\",\"properties\":[{\"name\":\"object\",\"kind\":\"Any\",\"default\":null},{\"name\":\"style\",\"kind\":\"Any\",\"default\":null}]},{\"type\":\"model\",\"name\":\"NotificationAreaBase1\",\"properties\":[{\"name\":\"position\",\"kind\":\"Any\",\"default\":\"bottom-right\"},{\"name\":\"_clear\",\"kind\":\"Any\",\"default\":0}]},{\"type\":\"model\",\"name\":\"NotificationArea1\",\"properties\":[{\"name\":\"notifications\",\"kind\":\"Any\",\"default\":[]},{\"name\":\"position\",\"kind\":\"Any\",\"default\":\"bottom-right\"},{\"name\":\"_clear\",\"kind\":\"Any\",\"default\":0},{\"name\":\"types\",\"kind\":\"Any\",\"default\":[{\"type\":\"map\",\"entries\":[[\"type\",\"warning\"],[\"background\",\"#ffc107\"],[\"icon\",{\"type\":\"map\",\"entries\":[[\"className\",\"fas fa-exclamation-triangle\"],[\"tagName\",\"i\"],[\"color\",\"white\"]]}]]},{\"type\":\"map\",\"entries\":[[\"type\",\"info\"],[\"background\",\"#007bff\"],[\"icon\",{\"type\":\"map\",\"entries\":[[\"className\",\"fas fa-info-circle\"],[\"tagName\",\"i\"],[\"color\",\"white\"]]}]]}]}]},{\"type\":\"model\",\"name\":\"Notification\",\"properties\":[{\"name\":\"background\",\"kind\":\"Any\",\"default\":null},{\"name\":\"duration\",\"kind\":\"Any\",\"default\":3000},{\"name\":\"icon\",\"kind\":\"Any\",\"default\":null},{\"name\":\"message\",\"kind\":\"Any\",\"default\":\"\"},{\"name\":\"notification_type\",\"kind\":\"Any\",\"default\":null},{\"name\":\"_destroyed\",\"kind\":\"Any\",\"default\":false}]},{\"type\":\"model\",\"name\":\"TemplateActions1\",\"properties\":[{\"name\":\"open_modal\",\"kind\":\"Any\",\"default\":0},{\"name\":\"close_modal\",\"kind\":\"Any\",\"default\":0}]},{\"type\":\"model\",\"name\":\"BootstrapTemplateActions1\",\"properties\":[{\"name\":\"open_modal\",\"kind\":\"Any\",\"default\":0},{\"name\":\"close_modal\",\"kind\":\"Any\",\"default\":0}]},{\"type\":\"model\",\"name\":\"MaterialTemplateActions1\",\"properties\":[{\"name\":\"open_modal\",\"kind\":\"Any\",\"default\":0},{\"name\":\"close_modal\",\"kind\":\"Any\",\"default\":0}]}],\"roots\":[{\"type\":\"object\",\"name\":\"Row\",\"id\":\"p1002\",\"attributes\":{\"name\":\"Row01277\",\"tags\":[\"embedded\"],\"stylesheets\":[\"\\n:host(.pn-loading.pn-arc):before, .pn-loading.pn-arc:before {\\n  background-image: url(\\\"data:image/svg+xml;base64,PHN2ZyB4bWxucz0iaHR0cDovL3d3dy53My5vcmcvMjAwMC9zdmciIHN0eWxlPSJtYXJnaW46IGF1dG87IGJhY2tncm91bmQ6IG5vbmU7IGRpc3BsYXk6IGJsb2NrOyBzaGFwZS1yZW5kZXJpbmc6IGF1dG87IiB2aWV3Qm94PSIwIDAgMTAwIDEwMCIgcHJlc2VydmVBc3BlY3RSYXRpbz0ieE1pZFlNaWQiPiAgPGNpcmNsZSBjeD0iNTAiIGN5PSI1MCIgZmlsbD0ibm9uZSIgc3Ryb2tlPSIjYzNjM2MzIiBzdHJva2Utd2lkdGg9IjEwIiByPSIzNSIgc3Ryb2tlLWRhc2hhcnJheT0iMTY0LjkzMzYxNDMxMzQ2NDE1IDU2Ljk3Nzg3MTQzNzgyMTM4Ij4gICAgPGFuaW1hdGVUcmFuc2Zvcm0gYXR0cmlidXRlTmFtZT0idHJhbnNmb3JtIiB0eXBlPSJyb3RhdGUiIHJlcGVhdENvdW50PSJpbmRlZmluaXRlIiBkdXI9IjFzIiB2YWx1ZXM9IjAgNTAgNTA7MzYwIDUwIDUwIiBrZXlUaW1lcz0iMDsxIj48L2FuaW1hdGVUcmFuc2Zvcm0+ICA8L2NpcmNsZT48L3N2Zz4=\\\");\\n  background-size: auto calc(min(50%, 400px));\\n}\",{\"type\":\"object\",\"name\":\"ImportedStyleSheet\",\"id\":\"p1005\",\"attributes\":{\"url\":\"https://cdn.holoviz.org/panel/1.2.0/dist/css/loading.css\"}},{\"type\":\"object\",\"name\":\"ImportedStyleSheet\",\"id\":\"p1317\",\"attributes\":{\"url\":\"https://cdn.holoviz.org/panel/1.2.0/dist/css/listpanel.css\"}},{\"type\":\"object\",\"name\":\"ImportedStyleSheet\",\"id\":\"p1003\",\"attributes\":{\"url\":\"https://cdn.holoviz.org/panel/1.2.0/dist/bundled/theme/default.css\"}},{\"type\":\"object\",\"name\":\"ImportedStyleSheet\",\"id\":\"p1004\",\"attributes\":{\"url\":\"https://cdn.holoviz.org/panel/1.2.0/dist/bundled/theme/native.css\"}}],\"min_width\":800,\"margin\":0,\"sizing_mode\":\"stretch_width\",\"align\":\"start\",\"children\":[{\"type\":\"object\",\"name\":\"Spacer\",\"id\":\"p1006\",\"attributes\":{\"name\":\"HSpacer01288\",\"stylesheets\":[\"\\n:host(.pn-loading.pn-arc):before, .pn-loading.pn-arc:before {\\n  background-image: url(\\\"data:image/svg+xml;base64,PHN2ZyB4bWxucz0iaHR0cDovL3d3dy53My5vcmcvMjAwMC9zdmciIHN0eWxlPSJtYXJnaW46IGF1dG87IGJhY2tncm91bmQ6IG5vbmU7IGRpc3BsYXk6IGJsb2NrOyBzaGFwZS1yZW5kZXJpbmc6IGF1dG87IiB2aWV3Qm94PSIwIDAgMTAwIDEwMCIgcHJlc2VydmVBc3BlY3RSYXRpbz0ieE1pZFlNaWQiPiAgPGNpcmNsZSBjeD0iNTAiIGN5PSI1MCIgZmlsbD0ibm9uZSIgc3Ryb2tlPSIjYzNjM2MzIiBzdHJva2Utd2lkdGg9IjEwIiByPSIzNSIgc3Ryb2tlLWRhc2hhcnJheT0iMTY0LjkzMzYxNDMxMzQ2NDE1IDU2Ljk3Nzg3MTQzNzgyMTM4Ij4gICAgPGFuaW1hdGVUcmFuc2Zvcm0gYXR0cmlidXRlTmFtZT0idHJhbnNmb3JtIiB0eXBlPSJyb3RhdGUiIHJlcGVhdENvdW50PSJpbmRlZmluaXRlIiBkdXI9IjFzIiB2YWx1ZXM9IjAgNTAgNTA7MzYwIDUwIDUwIiBrZXlUaW1lcz0iMDsxIj48L2FuaW1hdGVUcmFuc2Zvcm0+ICA8L2NpcmNsZT48L3N2Zz4=\\\");\\n  background-size: auto calc(min(50%, 400px));\\n}\",{\"id\":\"p1005\"},{\"id\":\"p1003\"},{\"id\":\"p1004\"}],\"margin\":0,\"sizing_mode\":\"stretch_width\",\"align\":\"start\"}},{\"type\":\"object\",\"name\":\"Figure\",\"id\":\"p1015\",\"attributes\":{\"width\":800,\"height\":500,\"margin\":[5,10],\"sizing_mode\":\"fixed\",\"align\":\"start\",\"x_range\":{\"type\":\"object\",\"name\":\"Range1d\",\"id\":\"p1007\",\"attributes\":{\"tags\":[[[\"t\",\"t\",null]]],\"end\":995.0,\"reset_start\":0.0,\"reset_end\":995.0}},\"y_range\":{\"type\":\"object\",\"name\":\"Range1d\",\"id\":\"p1008\",\"attributes\":{\"tags\":[[[\"sum\",\"sum\",null]]],\"start\":-0.31862708864648703,\"end\":0.2389116514004536,\"reset_start\":-0.31862708864648703,\"reset_end\":0.2389116514004536}},\"x_scale\":{\"type\":\"object\",\"name\":\"LinearScale\",\"id\":\"p1027\"},\"y_scale\":{\"type\":\"object\",\"name\":\"LinearScale\",\"id\":\"p1029\"},\"title\":{\"type\":\"object\",\"name\":\"Title\",\"id\":\"p1018\",\"attributes\":{\"text\":\"Isotope comparison + sum\",\"text_color\":\"black\",\"text_font_size\":\"12pt\"}},\"renderers\":[{\"type\":\"object\",\"name\":\"GlyphRenderer\",\"id\":\"p1077\",\"attributes\":{\"data_source\":{\"type\":\"object\",\"name\":\"ColumnDataSource\",\"id\":\"p1067\",\"attributes\":{\"selected\":{\"type\":\"object\",\"name\":\"Selection\",\"id\":\"p1068\",\"attributes\":{\"indices\":[],\"line_indices\":[]}},\"selection_policy\":{\"type\":\"object\",\"name\":\"UnionRenderers\",\"id\":\"p1069\"},\"data\":{\"type\":\"map\",\"entries\":[[\"x\",{\"type\":\"ndarray\",\"array\":{\"type\":\"bytes\",\"data\":\"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\"},\"shape\":[400],\"dtype\":\"float64\",\"order\":\"little\"}],[\"y\",{\"type\":\"ndarray\",\"array\":{\"type\":\"bytes\",\"data\":\"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\"},\"shape\":[400],\"dtype\":\"float64\",\"order\":\"little\"}]]}}},\"view\":{\"type\":\"object\",\"name\":\"CDSView\",\"id\":\"p1078\",\"attributes\":{\"filter\":{\"type\":\"object\",\"name\":\"AllIndices\",\"id\":\"p1079\"}}},\"glyph\":{\"type\":\"object\",\"name\":\"Patch\",\"id\":\"p1074\",\"attributes\":{\"tags\":[\"apply_ranges\"],\"x\":{\"type\":\"field\",\"field\":\"x\"},\"y\":{\"type\":\"field\",\"field\":\"y\"},\"line_alpha\":0.6,\"fill_color\":\"#30a2da\",\"fill_alpha\":0.6,\"hatch_color\":\"#30a2da\",\"hatch_alpha\":0.6}},\"selection_glyph\":{\"type\":\"object\",\"name\":\"Patch\",\"id\":\"p1082\",\"attributes\":{\"tags\":[\"apply_ranges\"],\"x\":{\"type\":\"field\",\"field\":\"x\"},\"y\":{\"type\":\"field\",\"field\":\"y\"},\"line_alpha\":0.6,\"fill_color\":\"#30a2da\",\"fill_alpha\":0.6,\"hatch_color\":\"#30a2da\",\"hatch_alpha\":0.6}},\"nonselection_glyph\":{\"type\":\"object\",\"name\":\"Patch\",\"id\":\"p1075\",\"attributes\":{\"tags\":[\"apply_ranges\"],\"x\":{\"type\":\"field\",\"field\":\"x\"},\"y\":{\"type\":\"field\",\"field\":\"y\"},\"line_alpha\":0.6,\"fill_color\":\"#30a2da\",\"fill_alpha\":0.6,\"hatch_color\":\"#30a2da\",\"hatch_alpha\":0.1}},\"muted_glyph\":{\"type\":\"object\",\"name\":\"Patch\",\"id\":\"p1076\",\"attributes\":{\"tags\":[\"apply_ranges\"],\"x\":{\"type\":\"field\",\"field\":\"x\"},\"y\":{\"type\":\"field\",\"field\":\"y\"},\"line_alpha\":0.2,\"fill_color\":\"#30a2da\",\"fill_alpha\":0.2,\"hatch_color\":\"#30a2da\",\"hatch_alpha\":0.2}}}},{\"type\":\"object\",\"name\":\"GlyphRenderer\",\"id\":\"p1093\",\"attributes\":{\"data_source\":{\"type\":\"object\",\"name\":\"ColumnDataSource\",\"id\":\"p1083\",\"attributes\":{\"selected\":{\"type\":\"object\",\"name\":\"Selection\",\"id\":\"p1084\",\"attributes\":{\"indices\":[],\"line_indices\":[]}},\"selection_policy\":{\"type\":\"object\",\"name\":\"UnionRenderers\",\"id\":\"p1085\"},\"data\":{\"type\":\"map\",\"entries\":[[\"x\",{\"type\":\"ndarray\",\"array\":{\"type\":\"bytes\",\"data\":\"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\"},\"shape\":[400],\"dtype\":\"float64\",\"order\":\"little\"}],[\"y\",{\"type\":\"ndarray\",\"array\":{\"type\":\"bytes\",\"data\":\"9IQZ2hPrpD/0hBnaE+ukP/SEGdoT66Q/9IQZ2hPrpD/0hBnaE+ukP/SEGdoT66Q/9IQZ2hPrpD/0hBnaE+ukP/SEGdoT66Q/9IQZ2hPrpD/0hBnaE+ukP/SEGdoT66Q/9IQZ2hPrpD/0hBnaE+ukP/SEGdoT66Q/9IQZ2hPrpD/0hBnaE+ukP/SEGdoT66Q/9IQZ2hPrpD/0hBnaE+ukP/SEGdoT66Q/9IQZ2hPrpD/0hBnaE+ukP/SEGdoT66Q/9IQZ2hPrpD/0hBnaE+ukP/SEGdoT66Q/9IQZ2hPrpD/0hBnaE+ukP/SEGdoT66Q/9IQZ2hPrpD/0hBnaE+ukP/SEGdoT66Q/9IQZ2hPrpD/0hBnaE+ukP/SEGdoT66Q/9IQZ2hPrpD/0hBnaE+ukP/SEGdoT66Q/9IQZ2hPrpD/0hBnaE+ukP/SEGdoT66Q/9IQZ2hPrpD/0hBnaE+ukP/SEGdoT66Q/9IQZ2hPrpD/0hBnaE+ukP/SEGdoT66Q/9IQZ2hPrpD/0hBnaE+ukP/SEGdoT66Q/9IQZ2hPrpD/0hBnaE+ukP/SEGdoT66Q/9IQZ2hPrpD/0hBnaE+ukP/SEGdoT66Q/9IQZ2hPrpD/0hBnaE+ukP/SEGdoT66Q/9IQZ2hPrpD/0hBnaE+ukP/SEGdoT66Q/9IQZ2hPrpD/0hBnaE+ukP/SEGdoT66Q/9IQZ2hPrpD/0hBnaE+ukP/SEGdoT66Q/9IQZ2hPrpD/0hBnaE+ukP/SEGdoT66Q/9IQZ2hPrpD/0hBnaE+ukP/SEGdoT66Q/9IQZ2hPrpD/0hBnaE+ukP/SEGdoT66Q/9IQZ2hPrpD/0hBnaE+ukP/SEGdoT66Q/9IQZ2hPrpD/0hBnaE+ukP/SEGdoT66Q/9IQZ2hPrpD/0hBnaE+ukP/SEGdoT66Q/9IQZ2hPrpD/0hBnaE+ukP/SEGdoT66Q/9IQZ2hPrpD/0hBnaE+ukP/SEGdoT66Q/9IQZ2hPrpD/0hBnaE+ukP/SEGdoT66Q/9IQZ2hPrpD/0hBnaE+ukP/SEGdoT66Q/9IQZ2hPrpD/0hBnaE+ukP/SEGdoT66Q/9IQZ2hPrpD/0hBnaE+ukP/SEGdoT66Q/9IQZ2hPrpD/0hBnaE+ukP/SEGdoT66Q/9IQZ2hPrpD/0hBnaE+ukP/SEGdoT66Q/9IQZ2hPrpD/0hBnaE+ukP/SEGdoT66Q/9IQZ2hPrpD/0hBnaE+ukP/SEGdoT66Q/9IQZ2hPrpD/0hBnaE+ukP/SEGdoT66Q/9IQZ2hPrpD/0hBnaE+ukP/SEGdoT66Q/9IQZ2hPrpD/0hBnaE+ukP/SEGdoT66Q/9IQZ2hPrpD/0hBnaE+ukP/SEGdoT66Q/9IQZ2hPrpD/0hBnaE+ukP/SEGdoT66Q/9IQZ2hPrpD/0hBnaE+ukP/SEGdoT66Q/9IQZ2hPrpD/0hBnaE+ukP/SEGdoT66Q/9IQZ2hPrpD/0hBnaE+ukP/SEGdoT66Q/9IQZ2hPrpD/0hBnaE+ukP/SEGdoT66Q/9IQZ2hPrpD/0hBnaE+ukP/SEGdoT66Q/9IQZ2hPrpD/0hBnaE+ukP/SEGdoT66Q/9IQZ2hPrpD/0hBnaE+ukP/SEGdoT66Q/9IQZ2hPrpD/0hBnaE+ukP/SEGdoT66Q/9IQZ2hPrpD/0hBnaE+ukP/SEGdoT66Q/9IQZ2hPrpD/0hBnaE+ukP/SEGdoT66Q/9IQZ2hPrpD/0hBnaE+ukP/SEGdoT66Q/9IQZ2hPrpD/0hBnaE+ukP/SEGdoT66Q/9IQZ2hPrpD/0hBnaE+ukP/SEGdoT66Q/9IQZ2hPrpD/0hBnaE+ukP/SEGdoT66Q/9IQZ2hPrpD/0hBnaE+ukP/SEGdoT66Q/9IQZ2hPrpD/0hBnaE+ukP/SEGdoT66Q/9IQZ2hPrpD/0hBnaE+ukP/SEGdoT66Q/9IQZ2hPrpD/0hBnaE+ukP/SEGdoT66Q/9IQZ2hPrpD/0hBnaE+ukP/SEGdoT66Q/9IQZ2hPrpD/0hBnaE+ukP/SEGdoT66Q/9IQZ2hPrpD/0hBnaE+ukP/SEGdoT66Q/9IQZ2hPrpD/0hBnaE+ukP/SEGdoT66Q/9IQZ2hPrpD/0hBnaE+ukP+rjHk6X7KQ/6uMeTpfspD/q4x5Ol+ykP+rjHk6X7KQ/6uMeTpfspD/q4x5Ol+ykP+rjHk6X7KQ/6uMeTpfspD/q4x5Ol+ykP+rjHk6X7KQ/6uMeTpfspD/q4x5Ol+ykP+rjHk6X7KQ/6uMeTpfspD/q4x5Ol+ykP+rjHk6X7KQ/6uMeTpfspD/q4x5Ol+ykP+rjHk6X7KQ/6uMeTpfspD/q4x5Ol+ykP+rjHk6X7KQ/6uMeTpfspD/q4x5Ol+ykP+rjHk6X7KQ/6uMeTpfspD/q4x5Ol+ykP+rjHk6X7KQ/6uMeTpfspD/q4x5Ol+ykP+rjHk6X7KQ/6uMeTpfspD/q4x5Ol+ykP+rjHk6X7KQ/6uMeTpfspD/q4x5Ol+ykP+rjHk6X7KQ/6uMeTpfspD/q4x5Ol+ykP+rjHk6X7KQ/6uMeTpfspD/q4x5Ol+ykP+rjHk6X7KQ/6uMeTpfspD/q4x5Ol+ykP+rjHk6X7KQ/6uMeTpfspD/q4x5Ol+ykP+rjHk6X7KQ/6uMeTpfspD/q4x5Ol+ykP+rjHk6X7KQ/6uMeTpfspD/q4x5Ol+ykP+rjHk6X7KQ/6uMeTpfspD/q4x5Ol+ykP+rjHk6X7KQ/6uMeTpfspD/q4x5Ol+ykP+rjHk6X7KQ/6uMeTpfspD/q4x5Ol+ykP+rjHk6X7KQ/6uMeTpfspD/q4x5Ol+ykP+rjHk6X7KQ/6uMeTpfspD/q4x5Ol+ykP+rjHk6X7KQ/6uMeTpfspD/q4x5Ol+ykP+rjHk6X7KQ/6uMeTpfspD/q4x5Ol+ykP+rjHk6X7KQ/6uMeTpfspD/q4x5Ol+ykP+rjHk6X7KQ/6uMeTpfspD/q4x5Ol+ykP+rjHk6X7KQ/6uMeTpfspD/q4x5Ol+ykP+rjHk6X7KQ/6uMeTpfspD/q4x5Ol+ykP+rjHk6X7KQ/6uMeTpfspD/q4x5Ol+ykP+rjHk6X7KQ/6uMeTpfspD/q4x5Ol+ykP+rjHk6X7KQ/6uMeTpfspD/q4x5Ol+ykP+rjHk6X7KQ/6uMeTpfspD/q4x5Ol+ykP+rjHk6X7KQ/6uMeTpfspD/q4x5Ol+ykP+rjHk6X7KQ/6uMeTpfspD/q4x5Ol+ykP+rjHk6X7KQ/6uMeTpfspD/q4x5Ol+ykP+rjHk6X7KQ/6uMeTpfspD/q4x5Ol+ykP+rjHk6X7KQ/6uMeTpfspD/q4x5Ol+ykP+rjHk6X7KQ/6uMeTpfspD/q4x5Ol+ykP+rjHk6X7KQ/6uMeTpfspD/q4x5Ol+ykP+rjHk6X7KQ/6uMeTpfspD/q4x5Ol+ykP+rjHk6X7KQ/6uMeTpfspD/q4x5Ol+ykP+rjHk6X7KQ/6uMeTpfspD/q4x5Ol+ykP+rjHk6X7KQ/6uMeTpfspD/q4x5Ol+ykP+rjHk6X7KQ/6uMeTpfspD/q4x5Ol+ykP+rjHk6X7KQ/6uMeTpfspD/q4x5Ol+ykP+rjHk6X7KQ/6uMeTpfspD/q4x5Ol+ykP+rjHk6X7KQ/6uMeTpfspD/q4x5Ol+ykP+rjHk6X7KQ/6uMeTpfspD/q4x5Ol+ykP+rjHk6X7KQ/6uMeTpfspD/q4x5Ol+ykP+rjHk6X7KQ/6uMeTpfspD/q4x5Ol+ykP+rjHk6X7KQ/6uMeTpfspD/q4x5Ol+ykP+rjHk6X7KQ/6uMeTpfspD/q4x5Ol+ykP+rjHk6X7KQ/6uMeTpfspD/q4x5Ol+ykP+rjHk6X7KQ/6uMeTpfspD/q4x5Ol+ykP+rjHk6X7KQ/6uMeTpfspD/q4x5Ol+ykP+rjHk6X7KQ/6uMeTpfspD/q4x5Ol+ykP+rjHk6X7KQ/6uMeTpfspD/q4x5Ol+ykP+rjHk6X7KQ/6uMeTpfspD/q4x5Ol+ykP+rjHk6X7KQ/6uMeTpfspD/q4x5Ol+ykP+rjHk6X7KQ/6uMeTpfspD/q4x5Ol+ykP+rjHk6X7KQ/6uMeTpfspD/q4x5Ol+ykP+rjHk6X7KQ/6uMeTpfspD/q4x5Ol+ykP+rjHk6X7KQ/6uMeTpfspD/q4x5Ol+ykP+rjHk6X7KQ/6uMeTpfspD/q4x5Ol+ykP+rjHk6X7KQ/6uMeTpfspD/q4x5Ol+ykP+rjHk6X7KQ/6uMeTpfspD8=\"},\"shape\":[400],\"dtype\":\"float64\",\"order\":\"little\"}]]}}},\"view\":{\"type\":\"object\",\"name\":\"CDSView\",\"id\":\"p1094\",\"attributes\":{\"filter\":{\"type\":\"object\",\"name\":\"AllIndices\",\"id\":\"p1095\"}}},\"glyph\":{\"type\":\"object\",\"name\":\"Patch\",\"id\":\"p1090\",\"attributes\":{\"tags\":[\"apply_ranges\"],\"x\":{\"type\":\"field\",\"field\":\"x\"},\"y\":{\"type\":\"field\",\"field\":\"y\"},\"line_alpha\":0.6,\"fill_color\":\"#fc4f30\",\"fill_alpha\":0.6,\"hatch_color\":\"#fc4f30\",\"hatch_alpha\":0.6}},\"selection_glyph\":{\"type\":\"object\",\"name\":\"Patch\",\"id\":\"p1097\",\"attributes\":{\"tags\":[\"apply_ranges\"],\"x\":{\"type\":\"field\",\"field\":\"x\"},\"y\":{\"type\":\"field\",\"field\":\"y\"},\"line_alpha\":0.6,\"fill_color\":\"#fc4f30\",\"fill_alpha\":0.6,\"hatch_color\":\"#fc4f30\",\"hatch_alpha\":0.6}},\"nonselection_glyph\":{\"type\":\"object\",\"name\":\"Patch\",\"id\":\"p1091\",\"attributes\":{\"tags\":[\"apply_ranges\"],\"x\":{\"type\":\"field\",\"field\":\"x\"},\"y\":{\"type\":\"field\",\"field\":\"y\"},\"line_alpha\":0.6,\"fill_color\":\"#fc4f30\",\"fill_alpha\":0.6,\"hatch_color\":\"#fc4f30\",\"hatch_alpha\":0.1}},\"muted_glyph\":{\"type\":\"object\",\"name\":\"Patch\",\"id\":\"p1092\",\"attributes\":{\"tags\":[\"apply_ranges\"],\"x\":{\"type\":\"field\",\"field\":\"x\"},\"y\":{\"type\":\"field\",\"field\":\"y\"},\"line_alpha\":0.2,\"fill_color\":\"#fc4f30\",\"fill_alpha\":0.2,\"hatch_color\":\"#fc4f30\",\"hatch_alpha\":0.2}}}},{\"type\":\"object\",\"name\":\"GlyphRenderer\",\"id\":\"p1108\",\"attributes\":{\"data_source\":{\"type\":\"object\",\"name\":\"ColumnDataSource\",\"id\":\"p1098\",\"attributes\":{\"selected\":{\"type\":\"object\",\"name\":\"Selection\",\"id\":\"p1099\",\"attributes\":{\"indices\":[],\"line_indices\":[]}},\"selection_policy\":{\"type\":\"object\",\"name\":\"UnionRenderers\",\"id\":\"p1100\"},\"data\":{\"type\":\"map\",\"entries\":[[\"x\",{\"type\":\"ndarray\",\"array\":{\"type\":\"bytes\",\"data\":\"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\"},\"shape\":[400],\"dtype\":\"float64\",\"order\":\"little\"}],[\"y\",{\"type\":\"ndarray\",\"array\":{\"type\":\"bytes\",\"data\":\"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\"},\"shape\":[400],\"dtype\":\"float64\",\"order\":\"little\"}]]}}},\"view\":{\"type\":\"object\",\"name\":\"CDSView\",\"id\":\"p1109\",\"attributes\":{\"filter\":{\"type\":\"object\",\"name\":\"AllIndices\",\"id\":\"p1110\"}}},\"glyph\":{\"type\":\"object\",\"name\":\"Patch\",\"id\":\"p1105\",\"attributes\":{\"tags\":[\"apply_ranges\"],\"x\":{\"type\":\"field\",\"field\":\"x\"},\"y\":{\"type\":\"field\",\"field\":\"y\"},\"line_alpha\":0.6,\"fill_color\":\"#e5ae38\",\"fill_alpha\":0.6,\"hatch_color\":\"#e5ae38\",\"hatch_alpha\":0.6}},\"selection_glyph\":{\"type\":\"object\",\"name\":\"Patch\",\"id\":\"p1112\",\"attributes\":{\"tags\":[\"apply_ranges\"],\"x\":{\"type\":\"field\",\"field\":\"x\"},\"y\":{\"type\":\"field\",\"field\":\"y\"},\"line_alpha\":0.6,\"fill_color\":\"#e5ae38\",\"fill_alpha\":0.6,\"hatch_color\":\"#e5ae38\",\"hatch_alpha\":0.6}},\"nonselection_glyph\":{\"type\":\"object\",\"name\":\"Patch\",\"id\":\"p1106\",\"attributes\":{\"tags\":[\"apply_ranges\"],\"x\":{\"type\":\"field\",\"field\":\"x\"},\"y\":{\"type\":\"field\",\"field\":\"y\"},\"line_alpha\":0.6,\"fill_color\":\"#e5ae38\",\"fill_alpha\":0.6,\"hatch_color\":\"#e5ae38\",\"hatch_alpha\":0.1}},\"muted_glyph\":{\"type\":\"object\",\"name\":\"Patch\",\"id\":\"p1107\",\"attributes\":{\"tags\":[\"apply_ranges\"],\"x\":{\"type\":\"field\",\"field\":\"x\"},\"y\":{\"type\":\"field\",\"field\":\"y\"},\"line_alpha\":0.2,\"fill_color\":\"#e5ae38\",\"fill_alpha\":0.2,\"hatch_color\":\"#e5ae38\",\"hatch_alpha\":0.2}}}},{\"type\":\"object\",\"name\":\"GlyphRenderer\",\"id\":\"p1123\",\"attributes\":{\"data_source\":{\"type\":\"object\",\"name\":\"ColumnDataSource\",\"id\":\"p1113\",\"attributes\":{\"selected\":{\"type\":\"object\",\"name\":\"Selection\",\"id\":\"p1114\",\"attributes\":{\"indices\":[],\"line_indices\":[]}},\"selection_policy\":{\"type\":\"object\",\"name\":\"UnionRenderers\",\"id\":\"p1115\"},\"data\":{\"type\":\"map\",\"entries\":[[\"x\",{\"type\":\"ndarray\",\"array\":{\"type\":\"bytes\",\"data\":\"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\"},\"shape\":[400],\"dtype\":\"float64\",\"order\":\"little\"}],[\"y\",{\"type\":\"ndarray\",\"array\":{\"type\":\"bytes\",\"data\":\"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\"},\"shape\":[400],\"dtype\":\"float64\",\"order\":\"little\"}]]}}},\"view\":{\"type\":\"object\",\"name\":\"CDSView\",\"id\":\"p1124\",\"attributes\":{\"filter\":{\"type\":\"object\",\"name\":\"AllIndices\",\"id\":\"p1125\"}}},\"glyph\":{\"type\":\"object\",\"name\":\"Patch\",\"id\":\"p1120\",\"attributes\":{\"tags\":[\"apply_ranges\"],\"x\":{\"type\":\"field\",\"field\":\"x\"},\"y\":{\"type\":\"field\",\"field\":\"y\"},\"line_alpha\":0.6,\"fill_color\":\"#6d904f\",\"fill_alpha\":0.6,\"hatch_color\":\"#6d904f\",\"hatch_alpha\":0.6}},\"selection_glyph\":{\"type\":\"object\",\"name\":\"Patch\",\"id\":\"p1127\",\"attributes\":{\"tags\":[\"apply_ranges\"],\"x\":{\"type\":\"field\",\"field\":\"x\"},\"y\":{\"type\":\"field\",\"field\":\"y\"},\"line_alpha\":0.6,\"fill_color\":\"#6d904f\",\"fill_alpha\":0.6,\"hatch_color\":\"#6d904f\",\"hatch_alpha\":0.6}},\"nonselection_glyph\":{\"type\":\"object\",\"name\":\"Patch\",\"id\":\"p1121\",\"attributes\":{\"tags\":[\"apply_ranges\"],\"x\":{\"type\":\"field\",\"field\":\"x\"},\"y\":{\"type\":\"field\",\"field\":\"y\"},\"line_alpha\":0.6,\"fill_color\":\"#6d904f\",\"fill_alpha\":0.6,\"hatch_color\":\"#6d904f\",\"hatch_alpha\":0.1}},\"muted_glyph\":{\"type\":\"object\",\"name\":\"Patch\",\"id\":\"p1122\",\"attributes\":{\"tags\":[\"apply_ranges\"],\"x\":{\"type\":\"field\",\"field\":\"x\"},\"y\":{\"type\":\"field\",\"field\":\"y\"},\"line_alpha\":0.2,\"fill_color\":\"#6d904f\",\"fill_alpha\":0.2,\"hatch_color\":\"#6d904f\",\"hatch_alpha\":0.2}}}},{\"type\":\"object\",\"name\":\"GlyphRenderer\",\"id\":\"p1138\",\"attributes\":{\"data_source\":{\"type\":\"object\",\"name\":\"ColumnDataSource\",\"id\":\"p1128\",\"attributes\":{\"selected\":{\"type\":\"object\",\"name\":\"Selection\",\"id\":\"p1129\",\"attributes\":{\"indices\":[],\"line_indices\":[]}},\"selection_policy\":{\"type\":\"object\",\"name\":\"UnionRenderers\",\"id\":\"p1130\"},\"data\":{\"type\":\"map\",\"entries\":[[\"x\",{\"type\":\"ndarray\",\"array\":{\"type\":\"bytes\",\"data\":\"AAAAAAAAAAAAAAAAAAAUQAAAAAAAACRAAAAAAAAALkAAAAAAAAA0QAAAAAAAADlAAAAAAAAAPkAAAAAAAIBBQAAAAAAAAERAAAAAAACARkAAAAAAAABJQAAAAAAAgEtAAAAAAAAATkAAAAAAAEBQQAAAAAAAgFFAAAAAAADAUkAAAAAAAABUQAAAAAAAQFVAAAAAAACAVkAAAAAAAMBXQAAAAAAAAFlAAAAAAABAWkAAAAAAAIBbQAAAAAAAwFxAAAAAAAAAXkABAAAAAEBfQAAAAAAAQGBAAAAAAADgYEAAAAAAAIBhQAAAAAAAIGJAAAAAAADAYkAAAAAAAGBjQAAAAAAAAGRAAAAAAACgZEAAAAAAAEBlQAAAAAAA4GVAAAAAAACAZkAAAAAAACBnQAAAAAAAwGdAAAAAAABgaEAAAAAAAABpQAAAAAAAoGlAAAAAAABAakAAAAAAAOBqQAAAAAAAgGtAAAAAAAAgbEAAAAAAAMBsQAEAAAAAYG1AAAAAAAAAbkAAAAAAAKBuQAEAAAAAQG9AAAAAAADgb0AAAAAAAEBwQAAAAAAAkHBAAAAAAADgcEAAAAAAADBxQAAAAAAAgHFAAAAAAADQcUAAAAAAACByQAAAAAAAcHJAAAAAAADAckAAAAAAABBzQAAAAAAAYHNAAAAAAACwc0AAAAAAAAB0QAAAAAAAUHRAAAAAAACgdEAAAAAAAPB0QAAAAAAAQHVAAAAAAACQdUAAAAAAAOB1QAAAAAAAMHZAAAAAAACAdkAAAAAAANB2QAAAAAAAIHdAAAAAAABwd0AAAAAAAMB3QAAAAAAAEHhAAAAAAABgeEAAAAAAALB4QAAAAAAAAHlAAAAAAABQeUAAAAAAAKB5QAAAAAAA8HlAAAAAAABAekAAAAAAAJB6QAAAAAAA4HpAAAAAAAAwe0AAAAAAAIB7QAAAAAAA0HtAAAAAAAAgfEAAAAAAAHB8QAAAAAAAwHxAAAAAAAAQfUABAAAAAGB9QAAAAAAAsH1AAAAAAAAAfkAAAAAAAFB+QAAAAAAAoH5A///////vfkABAAAAAEB/QAAAAAAAkH9AAAAAAADgf0AAAAAAABiAQAAAAAAAQIBAAAAAAABogEAAAAAAAJCAQAAAAAAAuIBAAAAAAADggEAAAAAAAAiBQAAAAAAAMIFAAAAAAABYgUAAAAAAAICBQAAAAAAAqIFAAAAAAADQgUAAAAAAAPiBQAAAAAAAIIJAAAAAAABIgkAAAAAAAHCCQAAAAAAAmIJAAAAAAADAgkAAAAAAAOiCQAAAAAAAEINAAAAAAAA4g0AAAAAAAGCDQAAAAAAAiINAAAAAAACwg0AAAAAAANiDQAAAAAAAAIRAAAAAAAAohEAAAAAAAFCEQAAAAAAAeIRAAAAAAACghEAAAAAAAMiEQAAAAAAA8IRAAAAAAAAYhUAAAAAAAECFQAAAAAAAaIVAAAAAAACQhUAAAAAAALiFQAAAAAAA4IVAAAAAAAAIhkAAAAAAADCGQAAAAAAAWIZAAAAAAACAhkAAAAAAAKiGQAAAAAAA0IZAAAAAAAD4hkAAAAAAACCHQAAAAAAASIdAAAAAAABwh0AAAAAAAJiHQAAAAAAAwIdAAAAAAADoh0AAAAAAABCIQAAAAAAAOIhAAAAAAABgiEAAAAAAAIiIQAAAAAAAsIhAAAAAAADYiEAAAAAAAACJQAAAAAAAKIlAAAAAAABQiUAAAAAAAHiJQAAAAAAAoIlAAAAAAADIiUAAAAAAAPCJQAAAAAAAGIpAAAAAAABAikAAAAAAAGiKQAAAAAAAkIpAAAAAAAC4ikAAAAAAAOCKQAAAAAAACItAAAAAAAAwi0AAAAAAAFiLQAAAAAAAgItAAAAAAACoi0AAAAAAANCLQAAAAAAA+ItAAAAAAAAgjEAAAAAAAEiMQAAAAAAAcIxAAAAAAACYjEAAAAAAAMCMQAAAAAAA6IxAAAAAAAAQjUAAAAAAADiNQAEAAAAAYI1AAAAAAACIjUAAAAAAALCNQP//////141AAAAAAAAAjkABAAAAACiOQAAAAAAAUI5AAQAAAAB4jkAAAAAAAKCOQAAAAAAAyI5A///////vjkAAAAAAABiPQAAAAAAAGI9A///////vjkAAAAAAAMiOQAAAAAAAoI5AAQAAAAB4jkAAAAAAAFCOQAEAAAAAKI5AAAAAAAAAjkD//////9eNQAAAAAAAsI1AAAAAAACIjUABAAAAAGCNQAAAAAAAOI1AAAAAAAAQjUAAAAAAAOiMQAAAAAAAwIxAAAAAAACYjEAAAAAAAHCMQAAAAAAASIxAAAAAAAAgjEAAAAAAAPiLQAAAAAAA0ItAAAAAAACoi0AAAAAAAICLQAAAAAAAWItAAAAAAAAwi0AAAAAAAAiLQAAAAAAA4IpAAAAAAAC4ikAAAAAAAJCKQAAAAAAAaIpAAAAAAABAikAAAAAAABiKQAAAAAAA8IlAAAAAAADIiUAAAAAAAKCJQAAAAAAAeIlAAAAAAABQiUAAAAAAACiJQAAAAAAAAIlAAAAAAADYiEAAAAAAALCIQAAAAAAAiIhAAAAAAABgiEAAAAAAADiIQAAAAAAAEIhAAAAAAADoh0AAAAAAAMCHQAAAAAAAmIdAAAAAAABwh0AAAAAAAEiHQAAAAAAAIIdAAAAAAAD4hkAAAAAAANCGQAAAAAAAqIZAAAAAAACAhkAAAAAAAFiGQAAAAAAAMIZAAAAAAAAIhkAAAAAAAOCFQAAAAAAAuIVAAAAAAACQhUAAAAAAAGiFQAAAAAAAQIVAAAAAAAAYhUAAAAAAAPCEQAAAAAAAyIRAAAAAAACghEAAAAAAAHiEQAAAAAAAUIRAAAAAAAAohEAAAAAAAACEQAAAAAAA2INAAAAAAACwg0AAAAAAAIiDQAAAAAAAYINAAAAAAAA4g0AAAAAAABCDQAAAAAAA6IJAAAAAAADAgkAAAAAAAJiCQAAAAAAAcIJAAAAAAABIgkAAAAAAACCCQAAAAAAA+IFAAAAAAADQgUAAAAAAAKiBQAAAAAAAgIFAAAAAAABYgUAAAAAAADCBQAAAAAAACIFAAAAAAADggEAAAAAAALiAQAAAAAAAkIBAAAAAAABogEAAAAAAAECAQAAAAAAAGIBAAAAAAADgf0AAAAAAAJB/QAEAAAAAQH9A///////vfkAAAAAAAKB+QAAAAAAAUH5AAAAAAAAAfkAAAAAAALB9QAEAAAAAYH1AAAAAAAAQfUAAAAAAAMB8QAAAAAAAcHxAAAAAAAAgfEAAAAAAANB7QAAAAAAAgHtAAAAAAAAwe0AAAAAAAOB6QAAAAAAAkHpAAAAAAABAekAAAAAAAPB5QAAAAAAAoHlAAAAAAABQeUAAAAAAAAB5QAAAAAAAsHhAAAAAAABgeEAAAAAAABB4QAAAAAAAwHdAAAAAAABwd0AAAAAAACB3QAAAAAAA0HZAAAAAAACAdkAAAAAAADB2QAAAAAAA4HVAAAAAAACQdUAAAAAAAEB1QAAAAAAA8HRAAAAAAACgdEAAAAAAAFB0QAAAAAAAAHRAAAAAAACwc0AAAAAAAGBzQAAAAAAAEHNAAAAAAADAckAAAAAAAHByQAAAAAAAIHJAAAAAAADQcUAAAAAAAIBxQAAAAAAAMHFAAAAAAADgcEAAAAAAAJBwQAAAAAAAQHBAAAAAAADgb0ABAAAAAEBvQAAAAAAAoG5AAAAAAAAAbkABAAAAAGBtQAAAAAAAwGxAAAAAAAAgbEAAAAAAAIBrQAAAAAAA4GpAAAAAAABAakAAAAAAAKBpQAAAAAAAAGlAAAAAAABgaEAAAAAAAMBnQAAAAAAAIGdAAAAAAACAZkAAAAAAAOBlQAAAAAAAQGVAAAAAAACgZEAAAAAAAABkQAAAAAAAYGNAAAAAAADAYkAAAAAAACBiQAAAAAAAgGFAAAAAAADgYEAAAAAAAEBgQAEAAAAAQF9AAAAAAAAAXkAAAAAAAMBcQAAAAAAAgFtAAAAAAABAWkAAAAAAAABZQAAAAAAAwFdAAAAAAACAVkAAAAAAAEBVQAAAAAAAAFRAAAAAAADAUkAAAAAAAIBRQAAAAAAAQFBAAAAAAAAATkAAAAAAAIBLQAAAAAAAAElAAAAAAACARkAAAAAAAABEQAAAAAAAgEFAAAAAAAAAPkAAAAAAAAA5QAAAAAAAADRAAAAAAAAALkAAAAAAAAAkQAAAAAAAABRAAAAAAAAAAAA=\"},\"shape\":[400],\"dtype\":\"float64\",\"order\":\"little\"}],[\"y\",{\"type\":\"ndarray\",\"array\":{\"type\":\"bytes\",\"data\":\"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\"},\"shape\":[400],\"dtype\":\"float64\",\"order\":\"little\"}]]}}},\"view\":{\"type\":\"object\",\"name\":\"CDSView\",\"id\":\"p1139\",\"attributes\":{\"filter\":{\"type\":\"object\",\"name\":\"AllIndices\",\"id\":\"p1140\"}}},\"glyph\":{\"type\":\"object\",\"name\":\"Patch\",\"id\":\"p1135\",\"attributes\":{\"tags\":[\"apply_ranges\"],\"x\":{\"type\":\"field\",\"field\":\"x\"},\"y\":{\"type\":\"field\",\"field\":\"y\"},\"line_alpha\":0.6,\"fill_color\":\"#8b8b8b\",\"fill_alpha\":0.6,\"hatch_color\":\"#8b8b8b\",\"hatch_alpha\":0.6}},\"selection_glyph\":{\"type\":\"object\",\"name\":\"Patch\",\"id\":\"p1142\",\"attributes\":{\"tags\":[\"apply_ranges\"],\"x\":{\"type\":\"field\",\"field\":\"x\"},\"y\":{\"type\":\"field\",\"field\":\"y\"},\"line_alpha\":0.6,\"fill_color\":\"#8b8b8b\",\"fill_alpha\":0.6,\"hatch_color\":\"#8b8b8b\",\"hatch_alpha\":0.6}},\"nonselection_glyph\":{\"type\":\"object\",\"name\":\"Patch\",\"id\":\"p1136\",\"attributes\":{\"tags\":[\"apply_ranges\"],\"x\":{\"type\":\"field\",\"field\":\"x\"},\"y\":{\"type\":\"field\",\"field\":\"y\"},\"line_alpha\":0.6,\"fill_color\":\"#8b8b8b\",\"fill_alpha\":0.6,\"hatch_color\":\"#8b8b8b\",\"hatch_alpha\":0.1}},\"muted_glyph\":{\"type\":\"object\",\"name\":\"Patch\",\"id\":\"p1137\",\"attributes\":{\"tags\":[\"apply_ranges\"],\"x\":{\"type\":\"field\",\"field\":\"x\"},\"y\":{\"type\":\"field\",\"field\":\"y\"},\"line_alpha\":0.2,\"fill_color\":\"#8b8b8b\",\"fill_alpha\":0.2,\"hatch_color\":\"#8b8b8b\",\"hatch_alpha\":0.2}}}},{\"type\":\"object\",\"name\":\"GlyphRenderer\",\"id\":\"p1153\",\"attributes\":{\"data_source\":{\"type\":\"object\",\"name\":\"ColumnDataSource\",\"id\":\"p1143\",\"attributes\":{\"selected\":{\"type\":\"object\",\"name\":\"Selection\",\"id\":\"p1144\",\"attributes\":{\"indices\":[],\"line_indices\":[]}},\"selection_policy\":{\"type\":\"object\",\"name\":\"UnionRenderers\",\"id\":\"p1145\"},\"data\":{\"type\":\"map\",\"entries\":[[\"x\",{\"type\":\"ndarray\",\"array\":{\"type\":\"bytes\",\"data\":\"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\"},\"shape\":[400],\"dtype\":\"float64\",\"order\":\"little\"}],[\"y\",{\"type\":\"ndarray\",\"array\":{\"type\":\"bytes\",\"data\":\"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\"},\"shape\":[400],\"dtype\":\"float64\",\"order\":\"little\"}]]}}},\"view\":{\"type\":\"object\",\"name\":\"CDSView\",\"id\":\"p1154\",\"attributes\":{\"filter\":{\"type\":\"object\",\"name\":\"AllIndices\",\"id\":\"p1155\"}}},\"glyph\":{\"type\":\"object\",\"name\":\"Patch\",\"id\":\"p1150\",\"attributes\":{\"tags\":[\"apply_ranges\"],\"x\":{\"type\":\"field\",\"field\":\"x\"},\"y\":{\"type\":\"field\",\"field\":\"y\"},\"line_alpha\":0.6,\"fill_color\":\"#17becf\",\"fill_alpha\":0.6,\"hatch_color\":\"#17becf\",\"hatch_alpha\":0.6}},\"selection_glyph\":{\"type\":\"object\",\"name\":\"Patch\",\"id\":\"p1157\",\"attributes\":{\"tags\":[\"apply_ranges\"],\"x\":{\"type\":\"field\",\"field\":\"x\"},\"y\":{\"type\":\"field\",\"field\":\"y\"},\"line_alpha\":0.6,\"fill_color\":\"#17becf\",\"fill_alpha\":0.6,\"hatch_color\":\"#17becf\",\"hatch_alpha\":0.6}},\"nonselection_glyph\":{\"type\":\"object\",\"name\":\"Patch\",\"id\":\"p1151\",\"attributes\":{\"tags\":[\"apply_ranges\"],\"x\":{\"type\":\"field\",\"field\":\"x\"},\"y\":{\"type\":\"field\",\"field\":\"y\"},\"line_alpha\":0.6,\"fill_color\":\"#17becf\",\"fill_alpha\":0.6,\"hatch_color\":\"#17becf\",\"hatch_alpha\":0.1}},\"muted_glyph\":{\"type\":\"object\",\"name\":\"Patch\",\"id\":\"p1152\",\"attributes\":{\"tags\":[\"apply_ranges\"],\"x\":{\"type\":\"field\",\"field\":\"x\"},\"y\":{\"type\":\"field\",\"field\":\"y\"},\"line_alpha\":0.2,\"fill_color\":\"#17becf\",\"fill_alpha\":0.2,\"hatch_color\":\"#17becf\",\"hatch_alpha\":0.2}}}},{\"type\":\"object\",\"name\":\"GlyphRenderer\",\"id\":\"p1168\",\"attributes\":{\"data_source\":{\"type\":\"object\",\"name\":\"ColumnDataSource\",\"id\":\"p1158\",\"attributes\":{\"selected\":{\"type\":\"object\",\"name\":\"Selection\",\"id\":\"p1159\",\"attributes\":{\"indices\":[],\"line_indices\":[]}},\"selection_policy\":{\"type\":\"object\",\"name\":\"UnionRenderers\",\"id\":\"p1160\"},\"data\":{\"type\":\"map\",\"entries\":[[\"t\",{\"type\":\"ndarray\",\"array\":{\"type\":\"bytes\",\"data\":\"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\"},\"shape\":[200],\"dtype\":\"float64\",\"order\":\"little\"}],[\"sum\",{\"type\":\"ndarray\",\"array\":{\"type\":\"bytes\",\"data\":\"fn0d24ADqj9+fR3bgAOqP359HduAA6o/fn0d24ADqj9+fR3bgAOqP359HduAA6o/fn0d24ADqj9+fR3bgAOqP359HduAA6o/fn0d24ADqj9+fR3bgAOqP359HduAA6o/fn0d24ADqj9+fR3bgAOqP359HduAA6o/fn0d24ADqj9+fR3bgAOqP359HduAA6o/fn0d24ADqj9+fR3bgAOqP359HduAA6o/fn0d24ADqj9+fR3bgAOqP359HduAA6o/fn0d24ADqj9+fR3bgAOqP359HduAA6o/fn0d24ADqj9+fR3bgAOqP359HduAA6o/fn0d24ADqj9+fR3bgAOqP359HduAA6o/fn0d24ADqj9+fR3bgAOqP359HduAA6o/fn0d24ADqj9+fR3bgAOqP359HduAA6o/fn0d24ADqj9+fR3bgAOqP359HduAA6o/fn0d24ADqj9+fR3bgAOqP359HduAA6o/fn0d24ADqj9+fR3bgAOqP359HduAA6o/fn0d24ADqj9+fR3bgAOqP359HduAA6o/fn0d24ADqj9+fR3bgAOqP359HduAA6o/fn0d24ADqj9+fR3bgAOqP359HduAA6o/fn0d24ADqj9+fR3bgAOqP359HduAA6o/fn0d24ADqj9+fR3bgAOqP359HduAA6o/fn0d24ADqj9+fR3bgAOqP359HduAA6o/fn0d24ADqj9+fR3bgAOqP359HduAA6o/fn0d24ADqj9+fR3bgAOqP359HduAA6o/fn0d24ADqj9+fR3bgAOqP359HduAA6o/fn0d24ADqj9+fR3bgAOqP359HduAA6o/fn0d24ADqj9+fR3bgAOqP359HduAA6o/fn0d24ADqj9+fR3bgAOqP359HduAA6o/fn0d24ADqj9+fR3bgAOqP359HduAA6o/fn0d24ADqj9+fR3bgAOqP359HduAA6o/fn0d24ADqj9+fR3bgAOqP359HduAA6o/fn0d24ADqj9+fR3bgAOqP359HduAA6o/fn0d24ADqj9+fR3bgAOqP359HduAA6o/fn0d24ADqj9+fR3bgAOqP359HduAA6o/fn0d24ADqj9+fR3bgAOqP359HduAA6o/fn0d24ADqj9+fR3bgAOqP359HduAA6o/fn0d24ADqj9+fR3bgAOqP359HduAA6o/fn0d24ADqj9+fR3bgAOqP359HduAA6o/fn0d24ADqj9+fR3bgAOqP359HduAA6o/fn0d24ADqj9+fR3bgAOqP359HduAA6o/fn0d24ADqj9+fR3bgAOqP359HduAA6o/fn0d24ADqj9+fR3bgAOqP359HduAA6o/fn0d24ADqj9+fR3bgAOqP359HduAA6o/fn0d24ADqj9+fR3bgAOqP359HduAA6o/fn0d24ADqj9+fR3bgAOqP359HduAA6o/fn0d24ADqj9+fR3bgAOqP359HduAA6o/fn0d24ADqj9+fR3bgAOqP359HduAA6o/fn0d24ADqj9+fR3bgAOqP359HduAA6o/fn0d24ADqj9+fR3bgAOqP359HduAA6o/fn0d24ADqj9+fR3bgAOqP359HduAA6o/fn0d24ADqj9+fR3bgAOqP359HduAA6o/fn0d24ADqj9+fR3bgAOqP359HduAA6o/fn0d24ADqj9+fR3bgAOqP359HduAA6o/fn0d24ADqj9+fR3bgAOqP359HduAA6o/fn0d24ADqj9+fR3bgAOqP359HduAA6o/fn0d24ADqj9+fR3bgAOqP359HduAA6o/fn0d24ADqj9+fR3bgAOqP359HduAA6o/fn0d24ADqj9+fR3bgAOqP359HduAA6o/fn0d24ADqj9+fR3bgAOqP359HduAA6o/fn0d24ADqj9+fR3bgAOqP359HduAA6o/fn0d24ADqj9+fR3bgAOqP359HduAA6o/fn0d24ADqj9+fR3bgAOqP359HduAA6o/fn0d24ADqj9+fR3bgAOqP359HduAA6o/fn0d24ADqj9+fR3bgAOqP359HduAA6o/fn0d24ADqj9+fR3bgAOqP359HduAA6o/fn0d24ADqj9+fR3bgAOqP359HduAA6o/fn0d24ADqj9+fR3bgAOqPw==\"},\"shape\":[200],\"dtype\":\"float64\",\"order\":\"little\"}],[\"sum_std\",{\"type\":\"ndarray\",\"array\":{\"type\":\"bytes\",\"data\":\"a2EwsieM8D5rYTCyJ4zwPmthMLInjPA+a2EwsieM8D5rYTCyJ4zwPmthMLInjPA+a2EwsieM8D5rYTCyJ4zwPmthMLInjPA+a2EwsieM8D5rYTCyJ4zwPmthMLInjPA+a2EwsieM8D5rYTCyJ4zwPmthMLInjPA+a2EwsieM8D5rYTCyJ4zwPmthMLInjPA+a2EwsieM8D5rYTCyJ4zwPmthMLInjPA+a2EwsieM8D5rYTCyJ4zwPmthMLInjPA+a2EwsieM8D5rYTCyJ4zwPmthMLInjPA+a2EwsieM8D5rYTCyJ4zwPmthMLInjPA+a2EwsieM8D5rYTCyJ4zwPmthMLInjPA+a2EwsieM8D5rYTCyJ4zwPmthMLInjPA+a2EwsieM8D5rYTCyJ4zwPmthMLInjPA+a2EwsieM8D5rYTCyJ4zwPmthMLInjPA+a2EwsieM8D5rYTCyJ4zwPmthMLInjPA+a2EwsieM8D5rYTCyJ4zwPmthMLInjPA+a2EwsieM8D5rYTCyJ4zwPmthMLInjPA+a2EwsieM8D5rYTCyJ4zwPmthMLInjPA+a2EwsieM8D5rYTCyJ4zwPmthMLInjPA+a2EwsieM8D5rYTCyJ4zwPmthMLInjPA+a2EwsieM8D5rYTCyJ4zwPmthMLInjPA+a2EwsieM8D5rYTCyJ4zwPmthMLInjPA+a2EwsieM8D5rYTCyJ4zwPmthMLInjPA+a2EwsieM8D5rYTCyJ4zwPmthMLInjPA+a2EwsieM8D5rYTCyJ4zwPmthMLInjPA+a2EwsieM8D5rYTCyJ4zwPmthMLInjPA+a2EwsieM8D5rYTCyJ4zwPmthMLInjPA+a2EwsieM8D5rYTCyJ4zwPmthMLInjPA+a2EwsieM8D5rYTCyJ4zwPmthMLInjPA+a2EwsieM8D5rYTCyJ4zwPmthMLInjPA+a2EwsieM8D5rYTCyJ4zwPmthMLInjPA+a2EwsieM8D5rYTCyJ4zwPmthMLInjPA+a2EwsieM8D5rYTCyJ4zwPmthMLInjPA+a2EwsieM8D5rYTCyJ4zwPmthMLInjPA+a2EwsieM8D5rYTCyJ4zwPmthMLInjPA+a2EwsieM8D5rYTCyJ4zwPmthMLInjPA+a2EwsieM8D5rYTCyJ4zwPmthMLInjPA+a2EwsieM8D5rYTCyJ4zwPmthMLInjPA+a2EwsieM8D5rYTCyJ4zwPmthMLInjPA+a2EwsieM8D5rYTCyJ4zwPmthMLInjPA+a2EwsieM8D5rYTCyJ4zwPmthMLInjPA+a2EwsieM8D5rYTCyJ4zwPmthMLInjPA+a2EwsieM8D5rYTCyJ4zwPmthMLInjPA+a2EwsieM8D5rYTCyJ4zwPmthMLInjPA+a2EwsieM8D5rYTCyJ4zwPmthMLInjPA+a2EwsieM8D5rYTCyJ4zwPmthMLInjPA+a2EwsieM8D5rYTCyJ4zwPmthMLInjPA+a2EwsieM8D5rYTCyJ4zwPmthMLInjPA+a2EwsieM8D5rYTCyJ4zwPmthMLInjPA+a2EwsieM8D5rYTCyJ4zwPmthMLInjPA+a2EwsieM8D5rYTCyJ4zwPmthMLInjPA+a2EwsieM8D5rYTCyJ4zwPmthMLInjPA+a2EwsieM8D5rYTCyJ4zwPmthMLInjPA+a2EwsieM8D5rYTCyJ4zwPmthMLInjPA+a2EwsieM8D5rYTCyJ4zwPmthMLInjPA+a2EwsieM8D5rYTCyJ4zwPmthMLInjPA+a2EwsieM8D5rYTCyJ4zwPmthMLInjPA+a2EwsieM8D5rYTCyJ4zwPmthMLInjPA+a2EwsieM8D5rYTCyJ4zwPmthMLInjPA+a2EwsieM8D5rYTCyJ4zwPmthMLInjPA+a2EwsieM8D5rYTCyJ4zwPmthMLInjPA+a2EwsieM8D5rYTCyJ4zwPmthMLInjPA+a2EwsieM8D5rYTCyJ4zwPmthMLInjPA+a2EwsieM8D5rYTCyJ4zwPmthMLInjPA+a2EwsieM8D5rYTCyJ4zwPmthMLInjPA+a2EwsieM8D5rYTCyJ4zwPmthMLInjPA+a2EwsieM8D5rYTCyJ4zwPg==\"},\"shape\":[200],\"dtype\":\"float64\",\"order\":\"little\"}],[\"K\",[0,0,0,0,0,0,0,0,0,0,0,0,0,0,0,0,0,0,0,0,0,0,0,0,0,0,0,0,0,0,0,0,0,0,0,0,0,0,0,0,0,0,0,0,0,0,0,0,0,0,0,0,0,0,0,0,0,0,0,0,0,0,0,0,0,0,0,0,0,0,0,0,0,0,0,0,0,0,0,0,0,0,0,0,0,0,0,0,0,0,0,0,0,0,0,0,0,0,0,0,0,0,0,0,0,0,0,0,0,0,0,0,0,0,0,0,0,0,0,0,0,0,0,0,0,0,0,0,0,0,0,0,0,0,0,0,0,0,0,0,0,0,0,0,0,0,0,0,0,0,0,0,0,0,0,0,0,0,0,0,0,0,0,0,0,0,0,0,0,0,0,0,0,0,0,0,0,0,0,0,0,0,0,0,0,0,0,0,0,0,0,0,0,0,0,0,0,0,0,0]],[\"Q\",[0,0,0,0,0,0,0,0,0,0,0,0,0,0,0,0,0,0,0,0,0,0,0,0,0,0,0,0,0,0,0,0,0,0,0,0,0,0,0,0,0,0,0,0,0,0,0,0,0,0,0,0,0,0,0,0,0,0,0,0,0,0,0,0,0,0,0,0,0,0,0,0,0,0,0,0,0,0,0,0,0,0,0,0,0,0,0,0,0,0,0,0,0,0,0,0,0,0,0,0,0,0,0,0,0,0,0,0,0,0,0,0,0,0,0,0,0,0,0,0,0,0,0,0,0,0,0,0,0,0,0,0,0,0,0,0,0,0,0,0,0,0,0,0,0,0,0,0,0,0,0,0,0,0,0,0,0,0,0,0,0,0,0,0,0,0,0,0,0,0,0,0,0,0,0,0,0,0,0,0,0,0,0,0,0,0,0,0,0,0,0,0,0,0,0,0,0,0,0,0]],[\"Isotope\",[\"129Xe\",\"129Xe\",\"129Xe\",\"129Xe\",\"129Xe\",\"129Xe\",\"129Xe\",\"129Xe\",\"129Xe\",\"129Xe\",\"129Xe\",\"129Xe\",\"129Xe\",\"129Xe\",\"129Xe\",\"129Xe\",\"129Xe\",\"129Xe\",\"129Xe\",\"129Xe\",\"129Xe\",\"129Xe\",\"129Xe\",\"129Xe\",\"129Xe\",\"129Xe\",\"129Xe\",\"129Xe\",\"129Xe\",\"129Xe\",\"129Xe\",\"129Xe\",\"129Xe\",\"129Xe\",\"129Xe\",\"129Xe\",\"129Xe\",\"129Xe\",\"129Xe\",\"129Xe\",\"129Xe\",\"129Xe\",\"129Xe\",\"129Xe\",\"129Xe\",\"129Xe\",\"129Xe\",\"129Xe\",\"129Xe\",\"129Xe\",\"129Xe\",\"129Xe\",\"129Xe\",\"129Xe\",\"129Xe\",\"129Xe\",\"129Xe\",\"129Xe\",\"129Xe\",\"129Xe\",\"129Xe\",\"129Xe\",\"129Xe\",\"129Xe\",\"129Xe\",\"129Xe\",\"129Xe\",\"129Xe\",\"129Xe\",\"129Xe\",\"129Xe\",\"129Xe\",\"129Xe\",\"129Xe\",\"129Xe\",\"129Xe\",\"129Xe\",\"129Xe\",\"129Xe\",\"129Xe\",\"129Xe\",\"129Xe\",\"129Xe\",\"129Xe\",\"129Xe\",\"129Xe\",\"129Xe\",\"129Xe\",\"129Xe\",\"129Xe\",\"129Xe\",\"129Xe\",\"129Xe\",\"129Xe\",\"129Xe\",\"129Xe\",\"129Xe\",\"129Xe\",\"129Xe\",\"129Xe\",\"129Xe\",\"129Xe\",\"129Xe\",\"129Xe\",\"129Xe\",\"129Xe\",\"129Xe\",\"129Xe\",\"129Xe\",\"129Xe\",\"129Xe\",\"129Xe\",\"129Xe\",\"129Xe\",\"129Xe\",\"129Xe\",\"129Xe\",\"129Xe\",\"129Xe\",\"129Xe\",\"129Xe\",\"129Xe\",\"129Xe\",\"129Xe\",\"129Xe\",\"129Xe\",\"129Xe\",\"129Xe\",\"129Xe\",\"129Xe\",\"129Xe\",\"129Xe\",\"129Xe\",\"129Xe\",\"129Xe\",\"129Xe\",\"129Xe\",\"129Xe\",\"129Xe\",\"129Xe\",\"129Xe\",\"129Xe\",\"129Xe\",\"129Xe\",\"129Xe\",\"129Xe\",\"129Xe\",\"129Xe\",\"129Xe\",\"129Xe\",\"129Xe\",\"129Xe\",\"129Xe\",\"129Xe\",\"129Xe\",\"129Xe\",\"129Xe\",\"129Xe\",\"129Xe\",\"129Xe\",\"129Xe\",\"129Xe\",\"129Xe\",\"129Xe\",\"129Xe\",\"129Xe\",\"129Xe\",\"129Xe\",\"129Xe\",\"129Xe\",\"129Xe\",\"129Xe\",\"129Xe\",\"129Xe\",\"129Xe\",\"129Xe\",\"129Xe\",\"129Xe\",\"129Xe\",\"129Xe\",\"129Xe\",\"129Xe\",\"129Xe\",\"129Xe\",\"129Xe\",\"129Xe\",\"129Xe\",\"129Xe\",\"129Xe\",\"129Xe\",\"129Xe\",\"129Xe\",\"129Xe\",\"129Xe\",\"129Xe\",\"129Xe\",\"129Xe\",\"129Xe\",\"129Xe\",\"129Xe\"]]]}}},\"view\":{\"type\":\"object\",\"name\":\"CDSView\",\"id\":\"p1169\",\"attributes\":{\"filter\":{\"type\":\"object\",\"name\":\"AllIndices\",\"id\":\"p1170\"}}},\"glyph\":{\"type\":\"object\",\"name\":\"Line\",\"id\":\"p1165\",\"attributes\":{\"tags\":[\"apply_ranges\"],\"x\":{\"type\":\"field\",\"field\":\"t\"},\"y\":{\"type\":\"field\",\"field\":\"sum\"},\"line_color\":\"#30a2da\",\"line_width\":2}},\"selection_glyph\":{\"type\":\"object\",\"name\":\"Line\",\"id\":\"p1171\",\"attributes\":{\"tags\":[\"apply_ranges\"],\"x\":{\"type\":\"field\",\"field\":\"t\"},\"y\":{\"type\":\"field\",\"field\":\"sum\"},\"line_color\":\"#30a2da\",\"line_width\":2}},\"nonselection_glyph\":{\"type\":\"object\",\"name\":\"Line\",\"id\":\"p1166\",\"attributes\":{\"tags\":[\"apply_ranges\"],\"x\":{\"type\":\"field\",\"field\":\"t\"},\"y\":{\"type\":\"field\",\"field\":\"sum\"},\"line_color\":\"#30a2da\",\"line_alpha\":0.1,\"line_width\":2}},\"muted_glyph\":{\"type\":\"object\",\"name\":\"Line\",\"id\":\"p1167\",\"attributes\":{\"tags\":[\"apply_ranges\"],\"x\":{\"type\":\"field\",\"field\":\"t\"},\"y\":{\"type\":\"field\",\"field\":\"sum\"},\"line_color\":\"#30a2da\",\"line_alpha\":0.2,\"line_width\":2}}}},{\"type\":\"object\",\"name\":\"GlyphRenderer\",\"id\":\"p1182\",\"attributes\":{\"data_source\":{\"type\":\"object\",\"name\":\"ColumnDataSource\",\"id\":\"p1172\",\"attributes\":{\"selected\":{\"type\":\"object\",\"name\":\"Selection\",\"id\":\"p1173\",\"attributes\":{\"indices\":[],\"line_indices\":[]}},\"selection_policy\":{\"type\":\"object\",\"name\":\"UnionRenderers\",\"id\":\"p1174\"},\"data\":{\"type\":\"map\",\"entries\":[[\"t\",{\"type\":\"ndarray\",\"array\":{\"type\":\"bytes\",\"data\":\"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\"},\"shape\":[200],\"dtype\":\"float64\",\"order\":\"little\"}],[\"sum\",{\"type\":\"ndarray\",\"array\":{\"type\":\"bytes\",\"data\":\"bzQclNXrpD9vNByU1eukP280HJTV66Q/bzQclNXrpD9vNByU1eukP280HJTV66Q/bzQclNXrpD9vNByU1eukP280HJTV66Q/bzQclNXrpD9vNByU1eukP280HJTV66Q/bzQclNXrpD9vNByU1eukP280HJTV66Q/bzQclNXrpD9vNByU1eukP280HJTV66Q/bzQclNXrpD9vNByU1eukP280HJTV66Q/bzQclNXrpD9vNByU1eukP280HJTV66Q/bzQclNXrpD9vNByU1eukP280HJTV66Q/bzQclNXrpD9vNByU1eukP280HJTV66Q/bzQclNXrpD9vNByU1eukP280HJTV66Q/bzQclNXrpD9vNByU1eukP280HJTV66Q/bzQclNXrpD9vNByU1eukP280HJTV66Q/bzQclNXrpD9vNByU1eukP280HJTV66Q/bzQclNXrpD9vNByU1eukP280HJTV66Q/bzQclNXrpD9vNByU1eukP280HJTV66Q/bzQclNXrpD9vNByU1eukP280HJTV66Q/bzQclNXrpD9vNByU1eukP280HJTV66Q/bzQclNXrpD9vNByU1eukP280HJTV66Q/bzQclNXrpD9vNByU1eukP280HJTV66Q/bzQclNXrpD9vNByU1eukP280HJTV66Q/bzQclNXrpD9vNByU1eukP280HJTV66Q/bzQclNXrpD9vNByU1eukP280HJTV66Q/bzQclNXrpD9vNByU1eukP280HJTV66Q/bzQclNXrpD9vNByU1eukP280HJTV66Q/bzQclNXrpD9vNByU1eukP280HJTV66Q/bzQclNXrpD9vNByU1eukP280HJTV66Q/bzQclNXrpD9vNByU1eukP280HJTV66Q/bzQclNXrpD9vNByU1eukP280HJTV66Q/bzQclNXrpD9vNByU1eukP280HJTV66Q/bzQclNXrpD9vNByU1eukP280HJTV66Q/bzQclNXrpD9vNByU1eukP280HJTV66Q/bzQclNXrpD9vNByU1eukP280HJTV66Q/bzQclNXrpD9vNByU1eukP280HJTV66Q/bzQclNXrpD9vNByU1eukP280HJTV66Q/bzQclNXrpD9vNByU1eukP280HJTV66Q/bzQclNXrpD9vNByU1eukP280HJTV66Q/bzQclNXrpD9vNByU1eukP280HJTV66Q/bzQclNXrpD9vNByU1eukP280HJTV66Q/bzQclNXrpD9vNByU1eukP280HJTV66Q/bzQclNXrpD9vNByU1eukP280HJTV66Q/bzQclNXrpD9vNByU1eukP280HJTV66Q/bzQclNXrpD9vNByU1eukP280HJTV66Q/bzQclNXrpD9vNByU1eukP280HJTV66Q/bzQclNXrpD9vNByU1eukP280HJTV66Q/bzQclNXrpD9vNByU1eukP280HJTV66Q/bzQclNXrpD9vNByU1eukP280HJTV66Q/bzQclNXrpD9vNByU1eukP280HJTV66Q/bzQclNXrpD9vNByU1eukP280HJTV66Q/bzQclNXrpD9vNByU1eukP280HJTV66Q/bzQclNXrpD9vNByU1eukP280HJTV66Q/bzQclNXrpD9vNByU1eukP280HJTV66Q/bzQclNXrpD9vNByU1eukP280HJTV66Q/bzQclNXrpD9vNByU1eukP280HJTV66Q/bzQclNXrpD9vNByU1eukP280HJTV66Q/bzQclNXrpD9vNByU1eukP280HJTV66Q/bzQclNXrpD9vNByU1eukP280HJTV66Q/bzQclNXrpD9vNByU1eukP280HJTV66Q/bzQclNXrpD9vNByU1eukP280HJTV66Q/bzQclNXrpD9vNByU1eukP280HJTV66Q/bzQclNXrpD9vNByU1eukP280HJTV66Q/bzQclNXrpD9vNByU1eukP280HJTV66Q/bzQclNXrpD9vNByU1eukP280HJTV66Q/bzQclNXrpD9vNByU1eukP280HJTV66Q/bzQclNXrpD9vNByU1eukP280HJTV66Q/bzQclNXrpD9vNByU1eukP280HJTV66Q/bzQclNXrpD9vNByU1eukPw==\"},\"shape\":[200],\"dtype\":\"float64\",\"order\":\"little\"}],[\"sum_std\",{\"type\":\"ndarray\",\"array\":{\"type\":\"bytes\",\"data\":\"2mLvVUA32D7aYu9VQDfYPtpi71VAN9g+2mLvVUA32D7aYu9VQDfYPtpi71VAN9g+2mLvVUA32D7aYu9VQDfYPtpi71VAN9g+2mLvVUA32D7aYu9VQDfYPtpi71VAN9g+2mLvVUA32D7aYu9VQDfYPtpi71VAN9g+2mLvVUA32D7aYu9VQDfYPtpi71VAN9g+2mLvVUA32D7aYu9VQDfYPtpi71VAN9g+2mLvVUA32D7aYu9VQDfYPtpi71VAN9g+2mLvVUA32D7aYu9VQDfYPtpi71VAN9g+2mLvVUA32D7aYu9VQDfYPtpi71VAN9g+2mLvVUA32D7aYu9VQDfYPtpi71VAN9g+2mLvVUA32D7aYu9VQDfYPtpi71VAN9g+2mLvVUA32D7aYu9VQDfYPtpi71VAN9g+2mLvVUA32D7aYu9VQDfYPtpi71VAN9g+2mLvVUA32D7aYu9VQDfYPtpi71VAN9g+2mLvVUA32D7aYu9VQDfYPtpi71VAN9g+2mLvVUA32D7aYu9VQDfYPtpi71VAN9g+2mLvVUA32D7aYu9VQDfYPtpi71VAN9g+2mLvVUA32D7aYu9VQDfYPtpi71VAN9g+2mLvVUA32D7aYu9VQDfYPtpi71VAN9g+2mLvVUA32D7aYu9VQDfYPtpi71VAN9g+2mLvVUA32D7aYu9VQDfYPtpi71VAN9g+2mLvVUA32D7aYu9VQDfYPtpi71VAN9g+2mLvVUA32D7aYu9VQDfYPtpi71VAN9g+2mLvVUA32D7aYu9VQDfYPtpi71VAN9g+2mLvVUA32D7aYu9VQDfYPtpi71VAN9g+2mLvVUA32D7aYu9VQDfYPtpi71VAN9g+2mLvVUA32D7aYu9VQDfYPtpi71VAN9g+2mLvVUA32D7aYu9VQDfYPtpi71VAN9g+2mLvVUA32D7aYu9VQDfYPtpi71VAN9g+2mLvVUA32D7aYu9VQDfYPtpi71VAN9g+2mLvVUA32D7aYu9VQDfYPtpi71VAN9g+2mLvVUA32D7aYu9VQDfYPtpi71VAN9g+2mLvVUA32D7aYu9VQDfYPtpi71VAN9g+2mLvVUA32D7aYu9VQDfYPtpi71VAN9g+2mLvVUA32D7aYu9VQDfYPtpi71VAN9g+2mLvVUA32D7aYu9VQDfYPtpi71VAN9g+2mLvVUA32D7aYu9VQDfYPtpi71VAN9g+2mLvVUA32D7aYu9VQDfYPtpi71VAN9g+2mLvVUA32D7aYu9VQDfYPtpi71VAN9g+2mLvVUA32D7aYu9VQDfYPtpi71VAN9g+2mLvVUA32D7aYu9VQDfYPtpi71VAN9g+2mLvVUA32D7aYu9VQDfYPtpi71VAN9g+2mLvVUA32D7aYu9VQDfYPtpi71VAN9g+2mLvVUA32D7aYu9VQDfYPtpi71VAN9g+2mLvVUA32D7aYu9VQDfYPtpi71VAN9g+2mLvVUA32D7aYu9VQDfYPtpi71VAN9g+2mLvVUA32D7aYu9VQDfYPtpi71VAN9g+2mLvVUA32D7aYu9VQDfYPtpi71VAN9g+2mLvVUA32D7aYu9VQDfYPtpi71VAN9g+2mLvVUA32D7aYu9VQDfYPtpi71VAN9g+2mLvVUA32D7aYu9VQDfYPtpi71VAN9g+2mLvVUA32D7aYu9VQDfYPtpi71VAN9g+2mLvVUA32D7aYu9VQDfYPtpi71VAN9g+2mLvVUA32D7aYu9VQDfYPtpi71VAN9g+2mLvVUA32D7aYu9VQDfYPtpi71VAN9g+2mLvVUA32D7aYu9VQDfYPtpi71VAN9g+2mLvVUA32D7aYu9VQDfYPtpi71VAN9g+2mLvVUA32D7aYu9VQDfYPtpi71VAN9g+2mLvVUA32D7aYu9VQDfYPtpi71VAN9g+2mLvVUA32D7aYu9VQDfYPtpi71VAN9g+2mLvVUA32D7aYu9VQDfYPtpi71VAN9g+2mLvVUA32D7aYu9VQDfYPtpi71VAN9g+2mLvVUA32D7aYu9VQDfYPtpi71VAN9g+2mLvVUA32D7aYu9VQDfYPtpi71VAN9g+2mLvVUA32D7aYu9VQDfYPtpi71VAN9g+2mLvVUA32D7aYu9VQDfYPg==\"},\"shape\":[200],\"dtype\":\"float64\",\"order\":\"little\"}],[\"K\",[0,0,0,0,0,0,0,0,0,0,0,0,0,0,0,0,0,0,0,0,0,0,0,0,0,0,0,0,0,0,0,0,0,0,0,0,0,0,0,0,0,0,0,0,0,0,0,0,0,0,0,0,0,0,0,0,0,0,0,0,0,0,0,0,0,0,0,0,0,0,0,0,0,0,0,0,0,0,0,0,0,0,0,0,0,0,0,0,0,0,0,0,0,0,0,0,0,0,0,0,0,0,0,0,0,0,0,0,0,0,0,0,0,0,0,0,0,0,0,0,0,0,0,0,0,0,0,0,0,0,0,0,0,0,0,0,0,0,0,0,0,0,0,0,0,0,0,0,0,0,0,0,0,0,0,0,0,0,0,0,0,0,0,0,0,0,0,0,0,0,0,0,0,0,0,0,0,0,0,0,0,0,0,0,0,0,0,0,0,0,0,0,0,0,0,0,0,0,0,0]],[\"Q\",[0,0,0,0,0,0,0,0,0,0,0,0,0,0,0,0,0,0,0,0,0,0,0,0,0,0,0,0,0,0,0,0,0,0,0,0,0,0,0,0,0,0,0,0,0,0,0,0,0,0,0,0,0,0,0,0,0,0,0,0,0,0,0,0,0,0,0,0,0,0,0,0,0,0,0,0,0,0,0,0,0,0,0,0,0,0,0,0,0,0,0,0,0,0,0,0,0,0,0,0,0,0,0,0,0,0,0,0,0,0,0,0,0,0,0,0,0,0,0,0,0,0,0,0,0,0,0,0,0,0,0,0,0,0,0,0,0,0,0,0,0,0,0,0,0,0,0,0,0,0,0,0,0,0,0,0,0,0,0,0,0,0,0,0,0,0,0,0,0,0,0,0,0,0,0,0,0,0,0,0,0,0,0,0,0,0,0,0,0,0,0,0,0,0,0,0,0,0,0,0]],[\"Isotope\",[\"131Xe\",\"131Xe\",\"131Xe\",\"131Xe\",\"131Xe\",\"131Xe\",\"131Xe\",\"131Xe\",\"131Xe\",\"131Xe\",\"131Xe\",\"131Xe\",\"131Xe\",\"131Xe\",\"131Xe\",\"131Xe\",\"131Xe\",\"131Xe\",\"131Xe\",\"131Xe\",\"131Xe\",\"131Xe\",\"131Xe\",\"131Xe\",\"131Xe\",\"131Xe\",\"131Xe\",\"131Xe\",\"131Xe\",\"131Xe\",\"131Xe\",\"131Xe\",\"131Xe\",\"131Xe\",\"131Xe\",\"131Xe\",\"131Xe\",\"131Xe\",\"131Xe\",\"131Xe\",\"131Xe\",\"131Xe\",\"131Xe\",\"131Xe\",\"131Xe\",\"131Xe\",\"131Xe\",\"131Xe\",\"131Xe\",\"131Xe\",\"131Xe\",\"131Xe\",\"131Xe\",\"131Xe\",\"131Xe\",\"131Xe\",\"131Xe\",\"131Xe\",\"131Xe\",\"131Xe\",\"131Xe\",\"131Xe\",\"131Xe\",\"131Xe\",\"131Xe\",\"131Xe\",\"131Xe\",\"131Xe\",\"131Xe\",\"131Xe\",\"131Xe\",\"131Xe\",\"131Xe\",\"131Xe\",\"131Xe\",\"131Xe\",\"131Xe\",\"131Xe\",\"131Xe\",\"131Xe\",\"131Xe\",\"131Xe\",\"131Xe\",\"131Xe\",\"131Xe\",\"131Xe\",\"131Xe\",\"131Xe\",\"131Xe\",\"131Xe\",\"131Xe\",\"131Xe\",\"131Xe\",\"131Xe\",\"131Xe\",\"131Xe\",\"131Xe\",\"131Xe\",\"131Xe\",\"131Xe\",\"131Xe\",\"131Xe\",\"131Xe\",\"131Xe\",\"131Xe\",\"131Xe\",\"131Xe\",\"131Xe\",\"131Xe\",\"131Xe\",\"131Xe\",\"131Xe\",\"131Xe\",\"131Xe\",\"131Xe\",\"131Xe\",\"131Xe\",\"131Xe\",\"131Xe\",\"131Xe\",\"131Xe\",\"131Xe\",\"131Xe\",\"131Xe\",\"131Xe\",\"131Xe\",\"131Xe\",\"131Xe\",\"131Xe\",\"131Xe\",\"131Xe\",\"131Xe\",\"131Xe\",\"131Xe\",\"131Xe\",\"131Xe\",\"131Xe\",\"131Xe\",\"131Xe\",\"131Xe\",\"131Xe\",\"131Xe\",\"131Xe\",\"131Xe\",\"131Xe\",\"131Xe\",\"131Xe\",\"131Xe\",\"131Xe\",\"131Xe\",\"131Xe\",\"131Xe\",\"131Xe\",\"131Xe\",\"131Xe\",\"131Xe\",\"131Xe\",\"131Xe\",\"131Xe\",\"131Xe\",\"131Xe\",\"131Xe\",\"131Xe\",\"131Xe\",\"131Xe\",\"131Xe\",\"131Xe\",\"131Xe\",\"131Xe\",\"131Xe\",\"131Xe\",\"131Xe\",\"131Xe\",\"131Xe\",\"131Xe\",\"131Xe\",\"131Xe\",\"131Xe\",\"131Xe\",\"131Xe\",\"131Xe\",\"131Xe\",\"131Xe\",\"131Xe\",\"131Xe\",\"131Xe\",\"131Xe\",\"131Xe\",\"131Xe\",\"131Xe\",\"131Xe\",\"131Xe\",\"131Xe\",\"131Xe\",\"131Xe\",\"131Xe\",\"131Xe\",\"131Xe\",\"131Xe\",\"131Xe\"]]]}}},\"view\":{\"type\":\"object\",\"name\":\"CDSView\",\"id\":\"p1183\",\"attributes\":{\"filter\":{\"type\":\"object\",\"name\":\"AllIndices\",\"id\":\"p1184\"}}},\"glyph\":{\"type\":\"object\",\"name\":\"Line\",\"id\":\"p1179\",\"attributes\":{\"tags\":[\"apply_ranges\"],\"x\":{\"type\":\"field\",\"field\":\"t\"},\"y\":{\"type\":\"field\",\"field\":\"sum\"},\"line_color\":\"#fc4f30\",\"line_width\":2}},\"selection_glyph\":{\"type\":\"object\",\"name\":\"Line\",\"id\":\"p1185\",\"attributes\":{\"tags\":[\"apply_ranges\"],\"x\":{\"type\":\"field\",\"field\":\"t\"},\"y\":{\"type\":\"field\",\"field\":\"sum\"},\"line_color\":\"#fc4f30\",\"line_width\":2}},\"nonselection_glyph\":{\"type\":\"object\",\"name\":\"Line\",\"id\":\"p1180\",\"attributes\":{\"tags\":[\"apply_ranges\"],\"x\":{\"type\":\"field\",\"field\":\"t\"},\"y\":{\"type\":\"field\",\"field\":\"sum\"},\"line_color\":\"#fc4f30\",\"line_alpha\":0.1,\"line_width\":2}},\"muted_glyph\":{\"type\":\"object\",\"name\":\"Line\",\"id\":\"p1181\",\"attributes\":{\"tags\":[\"apply_ranges\"],\"x\":{\"type\":\"field\",\"field\":\"t\"},\"y\":{\"type\":\"field\",\"field\":\"sum\"},\"line_color\":\"#fc4f30\",\"line_alpha\":0.2,\"line_width\":2}}}},{\"type\":\"object\",\"name\":\"GlyphRenderer\",\"id\":\"p1196\",\"attributes\":{\"data_source\":{\"type\":\"object\",\"name\":\"ColumnDataSource\",\"id\":\"p1186\",\"attributes\":{\"selected\":{\"type\":\"object\",\"name\":\"Selection\",\"id\":\"p1187\",\"attributes\":{\"indices\":[],\"line_indices\":[]}},\"selection_policy\":{\"type\":\"object\",\"name\":\"UnionRenderers\",\"id\":\"p1188\"},\"data\":{\"type\":\"map\",\"entries\":[[\"t\",{\"type\":\"ndarray\",\"array\":{\"type\":\"bytes\",\"data\":\"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\"},\"shape\":[200],\"dtype\":\"float64\",\"order\":\"little\"}],[\"sum\",{\"type\":\"ndarray\",\"array\":{\"type\":\"bytes\",\"data\":\"JETAXDSiyD8kRMBcNKLIPyREwFw0osg/JETAXDSiyD8kRMBcNKLIPyREwFw0osg/JETAXDSiyD8kRMBcNKLIPyREwFw0osg/JETAXDSiyD8kRMBcNKLIPyREwFw0osg/JETAXDSiyD8kRMBcNKLIPyREwFw0osg/JETAXDSiyD8kRMBcNKLIPyREwFw0osg/JETAXDSiyD8kRMBcNKLIPyREwFw0osg/JETAXDSiyD8kRMBcNKLIPyREwFw0osg/JETAXDSiyD8kRMBcNKLIPyREwFw0osg/JETAXDSiyD8kRMBcNKLIPyREwFw0osg/JETAXDSiyD8kRMBcNKLIPyREwFw0osg/JETAXDSiyD8kRMBcNKLIPyREwFw0osg/JETAXDSiyD8kRMBcNKLIPyREwFw0osg/JETAXDSiyD8kRMBcNKLIPyREwFw0osg/JETAXDSiyD8kRMBcNKLIPyREwFw0osg/JETAXDSiyD8kRMBcNKLIPyREwFw0osg/JETAXDSiyD8kRMBcNKLIPyREwFw0osg/JETAXDSiyD8kRMBcNKLIPyREwFw0osg/JETAXDSiyD8kRMBcNKLIPyREwFw0osg/JETAXDSiyD8kRMBcNKLIPyREwFw0osg/JETAXDSiyD8kRMBcNKLIPyREwFw0osg/JETAXDSiyD8kRMBcNKLIPyREwFw0osg/JETAXDSiyD8kRMBcNKLIPyREwFw0osg/JETAXDSiyD8kRMBcNKLIPyREwFw0osg/JETAXDSiyD8kRMBcNKLIPyREwFw0osg/JETAXDSiyD8kRMBcNKLIPyREwFw0osg/JETAXDSiyD8kRMBcNKLIPyREwFw0osg/JETAXDSiyD8kRMBcNKLIPyREwFw0osg/JETAXDSiyD8kRMBcNKLIPyREwFw0osg/JETAXDSiyD8kRMBcNKLIPyREwFw0osg/JETAXDSiyD8kRMBcNKLIPyREwFw0osg/JETAXDSiyD8kRMBcNKLIPyREwFw0osg/JETAXDSiyD8kRMBcNKLIPyREwFw0osg/JETAXDSiyD8kRMBcNKLIPyREwFw0osg/JETAXDSiyD8kRMBcNKLIPyREwFw0osg/JETAXDSiyD8kRMBcNKLIPyREwFw0osg/JETAXDSiyD8kRMBcNKLIPyREwFw0osg/JETAXDSiyD8kRMBcNKLIPyREwFw0osg/JETAXDSiyD8kRMBcNKLIPyREwFw0osg/JETAXDSiyD8kRMBcNKLIPyREwFw0osg/JETAXDSiyD8kRMBcNKLIPyREwFw0osg/JETAXDSiyD8kRMBcNKLIPyREwFw0osg/JETAXDSiyD8kRMBcNKLIPyREwFw0osg/JETAXDSiyD8kRMBcNKLIPyREwFw0osg/JETAXDSiyD8kRMBcNKLIPyREwFw0osg/JETAXDSiyD8kRMBcNKLIPyREwFw0osg/JETAXDSiyD8kRMBcNKLIPyREwFw0osg/JETAXDSiyD8kRMBcNKLIPyREwFw0osg/JETAXDSiyD8kRMBcNKLIPyREwFw0osg/JETAXDSiyD8kRMBcNKLIPyREwFw0osg/JETAXDSiyD8kRMBcNKLIPyREwFw0osg/JETAXDSiyD8kRMBcNKLIPyREwFw0osg/JETAXDSiyD8kRMBcNKLIPyREwFw0osg/JETAXDSiyD8kRMBcNKLIPyREwFw0osg/JETAXDSiyD8kRMBcNKLIPyREwFw0osg/JETAXDSiyD8kRMBcNKLIPyREwFw0osg/JETAXDSiyD8kRMBcNKLIPyREwFw0osg/JETAXDSiyD8kRMBcNKLIPyREwFw0osg/JETAXDSiyD8kRMBcNKLIPyREwFw0osg/JETAXDSiyD8kRMBcNKLIPyREwFw0osg/JETAXDSiyD8kRMBcNKLIPyREwFw0osg/JETAXDSiyD8kRMBcNKLIPyREwFw0osg/JETAXDSiyD8kRMBcNKLIPyREwFw0osg/JETAXDSiyD8kRMBcNKLIPyREwFw0osg/JETAXDSiyD8kRMBcNKLIPyREwFw0osg/JETAXDSiyD8kRMBcNKLIPyREwFw0osg/JETAXDSiyD8kRMBcNKLIPw==\"},\"shape\":[200],\"dtype\":\"float64\",\"order\":\"little\"}],[\"sum_std\",{\"type\":\"ndarray\",\"array\":{\"type\":\"bytes\",\"data\":\"XRjpRe1+tTtdGOlF7X61O10Y6UXtfrU7XRjpRe1+tTtdGOlF7X61O10Y6UXtfrU7XRjpRe1+tTtdGOlF7X61O10Y6UXtfrU7XRjpRe1+tTtdGOlF7X61O10Y6UXtfrU7XRjpRe1+tTtdGOlF7X61O10Y6UXtfrU7XRjpRe1+tTtdGOlF7X61O10Y6UXtfrU7XRjpRe1+tTtdGOlF7X61O10Y6UXtfrU7XRjpRe1+tTtdGOlF7X61O10Y6UXtfrU7XRjpRe1+tTtdGOlF7X61O10Y6UXtfrU7XRjpRe1+tTtdGOlF7X61O10Y6UXtfrU7XRjpRe1+tTtdGOlF7X61O10Y6UXtfrU7XRjpRe1+tTtdGOlF7X61O10Y6UXtfrU7XRjpRe1+tTtdGOlF7X61O10Y6UXtfrU7XRjpRe1+tTtdGOlF7X61O10Y6UXtfrU7XRjpRe1+tTtdGOlF7X61O10Y6UXtfrU7XRjpRe1+tTtdGOlF7X61O10Y6UXtfrU7XRjpRe1+tTtdGOlF7X61O10Y6UXtfrU7XRjpRe1+tTtdGOlF7X61O10Y6UXtfrU7XRjpRe1+tTtdGOlF7X61O10Y6UXtfrU7XRjpRe1+tTtdGOlF7X61O10Y6UXtfrU7XRjpRe1+tTtdGOlF7X61O10Y6UXtfrU7XRjpRe1+tTtdGOlF7X61O10Y6UXtfrU7XRjpRe1+tTtdGOlF7X61O10Y6UXtfrU7XRjpRe1+tTtdGOlF7X61O10Y6UXtfrU7XRjpRe1+tTtdGOlF7X61O10Y6UXtfrU7XRjpRe1+tTtdGOlF7X61O10Y6UXtfrU7XRjpRe1+tTtdGOlF7X61O10Y6UXtfrU7XRjpRe1+tTtdGOlF7X61O10Y6UXtfrU7XRjpRe1+tTtdGOlF7X61O10Y6UXtfrU7XRjpRe1+tTtdGOlF7X61O10Y6UXtfrU7XRjpRe1+tTtdGOlF7X61O10Y6UXtfrU7XRjpRe1+tTtdGOlF7X61O10Y6UXtfrU7XRjpRe1+tTtdGOlF7X61O10Y6UXtfrU7XRjpRe1+tTtdGOlF7X61O10Y6UXtfrU7XRjpRe1+tTtdGOlF7X61O10Y6UXtfrU7XRjpRe1+tTtdGOlF7X61O10Y6UXtfrU7XRjpRe1+tTtdGOlF7X61O10Y6UXtfrU7XRjpRe1+tTtdGOlF7X61O10Y6UXtfrU7XRjpRe1+tTtdGOlF7X61O10Y6UXtfrU7XRjpRe1+tTtdGOlF7X61O10Y6UXtfrU7XRjpRe1+tTtdGOlF7X61O10Y6UXtfrU7XRjpRe1+tTtdGOlF7X61O10Y6UXtfrU7XRjpRe1+tTtdGOlF7X61O10Y6UXtfrU7XRjpRe1+tTtdGOlF7X61O10Y6UXtfrU7XRjpRe1+tTtdGOlF7X61O10Y6UXtfrU7XRjpRe1+tTtdGOlF7X61O10Y6UXtfrU7XRjpRe1+tTtdGOlF7X61O10Y6UXtfrU7XRjpRe1+tTtdGOlF7X61O10Y6UXtfrU7XRjpRe1+tTtdGOlF7X61O10Y6UXtfrU7XRjpRe1+tTtdGOlF7X61O10Y6UXtfrU7XRjpRe1+tTtdGOlF7X61O10Y6UXtfrU7XRjpRe1+tTtdGOlF7X61O10Y6UXtfrU7XRjpRe1+tTtdGOlF7X61O10Y6UXtfrU7XRjpRe1+tTtdGOlF7X61O10Y6UXtfrU7XRjpRe1+tTtdGOlF7X61O10Y6UXtfrU7XRjpRe1+tTtdGOlF7X61O10Y6UXtfrU7XRjpRe1+tTtdGOlF7X61O10Y6UXtfrU7XRjpRe1+tTtdGOlF7X61O10Y6UXtfrU7XRjpRe1+tTtdGOlF7X61O10Y6UXtfrU7XRjpRe1+tTtdGOlF7X61O10Y6UXtfrU7XRjpRe1+tTtdGOlF7X61O10Y6UXtfrU7XRjpRe1+tTtdGOlF7X61O10Y6UXtfrU7XRjpRe1+tTtdGOlF7X61O10Y6UXtfrU7XRjpRe1+tTtdGOlF7X61O10Y6UXtfrU7XRjpRe1+tTtdGOlF7X61O10Y6UXtfrU7XRjpRe1+tTtdGOlF7X61O10Y6UXtfrU7XRjpRe1+tTtdGOlF7X61Ow==\"},\"shape\":[200],\"dtype\":\"float64\",\"order\":\"little\"}],[\"K\",[0,0,0,0,0,0,0,0,0,0,0,0,0,0,0,0,0,0,0,0,0,0,0,0,0,0,0,0,0,0,0,0,0,0,0,0,0,0,0,0,0,0,0,0,0,0,0,0,0,0,0,0,0,0,0,0,0,0,0,0,0,0,0,0,0,0,0,0,0,0,0,0,0,0,0,0,0,0,0,0,0,0,0,0,0,0,0,0,0,0,0,0,0,0,0,0,0,0,0,0,0,0,0,0,0,0,0,0,0,0,0,0,0,0,0,0,0,0,0,0,0,0,0,0,0,0,0,0,0,0,0,0,0,0,0,0,0,0,0,0,0,0,0,0,0,0,0,0,0,0,0,0,0,0,0,0,0,0,0,0,0,0,0,0,0,0,0,0,0,0,0,0,0,0,0,0,0,0,0,0,0,0,0,0,0,0,0,0,0,0,0,0,0,0,0,0,0,0,0,0]],[\"Q\",[0,0,0,0,0,0,0,0,0,0,0,0,0,0,0,0,0,0,0,0,0,0,0,0,0,0,0,0,0,0,0,0,0,0,0,0,0,0,0,0,0,0,0,0,0,0,0,0,0,0,0,0,0,0,0,0,0,0,0,0,0,0,0,0,0,0,0,0,0,0,0,0,0,0,0,0,0,0,0,0,0,0,0,0,0,0,0,0,0,0,0,0,0,0,0,0,0,0,0,0,0,0,0,0,0,0,0,0,0,0,0,0,0,0,0,0,0,0,0,0,0,0,0,0,0,0,0,0,0,0,0,0,0,0,0,0,0,0,0,0,0,0,0,0,0,0,0,0,0,0,0,0,0,0,0,0,0,0,0,0,0,0,0,0,0,0,0,0,0,0,0,0,0,0,0,0,0,0,0,0,0,0,0,0,0,0,0,0,0,0,0,0,0,0,0,0,0,0,0,0]],[\"Isotope\",[\"sum\",\"sum\",\"sum\",\"sum\",\"sum\",\"sum\",\"sum\",\"sum\",\"sum\",\"sum\",\"sum\",\"sum\",\"sum\",\"sum\",\"sum\",\"sum\",\"sum\",\"sum\",\"sum\",\"sum\",\"sum\",\"sum\",\"sum\",\"sum\",\"sum\",\"sum\",\"sum\",\"sum\",\"sum\",\"sum\",\"sum\",\"sum\",\"sum\",\"sum\",\"sum\",\"sum\",\"sum\",\"sum\",\"sum\",\"sum\",\"sum\",\"sum\",\"sum\",\"sum\",\"sum\",\"sum\",\"sum\",\"sum\",\"sum\",\"sum\",\"sum\",\"sum\",\"sum\",\"sum\",\"sum\",\"sum\",\"sum\",\"sum\",\"sum\",\"sum\",\"sum\",\"sum\",\"sum\",\"sum\",\"sum\",\"sum\",\"sum\",\"sum\",\"sum\",\"sum\",\"sum\",\"sum\",\"sum\",\"sum\",\"sum\",\"sum\",\"sum\",\"sum\",\"sum\",\"sum\",\"sum\",\"sum\",\"sum\",\"sum\",\"sum\",\"sum\",\"sum\",\"sum\",\"sum\",\"sum\",\"sum\",\"sum\",\"sum\",\"sum\",\"sum\",\"sum\",\"sum\",\"sum\",\"sum\",\"sum\",\"sum\",\"sum\",\"sum\",\"sum\",\"sum\",\"sum\",\"sum\",\"sum\",\"sum\",\"sum\",\"sum\",\"sum\",\"sum\",\"sum\",\"sum\",\"sum\",\"sum\",\"sum\",\"sum\",\"sum\",\"sum\",\"sum\",\"sum\",\"sum\",\"sum\",\"sum\",\"sum\",\"sum\",\"sum\",\"sum\",\"sum\",\"sum\",\"sum\",\"sum\",\"sum\",\"sum\",\"sum\",\"sum\",\"sum\",\"sum\",\"sum\",\"sum\",\"sum\",\"sum\",\"sum\",\"sum\",\"sum\",\"sum\",\"sum\",\"sum\",\"sum\",\"sum\",\"sum\",\"sum\",\"sum\",\"sum\",\"sum\",\"sum\",\"sum\",\"sum\",\"sum\",\"sum\",\"sum\",\"sum\",\"sum\",\"sum\",\"sum\",\"sum\",\"sum\",\"sum\",\"sum\",\"sum\",\"sum\",\"sum\",\"sum\",\"sum\",\"sum\",\"sum\",\"sum\",\"sum\",\"sum\",\"sum\",\"sum\",\"sum\",\"sum\",\"sum\",\"sum\",\"sum\",\"sum\",\"sum\",\"sum\",\"sum\",\"sum\",\"sum\",\"sum\",\"sum\",\"sum\",\"sum\",\"sum\",\"sum\"]]]}}},\"view\":{\"type\":\"object\",\"name\":\"CDSView\",\"id\":\"p1197\",\"attributes\":{\"filter\":{\"type\":\"object\",\"name\":\"AllIndices\",\"id\":\"p1198\"}}},\"glyph\":{\"type\":\"object\",\"name\":\"Line\",\"id\":\"p1193\",\"attributes\":{\"tags\":[\"apply_ranges\"],\"x\":{\"type\":\"field\",\"field\":\"t\"},\"y\":{\"type\":\"field\",\"field\":\"sum\"},\"line_color\":\"#e5ae38\",\"line_width\":2}},\"selection_glyph\":{\"type\":\"object\",\"name\":\"Line\",\"id\":\"p1199\",\"attributes\":{\"tags\":[\"apply_ranges\"],\"x\":{\"type\":\"field\",\"field\":\"t\"},\"y\":{\"type\":\"field\",\"field\":\"sum\"},\"line_color\":\"#e5ae38\",\"line_width\":2}},\"nonselection_glyph\":{\"type\":\"object\",\"name\":\"Line\",\"id\":\"p1194\",\"attributes\":{\"tags\":[\"apply_ranges\"],\"x\":{\"type\":\"field\",\"field\":\"t\"},\"y\":{\"type\":\"field\",\"field\":\"sum\"},\"line_color\":\"#e5ae38\",\"line_alpha\":0.1,\"line_width\":2}},\"muted_glyph\":{\"type\":\"object\",\"name\":\"Line\",\"id\":\"p1195\",\"attributes\":{\"tags\":[\"apply_ranges\"],\"x\":{\"type\":\"field\",\"field\":\"t\"},\"y\":{\"type\":\"field\",\"field\":\"sum\"},\"line_color\":\"#e5ae38\",\"line_alpha\":0.2,\"line_width\":2}}}},{\"type\":\"object\",\"name\":\"GlyphRenderer\",\"id\":\"p1210\",\"attributes\":{\"data_source\":{\"type\":\"object\",\"name\":\"ColumnDataSource\",\"id\":\"p1200\",\"attributes\":{\"selected\":{\"type\":\"object\",\"name\":\"Selection\",\"id\":\"p1201\",\"attributes\":{\"indices\":[],\"line_indices\":[]}},\"selection_policy\":{\"type\":\"object\",\"name\":\"UnionRenderers\",\"id\":\"p1202\"},\"data\":{\"type\":\"map\",\"entries\":[[\"t\",{\"type\":\"ndarray\",\"array\":{\"type\":\"bytes\",\"data\":\"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\"},\"shape\":[200],\"dtype\":\"float64\",\"order\":\"little\"}],[\"sum\",{\"type\":\"ndarray\",\"array\":{\"type\":\"bytes\",\"data\":\"2qyK3/pksr/b0SnKj0yyv1nNnsivA7K/K/FqE32Lsb+8oi9Z1uWwv0onW0xPFbC/KIfnv0w6rr8fxr+4bwKsvzgtPP/ci6m/i+RNzGPgpr8FaQwFpgqkv1cS6uLtFaG/C2MX+wEcnL9IsKPS4v2Vv8LEG5W204+/t6OJX0Dwg7/ke57edgFxv7GwumZsalI/ugd8AKadeD+rlDjN+1uFPzv1ev67UI0/lcx2KrIGkj9E6yE7kLuUP3576OIwvJY/x24Mn5oAmD+x6Zt6wYOYP/2oliebQ5g/z6P6HidBlz+SPFynaoCVP1jD3dFgCJM/7+qUWr3Fjz/xOhc82DiIPzgQoNtHEH8/smdTyvBYZz/agvijC9liv0gjZqKt5n+/J4O7uD20i7+mp19rFOWTv1Mo0Wd7Apq/j9+I2PwMoL/Pml9XpgmjvwCWB/dU66W/vh1X8I6mqL/0gemhczCrv8TRweHmfq2/mPCCQLmIr7/Si/JO5qKwv/2pXT6aV7G/2hrlyqjfsb//INAd9DiyvxKzIpsYYrK//DjPaXJasr+EYjoAICKyv4p86qoBurG/V2ZFD7Yjsb+NgEK4k2Gwv5ihgY0/7a6/9FAs1QPNrL9kCXqo62qqv00JMrJ00Ke/6kHqGv0Hpb8+dv0+mhyiv7hG0xXZM56/+q29W+IXmL9JRMi1pP2Rv7T43Vrb+oe/bV67moy8eL9mxKl7hjxFv4PX3PpL8XE/zTxUcQFegj+sUHHA3raKP1E9k/z/8JA/k8QNZ2zhkz8Po5MjACGWP7UW/f3Gppc/bxWisrBsmD/qpygUqW+YP3AMZE6kr5c/pkBwFZ8vlj9FV07AkvWTP0iyYX5dCpE/U4AaDT7zij/CHCuZFKOCP017iNSzinI/YjUFzlIKQL8LKYy3/Qt4v4a/j0PPnoe/2++coHPOkb8eV0stQuiXv1nwyHiHBJ6/FooR8nYFor+Mcc50u/Gkv+MTeFVtu6e/haISVHJXqr9FvuMWZrusv1YVJY3D3a6/zFg/bAVbsL+6tyaTcR6xv3BS9PgbtrG/BLCwnagfsr8HiiYpc1myv89+4nSVYrK/goTCIOs6sr8S9tIjEuOxv0hROFdoXLG/WvPuBAapsL+Wvxoga5evvzwTha/Qj62/FmekAlJDq79hrlO/Fruov8vRTnE0Aaa/JeBVYYYgo7/f3dRYgiSgv1yKfvwVMpq/b1TB/4AUlL+KHoomQRGMv0hYXBgSTYC/qNiwvkItZL+sFu+UuhxmP6E/cdmigH4/hjd8zl75hz8GpefImY+PPz8hecRl8pI/G8XV3t1vlT9eQROESjaXP2A56fuZPpg/RDpZrK+EmD/RC5x5dAeYP71qqh3byJY/Ko0WZtjNlD/kLBx3Tx6SPzVEBMXkiY0/jrrJHi+ehT/0nSxyEjJ5P7AN0gz58lQ/X7Q5sSJUcL/7n8TpVpWDv4VVhs33dY+/IZzXcFPOlb9V3BEDgOybv+Ih+TSS/qC/gdrqqgz0o7/8ZNPF5sqmv56j79/Rd6m/8tEJUybwq78lmy/nDSquv8wvrn9VDrC/3YYK9B3gsL/c56zdHIexv1pMdC+5ALK/ky2mmg5Lsr+F1KgX9WSyv+NR74AFTrK/nSDALZsGsr9CjnKG0o+xvz+Ry5eE67C/f7YYtz8csL8cUq+oekquv6jq50WqFKy/Dbd8mNufqb9BGx7R1vWmvyIWvwk4IaS/wk7cBEUtob9Q8zaSgEucv1+oFZh0LZa/iX0GzcIYkL/X+w1IRUuEv1XBqYEXr3G/9sjL1rjATz/NQnXbxQh4P+qcWxmGGYU/x+9jVUkXjT8Hs4i/7O6RP62Hp2QdqZQ/5hNSGVqvlj94s8wDk/mXP5H1hwylgpg/0n5oU25ImD/eKLKt1kuXPw7exArMkJU/4AYIzjIekz86E624lPuPP8qcdJQMeIg/fI8/FnOffz/n1GYAWJRoP29baMB7hWG/TsOcfnUzf782OGNrTleLvzxOvjSstZO/Z+IFbd/Smb+k1Q+M5+qfv68hR+q/8qK/QL0gYmzVpb8DG39z+5GovxxGmi6HHau/fme81Oxtrb93Kq819Xmvv6HliLG8nLC/AbO3k8FSsb+xi+VfNNyxvw==\"},\"shape\":[200],\"dtype\":\"float64\",\"order\":\"little\"}],[\"sum_std\",{\"type\":\"ndarray\",\"array\":{\"type\":\"bytes\",\"data\":\"wnwB9NNm9z7dDOhw7Qj8Piu0C75MRgM/XBiecxKECT8OmgegyOYPPzWz8PCvBxM/bE0ls+/jFT8KLwAIknUYP56mzrVxrho/gSet62CDHD9gevB5mOsdPy/Z++B+4B4/txoIdJJdHz98A2aPYGAfP2w+ke5/6B4/Cy7haIn3HT8JaUXoDJEcP5Khbe6Buho/LyA4RjR7GD8uzSFgL9wVPwi9UxUv6BI/QZwVKVJXDz+RlPBLYWoIP9Mn+ou0LgE/esXpE3LQ8z5Co1Lb0n7gPpz9z1qUJe4+MrARUeRU/T7qXo0T9/QFPxHg3nDPAQ0/4/J/6hvTET8PkpoohOEUP6ADVLwEnxc/8+QodU0AGj+qEnpIvfsbP3yQmmhsiR0/JTSxKkCjHj+qjFM1/0QfPz8MLXBibB8/WVG5kCEZHz/tACWB+0wePwsKNji8Cx0/fSdgqkNbGz/pUl6ClUMZP3YLsUACzxY/F2IUapAKFD8jSXHBCAcRP4ZRGHeEtws/6Jf4Kp9dBT/0jh9djj3/PicCiUle//c+qpBt9RiC+T6Hi343B0oBP+K1OisaVAc/Jqmi+FW4DT+XXnQKIv4RP2o4tZUG8BQ/NEAOqQ+dFz8T061i0PUZP6l+xJkt7hs/bP4eSpZ8HT/riQoBtZkeP4QRwmZRQB8/TZTXfERtHz+hH/aYch8fP5OhmwXFVx4/sWyFaCAZHT9z3yvOVmgbPxlWNIIVTBk//ofTatDMFj+zFvqzr/QTPwcYlwKNzxA/x1xxb1TWCj+gv5VRlbADP1wWckwNwvg+AWn4a2pk5j7xB5d6MbnlPpDktG37UPg++Os3nvh3Az/cQZBy5p8KP7x3+FEEthA/Y5j/x0ndEz8rcbiK8LcWPwQZB2wROhk/bTdULHdZGz9Q1WJmoA0dPxaLsa7RTx4/soAdPiobHz/2R8w1tmwfP3T8lLZ8Qx8/Ksz6mYmgHj8Q1ZHi84YdP78Tr7Lj+xs/ITgmvZ0GGj+ER9vaoLAXP6y99GryBRU/BXjySuAVEj/oDGtW9+kNP7JLOOpehQc/utXVTZB1AT9YtNMUxLL5PrLyAkzZ5fc+ALTpBGLv/j5OAzkmdi0FP+6YQCqlhQs/OVqHb9LuED9RXeH58vMTP5RNFu2UuhY/AwRspMoxGT8fqO+RdUwbPybqZiYyAB0/U3jvnutEHj8W8DOwsRQfP09Mzleoax8/vrkrywBIHz8bJWio86keP9r9VKu4kx0/WoGAQ3oJHD/NunfERBEaP0kGckfyshc/jDpKqxb4FD/YFQzu9OsRPyAF1ggzNw0/k+ewGv4sBj9bkPv84sb9Pl5Nt/se9e4+IZ8HcFo24D6lHDR9QmLzPhBCqPq99QA/yXvMcAszCD+DAi6w/CIPPxtVEXAB0BI/6PblR2fGFT+Thbv8K2gYPwylHKKGqho/qNRueF6EHD85pmTNWe4dP7KWTZfy4h4/Yma12oleHz8fDiJHd18fP2l9A2IU5h4/VCyE4cP0HT/r1X5V948cP1rS6Lw3vho/UGIZwTqIGD8KtlILGvkVP437EwLgHhM/UhSn5PELED+o51Qw3LUJP30meovBdAM/7+0z+2JL/D6OiL26CWj3PpboBJ/Sx/s+p8l5dA0YAz9Besx0T1IJPzhLVweftQ8/ICpZeXLwEj+YrNuhs84VP/83EkTUYhg/b7/JAZSeGj+4zKHCsHYcP44HEMRR4h0/QUsJAc3aHj+4T/StkFsfP7l/XDgaYh8/6Nn7mvDtHj96XG4xnQAeP+A4c9CgnRw/xmwdbWTKGj/4M93lJY4YP4FOJljj8RU/y80Ni0sAEz85+JYZjIsPP0COoCOkoQg/D11JGaZnAT+gkRzPAj/0PoumaPHB0+A+Ftq4PvtX7T68omHR7eL8Pr1xS8ngvAU/0fPO+VLMDD+5tRzUMroRP5lmOXzeyhQ/5gQfWwGLFz9CqK8IPu8ZPwEFYVHm7Rs/rU/utwR/HT+NrQc/cJweP/LDbKfgQR8/8ko8f/9sHz9pY37RdB0fP5vuSanvVB4/uBRF8ysXHT/tFW1Q+WkbP1axYFxKVRk/HYIToFzjFj8Zy8HRHiEUP1ul/Gw1HxE/Lb5fnWHpCz91FtKh6I0FPw==\"},\"shape\":[200],\"dtype\":\"float64\",\"order\":\"little\"}],[\"K\",[2,2,2,2,2,2,2,2,2,2,2,2,2,2,2,2,2,2,2,2,2,2,2,2,2,2,2,2,2,2,2,2,2,2,2,2,2,2,2,2,2,2,2,2,2,2,2,2,2,2,2,2,2,2,2,2,2,2,2,2,2,2,2,2,2,2,2,2,2,2,2,2,2,2,2,2,2,2,2,2,2,2,2,2,2,2,2,2,2,2,2,2,2,2,2,2,2,2,2,2,2,2,2,2,2,2,2,2,2,2,2,2,2,2,2,2,2,2,2,2,2,2,2,2,2,2,2,2,2,2,2,2,2,2,2,2,2,2,2,2,2,2,2,2,2,2,2,2,2,2,2,2,2,2,2,2,2,2,2,2,2,2,2,2,2,2,2,2,2,2,2,2,2,2,2,2,2,2,2,2,2,2,2,2,2,2,2,2,2,2,2,2,2,2,2,2,2,2,2,2]],[\"Q\",[0,0,0,0,0,0,0,0,0,0,0,0,0,0,0,0,0,0,0,0,0,0,0,0,0,0,0,0,0,0,0,0,0,0,0,0,0,0,0,0,0,0,0,0,0,0,0,0,0,0,0,0,0,0,0,0,0,0,0,0,0,0,0,0,0,0,0,0,0,0,0,0,0,0,0,0,0,0,0,0,0,0,0,0,0,0,0,0,0,0,0,0,0,0,0,0,0,0,0,0,0,0,0,0,0,0,0,0,0,0,0,0,0,0,0,0,0,0,0,0,0,0,0,0,0,0,0,0,0,0,0,0,0,0,0,0,0,0,0,0,0,0,0,0,0,0,0,0,0,0,0,0,0,0,0,0,0,0,0,0,0,0,0,0,0,0,0,0,0,0,0,0,0,0,0,0,0,0,0,0,0,0,0,0,0,0,0,0,0,0,0,0,0,0,0,0,0,0,0,0]],[\"Isotope\",[\"129Xe\",\"129Xe\",\"129Xe\",\"129Xe\",\"129Xe\",\"129Xe\",\"129Xe\",\"129Xe\",\"129Xe\",\"129Xe\",\"129Xe\",\"129Xe\",\"129Xe\",\"129Xe\",\"129Xe\",\"129Xe\",\"129Xe\",\"129Xe\",\"129Xe\",\"129Xe\",\"129Xe\",\"129Xe\",\"129Xe\",\"129Xe\",\"129Xe\",\"129Xe\",\"129Xe\",\"129Xe\",\"129Xe\",\"129Xe\",\"129Xe\",\"129Xe\",\"129Xe\",\"129Xe\",\"129Xe\",\"129Xe\",\"129Xe\",\"129Xe\",\"129Xe\",\"129Xe\",\"129Xe\",\"129Xe\",\"129Xe\",\"129Xe\",\"129Xe\",\"129Xe\",\"129Xe\",\"129Xe\",\"129Xe\",\"129Xe\",\"129Xe\",\"129Xe\",\"129Xe\",\"129Xe\",\"129Xe\",\"129Xe\",\"129Xe\",\"129Xe\",\"129Xe\",\"129Xe\",\"129Xe\",\"129Xe\",\"129Xe\",\"129Xe\",\"129Xe\",\"129Xe\",\"129Xe\",\"129Xe\",\"129Xe\",\"129Xe\",\"129Xe\",\"129Xe\",\"129Xe\",\"129Xe\",\"129Xe\",\"129Xe\",\"129Xe\",\"129Xe\",\"129Xe\",\"129Xe\",\"129Xe\",\"129Xe\",\"129Xe\",\"129Xe\",\"129Xe\",\"129Xe\",\"129Xe\",\"129Xe\",\"129Xe\",\"129Xe\",\"129Xe\",\"129Xe\",\"129Xe\",\"129Xe\",\"129Xe\",\"129Xe\",\"129Xe\",\"129Xe\",\"129Xe\",\"129Xe\",\"129Xe\",\"129Xe\",\"129Xe\",\"129Xe\",\"129Xe\",\"129Xe\",\"129Xe\",\"129Xe\",\"129Xe\",\"129Xe\",\"129Xe\",\"129Xe\",\"129Xe\",\"129Xe\",\"129Xe\",\"129Xe\",\"129Xe\",\"129Xe\",\"129Xe\",\"129Xe\",\"129Xe\",\"129Xe\",\"129Xe\",\"129Xe\",\"129Xe\",\"129Xe\",\"129Xe\",\"129Xe\",\"129Xe\",\"129Xe\",\"129Xe\",\"129Xe\",\"129Xe\",\"129Xe\",\"129Xe\",\"129Xe\",\"129Xe\",\"129Xe\",\"129Xe\",\"129Xe\",\"129Xe\",\"129Xe\",\"129Xe\",\"129Xe\",\"129Xe\",\"129Xe\",\"129Xe\",\"129Xe\",\"129Xe\",\"129Xe\",\"129Xe\",\"129Xe\",\"129Xe\",\"129Xe\",\"129Xe\",\"129Xe\",\"129Xe\",\"129Xe\",\"129Xe\",\"129Xe\",\"129Xe\",\"129Xe\",\"129Xe\",\"129Xe\",\"129Xe\",\"129Xe\",\"129Xe\",\"129Xe\",\"129Xe\",\"129Xe\",\"129Xe\",\"129Xe\",\"129Xe\",\"129Xe\",\"129Xe\",\"129Xe\",\"129Xe\",\"129Xe\",\"129Xe\",\"129Xe\",\"129Xe\",\"129Xe\",\"129Xe\",\"129Xe\",\"129Xe\",\"129Xe\",\"129Xe\",\"129Xe\",\"129Xe\",\"129Xe\",\"129Xe\",\"129Xe\",\"129Xe\",\"129Xe\",\"129Xe\",\"129Xe\",\"129Xe\",\"129Xe\",\"129Xe\",\"129Xe\"]]]}}},\"view\":{\"type\":\"object\",\"name\":\"CDSView\",\"id\":\"p1211\",\"attributes\":{\"filter\":{\"type\":\"object\",\"name\":\"AllIndices\",\"id\":\"p1212\"}}},\"glyph\":{\"type\":\"object\",\"name\":\"Line\",\"id\":\"p1207\",\"attributes\":{\"tags\":[\"apply_ranges\"],\"x\":{\"type\":\"field\",\"field\":\"t\"},\"y\":{\"type\":\"field\",\"field\":\"sum\"},\"line_color\":\"#6d904f\",\"line_width\":2}},\"selection_glyph\":{\"type\":\"object\",\"name\":\"Line\",\"id\":\"p1213\",\"attributes\":{\"tags\":[\"apply_ranges\"],\"x\":{\"type\":\"field\",\"field\":\"t\"},\"y\":{\"type\":\"field\",\"field\":\"sum\"},\"line_color\":\"#6d904f\",\"line_width\":2}},\"nonselection_glyph\":{\"type\":\"object\",\"name\":\"Line\",\"id\":\"p1208\",\"attributes\":{\"tags\":[\"apply_ranges\"],\"x\":{\"type\":\"field\",\"field\":\"t\"},\"y\":{\"type\":\"field\",\"field\":\"sum\"},\"line_color\":\"#6d904f\",\"line_alpha\":0.1,\"line_width\":2}},\"muted_glyph\":{\"type\":\"object\",\"name\":\"Line\",\"id\":\"p1209\",\"attributes\":{\"tags\":[\"apply_ranges\"],\"x\":{\"type\":\"field\",\"field\":\"t\"},\"y\":{\"type\":\"field\",\"field\":\"sum\"},\"line_color\":\"#6d904f\",\"line_alpha\":0.2,\"line_width\":2}}}},{\"type\":\"object\",\"name\":\"GlyphRenderer\",\"id\":\"p1224\",\"attributes\":{\"data_source\":{\"type\":\"object\",\"name\":\"ColumnDataSource\",\"id\":\"p1214\",\"attributes\":{\"selected\":{\"type\":\"object\",\"name\":\"Selection\",\"id\":\"p1215\",\"attributes\":{\"indices\":[],\"line_indices\":[]}},\"selection_policy\":{\"type\":\"object\",\"name\":\"UnionRenderers\",\"id\":\"p1216\"},\"data\":{\"type\":\"map\",\"entries\":[[\"t\",{\"type\":\"ndarray\",\"array\":{\"type\":\"bytes\",\"data\":\"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\"},\"shape\":[200],\"dtype\":\"float64\",\"order\":\"little\"}],[\"sum\",{\"type\":\"ndarray\",\"array\":{\"type\":\"bytes\",\"data\":\"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\"},\"shape\":[200],\"dtype\":\"float64\",\"order\":\"little\"}],[\"sum_std\",{\"type\":\"ndarray\",\"array\":{\"type\":\"bytes\",\"data\":\"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\"},\"shape\":[200],\"dtype\":\"float64\",\"order\":\"little\"}],[\"K\",[2,2,2,2,2,2,2,2,2,2,2,2,2,2,2,2,2,2,2,2,2,2,2,2,2,2,2,2,2,2,2,2,2,2,2,2,2,2,2,2,2,2,2,2,2,2,2,2,2,2,2,2,2,2,2,2,2,2,2,2,2,2,2,2,2,2,2,2,2,2,2,2,2,2,2,2,2,2,2,2,2,2,2,2,2,2,2,2,2,2,2,2,2,2,2,2,2,2,2,2,2,2,2,2,2,2,2,2,2,2,2,2,2,2,2,2,2,2,2,2,2,2,2,2,2,2,2,2,2,2,2,2,2,2,2,2,2,2,2,2,2,2,2,2,2,2,2,2,2,2,2,2,2,2,2,2,2,2,2,2,2,2,2,2,2,2,2,2,2,2,2,2,2,2,2,2,2,2,2,2,2,2,2,2,2,2,2,2,2,2,2,2,2,2,2,2,2,2,2,2]],[\"Q\",[0,0,0,0,0,0,0,0,0,0,0,0,0,0,0,0,0,0,0,0,0,0,0,0,0,0,0,0,0,0,0,0,0,0,0,0,0,0,0,0,0,0,0,0,0,0,0,0,0,0,0,0,0,0,0,0,0,0,0,0,0,0,0,0,0,0,0,0,0,0,0,0,0,0,0,0,0,0,0,0,0,0,0,0,0,0,0,0,0,0,0,0,0,0,0,0,0,0,0,0,0,0,0,0,0,0,0,0,0,0,0,0,0,0,0,0,0,0,0,0,0,0,0,0,0,0,0,0,0,0,0,0,0,0,0,0,0,0,0,0,0,0,0,0,0,0,0,0,0,0,0,0,0,0,0,0,0,0,0,0,0,0,0,0,0,0,0,0,0,0,0,0,0,0,0,0,0,0,0,0,0,0,0,0,0,0,0,0,0,0,0,0,0,0,0,0,0,0,0,0]],[\"Isotope\",[\"131Xe\",\"131Xe\",\"131Xe\",\"131Xe\",\"131Xe\",\"131Xe\",\"131Xe\",\"131Xe\",\"131Xe\",\"131Xe\",\"131Xe\",\"131Xe\",\"131Xe\",\"131Xe\",\"131Xe\",\"131Xe\",\"131Xe\",\"131Xe\",\"131Xe\",\"131Xe\",\"131Xe\",\"131Xe\",\"131Xe\",\"131Xe\",\"131Xe\",\"131Xe\",\"131Xe\",\"131Xe\",\"131Xe\",\"131Xe\",\"131Xe\",\"131Xe\",\"131Xe\",\"131Xe\",\"131Xe\",\"131Xe\",\"131Xe\",\"131Xe\",\"131Xe\",\"131Xe\",\"131Xe\",\"131Xe\",\"131Xe\",\"131Xe\",\"131Xe\",\"131Xe\",\"131Xe\",\"131Xe\",\"131Xe\",\"131Xe\",\"131Xe\",\"131Xe\",\"131Xe\",\"131Xe\",\"131Xe\",\"131Xe\",\"131Xe\",\"131Xe\",\"131Xe\",\"131Xe\",\"131Xe\",\"131Xe\",\"131Xe\",\"131Xe\",\"131Xe\",\"131Xe\",\"131Xe\",\"131Xe\",\"131Xe\",\"131Xe\",\"131Xe\",\"131Xe\",\"131Xe\",\"131Xe\",\"131Xe\",\"131Xe\",\"131Xe\",\"131Xe\",\"131Xe\",\"131Xe\",\"131Xe\",\"131Xe\",\"131Xe\",\"131Xe\",\"131Xe\",\"131Xe\",\"131Xe\",\"131Xe\",\"131Xe\",\"131Xe\",\"131Xe\",\"131Xe\",\"131Xe\",\"131Xe\",\"131Xe\",\"131Xe\",\"131Xe\",\"131Xe\",\"131Xe\",\"131Xe\",\"131Xe\",\"131Xe\",\"131Xe\",\"131Xe\",\"131Xe\",\"131Xe\",\"131Xe\",\"131Xe\",\"131Xe\",\"131Xe\",\"131Xe\",\"131Xe\",\"131Xe\",\"131Xe\",\"131Xe\",\"131Xe\",\"131Xe\",\"131Xe\",\"131Xe\",\"131Xe\",\"131Xe\",\"131Xe\",\"131Xe\",\"131Xe\",\"131Xe\",\"131Xe\",\"131Xe\",\"131Xe\",\"131Xe\",\"131Xe\",\"131Xe\",\"131Xe\",\"131Xe\",\"131Xe\",\"131Xe\",\"131Xe\",\"131Xe\",\"131Xe\",\"131Xe\",\"131Xe\",\"131Xe\",\"131Xe\",\"131Xe\",\"131Xe\",\"131Xe\",\"131Xe\",\"131Xe\",\"131Xe\",\"131Xe\",\"131Xe\",\"131Xe\",\"131Xe\",\"131Xe\",\"131Xe\",\"131Xe\",\"131Xe\",\"131Xe\",\"131Xe\",\"131Xe\",\"131Xe\",\"131Xe\",\"131Xe\",\"131Xe\",\"131Xe\",\"131Xe\",\"131Xe\",\"131Xe\",\"131Xe\",\"131Xe\",\"131Xe\",\"131Xe\",\"131Xe\",\"131Xe\",\"131Xe\",\"131Xe\",\"131Xe\",\"131Xe\",\"131Xe\",\"131Xe\",\"131Xe\",\"131Xe\",\"131Xe\",\"131Xe\",\"131Xe\",\"131Xe\",\"131Xe\",\"131Xe\",\"131Xe\",\"131Xe\",\"131Xe\",\"131Xe\",\"131Xe\",\"131Xe\",\"131Xe\",\"131Xe\",\"131Xe\",\"131Xe\",\"131Xe\",\"131Xe\",\"131Xe\"]]]}}},\"view\":{\"type\":\"object\",\"name\":\"CDSView\",\"id\":\"p1225\",\"attributes\":{\"filter\":{\"type\":\"object\",\"name\":\"AllIndices\",\"id\":\"p1226\"}}},\"glyph\":{\"type\":\"object\",\"name\":\"Line\",\"id\":\"p1221\",\"attributes\":{\"tags\":[\"apply_ranges\"],\"x\":{\"type\":\"field\",\"field\":\"t\"},\"y\":{\"type\":\"field\",\"field\":\"sum\"},\"line_color\":\"#8b8b8b\",\"line_width\":2}},\"selection_glyph\":{\"type\":\"object\",\"name\":\"Line\",\"id\":\"p1227\",\"attributes\":{\"tags\":[\"apply_ranges\"],\"x\":{\"type\":\"field\",\"field\":\"t\"},\"y\":{\"type\":\"field\",\"field\":\"sum\"},\"line_color\":\"#8b8b8b\",\"line_width\":2}},\"nonselection_glyph\":{\"type\":\"object\",\"name\":\"Line\",\"id\":\"p1222\",\"attributes\":{\"tags\":[\"apply_ranges\"],\"x\":{\"type\":\"field\",\"field\":\"t\"},\"y\":{\"type\":\"field\",\"field\":\"sum\"},\"line_color\":\"#8b8b8b\",\"line_alpha\":0.1,\"line_width\":2}},\"muted_glyph\":{\"type\":\"object\",\"name\":\"Line\",\"id\":\"p1223\",\"attributes\":{\"tags\":[\"apply_ranges\"],\"x\":{\"type\":\"field\",\"field\":\"t\"},\"y\":{\"type\":\"field\",\"field\":\"sum\"},\"line_color\":\"#8b8b8b\",\"line_alpha\":0.2,\"line_width\":2}}}},{\"type\":\"object\",\"name\":\"GlyphRenderer\",\"id\":\"p1238\",\"attributes\":{\"data_source\":{\"type\":\"object\",\"name\":\"ColumnDataSource\",\"id\":\"p1228\",\"attributes\":{\"selected\":{\"type\":\"object\",\"name\":\"Selection\",\"id\":\"p1229\",\"attributes\":{\"indices\":[],\"line_indices\":[]}},\"selection_policy\":{\"type\":\"object\",\"name\":\"UnionRenderers\",\"id\":\"p1230\"},\"data\":{\"type\":\"map\",\"entries\":[[\"t\",{\"type\":\"ndarray\",\"array\":{\"type\":\"bytes\",\"data\":\"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\"},\"shape\":[200],\"dtype\":\"float64\",\"order\":\"little\"}],[\"sum\",{\"type\":\"ndarray\",\"array\":{\"type\":\"bytes\",\"data\":\"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\"},\"shape\":[200],\"dtype\":\"float64\",\"order\":\"little\"}],[\"sum_std\",{\"type\":\"ndarray\",\"array\":{\"type\":\"bytes\",\"data\":\"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\"},\"shape\":[200],\"dtype\":\"float64\",\"order\":\"little\"}],[\"K\",[2,2,2,2,2,2,2,2,2,2,2,2,2,2,2,2,2,2,2,2,2,2,2,2,2,2,2,2,2,2,2,2,2,2,2,2,2,2,2,2,2,2,2,2,2,2,2,2,2,2,2,2,2,2,2,2,2,2,2,2,2,2,2,2,2,2,2,2,2,2,2,2,2,2,2,2,2,2,2,2,2,2,2,2,2,2,2,2,2,2,2,2,2,2,2,2,2,2,2,2,2,2,2,2,2,2,2,2,2,2,2,2,2,2,2,2,2,2,2,2,2,2,2,2,2,2,2,2,2,2,2,2,2,2,2,2,2,2,2,2,2,2,2,2,2,2,2,2,2,2,2,2,2,2,2,2,2,2,2,2,2,2,2,2,2,2,2,2,2,2,2,2,2,2,2,2,2,2,2,2,2,2,2,2,2,2,2,2,2,2,2,2,2,2,2,2,2,2,2,2]],[\"Q\",[0,0,0,0,0,0,0,0,0,0,0,0,0,0,0,0,0,0,0,0,0,0,0,0,0,0,0,0,0,0,0,0,0,0,0,0,0,0,0,0,0,0,0,0,0,0,0,0,0,0,0,0,0,0,0,0,0,0,0,0,0,0,0,0,0,0,0,0,0,0,0,0,0,0,0,0,0,0,0,0,0,0,0,0,0,0,0,0,0,0,0,0,0,0,0,0,0,0,0,0,0,0,0,0,0,0,0,0,0,0,0,0,0,0,0,0,0,0,0,0,0,0,0,0,0,0,0,0,0,0,0,0,0,0,0,0,0,0,0,0,0,0,0,0,0,0,0,0,0,0,0,0,0,0,0,0,0,0,0,0,0,0,0,0,0,0,0,0,0,0,0,0,0,0,0,0,0,0,0,0,0,0,0,0,0,0,0,0,0,0,0,0,0,0,0,0,0,0,0,0]],[\"Isotope\",[\"sum\",\"sum\",\"sum\",\"sum\",\"sum\",\"sum\",\"sum\",\"sum\",\"sum\",\"sum\",\"sum\",\"sum\",\"sum\",\"sum\",\"sum\",\"sum\",\"sum\",\"sum\",\"sum\",\"sum\",\"sum\",\"sum\",\"sum\",\"sum\",\"sum\",\"sum\",\"sum\",\"sum\",\"sum\",\"sum\",\"sum\",\"sum\",\"sum\",\"sum\",\"sum\",\"sum\",\"sum\",\"sum\",\"sum\",\"sum\",\"sum\",\"sum\",\"sum\",\"sum\",\"sum\",\"sum\",\"sum\",\"sum\",\"sum\",\"sum\",\"sum\",\"sum\",\"sum\",\"sum\",\"sum\",\"sum\",\"sum\",\"sum\",\"sum\",\"sum\",\"sum\",\"sum\",\"sum\",\"sum\",\"sum\",\"sum\",\"sum\",\"sum\",\"sum\",\"sum\",\"sum\",\"sum\",\"sum\",\"sum\",\"sum\",\"sum\",\"sum\",\"sum\",\"sum\",\"sum\",\"sum\",\"sum\",\"sum\",\"sum\",\"sum\",\"sum\",\"sum\",\"sum\",\"sum\",\"sum\",\"sum\",\"sum\",\"sum\",\"sum\",\"sum\",\"sum\",\"sum\",\"sum\",\"sum\",\"sum\",\"sum\",\"sum\",\"sum\",\"sum\",\"sum\",\"sum\",\"sum\",\"sum\",\"sum\",\"sum\",\"sum\",\"sum\",\"sum\",\"sum\",\"sum\",\"sum\",\"sum\",\"sum\",\"sum\",\"sum\",\"sum\",\"sum\",\"sum\",\"sum\",\"sum\",\"sum\",\"sum\",\"sum\",\"sum\",\"sum\",\"sum\",\"sum\",\"sum\",\"sum\",\"sum\",\"sum\",\"sum\",\"sum\",\"sum\",\"sum\",\"sum\",\"sum\",\"sum\",\"sum\",\"sum\",\"sum\",\"sum\",\"sum\",\"sum\",\"sum\",\"sum\",\"sum\",\"sum\",\"sum\",\"sum\",\"sum\",\"sum\",\"sum\",\"sum\",\"sum\",\"sum\",\"sum\",\"sum\",\"sum\",\"sum\",\"sum\",\"sum\",\"sum\",\"sum\",\"sum\",\"sum\",\"sum\",\"sum\",\"sum\",\"sum\",\"sum\",\"sum\",\"sum\",\"sum\",\"sum\",\"sum\",\"sum\",\"sum\",\"sum\",\"sum\",\"sum\",\"sum\",\"sum\",\"sum\",\"sum\",\"sum\",\"sum\",\"sum\",\"sum\",\"sum\",\"sum\",\"sum\",\"sum\",\"sum\",\"sum\"]]]}}},\"view\":{\"type\":\"object\",\"name\":\"CDSView\",\"id\":\"p1239\",\"attributes\":{\"filter\":{\"type\":\"object\",\"name\":\"AllIndices\",\"id\":\"p1240\"}}},\"glyph\":{\"type\":\"object\",\"name\":\"Line\",\"id\":\"p1235\",\"attributes\":{\"tags\":[\"apply_ranges\"],\"x\":{\"type\":\"field\",\"field\":\"t\"},\"y\":{\"type\":\"field\",\"field\":\"sum\"},\"line_color\":\"#17becf\",\"line_width\":2}},\"selection_glyph\":{\"type\":\"object\",\"name\":\"Line\",\"id\":\"p1241\",\"attributes\":{\"tags\":[\"apply_ranges\"],\"x\":{\"type\":\"field\",\"field\":\"t\"},\"y\":{\"type\":\"field\",\"field\":\"sum\"},\"line_color\":\"#17becf\",\"line_width\":2}},\"nonselection_glyph\":{\"type\":\"object\",\"name\":\"Line\",\"id\":\"p1236\",\"attributes\":{\"tags\":[\"apply_ranges\"],\"x\":{\"type\":\"field\",\"field\":\"t\"},\"y\":{\"type\":\"field\",\"field\":\"sum\"},\"line_color\":\"#17becf\",\"line_alpha\":0.1,\"line_width\":2}},\"muted_glyph\":{\"type\":\"object\",\"name\":\"Line\",\"id\":\"p1237\",\"attributes\":{\"tags\":[\"apply_ranges\"],\"x\":{\"type\":\"field\",\"field\":\"t\"},\"y\":{\"type\":\"field\",\"field\":\"sum\"},\"line_color\":\"#17becf\",\"line_alpha\":0.2,\"line_width\":2}}}}],\"toolbar\":{\"type\":\"object\",\"name\":\"Toolbar\",\"id\":\"p1023\",\"attributes\":{\"tools\":[{\"type\":\"object\",\"name\":\"HoverTool\",\"id\":\"p1009\",\"attributes\":{\"tags\":[\"hv_created\"],\"renderers\":[{\"id\":\"p1168\"},{\"id\":\"p1182\"},{\"id\":\"p1196\"},{\"id\":\"p1210\"},{\"id\":\"p1224\"},{\"id\":\"p1238\"}],\"tooltips\":[[\"K\",\"@{K}\"],[\"Q\",\"@{Q}\"],[\"Isotope\",\"@{Isotope}\"],[\"t\",\"@{t}\"],[\"sum\",\"@{sum}\"],[\"sum_std\",\"@{sum_std}\"]]}},{\"type\":\"object\",\"name\":\"SaveTool\",\"id\":\"p1045\"},{\"type\":\"object\",\"name\":\"PanTool\",\"id\":\"p1046\"},{\"type\":\"object\",\"name\":\"WheelZoomTool\",\"id\":\"p1047\"},{\"type\":\"object\",\"name\":\"BoxZoomTool\",\"id\":\"p1048\",\"attributes\":{\"overlay\":{\"type\":\"object\",\"name\":\"BoxAnnotation\",\"id\":\"p1049\",\"attributes\":{\"syncable\":false,\"level\":\"overlay\",\"visible\":false,\"left_units\":\"canvas\",\"right_units\":\"canvas\",\"bottom_units\":\"canvas\",\"top_units\":\"canvas\",\"line_color\":\"black\",\"line_alpha\":1.0,\"line_width\":2,\"line_dash\":[4,4],\"fill_color\":\"lightgrey\",\"fill_alpha\":0.5}}}},{\"type\":\"object\",\"name\":\"ResetTool\",\"id\":\"p1050\"}],\"active_drag\":{\"id\":\"p1046\"},\"active_scroll\":{\"id\":\"p1047\"}}},\"left\":[{\"type\":\"object\",\"name\":\"LinearAxis\",\"id\":\"p1038\",\"attributes\":{\"ticker\":{\"type\":\"object\",\"name\":\"BasicTicker\",\"id\":\"p1041\",\"attributes\":{\"mantissas\":[1,2,5]}},\"formatter\":{\"type\":\"object\",\"name\":\"BasicTickFormatter\",\"id\":\"p1040\"},\"axis_label\":\"sum\",\"major_label_policy\":{\"type\":\"object\",\"name\":\"AllLabels\",\"id\":\"p1039\"}}}],\"below\":[{\"type\":\"object\",\"name\":\"LinearAxis\",\"id\":\"p1031\",\"attributes\":{\"ticker\":{\"type\":\"object\",\"name\":\"BasicTicker\",\"id\":\"p1034\",\"attributes\":{\"mantissas\":[1,2,5]}},\"formatter\":{\"type\":\"object\",\"name\":\"BasicTickFormatter\",\"id\":\"p1033\"},\"axis_label\":\"t\",\"major_label_policy\":{\"type\":\"object\",\"name\":\"AllLabels\",\"id\":\"p1032\"}}}],\"center\":[{\"type\":\"object\",\"name\":\"Grid\",\"id\":\"p1037\",\"attributes\":{\"axis\":{\"id\":\"p1031\"},\"ticker\":{\"id\":\"p1034\"}}},{\"type\":\"object\",\"name\":\"Grid\",\"id\":\"p1044\",\"attributes\":{\"dimension\":1,\"axis\":{\"id\":\"p1038\"},\"ticker\":{\"id\":\"p1041\"}}},{\"type\":\"object\",\"name\":\"Legend\",\"id\":\"p1080\",\"attributes\":{\"click_policy\":\"mute\",\"items\":[{\"type\":\"object\",\"name\":\"LegendItem\",\"id\":\"p1081\",\"attributes\":{\"label\":{\"type\":\"value\",\"value\":\"0, 0, 129Xe\"},\"renderers\":[{\"id\":\"p1077\"},{\"id\":\"p1168\"}]}},{\"type\":\"object\",\"name\":\"LegendItem\",\"id\":\"p1096\",\"attributes\":{\"label\":{\"type\":\"value\",\"value\":\"0, 0, 131Xe\"},\"renderers\":[{\"id\":\"p1093\"},{\"id\":\"p1182\"}]}},{\"type\":\"object\",\"name\":\"LegendItem\",\"id\":\"p1111\",\"attributes\":{\"label\":{\"type\":\"value\",\"value\":\"0, 0, sum\"},\"renderers\":[{\"id\":\"p1108\"},{\"id\":\"p1196\"}]}},{\"type\":\"object\",\"name\":\"LegendItem\",\"id\":\"p1126\",\"attributes\":{\"label\":{\"type\":\"value\",\"value\":\"2, 0, 129Xe\"},\"renderers\":[{\"id\":\"p1123\"},{\"id\":\"p1210\"}]}},{\"type\":\"object\",\"name\":\"LegendItem\",\"id\":\"p1141\",\"attributes\":{\"label\":{\"type\":\"value\",\"value\":\"2, 0, 131Xe\"},\"renderers\":[{\"id\":\"p1138\"},{\"id\":\"p1224\"}]}},{\"type\":\"object\",\"name\":\"LegendItem\",\"id\":\"p1156\",\"attributes\":{\"label\":{\"type\":\"value\",\"value\":\"2, 0, sum\"},\"renderers\":[{\"id\":\"p1153\"},{\"id\":\"p1238\"}]}}]}}],\"min_border_top\":10,\"min_border_bottom\":10,\"min_border_left\":10,\"min_border_right\":10,\"output_backend\":\"webgl\"}},{\"type\":\"object\",\"name\":\"Spacer\",\"id\":\"p1315\",\"attributes\":{\"name\":\"HSpacer01291\",\"stylesheets\":[\"\\n:host(.pn-loading.pn-arc):before, .pn-loading.pn-arc:before {\\n  background-image: url(\\\"data:image/svg+xml;base64,PHN2ZyB4bWxucz0iaHR0cDovL3d3dy53My5vcmcvMjAwMC9zdmciIHN0eWxlPSJtYXJnaW46IGF1dG87IGJhY2tncm91bmQ6IG5vbmU7IGRpc3BsYXk6IGJsb2NrOyBzaGFwZS1yZW5kZXJpbmc6IGF1dG87IiB2aWV3Qm94PSIwIDAgMTAwIDEwMCIgcHJlc2VydmVBc3BlY3RSYXRpbz0ieE1pZFlNaWQiPiAgPGNpcmNsZSBjeD0iNTAiIGN5PSI1MCIgZmlsbD0ibm9uZSIgc3Ryb2tlPSIjYzNjM2MzIiBzdHJva2Utd2lkdGg9IjEwIiByPSIzNSIgc3Ryb2tlLWRhc2hhcnJheT0iMTY0LjkzMzYxNDMxMzQ2NDE1IDU2Ljk3Nzg3MTQzNzgyMTM4Ij4gICAgPGFuaW1hdGVUcmFuc2Zvcm0gYXR0cmlidXRlTmFtZT0idHJhbnNmb3JtIiB0eXBlPSJyb3RhdGUiIHJlcGVhdENvdW50PSJpbmRlZmluaXRlIiBkdXI9IjFzIiB2YWx1ZXM9IjAgNTAgNTA7MzYwIDUwIDUwIiBrZXlUaW1lcz0iMDsxIj48L2FuaW1hdGVUcmFuc2Zvcm0+ICA8L2NpcmNsZT48L3N2Zz4=\\\");\\n  background-size: auto calc(min(50%, 400px));\\n}\",{\"id\":\"p1005\"},{\"id\":\"p1003\"},{\"id\":\"p1004\"}],\"margin\":0,\"sizing_mode\":\"stretch_width\",\"align\":\"start\"}}]}}],\"callbacks\":{\"type\":\"map\"}}};\n",
       "  var render_items = [{\"docid\":\"bcd41e1f-841b-4465-89a0-a28e409ecd5f\",\"roots\":{\"p1002\":\"a7fb1be9-dc79-4430-b06a-f7b8e307d216\"},\"root_ids\":[\"p1002\"]}];\n",
       "  var docs = Object.values(docs_json)\n",
       "  if (!docs) {\n",
       "    return\n",
       "  }\n",
       "  const py_version = docs[0].version.replace('rc', '-rc.').replace('.dev', '-dev.')\n",
       "  const is_dev = py_version.indexOf(\"+\") !== -1 || py_version.indexOf(\"-\") !== -1\n",
       "  function embed_document(root) {\n",
       "    var Bokeh = get_bokeh(root)\n",
       "    Bokeh.embed.embed_items_notebook(docs_json, render_items);\n",
       "    for (const render_item of render_items) {\n",
       "      for (const root_id of render_item.root_ids) {\n",
       "\tconst id_el = document.getElementById(root_id)\n",
       "\tif (id_el.children.length && (id_el.children[0].className === 'bk-root')) {\n",
       "\t  const root_el = id_el.children[0]\n",
       "\t  root_el.id = root_el.id + '-rendered'\n",
       "\t}\n",
       "      }\n",
       "    }\n",
       "  }\n",
       "  function get_bokeh(root) {\n",
       "    if (root.Bokeh === undefined) {\n",
       "      return null\n",
       "    } else if (root.Bokeh.version !== py_version && !is_dev) {\n",
       "      if (root.Bokeh.versions === undefined || !root.Bokeh.versions.has(py_version)) {\n",
       "\treturn null\n",
       "      }\n",
       "      return root.Bokeh.versions.get(py_version);\n",
       "    } else if (root.Bokeh.version === py_version) {\n",
       "      return root.Bokeh\n",
       "    }\n",
       "    return null\n",
       "  }\n",
       "  function is_loaded(root) {\n",
       "    var Bokeh = get_bokeh(root)\n",
       "    return (Bokeh != null && Bokeh.Panel !== undefined)\n",
       "  }\n",
       "  if (is_loaded(root)) {\n",
       "    embed_document(root);\n",
       "  } else {\n",
       "    var attempts = 0;\n",
       "    var timer = setInterval(function(root) {\n",
       "      if (is_loaded(root)) {\n",
       "        clearInterval(timer);\n",
       "        embed_document(root);\n",
       "      } else if (document.readyState == \"complete\") {\n",
       "        attempts++;\n",
       "        if (attempts > 200) {\n",
       "          clearInterval(timer);\n",
       "\t  var Bokeh = get_bokeh(root)\n",
       "\t  if (Bokeh == null || Bokeh.Panel == null) {\n",
       "            console.warn(\"Panel: ERROR: Unable to run Panel code because Bokeh or Panel library is missing\");\n",
       "\t  } else {\n",
       "\t    console.warn(\"Panel: WARNING: Attempting to render but not all required libraries could be resolved.\")\n",
       "\t    embed_document(root)\n",
       "\t  }\n",
       "        }\n",
       "      }\n",
       "    }, 25, root)\n",
       "  }\n",
       "})(window);</script>"
      ],
      "text/plain": [
       ":Overlay\n",
       "   .NdOverlay.I  :NdOverlay   [K,Q,Isotope]\n",
       "      :Spread   [t]   (sum,sum_std)\n",
       "   .NdOverlay.II :NdOverlay   [K,Q,Isotope]\n",
       "      :Curve   [t]   (sum,sum_std)"
      ]
     },
     "execution_count": 5,
     "metadata": {
      "application/vnd.holoviews_exec.v0+json": {
       "id": "p1002"
      }
     },
     "output_type": "execute_result"
    }
   ],
   "source": [
    "# Test beat model with changed params...\n",
    "\n",
    "# Set arb params\n",
    "xeSplittings = np.random.randn(4)\n",
    "xePropsFit[fitParamsCol] = 0.1*np.abs(xeSplittings)\n",
    "\n",
    "# Compute model with new params\n",
    "modelDict = computeModel(xePropsFit)\n",
    "modelDictSum, modelDA = computeModelSum(modelDict)\n",
    "\n",
    "# Plot model\n",
    "plotOpts = {'width':800}\n",
    "modelDA = stackModelToDA(modelDictSum)\n",
    "plotHyperfineModel(modelDA, **plotOpts).opts(title=\"Isotope comparison + sum\")"
   ]
  },
  {
   "cell_type": "markdown",
   "id": "f63310be-0a91-4b57-b003-53bc60e3cdab",
   "metadata": {},
   "source": [
    "## Run fits with Scipy Least Squares\n",
    "\n",
    "Use the wrapper :py:func:`qbanalysis.basic_fitting.calcFitModel()` with `scipy.optimize.least_squares`. The wrapper uses `computeModelSum()` as above, and computes the residuals.\n",
    "\n",
    "For the basic case, no ionization model is included, so this fit is only to see how well the form of the hyperfine beat can be matched to the  $K=4$ case for ROI 0, and how much the level splittings are modified from the previous case (determined by FT)."
   ]
  },
  {
   "cell_type": "code",
   "execution_count": 6,
   "id": "e1b337b2-e302-4070-95f9-5d73dc42c5e0",
   "metadata": {
    "tags": []
   },
   "outputs": [
    {
     "name": "stdout",
     "output_type": "stream",
     "text": [
      "\u001b[32m2024-06-17 15:57:34.841\u001b[0m | \u001b[1mINFO    \u001b[0m | \u001b[36mqbanalysis.basic_fitting\u001b[0m:\u001b[36m<module>\u001b[0m:\u001b[36m21\u001b[0m - \u001b[1mUsing uncertainties modules, Sympy maths functions will be forced to float outputs.\u001b[0m\n",
      "   Iteration     Total nfev        Cost      Cost reduction    Step norm     Optimality   \n",
      "       0              1         1.8508e-04                                    2.08e-02    \n",
      "       1              2         4.0425e-05      1.45e-04       2.74e-03       3.53e-03    \n",
      "       2              3         2.5587e-05      1.48e-05       1.63e-03       7.16e-04    \n",
      "       3              4         2.3896e-05      1.69e-06       1.12e-03       2.73e-04    \n",
      "       4              9         2.3837e-05      5.90e-08       9.90e-04       1.06e-04    \n",
      "       5             11         2.3743e-05      9.33e-08       4.70e-04       2.70e-05    \n",
      "       6             13         2.3727e-05      1.64e-08       2.33e-04       9.02e-06    \n",
      "       7             15         2.3725e-05      1.51e-09       1.17e-04       1.75e-06    \n",
      "       8             17         2.3725e-05      5.60e-11       1.69e-05       1.10e-06    \n",
      "       9             19         2.3725e-05      8.83e-13       3.91e-06       4.19e-07    \n",
      "      10             21         2.3725e-05      1.22e-12       1.89e-06       9.73e-08    \n",
      "      11             23         2.3725e-05      1.80e-13       8.94e-07       2.21e-08    \n",
      "`ftol` termination condition is satisfied.\n",
      "Function evaluations 23, initial cost 1.8508e-04, final cost 2.3725e-05, first-order optimality 2.21e-08.\n"
     ]
    },
    {
     "data": {
      "text/plain": [
       "True"
      ]
     },
     "execution_count": 6,
     "metadata": {},
     "output_type": "execute_result"
    }
   ],
   "source": [
    "# Import functions\n",
    "from qbanalysis.basic_fitting import *\n",
    "import scipy\n",
    "\n",
    "#*** Init params - either random or from previous best\n",
    "# NOTE: this needs to be a 1D Numpy array.\n",
    "# x0 = np.abs(np.random.random(4))  # Randomise inputs\n",
    "\n",
    "# Seed with existing params - note this can't be Uncertainties objects\n",
    "xePropsFit = xeProps.copy()\n",
    "x0 = unumpy.nominal_values(xePropsFit[fitParamsCol].to_numpy())  # Test with previous vals\n",
    "\n",
    "#*** Run a fit\n",
    "fitOut = scipy.optimize.least_squares(calcBasicFitModel, x0, bounds = (0.01,0.5), verbose = 2,\n",
    "                                      kwargs = {'xePropsFit':xePropsFit, 'dataDict':dataDict})\n",
    "fitOut.success"
   ]
  },
  {
   "cell_type": "code",
   "execution_count": 7,
   "id": "cf69dd9c-0935-4d48-bd4d-491e99e7ba66",
   "metadata": {
    "tags": []
   },
   "outputs": [
    {
     "data": {
      "text/plain": [
       "array([0.29126303, 0.08466675, 0.1411    , 0.22949392])"
      ]
     },
     "execution_count": 7,
     "metadata": {},
     "output_type": "execute_result"
    }
   ],
   "source": [
    "# Using Scipy, the fit details are in fitOut, and results in fitOut.x\n",
    "fitOut.x"
   ]
  },
  {
   "cell_type": "code",
   "execution_count": 8,
   "id": "80607939-93fb-4536-a574-78a13ed17a29",
   "metadata": {
    "tags": []
   },
   "outputs": [
    {
     "data": {
      "text/plain": [
       "     message: `ftol` termination condition is satisfied.\n",
       "     success: True\n",
       "      status: 2\n",
       "         fun: [ 8.541e-07  2.215e-05 ...  3.658e-04  5.021e-04]\n",
       "           x: [ 2.913e-01  8.467e-02  1.411e-01  2.295e-01]\n",
       "        cost: 2.3725378584475683e-05\n",
       "         jac: [[ 0.000e+00  0.000e+00  0.000e+00  0.000e+00]\n",
       "               [-9.299e-04  2.320e-04  0.000e+00 -5.137e-04]\n",
       "               ...\n",
       "               [ 5.836e-01 -3.171e-01  0.000e+00  2.142e-01]\n",
       "               [ 7.487e-01 -3.187e-01  0.000e+00  9.719e-02]]\n",
       "        grad: [-4.296e-09 -5.315e-08  0.000e+00  4.667e-09]\n",
       "  optimality: 2.2076459731634488e-08\n",
       " active_mask: [0 0 0 0]\n",
       "        nfev: 23\n",
       "        njev: 12"
      ]
     },
     "execution_count": 8,
     "metadata": {},
     "output_type": "execute_result"
    }
   ],
   "source": [
    "fitOut"
   ]
  },
  {
   "cell_type": "code",
   "execution_count": 9,
   "id": "1fd85f69-9026-4807-a945-8cd5821eb303",
   "metadata": {
    "tags": []
   },
   "outputs": [
    {
     "data": {},
     "metadata": {},
     "output_type": "display_data"
    },
    {
     "data": {
      "application/vnd.holoviews_exec.v0+json": "",
      "text/html": [
       "<div id='p1621'>\n",
       "  <div id=\"fa807466-7312-4616-ac42-d323776f0d39\" data-root-id=\"p1621\" style=\"display: contents;\"></div>\n",
       "</div>\n",
       "<script type=\"application/javascript\">(function(root) {\n",
       "  var docs_json = {\"5ea6d22b-c671-4a52-ad6c-0b791d1553dc\":{\"version\":\"3.1.1\",\"title\":\"Bokeh Application\",\"defs\":[{\"type\":\"model\",\"name\":\"ReactiveHTML1\"},{\"type\":\"model\",\"name\":\"FlexBox1\",\"properties\":[{\"name\":\"align_content\",\"kind\":\"Any\",\"default\":\"flex-start\"},{\"name\":\"align_items\",\"kind\":\"Any\",\"default\":\"flex-start\"},{\"name\":\"flex_direction\",\"kind\":\"Any\",\"default\":\"row\"},{\"name\":\"flex_wrap\",\"kind\":\"Any\",\"default\":\"wrap\"},{\"name\":\"justify_content\",\"kind\":\"Any\",\"default\":\"flex-start\"}]},{\"type\":\"model\",\"name\":\"FloatPanel1\",\"properties\":[{\"name\":\"config\",\"kind\":\"Any\",\"default\":{\"type\":\"map\"}},{\"name\":\"contained\",\"kind\":\"Any\",\"default\":true},{\"name\":\"position\",\"kind\":\"Any\",\"default\":\"right-top\"},{\"name\":\"offsetx\",\"kind\":\"Any\",\"default\":null},{\"name\":\"offsety\",\"kind\":\"Any\",\"default\":null},{\"name\":\"theme\",\"kind\":\"Any\",\"default\":\"primary\"},{\"name\":\"status\",\"kind\":\"Any\",\"default\":\"normalized\"}]},{\"type\":\"model\",\"name\":\"GridStack1\",\"properties\":[{\"name\":\"mode\",\"kind\":\"Any\",\"default\":\"warn\"},{\"name\":\"ncols\",\"kind\":\"Any\",\"default\":null},{\"name\":\"nrows\",\"kind\":\"Any\",\"default\":null},{\"name\":\"allow_resize\",\"kind\":\"Any\",\"default\":true},{\"name\":\"allow_drag\",\"kind\":\"Any\",\"default\":true},{\"name\":\"state\",\"kind\":\"Any\",\"default\":[]}]},{\"type\":\"model\",\"name\":\"drag1\",\"properties\":[{\"name\":\"slider_width\",\"kind\":\"Any\",\"default\":5},{\"name\":\"slider_color\",\"kind\":\"Any\",\"default\":\"black\"},{\"name\":\"value\",\"kind\":\"Any\",\"default\":50}]},{\"type\":\"model\",\"name\":\"click1\",\"properties\":[{\"name\":\"terminal_output\",\"kind\":\"Any\",\"default\":\"\"},{\"name\":\"debug_name\",\"kind\":\"Any\",\"default\":\"\"},{\"name\":\"clears\",\"kind\":\"Any\",\"default\":0}]},{\"type\":\"model\",\"name\":\"FastWrapper1\",\"properties\":[{\"name\":\"object\",\"kind\":\"Any\",\"default\":null},{\"name\":\"style\",\"kind\":\"Any\",\"default\":null}]},{\"type\":\"model\",\"name\":\"NotificationAreaBase1\",\"properties\":[{\"name\":\"position\",\"kind\":\"Any\",\"default\":\"bottom-right\"},{\"name\":\"_clear\",\"kind\":\"Any\",\"default\":0}]},{\"type\":\"model\",\"name\":\"NotificationArea1\",\"properties\":[{\"name\":\"notifications\",\"kind\":\"Any\",\"default\":[]},{\"name\":\"position\",\"kind\":\"Any\",\"default\":\"bottom-right\"},{\"name\":\"_clear\",\"kind\":\"Any\",\"default\":0},{\"name\":\"types\",\"kind\":\"Any\",\"default\":[{\"type\":\"map\",\"entries\":[[\"type\",\"warning\"],[\"background\",\"#ffc107\"],[\"icon\",{\"type\":\"map\",\"entries\":[[\"className\",\"fas fa-exclamation-triangle\"],[\"tagName\",\"i\"],[\"color\",\"white\"]]}]]},{\"type\":\"map\",\"entries\":[[\"type\",\"info\"],[\"background\",\"#007bff\"],[\"icon\",{\"type\":\"map\",\"entries\":[[\"className\",\"fas fa-info-circle\"],[\"tagName\",\"i\"],[\"color\",\"white\"]]}]]}]}]},{\"type\":\"model\",\"name\":\"Notification\",\"properties\":[{\"name\":\"background\",\"kind\":\"Any\",\"default\":null},{\"name\":\"duration\",\"kind\":\"Any\",\"default\":3000},{\"name\":\"icon\",\"kind\":\"Any\",\"default\":null},{\"name\":\"message\",\"kind\":\"Any\",\"default\":\"\"},{\"name\":\"notification_type\",\"kind\":\"Any\",\"default\":null},{\"name\":\"_destroyed\",\"kind\":\"Any\",\"default\":false}]},{\"type\":\"model\",\"name\":\"TemplateActions1\",\"properties\":[{\"name\":\"open_modal\",\"kind\":\"Any\",\"default\":0},{\"name\":\"close_modal\",\"kind\":\"Any\",\"default\":0}]},{\"type\":\"model\",\"name\":\"BootstrapTemplateActions1\",\"properties\":[{\"name\":\"open_modal\",\"kind\":\"Any\",\"default\":0},{\"name\":\"close_modal\",\"kind\":\"Any\",\"default\":0}]},{\"type\":\"model\",\"name\":\"MaterialTemplateActions1\",\"properties\":[{\"name\":\"open_modal\",\"kind\":\"Any\",\"default\":0},{\"name\":\"close_modal\",\"kind\":\"Any\",\"default\":0}]}],\"roots\":[{\"type\":\"object\",\"name\":\"Row\",\"id\":\"p1621\",\"attributes\":{\"name\":\"Row02674\",\"tags\":[\"embedded\"],\"stylesheets\":[\"\\n:host(.pn-loading.pn-arc):before, .pn-loading.pn-arc:before {\\n  background-image: url(\\\"data:image/svg+xml;base64,PHN2ZyB4bWxucz0iaHR0cDovL3d3dy53My5vcmcvMjAwMC9zdmciIHN0eWxlPSJtYXJnaW46IGF1dG87IGJhY2tncm91bmQ6IG5vbmU7IGRpc3BsYXk6IGJsb2NrOyBzaGFwZS1yZW5kZXJpbmc6IGF1dG87IiB2aWV3Qm94PSIwIDAgMTAwIDEwMCIgcHJlc2VydmVBc3BlY3RSYXRpbz0ieE1pZFlNaWQiPiAgPGNpcmNsZSBjeD0iNTAiIGN5PSI1MCIgZmlsbD0ibm9uZSIgc3Ryb2tlPSIjYzNjM2MzIiBzdHJva2Utd2lkdGg9IjEwIiByPSIzNSIgc3Ryb2tlLWRhc2hhcnJheT0iMTY0LjkzMzYxNDMxMzQ2NDE1IDU2Ljk3Nzg3MTQzNzgyMTM4Ij4gICAgPGFuaW1hdGVUcmFuc2Zvcm0gYXR0cmlidXRlTmFtZT0idHJhbnNmb3JtIiB0eXBlPSJyb3RhdGUiIHJlcGVhdENvdW50PSJpbmRlZmluaXRlIiBkdXI9IjFzIiB2YWx1ZXM9IjAgNTAgNTA7MzYwIDUwIDUwIiBrZXlUaW1lcz0iMDsxIj48L2FuaW1hdGVUcmFuc2Zvcm0+ICA8L2NpcmNsZT48L3N2Zz4=\\\");\\n  background-size: auto calc(min(50%, 400px));\\n}\",{\"type\":\"object\",\"name\":\"ImportedStyleSheet\",\"id\":\"p1624\",\"attributes\":{\"url\":\"https://cdn.holoviz.org/panel/1.2.0/dist/css/loading.css\"}},{\"type\":\"object\",\"name\":\"ImportedStyleSheet\",\"id\":\"p1817\",\"attributes\":{\"url\":\"https://cdn.holoviz.org/panel/1.2.0/dist/css/listpanel.css\"}},{\"type\":\"object\",\"name\":\"ImportedStyleSheet\",\"id\":\"p1622\",\"attributes\":{\"url\":\"https://cdn.holoviz.org/panel/1.2.0/dist/bundled/theme/default.css\"}},{\"type\":\"object\",\"name\":\"ImportedStyleSheet\",\"id\":\"p1623\",\"attributes\":{\"url\":\"https://cdn.holoviz.org/panel/1.2.0/dist/bundled/theme/native.css\"}}],\"min_width\":800,\"margin\":0,\"sizing_mode\":\"stretch_width\",\"align\":\"start\",\"children\":[{\"type\":\"object\",\"name\":\"Spacer\",\"id\":\"p1625\",\"attributes\":{\"name\":\"HSpacer02685\",\"stylesheets\":[\"\\n:host(.pn-loading.pn-arc):before, .pn-loading.pn-arc:before {\\n  background-image: url(\\\"data:image/svg+xml;base64,PHN2ZyB4bWxucz0iaHR0cDovL3d3dy53My5vcmcvMjAwMC9zdmciIHN0eWxlPSJtYXJnaW46IGF1dG87IGJhY2tncm91bmQ6IG5vbmU7IGRpc3BsYXk6IGJsb2NrOyBzaGFwZS1yZW5kZXJpbmc6IGF1dG87IiB2aWV3Qm94PSIwIDAgMTAwIDEwMCIgcHJlc2VydmVBc3BlY3RSYXRpbz0ieE1pZFlNaWQiPiAgPGNpcmNsZSBjeD0iNTAiIGN5PSI1MCIgZmlsbD0ibm9uZSIgc3Ryb2tlPSIjYzNjM2MzIiBzdHJva2Utd2lkdGg9IjEwIiByPSIzNSIgc3Ryb2tlLWRhc2hhcnJheT0iMTY0LjkzMzYxNDMxMzQ2NDE1IDU2Ljk3Nzg3MTQzNzgyMTM4Ij4gICAgPGFuaW1hdGVUcmFuc2Zvcm0gYXR0cmlidXRlTmFtZT0idHJhbnNmb3JtIiB0eXBlPSJyb3RhdGUiIHJlcGVhdENvdW50PSJpbmRlZmluaXRlIiBkdXI9IjFzIiB2YWx1ZXM9IjAgNTAgNTA7MzYwIDUwIDUwIiBrZXlUaW1lcz0iMDsxIj48L2FuaW1hdGVUcmFuc2Zvcm0+ICA8L2NpcmNsZT48L3N2Zz4=\\\");\\n  background-size: auto calc(min(50%, 400px));\\n}\",{\"id\":\"p1624\"},{\"id\":\"p1622\"},{\"id\":\"p1623\"}],\"margin\":0,\"sizing_mode\":\"stretch_width\",\"align\":\"start\"}},{\"type\":\"object\",\"name\":\"Figure\",\"id\":\"p1631\",\"attributes\":{\"width\":800,\"height\":500,\"margin\":[5,10],\"sizing_mode\":\"fixed\",\"align\":\"start\",\"x_range\":{\"type\":\"object\",\"name\":\"Range1d\",\"id\":\"p1626\",\"attributes\":{\"tags\":[[[\"t\",\"t\",null]]],\"start\":-70.0,\"end\":890.0,\"reset_start\":-70.0,\"reset_end\":890.0}},\"y_range\":{\"type\":\"object\",\"name\":\"Range1d\",\"id\":\"p1627\",\"attributes\":{\"tags\":[[[\"sum\",\"sum\",null]]],\"start\":-0.4238125696906617,\"end\":0.6038467080577938,\"reset_start\":-0.4238125696906617,\"reset_end\":0.6038467080577938}},\"x_scale\":{\"type\":\"object\",\"name\":\"LinearScale\",\"id\":\"p1643\"},\"y_scale\":{\"type\":\"object\",\"name\":\"LinearScale\",\"id\":\"p1645\"},\"title\":{\"type\":\"object\",\"name\":\"Title\",\"id\":\"p1634\",\"attributes\":{\"text\":\"Fit (K=2) plus data (l=4)\",\"text_color\":\"black\",\"text_font_size\":\"12pt\"}},\"renderers\":[{\"type\":\"object\",\"name\":\"GlyphRenderer\",\"id\":\"p1694\",\"attributes\":{\"data_source\":{\"type\":\"object\",\"name\":\"ColumnDataSource\",\"id\":\"p1684\",\"attributes\":{\"selected\":{\"type\":\"object\",\"name\":\"Selection\",\"id\":\"p1685\",\"attributes\":{\"indices\":[],\"line_indices\":[]}},\"selection_policy\":{\"type\":\"object\",\"name\":\"UnionRenderers\",\"id\":\"p1686\"},\"data\":{\"type\":\"map\",\"entries\":[[\"x\",{\"type\":\"ndarray\",\"array\":{\"type\":\"bytes\",\"data\":\"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\"},\"shape\":[194],\"dtype\":\"float64\",\"order\":\"little\"}],[\"y\",{\"type\":\"ndarray\",\"array\":{\"type\":\"bytes\",\"data\":\"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\"},\"shape\":[194],\"dtype\":\"float64\",\"order\":\"little\"}]]}}},\"view\":{\"type\":\"object\",\"name\":\"CDSView\",\"id\":\"p1695\",\"attributes\":{\"filter\":{\"type\":\"object\",\"name\":\"AllIndices\",\"id\":\"p1696\"}}},\"glyph\":{\"type\":\"object\",\"name\":\"Patch\",\"id\":\"p1691\",\"attributes\":{\"tags\":[\"apply_ranges\"],\"x\":{\"type\":\"field\",\"field\":\"x\"},\"y\":{\"type\":\"field\",\"field\":\"y\"},\"line_alpha\":0.6,\"fill_color\":\"#30a2da\",\"fill_alpha\":0.6,\"hatch_color\":\"#30a2da\",\"hatch_alpha\":0.6}},\"selection_glyph\":{\"type\":\"object\",\"name\":\"Patch\",\"id\":\"p1699\",\"attributes\":{\"tags\":[\"apply_ranges\"],\"x\":{\"type\":\"field\",\"field\":\"x\"},\"y\":{\"type\":\"field\",\"field\":\"y\"},\"line_alpha\":0.6,\"fill_color\":\"#30a2da\",\"fill_alpha\":0.6,\"hatch_color\":\"#30a2da\",\"hatch_alpha\":0.6}},\"nonselection_glyph\":{\"type\":\"object\",\"name\":\"Patch\",\"id\":\"p1692\",\"attributes\":{\"tags\":[\"apply_ranges\"],\"x\":{\"type\":\"field\",\"field\":\"x\"},\"y\":{\"type\":\"field\",\"field\":\"y\"},\"line_alpha\":0.6,\"fill_color\":\"#30a2da\",\"fill_alpha\":0.6,\"hatch_color\":\"#30a2da\",\"hatch_alpha\":0.1}},\"muted_glyph\":{\"type\":\"object\",\"name\":\"Patch\",\"id\":\"p1693\",\"attributes\":{\"tags\":[\"apply_ranges\"],\"x\":{\"type\":\"field\",\"field\":\"x\"},\"y\":{\"type\":\"field\",\"field\":\"y\"},\"line_alpha\":0.2,\"fill_color\":\"#30a2da\",\"fill_alpha\":0.2,\"hatch_color\":\"#30a2da\",\"hatch_alpha\":0.2}}}},{\"type\":\"object\",\"name\":\"GlyphRenderer\",\"id\":\"p1710\",\"attributes\":{\"data_source\":{\"type\":\"object\",\"name\":\"ColumnDataSource\",\"id\":\"p1700\",\"attributes\":{\"selected\":{\"type\":\"object\",\"name\":\"Selection\",\"id\":\"p1701\",\"attributes\":{\"indices\":[],\"line_indices\":[]}},\"selection_policy\":{\"type\":\"object\",\"name\":\"UnionRenderers\",\"id\":\"p1702\"},\"data\":{\"type\":\"map\",\"entries\":[[\"t\",{\"type\":\"ndarray\",\"array\":{\"type\":\"bytes\",\"data\":\"AAAAAACAUcAAAAAAAABOwAAAAAAAAEnAAAAAAAAARMAAAAAAAAA+wAAAAAAAADTAAAAAAAAAJMAAAAAAAAAAAAAAAAAAACRAAAAAAAAANEAAAAAAAAA+QAAAAAAAAERAAAAAAAAASUAAAAAAAABOQAAAAAAAgFFAAAAAAAAAVEAAAAAAAIBWQAAAAAAAAFlAAAAAAACAW0AAAAAAAABeQAAAAAAAQGBAAAAAAACAYUAAAAAAAMBiQAAAAAAAAGRAAAAAAABAZUAAAAAAAIBmQAAAAAAAwGdAAAAAAAAAaUAAAAAAAEBqQAAAAAAAgGtAAAAAAADAbEAAAAAAAABuQAEAAAAAQG9AAAAAAABAcEAAAAAAAOBwQAAAAAAAgHFAAAAAAAAgckAAAAAAAMByQAAAAAAAYHNAAAAAAAAAdEAAAAAAAKB0QAAAAAAAQHVAAAAAAADgdUAAAAAAAIB2QAAAAAAAIHdAAAAAAADAd0AAAAAAAGB4QAAAAAAAAHlAAAAAAACgeUAAAAAAAEB6QAAAAAAA4HpAAAAAAACAe0AAAAAAACB8QAAAAAAAwHxAAQAAAABgfUAAAAAAAAB+QAAAAAAAoH5AAQAAAABAf0AAAAAAAOB/QAAAAAAAQIBAAAAAAACQgEAAAAAAAOCAQAAAAAAAMIFAAAAAAACAgUAAAAAAANCBQAAAAAAAIIJAAAAAAABwgkAAAAAAAMCCQAAAAAAAEINAAAAAAABgg0AAAAAAALCDQAAAAAAAAIRAAAAAAABQhEAAAAAAAKCEQAAAAAAA8IRAAAAAAABAhUAAAAAAAJCFQAAAAAAA4IVAAAAAAAAwhkAAAAAAAICGQAAAAAAA0IZAAAAAAAAgh0AAAAAAAHCHQAAAAAAAwIdAAAAAAAAQiEAAAAAAAGCIQAAAAAAAsIhAAAAAAAAAiUAAAAAAAFCJQAAAAAAAoIlAAAAAAADwiUAAAAAAAECKQAAAAAAAkIpAAAAAAADgikAAAAAAADCLQAAAAAAAgItAAAAAAADQi0A=\"},\"shape\":[97],\"dtype\":\"float64\",\"order\":\"little\"}],[\"sum\",{\"type\":\"ndarray\",\"array\":{\"type\":\"bytes\",\"data\":\"7xzz8/KfqD+SSdiRU0eqP+lE/iFQ7pM//j4PrQjBpb+ICiUZZfS+vwhMmtb+Ocm/X9VUbcYi0L/Tcl31KGvRv1/VVG3GItC/CEya1v45yb+ICiUZZfS+v/4+D60IwaW/6UT+IVDukz+SSdiRU0eqP+8c8/Pyn6g/Tr9ojMiBjT9ObM2d7QWjv7oH2dBnBbe/mr/O/khkwL8GWnS5ug3Cv7YkI2NtMsC/TMyM37Q8t78sxqGNscGnv9VbnlsRiYG/aL87MRP0gz+qsc/NQytZP+5d/rTtcKC/RX+jaugctb++9d7kn2LBvw3Iclbwuca/9IC7YtElyb8Dy7MS0hHIv3OErvgF68O/F9oqx+jzu7+bNug91+2vv6sv2sdwwpy/foTqxL5Rjr82BoK4uouYv41QuNuueqm//Pik7GPBtL963KgV7eq6v0qoU6Kmm7y/J7iejvm7uL8lmflBaySwv2a2i98Gs5W/60USTtebjj/78vB59TegPyGO23iYfZQ/qZgbSBLIlb9ZX014crC1v1HGekp19MO/mJGltI7Ky7/vEIjBdybQv3cCOAVdHNC/QFG3coB1y7+bBOJ89iLDv7QM/nWUnrK/7F/xa/J4ar/JbyA9WpilP64qJ4C5Xqs/meeYdt6/nj9s5BBpJKiTv8URTJmzFbS/J39QKYiZwL8ulUTHmy7Ev6Pg9WsjwsO/QTlKoU7/vr9xSGu8iG2xv4KLFaYbh4e/rVsmt/UIoD8Yu8P6oO6nP6XXsyKzhZ0/Xv0YQoGDk7931mBWqNG1v0e7dOnqlcO/wcOWZlhLyr/UcteanmzNv33xcgfWWsy/A2EZhPSXx79xvX5mN5fAv9HgVqbslLK/k7XUY+V6nL/O/DB20AZ1vzdYKT269ny/KFxF+e85nb/2NTlqryKuv2HnLmjz27W/E58QBYACub8Rec6cL0a3vz5FCcEhO7G/fxNSsAExor/daUgh8A2Av3IuLQLP2W8/g7pGVScmgL9+QkQfq1qmvylBavwXqbi/uSQj39CTw78=\"},\"shape\":[97],\"dtype\":\"float64\",\"order\":\"little\"}],[\"sum_std\",{\"type\":\"ndarray\",\"array\":{\"type\":\"bytes\",\"data\":\"hdCAaZRHUj74PoZPPKHdPs3es39joOY+sHXWdT/n5j4bIaFydWDhPm358fQyvNI++EaGyxfmtD5pHVVNEHWvO/hGhssX5rQ+bfnx9DK80j4bIaFydWDhPrB11nU/5+Y+zd6zf2Og5j74PoZPPKHdPoXQgGmUR1I+oNJ+EMLV4j6UnOEk1KnyPnm+MbwzT/k+23vh8rR5+z7SGnwWDGT4Pk1oehA5q/A+crngU3y+2D5K9Ph9a6PRPlrREtNT2ug+2ZpzrPzF7z4fEnaUwi/sPmlA6aYYWt8+/lTiiB0Xqj6eoPGYwzviPgS/IV3u1+w+uRdZrPDs7T6zAxRspMHkPq0JCEWkgL0+819+nnx44D77ZTLSHOTwPjhykHNmbfU+bTl3sAcx9D47DAubYR/qPo4d/vPWJLg+In7a31mN5z6Zxx/OFZr3PjG/DXTWH/8+BQCfGG5MAD+ORrxOP9D7PjIHMQxoH/I+z5XLYlIY2D6klmO3oynWPotT9laS+Os+ELxzbpzA8T6alRDemanwPsDaA2FFuuc+L9cefY2c1T6PifCTaDicPp7TGZ1Z2M4+sgY9nC4X0D7a2ixa/RS1PhkmJnms68Y+78+8uRNo2j4qnGesmyvgPvrwI2RE6dg+5olro2qFsD7D40CU/YPZPoo/h7LOLuw+Otdm8mr58z6GGbc71FX2PvYtkt0Yc/Q+AkDBg5qZ7T5VUPk/r83bPiJ1TUBUHK0+RfzyC1d/2j5wv1H9D3HhPobVEfVpd9s+7VwP8UC2vz4evN+YLB7QPlCz0BTBt+E+VckoTTUF5T4CBlqYwsbfPudGEXEbPLc+awN5Ythw3T4ggxh2wvnvPgRcLDD5ufU+PNbv2np29j6FGg1CN1PxPtNNd5OjAdw+4WMr7NF92T5ltj8p573zPvcw5B0E7P0+8wonzZo5AT9OIC2MZR8AP1fMUcq55vc+8v4u2dcM5z51KmTLbk+9PrYVHTIX/Ok+l+bpdAp+8z7rShRKbDX0PhdoWJJMNe8+MSmmBnod3j4=\"},\"shape\":[97],\"dtype\":\"float64\",\"order\":\"little\"}],[\"K\",[2,2,2,2,2,2,2,2,2,2,2,2,2,2,2,2,2,2,2,2,2,2,2,2,2,2,2,2,2,2,2,2,2,2,2,2,2,2,2,2,2,2,2,2,2,2,2,2,2,2,2,2,2,2,2,2,2,2,2,2,2,2,2,2,2,2,2,2,2,2,2,2,2,2,2,2,2,2,2,2,2,2,2,2,2,2,2,2,2,2,2,2,2,2,2,2,2]],[\"Q\",[0,0,0,0,0,0,0,0,0,0,0,0,0,0,0,0,0,0,0,0,0,0,0,0,0,0,0,0,0,0,0,0,0,0,0,0,0,0,0,0,0,0,0,0,0,0,0,0,0,0,0,0,0,0,0,0,0,0,0,0,0,0,0,0,0,0,0,0,0,0,0,0,0,0,0,0,0,0,0,0,0,0,0,0,0,0,0,0,0,0,0,0,0,0,0,0,0]]]}}},\"view\":{\"type\":\"object\",\"name\":\"CDSView\",\"id\":\"p1711\",\"attributes\":{\"filter\":{\"type\":\"object\",\"name\":\"AllIndices\",\"id\":\"p1712\"}}},\"glyph\":{\"type\":\"object\",\"name\":\"Line\",\"id\":\"p1707\",\"attributes\":{\"tags\":[\"apply_ranges\"],\"x\":{\"type\":\"field\",\"field\":\"t\"},\"y\":{\"type\":\"field\",\"field\":\"sum\"},\"line_color\":\"#30a2da\",\"line_width\":2}},\"selection_glyph\":{\"type\":\"object\",\"name\":\"Line\",\"id\":\"p1713\",\"attributes\":{\"tags\":[\"apply_ranges\"],\"x\":{\"type\":\"field\",\"field\":\"t\"},\"y\":{\"type\":\"field\",\"field\":\"sum\"},\"line_color\":\"#30a2da\",\"line_width\":2}},\"nonselection_glyph\":{\"type\":\"object\",\"name\":\"Line\",\"id\":\"p1708\",\"attributes\":{\"tags\":[\"apply_ranges\"],\"x\":{\"type\":\"field\",\"field\":\"t\"},\"y\":{\"type\":\"field\",\"field\":\"sum\"},\"line_color\":\"#30a2da\",\"line_alpha\":0.1,\"line_width\":2}},\"muted_glyph\":{\"type\":\"object\",\"name\":\"Line\",\"id\":\"p1709\",\"attributes\":{\"tags\":[\"apply_ranges\"],\"x\":{\"type\":\"field\",\"field\":\"t\"},\"y\":{\"type\":\"field\",\"field\":\"sum\"},\"line_color\":\"#30a2da\",\"line_alpha\":0.2,\"line_width\":2}}}},{\"type\":\"object\",\"name\":\"GlyphRenderer\",\"id\":\"p1724\",\"attributes\":{\"data_source\":{\"type\":\"object\",\"name\":\"ColumnDataSource\",\"id\":\"p1714\",\"attributes\":{\"selected\":{\"type\":\"object\",\"name\":\"Selection\",\"id\":\"p1715\",\"attributes\":{\"indices\":[],\"line_indices\":[]}},\"selection_policy\":{\"type\":\"object\",\"name\":\"UnionRenderers\",\"id\":\"p1716\"},\"data\":{\"type\":\"map\",\"entries\":[[\"x\",{\"type\":\"ndarray\",\"array\":{\"type\":\"bytes\",\"data\":\"uv///8T////O////2P///+L////s////9v///wAAAAAKAAAAFAAAAB4AAAAoAAAAMgAAADwAAABGAAAAUAAAAFoAAABkAAAAbgAAAHgAAACCAAAAjAAAAJYAAACgAAAAqgAAALQAAAC+AAAAyAAAANIAAADcAAAA5gAAAPAAAAD6AAAABAEAAA4BAAAYAQAAIgEAACwBAAA2AQAAQAEAAEoBAABUAQAAXgEAAGgBAAByAQAAfAEAAIYBAACQAQAAmgEAAKQBAACuAQAAuAEAAMIBAADMAQAA1gEAAOABAADqAQAA9AEAAP4BAAAIAgAAEgIAABwCAAAmAgAAMAIAADoCAABEAgAATgIAAFgCAABiAgAAbAIAAHYCAACAAgAAigIAAJQCAACeAgAAqAIAALICAAC8AgAAxgIAANACAADaAgAA5AIAAO4CAAD4AgAAAgMAAAwDAAAWAwAAIAMAACoDAAA0AwAAPgMAAEgDAABSAwAAXAMAAGYDAABwAwAAegMAAHoDAABwAwAAZgMAAFwDAABSAwAASAMAAD4DAAA0AwAAKgMAACADAAAWAwAADAMAAAIDAAD4AgAA7gIAAOQCAADaAgAA0AIAAMYCAAC8AgAAsgIAAKgCAACeAgAAlAIAAIoCAACAAgAAdgIAAGwCAABiAgAAWAIAAE4CAABEAgAAOgIAADACAAAmAgAAHAIAABICAAAIAgAA/gEAAPQBAADqAQAA4AEAANYBAADMAQAAwgEAALgBAACuAQAApAEAAJoBAACQAQAAhgEAAHwBAAByAQAAaAEAAF4BAABUAQAASgEAAEABAAA2AQAALAEAACIBAAAYAQAADgEAAAQBAAD6AAAA8AAAAOYAAADcAAAA0gAAAMgAAAC+AAAAtAAAAKoAAACgAAAAlgAAAIwAAACCAAAAeAAAAG4AAABkAAAAWgAAAFAAAABGAAAAPAAAADIAAAAoAAAAHgAAABQAAAAKAAAAAAAAAPb////s////4v///9j////O////xP///7r///8=\"},\"shape\":[194],\"dtype\":\"int32\",\"order\":\"little\"}],[\"y\",{\"type\":\"ndarray\",\"array\":{\"type\":\"bytes\",\"data\":\"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\"},\"shape\":[194],\"dtype\":\"float64\",\"order\":\"little\"}]]}}},\"view\":{\"type\":\"object\",\"name\":\"CDSView\",\"id\":\"p1725\",\"attributes\":{\"filter\":{\"type\":\"object\",\"name\":\"AllIndices\",\"id\":\"p1726\"}}},\"glyph\":{\"type\":\"object\",\"name\":\"Patch\",\"id\":\"p1721\",\"attributes\":{\"tags\":[\"apply_ranges\"],\"x\":{\"type\":\"field\",\"field\":\"x\"},\"y\":{\"type\":\"field\",\"field\":\"y\"},\"line_alpha\":0.6,\"fill_color\":\"#fc4f30\",\"fill_alpha\":0.6,\"hatch_color\":\"#fc4f30\",\"hatch_alpha\":0.6}},\"selection_glyph\":{\"type\":\"object\",\"name\":\"Patch\",\"id\":\"p1728\",\"attributes\":{\"tags\":[\"apply_ranges\"],\"x\":{\"type\":\"field\",\"field\":\"x\"},\"y\":{\"type\":\"field\",\"field\":\"y\"},\"line_alpha\":0.6,\"fill_color\":\"#fc4f30\",\"fill_alpha\":0.6,\"hatch_color\":\"#fc4f30\",\"hatch_alpha\":0.6}},\"nonselection_glyph\":{\"type\":\"object\",\"name\":\"Patch\",\"id\":\"p1722\",\"attributes\":{\"tags\":[\"apply_ranges\"],\"x\":{\"type\":\"field\",\"field\":\"x\"},\"y\":{\"type\":\"field\",\"field\":\"y\"},\"line_alpha\":0.6,\"fill_color\":\"#fc4f30\",\"fill_alpha\":0.6,\"hatch_color\":\"#fc4f30\",\"hatch_alpha\":0.1}},\"muted_glyph\":{\"type\":\"object\",\"name\":\"Patch\",\"id\":\"p1723\",\"attributes\":{\"tags\":[\"apply_ranges\"],\"x\":{\"type\":\"field\",\"field\":\"x\"},\"y\":{\"type\":\"field\",\"field\":\"y\"},\"line_alpha\":0.2,\"fill_color\":\"#fc4f30\",\"fill_alpha\":0.2,\"hatch_color\":\"#fc4f30\",\"hatch_alpha\":0.2}}}},{\"type\":\"object\",\"name\":\"GlyphRenderer\",\"id\":\"p1739\",\"attributes\":{\"data_source\":{\"type\":\"object\",\"name\":\"ColumnDataSource\",\"id\":\"p1729\",\"attributes\":{\"selected\":{\"type\":\"object\",\"name\":\"Selection\",\"id\":\"p1730\",\"attributes\":{\"indices\":[],\"line_indices\":[]}},\"selection_policy\":{\"type\":\"object\",\"name\":\"UnionRenderers\",\"id\":\"p1731\"},\"data\":{\"type\":\"map\",\"entries\":[[\"x\",{\"type\":\"ndarray\",\"array\":{\"type\":\"bytes\",\"data\":\"uv///8T////O////2P///+L////s////9v///wAAAAAKAAAAFAAAAB4AAAAoAAAAMgAAADwAAABGAAAAUAAAAFoAAABkAAAAbgAAAHgAAACCAAAAjAAAAJYAAACgAAAAqgAAALQAAAC+AAAAyAAAANIAAADcAAAA5gAAAPAAAAD6AAAABAEAAA4BAAAYAQAAIgEAACwBAAA2AQAAQAEAAEoBAABUAQAAXgEAAGgBAAByAQAAfAEAAIYBAACQAQAAmgEAAKQBAACuAQAAuAEAAMIBAADMAQAA1gEAAOABAADqAQAA9AEAAP4BAAAIAgAAEgIAABwCAAAmAgAAMAIAADoCAABEAgAATgIAAFgCAABiAgAAbAIAAHYCAACAAgAAigIAAJQCAACeAgAAqAIAALICAAC8AgAAxgIAANACAADaAgAA5AIAAO4CAAD4AgAAAgMAAAwDAAAWAwAAIAMAACoDAAA0AwAAPgMAAEgDAABSAwAAXAMAAGYDAABwAwAAegMAAHoDAABwAwAAZgMAAFwDAABSAwAASAMAAD4DAAA0AwAAKgMAACADAAAWAwAADAMAAAIDAAD4AgAA7gIAAOQCAADaAgAA0AIAAMYCAAC8AgAAsgIAAKgCAACeAgAAlAIAAIoCAACAAgAAdgIAAGwCAABiAgAAWAIAAE4CAABEAgAAOgIAADACAAAmAgAAHAIAABICAAAIAgAA/gEAAPQBAADqAQAA4AEAANYBAADMAQAAwgEAALgBAACuAQAApAEAAJoBAACQAQAAhgEAAHwBAAByAQAAaAEAAF4BAABUAQAASgEAAEABAAA2AQAALAEAACIBAAAYAQAADgEAAAQBAAD6AAAA8AAAAOYAAADcAAAA0gAAAMgAAAC+AAAAtAAAAKoAAACgAAAAlgAAAIwAAACCAAAAeAAAAG4AAABkAAAAWgAAAFAAAABGAAAAPAAAADIAAAAoAAAAHgAAABQAAAAKAAAAAAAAAPb////s////4v///9j////O////xP///7r///8=\"},\"shape\":[194],\"dtype\":\"int32\",\"order\":\"little\"}],[\"y\",{\"type\":\"ndarray\",\"array\":{\"type\":\"bytes\",\"data\":\"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\"},\"shape\":[194],\"dtype\":\"float64\",\"order\":\"little\"}]]}}},\"view\":{\"type\":\"object\",\"name\":\"CDSView\",\"id\":\"p1740\",\"attributes\":{\"filter\":{\"type\":\"object\",\"name\":\"AllIndices\",\"id\":\"p1741\"}}},\"glyph\":{\"type\":\"object\",\"name\":\"Patch\",\"id\":\"p1736\",\"attributes\":{\"tags\":[\"apply_ranges\"],\"x\":{\"type\":\"field\",\"field\":\"x\"},\"y\":{\"type\":\"field\",\"field\":\"y\"},\"line_alpha\":0.6,\"fill_color\":\"#e5ae38\",\"fill_alpha\":0.6,\"hatch_color\":\"#e5ae38\",\"hatch_alpha\":0.6}},\"selection_glyph\":{\"type\":\"object\",\"name\":\"Patch\",\"id\":\"p1743\",\"attributes\":{\"tags\":[\"apply_ranges\"],\"x\":{\"type\":\"field\",\"field\":\"x\"},\"y\":{\"type\":\"field\",\"field\":\"y\"},\"line_alpha\":0.6,\"fill_color\":\"#e5ae38\",\"fill_alpha\":0.6,\"hatch_color\":\"#e5ae38\",\"hatch_alpha\":0.6}},\"nonselection_glyph\":{\"type\":\"object\",\"name\":\"Patch\",\"id\":\"p1737\",\"attributes\":{\"tags\":[\"apply_ranges\"],\"x\":{\"type\":\"field\",\"field\":\"x\"},\"y\":{\"type\":\"field\",\"field\":\"y\"},\"line_alpha\":0.6,\"fill_color\":\"#e5ae38\",\"fill_alpha\":0.6,\"hatch_color\":\"#e5ae38\",\"hatch_alpha\":0.1}},\"muted_glyph\":{\"type\":\"object\",\"name\":\"Patch\",\"id\":\"p1738\",\"attributes\":{\"tags\":[\"apply_ranges\"],\"x\":{\"type\":\"field\",\"field\":\"x\"},\"y\":{\"type\":\"field\",\"field\":\"y\"},\"line_alpha\":0.2,\"fill_color\":\"#e5ae38\",\"fill_alpha\":0.2,\"hatch_color\":\"#e5ae38\",\"hatch_alpha\":0.2}}}},{\"type\":\"object\",\"name\":\"GlyphRenderer\",\"id\":\"p1754\",\"attributes\":{\"data_source\":{\"type\":\"object\",\"name\":\"ColumnDataSource\",\"id\":\"p1744\",\"attributes\":{\"selected\":{\"type\":\"object\",\"name\":\"Selection\",\"id\":\"p1745\",\"attributes\":{\"indices\":[],\"line_indices\":[]}},\"selection_policy\":{\"type\":\"object\",\"name\":\"UnionRenderers\",\"id\":\"p1746\"},\"data\":{\"type\":\"map\",\"entries\":[[\"t\",{\"type\":\"ndarray\",\"array\":{\"type\":\"bytes\",\"data\":\"uv///8T////O////2P///+L////s////9v///wAAAAAKAAAAFAAAAB4AAAAoAAAAMgAAADwAAABGAAAAUAAAAFoAAABkAAAAbgAAAHgAAACCAAAAjAAAAJYAAACgAAAAqgAAALQAAAC+AAAAyAAAANIAAADcAAAA5gAAAPAAAAD6AAAABAEAAA4BAAAYAQAAIgEAACwBAAA2AQAAQAEAAEoBAABUAQAAXgEAAGgBAAByAQAAfAEAAIYBAACQAQAAmgEAAKQBAACuAQAAuAEAAMIBAADMAQAA1gEAAOABAADqAQAA9AEAAP4BAAAIAgAAEgIAABwCAAAmAgAAMAIAADoCAABEAgAATgIAAFgCAABiAgAAbAIAAHYCAACAAgAAigIAAJQCAACeAgAAqAIAALICAAC8AgAAxgIAANACAADaAgAA5AIAAO4CAAD4AgAAAgMAAAwDAAAWAwAAIAMAACoDAAA0AwAAPgMAAEgDAABSAwAAXAMAAGYDAABwAwAAegMAAA==\"},\"shape\":[97],\"dtype\":\"int32\",\"order\":\"little\"}],[\"BLM input 0\",{\"type\":\"ndarray\",\"array\":{\"type\":\"bytes\",\"data\":\"hYgVkel0qr960XdvDiWwv6raKsZWYKe/ogtkAg0UgL8/Qn6FJ6q9vyb4qdtxWYI/vtsryudamD8TPWObBFzRv7TC7CNWq8+/s5SxrEaRyL9jfxgJ6QjBv+t+0ULGTbK/GgHOWzGFk7+jG+4UR6uBvw5eF6jA94m/PrFiOTU5ob+pXqaQCLuzv8p67f7GU7+/T/MMwWQiwr8dqLFArMHDv21uvtDg/sC/uXojh8wAuL9AGXkcsSawv1+e1WuYwZ6/uLqnv1nVlb+G7OZDVN2Yv92AvxcaW6u/lorjMS4vt7/05dJKxYzBv8+ujOnAgMe/Z1yN4AvQxr/77nh6U7LFv+0E4Jk7X8K/TKg4hx0Nu79vMXhZ0u6vv3s/V3LoxKC/sAf9ec9Rjb8dFjSRE9qiv4ireBARx6q/93hNDHQlsb8/UN/xhSS6v4kcFPJkdLm/2c3jniECtb8SjDkap2mwv4V9LHniOqK/jZutyx1jYb+TWU5OPAWAP2bzM5TcBH2/k0o0970Eo7/S8Pct/Je4v9U8/M7mn8O/RUrig7fryb8hMv4ju/jNv8lYXXcYF8+/JGxNu5lcyr/aRxEfkNzAv5XkTmrQVLG/RXUKBVmdfb+A0iy2cAmZP6BIVBggaZE/sGVwpT5lhD8VtwTLmcGev9qd4KtoCbS/OxBvveSTvL+Hv/+BNY3DvxVvsv5PDcO/DVUC6w5/vb9atAsMEbuyvzav7teSmpe/QSqiejkBdz/sp9f5H8yVP5fVKxqSuJE/H93Pnwu+i7833uG9+quyv4aNFdcsF8K/M7UXjSUyyL/7jth/Z+DKv0y091L3yci/a7wfehbQxr92pFZKEjK9v8DCzDkvGbC/yb9ywSFnmr+UyyJXSZCEvyFZkh9e5I6/PL35sUDCk7+56jh5yfWlv1xwZzbieLC/OWTJhPdLtL9+nyl35oO2v+2PsjgBNLK/8E0VnYdnqL8kgC1DD8ecv/OqTGby/JO/W+HFXOy9l7+KNLaty1Siv1Yo8oK+w7O/v/5XO5i1wL8=\"},\"shape\":[97],\"dtype\":\"float64\",\"order\":\"little\"}],[\"BLM_input_0\",{\"type\":\"ndarray\",\"array\":{\"type\":\"bytes\",\"data\":\"hYgVkel0qr960XdvDiWwv6raKsZWYKe/ogtkAg0UgL8/Qn6FJ6q9vyb4qdtxWYI/vtsryudamD8TPWObBFzRv7TC7CNWq8+/s5SxrEaRyL9jfxgJ6QjBv+t+0ULGTbK/GgHOWzGFk7+jG+4UR6uBvw5eF6jA94m/PrFiOTU5ob+pXqaQCLuzv8p67f7GU7+/T/MMwWQiwr8dqLFArMHDv21uvtDg/sC/uXojh8wAuL9AGXkcsSawv1+e1WuYwZ6/uLqnv1nVlb+G7OZDVN2Yv92AvxcaW6u/lorjMS4vt7/05dJKxYzBv8+ujOnAgMe/Z1yN4AvQxr/77nh6U7LFv+0E4Jk7X8K/TKg4hx0Nu79vMXhZ0u6vv3s/V3LoxKC/sAf9ec9Rjb8dFjSRE9qiv4ireBARx6q/93hNDHQlsb8/UN/xhSS6v4kcFPJkdLm/2c3jniECtb8SjDkap2mwv4V9LHniOqK/jZutyx1jYb+TWU5OPAWAP2bzM5TcBH2/k0o0970Eo7/S8Pct/Je4v9U8/M7mn8O/RUrig7fryb8hMv4ju/jNv8lYXXcYF8+/JGxNu5lcyr/aRxEfkNzAv5XkTmrQVLG/RXUKBVmdfb+A0iy2cAmZP6BIVBggaZE/sGVwpT5lhD8VtwTLmcGev9qd4KtoCbS/OxBvveSTvL+Hv/+BNY3DvxVvsv5PDcO/DVUC6w5/vb9atAsMEbuyvzav7teSmpe/QSqiejkBdz/sp9f5H8yVP5fVKxqSuJE/H93Pnwu+i7833uG9+quyv4aNFdcsF8K/M7UXjSUyyL/7jth/Z+DKv0y091L3yci/a7wfehbQxr92pFZKEjK9v8DCzDkvGbC/yb9ywSFnmr+UyyJXSZCEvyFZkh9e5I6/PL35sUDCk7+56jh5yfWlv1xwZzbieLC/OWTJhPdLtL9+nyl35oO2v+2PsjgBNLK/8E0VnYdnqL8kgC1DD8ecv/OqTGby/JO/W+HFXOy9l7+KNLaty1Siv1Yo8oK+w7O/v/5XO5i1wL8=\"},\"shape\":[97],\"dtype\":\"float64\",\"order\":\"little\"}],[\"ROI\",[0,0,0,0,0,0,0,0,0,0,0,0,0,0,0,0,0,0,0,0,0,0,0,0,0,0,0,0,0,0,0,0,0,0,0,0,0,0,0,0,0,0,0,0,0,0,0,0,0,0,0,0,0,0,0,0,0,0,0,0,0,0,0,0,0,0,0,0,0,0,0,0,0,0,0,0,0,0,0,0,0,0,0,0,0,0,0,0,0,0,0,0,0,0,0,0,0]]]}}},\"view\":{\"type\":\"object\",\"name\":\"CDSView\",\"id\":\"p1755\",\"attributes\":{\"filter\":{\"type\":\"object\",\"name\":\"AllIndices\",\"id\":\"p1756\"}}},\"glyph\":{\"type\":\"object\",\"name\":\"Line\",\"id\":\"p1751\",\"attributes\":{\"tags\":[\"apply_ranges\"],\"x\":{\"type\":\"field\",\"field\":\"t\"},\"y\":{\"type\":\"field\",\"field\":\"BLM input 0\"},\"line_color\":\"#fc4f30\",\"line_width\":2}},\"selection_glyph\":{\"type\":\"object\",\"name\":\"Line\",\"id\":\"p1757\",\"attributes\":{\"tags\":[\"apply_ranges\"],\"x\":{\"type\":\"field\",\"field\":\"t\"},\"y\":{\"type\":\"field\",\"field\":\"BLM input 0\"},\"line_color\":\"#fc4f30\",\"line_width\":2}},\"nonselection_glyph\":{\"type\":\"object\",\"name\":\"Line\",\"id\":\"p1752\",\"attributes\":{\"tags\":[\"apply_ranges\"],\"x\":{\"type\":\"field\",\"field\":\"t\"},\"y\":{\"type\":\"field\",\"field\":\"BLM input 0\"},\"line_color\":\"#fc4f30\",\"line_alpha\":0.1,\"line_width\":2}},\"muted_glyph\":{\"type\":\"object\",\"name\":\"Line\",\"id\":\"p1753\",\"attributes\":{\"tags\":[\"apply_ranges\"],\"x\":{\"type\":\"field\",\"field\":\"t\"},\"y\":{\"type\":\"field\",\"field\":\"BLM input 0\"},\"line_color\":\"#fc4f30\",\"line_alpha\":0.2,\"line_width\":2}}}},{\"type\":\"object\",\"name\":\"GlyphRenderer\",\"id\":\"p1768\",\"attributes\":{\"data_source\":{\"type\":\"object\",\"name\":\"ColumnDataSource\",\"id\":\"p1758\",\"attributes\":{\"selected\":{\"type\":\"object\",\"name\":\"Selection\",\"id\":\"p1759\",\"attributes\":{\"indices\":[],\"line_indices\":[]}},\"selection_policy\":{\"type\":\"object\",\"name\":\"UnionRenderers\",\"id\":\"p1760\"},\"data\":{\"type\":\"map\",\"entries\":[[\"t\",{\"type\":\"ndarray\",\"array\":{\"type\":\"bytes\",\"data\":\"uv///8T////O////2P///+L////s////9v///wAAAAAKAAAAFAAAAB4AAAAoAAAAMgAAADwAAABGAAAAUAAAAFoAAABkAAAAbgAAAHgAAACCAAAAjAAAAJYAAACgAAAAqgAAALQAAAC+AAAAyAAAANIAAADcAAAA5gAAAPAAAAD6AAAABAEAAA4BAAAYAQAAIgEAACwBAAA2AQAAQAEAAEoBAABUAQAAXgEAAGgBAAByAQAAfAEAAIYBAACQAQAAmgEAAKQBAACuAQAAuAEAAMIBAADMAQAA1gEAAOABAADqAQAA9AEAAP4BAAAIAgAAEgIAABwCAAAmAgAAMAIAADoCAABEAgAATgIAAFgCAABiAgAAbAIAAHYCAACAAgAAigIAAJQCAACeAgAAqAIAALICAAC8AgAAxgIAANACAADaAgAA5AIAAO4CAAD4AgAAAgMAAAwDAAAWAwAAIAMAACoDAAA0AwAAPgMAAEgDAABSAwAAXAMAAGYDAABwAwAAegMAAA==\"},\"shape\":[97],\"dtype\":\"int32\",\"order\":\"little\"}],[\"BLM input 0\",{\"type\":\"ndarray\",\"array\":{\"type\":\"bytes\",\"data\":\"Sr9HOsFYw7/Gta9uPuWWv8jDUmSPFZs/TkdECd/n1j9TnkcxmeqwP7vqV0lAfNI/CswsqEks0D/xZZNRuOrYP5mRnL66hdU/9R+hkfQw1D9V71yPYfvQPzPnSrFFzMY/a2i1EeMRyD8a6A7CJyG/P88vuD84Nc0/lJ7qh/AQxz/PEzH9C83MP4LmekxVHdE//Uic32Uw1D+yoCGeaknSP5Wc5q6MSdE/sZT4p1+Wzz8VRcxw/azOPx/1YqCaCcg/Nki1k+Dpyz8LxsE+rQLEP1cWbEPHVss/FIIUa98Yyz9zV6VNzXbUPzJLHDWa3NI/oEqBOAGB0T8UzhPZ7qrZP09cemFtZdU/HH7alc8o2D+muppXnB/JP5c4VMq4jcE/SQ+bp4+8xz9+jaj1VLjLP4PHTxXf6c8/PgkY09RIyT/VLPTv8MTJPw8s/2hR6tQ/rJIa+Ffd0D/U34UyzSzIP/iG+tKFrb4/69el1y2svT9EjzBWiJa+P+L3dlDB0sM/fXzK7Q2t0T//g4hi3XDPP+JxWcEi6dE/YQk0rNDz2z86aUltA7fPP3bgQwpSfto/SPatsLbE1D/VpN4s4yHPP85ji+ROSMk/vFqPSPYXwT8OPxgi+vikP9v93h3ajrg/5sJxu6n9vD/Q+xV1P3PGP9vIQkLDpsc/9P4lCvy9zj/hdR3uM3fLP4dnAv2akNE/27eg6JUozT//QjETvGPOP6UmHAqPncU/c4GuRaAhwj/CxvSCKLW7P9ARyxrt174/A6McmjEnsj/D/jR1v/XTP5JgpGvJeck/pIiyiD0E2D8dTwDvEhnYPzICUqgK+Nc/dWKzDe3gyD/lIGygkIfOP7BEk5dvM8s/DHUKjgu1vD+y6Yg+XfzDPxCctIbigrs/uD3JSgdvwz+lfg48z5rBPzoKqFzHQ8Y/eDeGUicBxz/MAMB8tTLEP1+VRso8v88/Dx47Cgooxj8KJnJs4PHOPyFYN88cLsU/BsmKvK/rxz+mTtzm6rHQP/UMkBBGo9E/HNGsGMgEzz8=\"},\"shape\":[97],\"dtype\":\"float64\",\"order\":\"little\"}],[\"BLM_input_0\",{\"type\":\"ndarray\",\"array\":{\"type\":\"bytes\",\"data\":\"Sr9HOsFYw7/Gta9uPuWWv8jDUmSPFZs/TkdECd/n1j9TnkcxmeqwP7vqV0lAfNI/CswsqEks0D/xZZNRuOrYP5mRnL66hdU/9R+hkfQw1D9V71yPYfvQPzPnSrFFzMY/a2i1EeMRyD8a6A7CJyG/P88vuD84Nc0/lJ7qh/AQxz/PEzH9C83MP4LmekxVHdE//Uic32Uw1D+yoCGeaknSP5Wc5q6MSdE/sZT4p1+Wzz8VRcxw/azOPx/1YqCaCcg/Nki1k+Dpyz8LxsE+rQLEP1cWbEPHVss/FIIUa98Yyz9zV6VNzXbUPzJLHDWa3NI/oEqBOAGB0T8UzhPZ7qrZP09cemFtZdU/HH7alc8o2D+muppXnB/JP5c4VMq4jcE/SQ+bp4+8xz9+jaj1VLjLP4PHTxXf6c8/PgkY09RIyT/VLPTv8MTJPw8s/2hR6tQ/rJIa+Ffd0D/U34UyzSzIP/iG+tKFrb4/69el1y2svT9EjzBWiJa+P+L3dlDB0sM/fXzK7Q2t0T//g4hi3XDPP+JxWcEi6dE/YQk0rNDz2z86aUltA7fPP3bgQwpSfto/SPatsLbE1D/VpN4s4yHPP85ji+ROSMk/vFqPSPYXwT8OPxgi+vikP9v93h3ajrg/5sJxu6n9vD/Q+xV1P3PGP9vIQkLDpsc/9P4lCvy9zj/hdR3uM3fLP4dnAv2akNE/27eg6JUozT//QjETvGPOP6UmHAqPncU/c4GuRaAhwj/CxvSCKLW7P9ARyxrt174/A6McmjEnsj/D/jR1v/XTP5JgpGvJeck/pIiyiD0E2D8dTwDvEhnYPzICUqgK+Nc/dWKzDe3gyD/lIGygkIfOP7BEk5dvM8s/DHUKjgu1vD+y6Yg+XfzDPxCctIbigrs/uD3JSgdvwz+lfg48z5rBPzoKqFzHQ8Y/eDeGUicBxz/MAMB8tTLEP1+VRso8v88/Dx47Cgooxj8KJnJs4PHOPyFYN88cLsU/BsmKvK/rxz+mTtzm6rHQP/UMkBBGo9E/HNGsGMgEzz8=\"},\"shape\":[97],\"dtype\":\"float64\",\"order\":\"little\"}],[\"ROI\",[1,1,1,1,1,1,1,1,1,1,1,1,1,1,1,1,1,1,1,1,1,1,1,1,1,1,1,1,1,1,1,1,1,1,1,1,1,1,1,1,1,1,1,1,1,1,1,1,1,1,1,1,1,1,1,1,1,1,1,1,1,1,1,1,1,1,1,1,1,1,1,1,1,1,1,1,1,1,1,1,1,1,1,1,1,1,1,1,1,1,1,1,1,1,1,1,1]]]}}},\"view\":{\"type\":\"object\",\"name\":\"CDSView\",\"id\":\"p1769\",\"attributes\":{\"filter\":{\"type\":\"object\",\"name\":\"AllIndices\",\"id\":\"p1770\"}}},\"glyph\":{\"type\":\"object\",\"name\":\"Line\",\"id\":\"p1765\",\"attributes\":{\"tags\":[\"apply_ranges\"],\"x\":{\"type\":\"field\",\"field\":\"t\"},\"y\":{\"type\":\"field\",\"field\":\"BLM input 0\"},\"line_color\":\"#e5ae38\",\"line_width\":2}},\"selection_glyph\":{\"type\":\"object\",\"name\":\"Line\",\"id\":\"p1771\",\"attributes\":{\"tags\":[\"apply_ranges\"],\"x\":{\"type\":\"field\",\"field\":\"t\"},\"y\":{\"type\":\"field\",\"field\":\"BLM input 0\"},\"line_color\":\"#e5ae38\",\"line_width\":2}},\"nonselection_glyph\":{\"type\":\"object\",\"name\":\"Line\",\"id\":\"p1766\",\"attributes\":{\"tags\":[\"apply_ranges\"],\"x\":{\"type\":\"field\",\"field\":\"t\"},\"y\":{\"type\":\"field\",\"field\":\"BLM input 0\"},\"line_color\":\"#e5ae38\",\"line_alpha\":0.1,\"line_width\":2}},\"muted_glyph\":{\"type\":\"object\",\"name\":\"Line\",\"id\":\"p1767\",\"attributes\":{\"tags\":[\"apply_ranges\"],\"x\":{\"type\":\"field\",\"field\":\"t\"},\"y\":{\"type\":\"field\",\"field\":\"BLM input 0\"},\"line_color\":\"#e5ae38\",\"line_alpha\":0.2,\"line_width\":2}}}}],\"toolbar\":{\"type\":\"object\",\"name\":\"Toolbar\",\"id\":\"p1639\",\"attributes\":{\"tools\":[{\"type\":\"object\",\"name\":\"HoverTool\",\"id\":\"p1628\",\"attributes\":{\"tags\":[\"hv_created\"],\"renderers\":[{\"id\":\"p1710\"}],\"tooltips\":[[\"K\",\"@{K}\"],[\"Q\",\"@{Q}\"],[\"t\",\"@{t}\"],[\"sum\",\"@{sum}\"],[\"sum_std\",\"@{sum_std}\"]]}},{\"type\":\"object\",\"name\":\"HoverTool\",\"id\":\"p1629\",\"attributes\":{\"tags\":[\"hv_created\"],\"renderers\":[{\"id\":\"p1754\"},{\"id\":\"p1768\"}],\"tooltips\":[[\"ROI\",\"@{ROI}\"],[\"t (ps)\",\"@{t}\"],[\"Beta parameters (arb)\",\"@{BLM_input_0}\"]]}},{\"type\":\"object\",\"name\":\"SaveTool\",\"id\":\"p1661\"},{\"type\":\"object\",\"name\":\"PanTool\",\"id\":\"p1662\"},{\"type\":\"object\",\"name\":\"WheelZoomTool\",\"id\":\"p1663\"},{\"type\":\"object\",\"name\":\"BoxZoomTool\",\"id\":\"p1664\",\"attributes\":{\"overlay\":{\"type\":\"object\",\"name\":\"BoxAnnotation\",\"id\":\"p1665\",\"attributes\":{\"syncable\":false,\"level\":\"overlay\",\"visible\":false,\"left_units\":\"canvas\",\"right_units\":\"canvas\",\"bottom_units\":\"canvas\",\"top_units\":\"canvas\",\"line_color\":\"black\",\"line_alpha\":1.0,\"line_width\":2,\"line_dash\":[4,4],\"fill_color\":\"lightgrey\",\"fill_alpha\":0.5}}}},{\"type\":\"object\",\"name\":\"ResetTool\",\"id\":\"p1666\"}],\"active_drag\":{\"id\":\"p1662\"},\"active_scroll\":{\"id\":\"p1663\"}}},\"left\":[{\"type\":\"object\",\"name\":\"LinearAxis\",\"id\":\"p1654\",\"attributes\":{\"ticker\":{\"type\":\"object\",\"name\":\"BasicTicker\",\"id\":\"p1657\",\"attributes\":{\"mantissas\":[1,2,5]}},\"formatter\":{\"type\":\"object\",\"name\":\"BasicTickFormatter\",\"id\":\"p1656\"},\"axis_label\":\"sum\",\"major_label_policy\":{\"type\":\"object\",\"name\":\"AllLabels\",\"id\":\"p1655\"}}}],\"below\":[{\"type\":\"object\",\"name\":\"LinearAxis\",\"id\":\"p1647\",\"attributes\":{\"ticker\":{\"type\":\"object\",\"name\":\"BasicTicker\",\"id\":\"p1650\",\"attributes\":{\"mantissas\":[1,2,5]}},\"formatter\":{\"type\":\"object\",\"name\":\"BasicTickFormatter\",\"id\":\"p1649\"},\"axis_label\":\"t\",\"major_label_policy\":{\"type\":\"object\",\"name\":\"AllLabels\",\"id\":\"p1648\"}}}],\"center\":[{\"type\":\"object\",\"name\":\"Grid\",\"id\":\"p1653\",\"attributes\":{\"axis\":{\"id\":\"p1647\"},\"ticker\":{\"id\":\"p1650\"}}},{\"type\":\"object\",\"name\":\"Grid\",\"id\":\"p1660\",\"attributes\":{\"dimension\":1,\"axis\":{\"id\":\"p1654\"},\"ticker\":{\"id\":\"p1657\"}}},{\"type\":\"object\",\"name\":\"Legend\",\"id\":\"p1697\",\"attributes\":{\"click_policy\":\"mute\",\"items\":[{\"type\":\"object\",\"name\":\"LegendItem\",\"id\":\"p1698\",\"attributes\":{\"label\":{\"type\":\"value\",\"value\":\"2, 0\"},\"renderers\":[{\"id\":\"p1694\"},{\"id\":\"p1710\"}]}},{\"type\":\"object\",\"name\":\"LegendItem\",\"id\":\"p1727\",\"attributes\":{\"label\":{\"type\":\"value\",\"value\":\"0\"},\"renderers\":[{\"id\":\"p1724\"},{\"id\":\"p1754\"}]}},{\"type\":\"object\",\"name\":\"LegendItem\",\"id\":\"p1742\",\"attributes\":{\"label\":{\"type\":\"value\",\"value\":\"1\"},\"renderers\":[{\"id\":\"p1739\"},{\"id\":\"p1768\"}]}}]}}],\"min_border_top\":10,\"min_border_bottom\":10,\"min_border_left\":10,\"min_border_right\":10,\"output_backend\":\"webgl\"}},{\"type\":\"object\",\"name\":\"Spacer\",\"id\":\"p1815\",\"attributes\":{\"name\":\"HSpacer02688\",\"stylesheets\":[\"\\n:host(.pn-loading.pn-arc):before, .pn-loading.pn-arc:before {\\n  background-image: url(\\\"data:image/svg+xml;base64,PHN2ZyB4bWxucz0iaHR0cDovL3d3dy53My5vcmcvMjAwMC9zdmciIHN0eWxlPSJtYXJnaW46IGF1dG87IGJhY2tncm91bmQ6IG5vbmU7IGRpc3BsYXk6IGJsb2NrOyBzaGFwZS1yZW5kZXJpbmc6IGF1dG87IiB2aWV3Qm94PSIwIDAgMTAwIDEwMCIgcHJlc2VydmVBc3BlY3RSYXRpbz0ieE1pZFlNaWQiPiAgPGNpcmNsZSBjeD0iNTAiIGN5PSI1MCIgZmlsbD0ibm9uZSIgc3Ryb2tlPSIjYzNjM2MzIiBzdHJva2Utd2lkdGg9IjEwIiByPSIzNSIgc3Ryb2tlLWRhc2hhcnJheT0iMTY0LjkzMzYxNDMxMzQ2NDE1IDU2Ljk3Nzg3MTQzNzgyMTM4Ij4gICAgPGFuaW1hdGVUcmFuc2Zvcm0gYXR0cmlidXRlTmFtZT0idHJhbnNmb3JtIiB0eXBlPSJyb3RhdGUiIHJlcGVhdENvdW50PSJpbmRlZmluaXRlIiBkdXI9IjFzIiB2YWx1ZXM9IjAgNTAgNTA7MzYwIDUwIDUwIiBrZXlUaW1lcz0iMDsxIj48L2FuaW1hdGVUcmFuc2Zvcm0+ICA8L2NpcmNsZT48L3N2Zz4=\\\");\\n  background-size: auto calc(min(50%, 400px));\\n}\",{\"id\":\"p1624\"},{\"id\":\"p1622\"},{\"id\":\"p1623\"}],\"margin\":0,\"sizing_mode\":\"stretch_width\",\"align\":\"start\"}}]}}],\"callbacks\":{\"type\":\"map\"}}};\n",
       "  var render_items = [{\"docid\":\"5ea6d22b-c671-4a52-ad6c-0b791d1553dc\",\"roots\":{\"p1621\":\"fa807466-7312-4616-ac42-d323776f0d39\"},\"root_ids\":[\"p1621\"]}];\n",
       "  var docs = Object.values(docs_json)\n",
       "  if (!docs) {\n",
       "    return\n",
       "  }\n",
       "  const py_version = docs[0].version.replace('rc', '-rc.').replace('.dev', '-dev.')\n",
       "  const is_dev = py_version.indexOf(\"+\") !== -1 || py_version.indexOf(\"-\") !== -1\n",
       "  function embed_document(root) {\n",
       "    var Bokeh = get_bokeh(root)\n",
       "    Bokeh.embed.embed_items_notebook(docs_json, render_items);\n",
       "    for (const render_item of render_items) {\n",
       "      for (const root_id of render_item.root_ids) {\n",
       "\tconst id_el = document.getElementById(root_id)\n",
       "\tif (id_el.children.length && (id_el.children[0].className === 'bk-root')) {\n",
       "\t  const root_el = id_el.children[0]\n",
       "\t  root_el.id = root_el.id + '-rendered'\n",
       "\t}\n",
       "      }\n",
       "    }\n",
       "  }\n",
       "  function get_bokeh(root) {\n",
       "    if (root.Bokeh === undefined) {\n",
       "      return null\n",
       "    } else if (root.Bokeh.version !== py_version && !is_dev) {\n",
       "      if (root.Bokeh.versions === undefined || !root.Bokeh.versions.has(py_version)) {\n",
       "\treturn null\n",
       "      }\n",
       "      return root.Bokeh.versions.get(py_version);\n",
       "    } else if (root.Bokeh.version === py_version) {\n",
       "      return root.Bokeh\n",
       "    }\n",
       "    return null\n",
       "  }\n",
       "  function is_loaded(root) {\n",
       "    var Bokeh = get_bokeh(root)\n",
       "    return (Bokeh != null && Bokeh.Panel !== undefined)\n",
       "  }\n",
       "  if (is_loaded(root)) {\n",
       "    embed_document(root);\n",
       "  } else {\n",
       "    var attempts = 0;\n",
       "    var timer = setInterval(function(root) {\n",
       "      if (is_loaded(root)) {\n",
       "        clearInterval(timer);\n",
       "        embed_document(root);\n",
       "      } else if (document.readyState == \"complete\") {\n",
       "        attempts++;\n",
       "        if (attempts > 200) {\n",
       "          clearInterval(timer);\n",
       "\t  var Bokeh = get_bokeh(root)\n",
       "\t  if (Bokeh == null || Bokeh.Panel == null) {\n",
       "            console.warn(\"Panel: ERROR: Unable to run Panel code because Bokeh or Panel library is missing\");\n",
       "\t  } else {\n",
       "\t    console.warn(\"Panel: WARNING: Attempting to render but not all required libraries could be resolved.\")\n",
       "\t    embed_document(root)\n",
       "\t  }\n",
       "        }\n",
       "      }\n",
       "    }, 25, root)\n",
       "  }\n",
       "})(window);</script>"
      ],
      "text/plain": [
       ":Overlay\n",
       "   .NdOverlay.I   :NdOverlay   [K,Q]\n",
       "      :Spread   [t]   (sum,sum_std)\n",
       "   .NdOverlay.II  :NdOverlay   [K,Q]\n",
       "      :Curve   [t]   (sum,sum_std)\n",
       "   .NdOverlay.III :NdOverlay   [ROI]\n",
       "      :Spread   [t]   (BLM per cycle,BLM per cycle_std)\n",
       "   .NdOverlay.IV  :NdOverlay   [ROI]\n",
       "      :Curve   [t]   (BLM input 0)"
      ]
     },
     "execution_count": 9,
     "metadata": {
      "application/vnd.holoviews_exec.v0+json": {
       "id": "p1621"
      }
     },
     "output_type": "execute_result"
    }
   ],
   "source": [
    "# Check results - run model again with best fits\n",
    "xePropsFit, modelFit, modelFitSum, modelIn, dataIn, res = calcBasicFitModel(fitOut.x, xePropsFit, dataDict, fitFlag=False)\n",
    "\n",
    "# Fitted model & components\n",
    "# (plotHyperfineModel(modelFit['129Xe'], **plotOpts) * plotHyperfineModel(modelFit['131Xe'], **plotOpts) * plotHyperfineModel(modelFitSum, **plotOpts)).opts(title=\"Isotope comparison + sum\")\n",
    "\n",
    "# Compare fit results with dataset\n",
    "from qbanalysis.plots import plotFinalDatasetBLMt\n",
    "# plotFinalDatasetBLMt(**dataDict, **plotOpts) * plotHyperfineModel(modelFitSum, **plotOpts).select(K=2).opts(**plotOpts)\n",
    "(plotHyperfineModel(modelFitSum, **plotOpts,).select(K=2).opts(**plotOpts) * plotFinalDatasetBLMt(**dataDict, **plotOpts).select(l=4)).opts(title=\"Fit (K=2) plus data (l=4)\")\n"
   ]
  },
  {
   "cell_type": "code",
   "execution_count": 10,
   "id": "61930342-04a3-43cf-8345-7f613e867b41",
   "metadata": {
    "tags": []
   },
   "outputs": [
    {
     "data": {
      "text/html": [
       "<div>\n",
       "<style scoped>\n",
       "    .dataframe tbody tr th:only-of-type {\n",
       "        vertical-align: middle;\n",
       "    }\n",
       "\n",
       "    .dataframe tbody tr th {\n",
       "        vertical-align: top;\n",
       "    }\n",
       "\n",
       "    .dataframe thead th {\n",
       "        text-align: right;\n",
       "    }\n",
       "</style>\n",
       "<table border=\"1\" class=\"dataframe\">\n",
       "  <thead>\n",
       "    <tr style=\"text-align: right;\">\n",
       "      <th></th>\n",
       "      <th></th>\n",
       "      <th></th>\n",
       "      <th></th>\n",
       "      <th>original</th>\n",
       "      <th>fit</th>\n",
       "      <th>diff</th>\n",
       "    </tr>\n",
       "    <tr>\n",
       "      <th>Isotope</th>\n",
       "      <th>I</th>\n",
       "      <th>F</th>\n",
       "      <th>F′</th>\n",
       "      <th></th>\n",
       "      <th></th>\n",
       "      <th></th>\n",
       "    </tr>\n",
       "  </thead>\n",
       "  <tbody>\n",
       "    <tr>\n",
       "      <th>129</th>\n",
       "      <th>0.5</th>\n",
       "      <th>0.5</th>\n",
       "      <th>1.5</th>\n",
       "      <td>0.2863+/-0.0005</td>\n",
       "      <td>0.291263</td>\n",
       "      <td>-0.004963</td>\n",
       "    </tr>\n",
       "    <tr>\n",
       "      <th rowspan=\"3\" valign=\"top\">131</th>\n",
       "      <th rowspan=\"3\" valign=\"top\">1.5</th>\n",
       "      <th>1.5</th>\n",
       "      <th>0.5</th>\n",
       "      <td>0.0855+/-0.0010</td>\n",
       "      <td>0.084667</td>\n",
       "      <td>0.000833</td>\n",
       "    </tr>\n",
       "    <tr>\n",
       "      <th rowspan=\"2\" valign=\"top\">2.5</th>\n",
       "      <th>1.5</th>\n",
       "      <td>0.1411+/-0.0029</td>\n",
       "      <td>0.144827</td>\n",
       "      <td>-0.003727</td>\n",
       "    </tr>\n",
       "    <tr>\n",
       "      <th>0.5</th>\n",
       "      <td>0.2276+/-0.0029</td>\n",
       "      <td>0.229494</td>\n",
       "      <td>-0.001894</td>\n",
       "    </tr>\n",
       "  </tbody>\n",
       "</table>\n",
       "</div>"
      ],
      "text/plain": [
       "                            original       fit      diff\n",
       "Isotope I   F   F′                                      \n",
       "129     0.5 0.5 1.5  0.2863+/-0.0005  0.291263 -0.004963\n",
       "131     1.5 1.5 0.5  0.0855+/-0.0010  0.084667  0.000833\n",
       "            2.5 1.5  0.1411+/-0.0029  0.144827 -0.003727\n",
       "                0.5  0.2276+/-0.0029  0.229494 -0.001894"
      ]
     },
     "execution_count": 10,
     "metadata": {},
     "output_type": "execute_result"
    }
   ],
   "source": [
    "# Check new results vs. reference case...\n",
    "compareResults(xeProps, xePropsFit)"
   ]
  },
  {
   "cell_type": "markdown",
   "id": "b852bdf3-3b37-456c-9916-09f733bcb5ef",
   "metadata": {},
   "source": [
    "Here we can see that - as expected - the fit is pretty good for the $l=4$, $ROI=0$ data. The fitted values are slightly different to the previous results (obtained via FT of the time-domain data)."
   ]
  },
  {
   "cell_type": "markdown",
   "id": "7499276e-15d5-4f2a-9445-97d1b0f79301",
   "metadata": {},
   "source": [
    "## Determine A & B parameters\n",
    "\n",
    "To further compare these new splittings with the previous results and literature, the A & B hyperfine parameters can be determined.\n",
    "\n",
    "From the measurements, the hyperfine coupling constants can be determined by fitting to the usual form (see, e.g., ref. \\cite{D_Amico_1999}):\n",
    "\\begin{equation}\n",
    "\\Delta E_{(F,F-1)}=AF+\\frac{3}{2}BF\\left(\\frac{F^{2}+\\frac{1}{2}-J(J+1)-I(I+1)}{IJ(2J-1)(2I-1)}\\right)\n",
    "\\end{equation}\n",
    "\n",
    "Note, for $^{129}\\rm{Xe}$, $\\Delta E_{(F,F-1)}=AF$ only ($B=0$)."
   ]
  },
  {
   "cell_type": "code",
   "execution_count": 11,
   "id": "aab72986-f5a7-453e-a4a5-a83f132c8432",
   "metadata": {
    "tags": []
   },
   "outputs": [
    {
     "name": "stderr",
     "output_type": "stream",
     "text": [
      "/opt/conda/lib/python3.10/site-packages/scipy/optimize/_lsq/least_squares.py:111: UserWarning: Setting `gtol` below the machine epsilon (2.22e-16) effectively disables the corresponding termination condition.\n",
      "  warn(\"Setting `{}` below the machine epsilon ({:.2e}) effectively \"\n",
      "/home/jovyan/code-share/github-share/Quantum-Beat_Photoelectron-Imaging_Spectroscopy_of_Xe_in_the_VUV/qbanalysis/basic_fitting.py:176: SettingWithCopyWarning: \n",
      "A value is trying to be set on a copy of a slice from a DataFrame.\n",
      "Try using .loc[row_indexer,col_indexer] = value instead\n",
      "\n",
      "See the caveats in the documentation: https://pandas.pydata.org/pandas-docs/stable/user_guide/indexing.html#returning-a-view-versus-a-copy\n",
      "  data129.loc[cols,'A/MHz'] = data129.loc[cols,'Splitting/cm−1']/data129.loc[cols,'F′'] * cmToMHz * phase\n"
     ]
    },
    {
     "data": {
      "text/html": [
       "<div>\n",
       "<style scoped>\n",
       "    .dataframe tbody tr th:only-of-type {\n",
       "        vertical-align: middle;\n",
       "    }\n",
       "\n",
       "    .dataframe tbody tr th {\n",
       "        vertical-align: top;\n",
       "    }\n",
       "\n",
       "    .dataframe thead th {\n",
       "        text-align: right;\n",
       "    }\n",
       "</style>\n",
       "<table border=\"1\" class=\"dataframe\">\n",
       "  <thead>\n",
       "    <tr style=\"text-align: right;\">\n",
       "      <th></th>\n",
       "      <th>Isotope</th>\n",
       "      <th>I</th>\n",
       "      <th>F</th>\n",
       "      <th>F′</th>\n",
       "      <th>A/MHz</th>\n",
       "      <th>B/MHz</th>\n",
       "      <th>Splitting/cm−1</th>\n",
       "      <th>dE</th>\n",
       "    </tr>\n",
       "  </thead>\n",
       "  <tbody>\n",
       "    <tr>\n",
       "      <th>0</th>\n",
       "      <td>129</td>\n",
       "      <td>0.5</td>\n",
       "      <td>0.5</td>\n",
       "      <td>1.5</td>\n",
       "      <td>-5821.230642</td>\n",
       "      <td>nan+/-nan</td>\n",
       "      <td>0.291263</td>\n",
       "      <td>0.291263</td>\n",
       "    </tr>\n",
       "    <tr>\n",
       "      <th>1</th>\n",
       "      <td>131</td>\n",
       "      <td>1.5</td>\n",
       "      <td>1.5</td>\n",
       "      <td>0.5</td>\n",
       "      <td>1729.302016</td>\n",
       "      <td>37.13433</td>\n",
       "      <td>0.084667</td>\n",
       "      <td>0.084667</td>\n",
       "    </tr>\n",
       "    <tr>\n",
       "      <th>2</th>\n",
       "      <td>131</td>\n",
       "      <td>1.5</td>\n",
       "      <td>2.5</td>\n",
       "      <td>1.5</td>\n",
       "      <td>1729.302016</td>\n",
       "      <td>37.13433</td>\n",
       "      <td>0.144827</td>\n",
       "      <td>0.144828</td>\n",
       "    </tr>\n",
       "    <tr>\n",
       "      <th>3</th>\n",
       "      <td>131</td>\n",
       "      <td>1.5</td>\n",
       "      <td>2.5</td>\n",
       "      <td>0.5</td>\n",
       "      <td>1729.302016</td>\n",
       "      <td>37.13433</td>\n",
       "      <td>0.229494</td>\n",
       "      <td>0.229495</td>\n",
       "    </tr>\n",
       "  </tbody>\n",
       "</table>\n",
       "</div>"
      ],
      "text/plain": [
       "   Isotope    I    F   F′        A/MHz      B/MHz  Splitting/cm−1        dE\n",
       "0      129  0.5  0.5  1.5 -5821.230642  nan+/-nan        0.291263  0.291263\n",
       "1      131  1.5  1.5  0.5  1729.302016   37.13433        0.084667  0.084667\n",
       "2      131  1.5  2.5  1.5  1729.302016   37.13433        0.144827  0.144828\n",
       "3      131  1.5  2.5  0.5  1729.302016   37.13433        0.229494  0.229495"
      ]
     },
     "execution_count": 11,
     "metadata": {},
     "output_type": "execute_result"
    }
   ],
   "source": [
    "extractABParams(xePropsFit)"
   ]
  },
  {
   "cell_type": "code",
   "execution_count": 12,
   "id": "5c429f26-48b0-4f7b-8368-057d0aec723d",
   "metadata": {
    "tags": []
   },
   "outputs": [
    {
     "data": {
      "text/html": [
       "<div>\n",
       "<style scoped>\n",
       "    .dataframe tbody tr th:only-of-type {\n",
       "        vertical-align: middle;\n",
       "    }\n",
       "\n",
       "    .dataframe tbody tr th {\n",
       "        vertical-align: top;\n",
       "    }\n",
       "\n",
       "    .dataframe thead th {\n",
       "        text-align: right;\n",
       "    }\n",
       "</style>\n",
       "<table border=\"1\" class=\"dataframe\">\n",
       "  <thead>\n",
       "    <tr style=\"text-align: right;\">\n",
       "      <th></th>\n",
       "      <th></th>\n",
       "      <th></th>\n",
       "      <th></th>\n",
       "      <th>A/MHz</th>\n",
       "      <th>B/MHz</th>\n",
       "      <th>Splitting/cm−1</th>\n",
       "    </tr>\n",
       "    <tr>\n",
       "      <th>Isotope</th>\n",
       "      <th>I</th>\n",
       "      <th>F</th>\n",
       "      <th>F′</th>\n",
       "      <th></th>\n",
       "      <th></th>\n",
       "      <th></th>\n",
       "    </tr>\n",
       "  </thead>\n",
       "  <tbody>\n",
       "    <tr>\n",
       "      <th>129</th>\n",
       "      <th>0.5</th>\n",
       "      <th>0.5</th>\n",
       "      <th>1.5</th>\n",
       "      <td>-5723+/-9</td>\n",
       "      <td>nan+/-nan</td>\n",
       "      <td>0.291263</td>\n",
       "    </tr>\n",
       "    <tr>\n",
       "      <th rowspan=\"3\" valign=\"top\">131</th>\n",
       "      <th rowspan=\"3\" valign=\"top\">1.5</th>\n",
       "      <th>1.5</th>\n",
       "      <th>0.5</th>\n",
       "      <td>1697+/-30</td>\n",
       "      <td>-8+/-7</td>\n",
       "      <td>0.084667</td>\n",
       "    </tr>\n",
       "    <tr>\n",
       "      <th rowspan=\"2\" valign=\"top\">2.5</th>\n",
       "      <th>1.5</th>\n",
       "      <td>1697+/-30</td>\n",
       "      <td>-8+/-7</td>\n",
       "      <td>0.144827</td>\n",
       "    </tr>\n",
       "    <tr>\n",
       "      <th>0.5</th>\n",
       "      <td>1697+/-30</td>\n",
       "      <td>-8+/-7</td>\n",
       "      <td>0.229494</td>\n",
       "    </tr>\n",
       "  </tbody>\n",
       "</table>\n",
       "</div>"
      ],
      "text/plain": [
       "                         A/MHz      B/MHz  Splitting/cm−1\n",
       "Isotope I   F   F′                                       \n",
       "129     0.5 0.5 1.5  -5723+/-9  nan+/-nan        0.291263\n",
       "131     1.5 1.5 0.5  1697+/-30     -8+/-7        0.084667\n",
       "            2.5 1.5  1697+/-30     -8+/-7        0.144827\n",
       "                0.5  1697+/-30     -8+/-7        0.229494"
      ]
     },
     "execution_count": 12,
     "metadata": {},
     "output_type": "execute_result"
    }
   ],
   "source": [
    "xePropsFit"
   ]
  },
  {
   "cell_type": "code",
   "execution_count": 13,
   "id": "e68b7f43-ba00-4d7b-9e41-54cfad97fda5",
   "metadata": {
    "tags": []
   },
   "outputs": [],
   "source": [
    "# # Fix splitting value (derived) - NOW IN MAIN ROUTINE\n",
    "# iso=131\n",
    "# xePropsFit.loc[(iso,1.5,2.5,1.5), dataCol] = xePropsFit.loc[(iso,1.5,2.5,0.5), dataCol] - xePropsFit.loc[(iso,1.5,1.5,0.5), dataCol]\n",
    "# xePropsFit"
   ]
  },
  {
   "cell_type": "code",
   "execution_count": 14,
   "id": "897f533f-639a-448f-a2c4-56ee0c326ea3",
   "metadata": {},
   "outputs": [
    {
     "ename": "SyntaxError",
     "evalue": "'break' outside loop (668683560.py, line 1)",
     "output_type": "error",
     "traceback": [
      "\u001b[0;36m  Cell \u001b[0;32mIn[14], line 1\u001b[0;36m\u001b[0m\n\u001b[0;31m    break\u001b[0m\n\u001b[0m    ^\u001b[0m\n\u001b[0;31mSyntaxError\u001b[0m\u001b[0;31m:\u001b[0m 'break' outside loop\n"
     ]
    }
   ],
   "source": [
    "break"
   ]
  },
  {
   "cell_type": "markdown",
   "id": "0f369e2b-fd3a-4165-b5a1-8f3150f778e9",
   "metadata": {},
   "source": [
    "### Determine A & B parameters\n",
    "\n",
    "Previously fitted in Matlab with cffit tool, see `jake-home/tmp/xe_analysis_2024_scratch/Xe_hyperfine_cftool_fit_code_041217.m`."
   ]
  },
  {
   "cell_type": "markdown",
   "id": "daebcaf0-9060-4d18-ba79-e943af620a45",
   "metadata": {},
   "source": [
    "From the measurements, the hyperfine coupling constants can be determined by fitting to the usual form (see, e.g., ref. \\cite{D_Amico_1999}):\n",
    "\\begin{equation}\n",
    "\\Delta E_{(F,F-1)}=AF+\\frac{3}{2}BF\\left(\\frac{F^{2}+\\frac{1}{2}-J(J+1)-I(I+1)}{IJ(2J-1)(2I-1)}\\right)\n",
    "\\end{equation}\n",
    "\n",
    "Note, for $^{129}\\rm{Xe}$, $\\Delta E_{(F,F-1)}=AF$ only ($B=0$)."
   ]
  },
  {
   "cell_type": "markdown",
   "id": "04674c8e-6a15-41cc-a66d-74a3496982ae",
   "metadata": {},
   "source": [
    "### Quick test with sklearn (linear)"
   ]
  },
  {
   "cell_type": "code",
   "execution_count": null,
   "id": "8ab01848-aca2-4b7b-9ed1-ed05854c4eaa",
   "metadata": {
    "tags": []
   },
   "outputs": [],
   "source": [
    "# Xe129, dE(F,F-1)=AF\n",
    "# xePropsFit[[xePropsFit.xs((129)),'A/MHz']]  #['A/MHz']= 30\n",
    "\n",
    "cmToMHz = 29979.2458\n",
    "dataCol = 'Splitting/cm−1'\n",
    "qnDF = xePropsFit.loc[(129)].index.to_frame()  # Convert to DF for easy Q.N./index value retrieval\n",
    "xePropsFit.loc[(129), 'A/MHz'] = (xePropsFit.loc[(129), dataCol]/qnDF['F′']).values * cmToMHz\n",
    "xePropsFit                                                                                                         "
   ]
  },
  {
   "cell_type": "code",
   "execution_count": null,
   "id": "68b682a3-18fa-4015-92d7-c3ea2252433c",
   "metadata": {
    "tags": []
   },
   "outputs": [],
   "source": [
    "xePropsFit.xs(131)[dataCol]"
   ]
  },
  {
   "cell_type": "code",
   "execution_count": null,
   "id": "0f782b2b-14ea-4fa3-a41f-4aef0b0d0c91",
   "metadata": {
    "tags": []
   },
   "outputs": [],
   "source": [
    "xePropsFit.xs(iso)[dataCol].to_numpy()"
   ]
  },
  {
   "cell_type": "code",
   "execution_count": null,
   "id": "9b49b8dd-b919-4e46-8392-e1eaa5f22752",
   "metadata": {
    "tags": []
   },
   "outputs": [],
   "source": [
    "qnDF['F'].to_numpy()"
   ]
  },
  {
   "cell_type": "code",
   "execution_count": null,
   "id": "bafc6f14-59c7-427b-b130-e166f4307d9b",
   "metadata": {
    "tags": []
   },
   "outputs": [],
   "source": [
    "# Xe131\n",
    "iso=131\n",
    "qnDF = xePropsFit.loc[(iso)].index.to_frame()  # Convert to DF for easy Q.N./index value retrieval\n",
    "\n",
    "# Fix splitting value (derived)\n",
    "xePropsFit.loc[(iso,1.5,2.5,1.5), dataCol] = xePropsFit.loc[(iso,1.5,2.5,0.5), dataCol] - xePropsFit.loc[(iso,1.5,1.5,0.5), dataCol]\n",
    "xePropsFit\n",
    "\n",
    "\n",
    "# Quick test with linear regression\n",
    "# https://realpython.com/linear-regression-in-python/\n",
    "# Probably want scipy.curve_fit here though, with function defined.\n",
    "from sklearn.linear_model import LinearRegression\n",
    "model = LinearRegression()\n",
    "\n",
    "# Quick test, only need 2 of these values, but should be more careful here...!\n",
    "x=qnDF['F'][0:2].to_numpy().reshape(-1,1)\n",
    "y=xePropsFit.xs(iso)[dataCol][0:2].to_numpy()\n",
    "model.fit(x,y)\n",
    "r_sq = model.score(x, y)\n",
    "print(f\"coefficient of determination: {r_sq}\")\n",
    "print(f\"intercept: {model.intercept_}\")\n",
    "print(f\"slope: {model.coef_}\")\n",
    "\n",
    "# TODO: check old work for method (not in Matlab code...?)\n",
    "# TODO: other methods? Scipy or Xarray...?\n",
    "# https://docs.xarray.dev/en/latest/generated/xarray.DataArray.curvefit.html#xarray.DataArray.curvefit"
   ]
  },
  {
   "cell_type": "markdown",
   "id": "ca39aedc-cba4-410d-9786-22167c03b00f",
   "metadata": {},
   "source": [
    "### v3 - just use PD..."
   ]
  },
  {
   "cell_type": "code",
   "execution_count": null,
   "id": "28697c8e-077b-417d-a6a0-eec78a82a568",
   "metadata": {
    "tags": []
   },
   "outputs": [],
   "source": [
    "xePropsFit"
   ]
  },
  {
   "cell_type": "code",
   "execution_count": null,
   "id": "0dfedba1-169e-413f-8408-04776f1685bb",
   "metadata": {
    "tags": []
   },
   "outputs": [],
   "source": [
    "# Now in basic_fitting code\n",
    "\n",
    "# # xeProps.unstack(['I','F','F′'])  #['I']\n",
    "# dataPD = xeProps.reset_index()  # Unstack to cols for calculation\n",
    "\n",
    "# A = 5700\n",
    "# B = 10\n",
    "\n",
    "# def dEcalc(dataInPD, A, B):\n",
    "#     \"\"\"\n",
    "#     Calculate dE from A & B\n",
    "    \n",
    "#     The hyperfine coupling constants can be determined by fitting to the usual form (see, e.g., ref. \\cite{D_Amico_1999}):\n",
    "#     \\begin{equation}\n",
    "#     \\Delta E_{(F,F-1)}=AF+\\frac{3}{2}BF\\left(\\frac{F^{2}+\\frac{1}{2}-J(J+1)-I(I+1)}{IJ(2J-1)(2I-1)}\\right)\n",
    "#     \\end{equation}\n",
    "    \n",
    "#     NOTE: units currently set for return values only.\n",
    "#     NOTE: this version assumes PD dataframe input. Multiindex including [Isotope,I,F], or columns OK.\n",
    "    \n",
    "#     \"\"\"\n",
    "#     # Set units\n",
    "#     units = 'cm-1'\n",
    "#     cmToMHz = 29979.2458\n",
    "\n",
    "#     # Set J\n",
    "#     J=1\n",
    "    \n",
    "#     # Set data - note reset index to just use col values\n",
    "#     dataPD = dataInPD.copy()\n",
    "#     if 'I' not in dataPD.columns:\n",
    "#         dataPD = dataPD.reset_index()\n",
    "        \n",
    "        \n",
    "#     I=dataPD['I']\n",
    "#     c1=0.5-J*(J+1)-I*(I+1)\n",
    "#     c2=I*J*(2*J-1)*(2*I-1)\n",
    "#     F = dataPD['F']\n",
    "#     t1 = A*F \n",
    "#     t2 = (3/2)*B*((F**2 + c1)/c2)\n",
    "#     t2 = t2.fillna(0)\n",
    "\n",
    "#     dataOut = dataPD.copy()\n",
    "    \n",
    "#     #*** Set outputs by isotope and dF\n",
    "#     # Default case, t1 only\n",
    "#     dataOut['dE'] = t1\n",
    "    \n",
    "#     # For 131Xe, use t1+t2\n",
    "#     dataOut.loc[dataOut['Isotope']==131,'dE'] = (t1+t2)\n",
    "    \n",
    "#     # ...and replace cases with dF > 1\n",
    "#     dataOut.loc[np.abs(dataOut['F'] - dataOut['F′'])>1, 'dE'] = np.nan\n",
    "    \n",
    "#     # Cheat here, and replace with sum for known case - should automate this!\n",
    "#     # Note use of .values otherwise data with Uncertainties may not propagate correctly.\n",
    "#     dataOut.loc[(dataOut['Isotope']==131) & (dataOut['F']==2.5) & (dataOut['F′']==0.5),'dE'] = dataOut[(dataOut['Isotope']==131) & (dataOut['F']==2.5) & (dataOut['F′']==1.5)]['dE'].values + dataOut[(dataOut['Isotope']==131) & (dataOut['F']==1.5) & (dataOut['F′']==0.5)]['dE'].values\n",
    "\n",
    "    \n",
    "#     # Set units\n",
    "#     if units == 'cm-1':\n",
    "#         dataOut['dE'] = dataOut['dE']*(1/cmToMHz)\n",
    "    \n",
    "\n",
    "#     return dataOut\n",
    "\n",
    "# dataOut = dEcalc(xePropsFit, dataPD['A/MHz'], dataPD['B/MHz'])\n",
    "\n",
    "# dataOut"
   ]
  },
  {
   "cell_type": "code",
   "execution_count": null,
   "id": "8d6b42d5-c4e0-4c5c-a1ce-0210103ba344",
   "metadata": {
    "tags": []
   },
   "outputs": [],
   "source": [
    "unumpy.nominal_values(dataOut['Splitting/cm−1'] - dataOut['dE'])"
   ]
  },
  {
   "cell_type": "code",
   "execution_count": null,
   "id": "fddd601e-5d11-4d1b-b4b1-4f80fb464b7b",
   "metadata": {},
   "outputs": [],
   "source": [
    "dataOut"
   ]
  },
  {
   "cell_type": "code",
   "execution_count": null,
   "id": "c5ac6896-8493-4b84-93e6-c414a51bce43",
   "metadata": {
    "tags": []
   },
   "outputs": [],
   "source": [
    "dEcalcWrapperScipy([2000,30],xeDataInPD=data131)"
   ]
  },
  {
   "cell_type": "code",
   "execution_count": null,
   "id": "94643c18-27bf-44db-8a8d-ff4e3be6e168",
   "metadata": {
    "tags": []
   },
   "outputs": [],
   "source": [
    "data131 = xePropsFit.reset_index()\n",
    "data131 = data131.loc[data131['Isotope']==131]\n",
    "data131"
   ]
  },
  {
   "cell_type": "code",
   "execution_count": null,
   "id": "37373014-b1e8-4d2d-810f-40e7323bd591",
   "metadata": {
    "tags": []
   },
   "outputs": [],
   "source": [
    "# Now in basic fitting code\n",
    "\n",
    "# def dEcalcWrapperScipy(x0,xeDataInPD=None):\n",
    "#     \"\"\"\n",
    "#     Wrap dEcalc for Scipy least_squares...\n",
    "#     \"\"\"\n",
    "    \n",
    "#     dEOut = dEcalc(xeDataInPD, x0[0], x0[1])\n",
    "    \n",
    "#     res = ((dEOut['Splitting/cm−1'] - dEOut['dE'])**2) #.squeeze()\n",
    "    \n",
    "#     if unFlag:\n",
    "#         res = unumpy.nominal_values(res)\n",
    "    \n",
    "#     return res\n",
    "\n",
    "# # Set data to fit - NOTE 131 only!\n",
    "# data131 = xePropsFit.reset_index()   # Use reset here, xePropsFit.xs(131) drops index\n",
    "# data131 = data131.loc[data131['Isotope']==131]\n",
    "\n",
    "\n",
    "# # x0in = np.random.rand(2)\n",
    "# x0in = [2000,30]\n",
    "\n",
    "# fitOut = scipy.optimize.least_squares(dEcalcWrapperScipy, x0in, bounds = ([0,-100],[2500,100]),\n",
    "#                                       kwargs = {'xeDataInPD':data131},\n",
    "#                                       verbose = 2,\n",
    "#                                       xtol=1e-12,ftol=1e-12,gtol=1e-18)"
   ]
  },
  {
   "cell_type": "code",
   "execution_count": null,
   "id": "685f060c-4ad7-47f1-9855-2ddbfefedc0e",
   "metadata": {
    "tags": []
   },
   "outputs": [],
   "source": [
    "fitOut"
   ]
  },
  {
   "cell_type": "code",
   "execution_count": null,
   "id": "b8c65f28-e8bc-4bad-bf25-fb4dc0a8b132",
   "metadata": {
    "tags": []
   },
   "outputs": [],
   "source": [
    "fitOut.x"
   ]
  },
  {
   "cell_type": "code",
   "execution_count": null,
   "id": "ed71b978-27f8-4407-b5e5-518ae50abffe",
   "metadata": {
    "tags": []
   },
   "outputs": [],
   "source": [
    "dOut = dEcalc(data131, *fitOut.x)\n",
    "dOut"
   ]
  },
  {
   "cell_type": "code",
   "execution_count": null,
   "id": "482db88b-3612-42af-bde8-792ce2f8fba1",
   "metadata": {
    "tags": []
   },
   "outputs": [],
   "source": [
    "dataCols = xePropsFit.reset_index()   # Use reset here, xePropsFit.xs(131) drops index\n",
    "data129 = dataCols.loc[dataCols['Isotope']==129]\n",
    "\n",
    "data129.append(dOut)  #.append"
   ]
  },
  {
   "cell_type": "code",
   "execution_count": null,
   "id": "053f633a-23d6-4a32-8980-491192fffd92",
   "metadata": {
    "tags": []
   },
   "outputs": [],
   "source": [
    "import pandas as pd\n",
    "def extractABParams(xePropsFit):\n",
    "    \"\"\"\n",
    "    Determine A & B parameters from hyperfine level splittings.\n",
    "    \n",
    "    This runs a quick fit with Scipy\n",
    "    \"\"\"\n",
    "    \n",
    "    #*** Set data to fit - NOTE 131 only!\n",
    "    dataCols = xePropsFit.reset_index()   # Use reset here, xePropsFit.xs(131) drops index\n",
    "    data131 = dataCols.loc[dataCols['Isotope']==131]\n",
    "\n",
    "    #*** Extract A,B for 131Xe using Scipy fitting\n",
    "    # x0in = np.random.rand(2)\n",
    "    x0in = [2000,30]\n",
    "\n",
    "    fitOut = scipy.optimize.least_squares(dEcalcWrapperScipy, x0in, bounds = ([0,-100],[2500,100]),\n",
    "                                          kwargs = {'xeDataInPD':data131},\n",
    "                                          verbose = 0,\n",
    "                                          xtol=1e-12,ftol=1e-12,gtol=1e-18)\n",
    "    \n",
    "    # Set final results\n",
    "    dataFit = dEcalc(data131, *fitOut.x)\n",
    "    \n",
    "    # Add fitted results to table\n",
    "    dataFit['A/MHz'] = fitOut.x[0]\n",
    "    dataFit['B/MHz'] = fitOut.x[1]\n",
    "    \n",
    "    # Add 129 case back in\n",
    "    # Note phase = -1 by convention, since F<F' - now included in dE calc directly\n",
    "    # phase =-1\n",
    "    data129 = dataCols.loc[dataCols['Isotope']==129]\n",
    "    \n",
    "    # This works, but always throwing PD warning?\n",
    "    # data129.loc[data129['Isotope']==129,'A/MHz']= data129['Splitting/cm−1']/data129['F′'] * cmToMHz\n",
    "    cols = data129['Isotope']==129\n",
    "    data129.loc[cols,'A/MHz'] = data129.loc[cols,'Splitting/cm−1']/data129.loc[cols,'F′'] * cmToMHz \n",
    "    # data129.loc[cols,'dE'] = data129.loc[cols,'F′'] * data129.loc[cols,'A/MHz'] * 1/cmToMHz\n",
    "    \n",
    "    data129 = dEcalc(data129, data129['A/MHz'], np.nan)\n",
    "    \n",
    "    # data129.loc[data129.columns['A/MHz']]\n",
    "    # dF = xeData.F - xeData['F′']\n",
    "    dataOut = pd.concat([data129,dataFit])\n",
    "    \n",
    "    return dataOut"
   ]
  },
  {
   "cell_type": "code",
   "execution_count": null,
   "id": "cd6f8038-696a-42cf-8163-b0528961838d",
   "metadata": {
    "tags": []
   },
   "outputs": [],
   "source": [
    "dataCols['F']- dataCols['F′']"
   ]
  },
  {
   "cell_type": "code",
   "execution_count": null,
   "id": "1a1680fb-62da-4f58-81f4-40b53b8be258",
   "metadata": {
    "tags": []
   },
   "outputs": [],
   "source": [
    "extractABParams(xePropsFit)"
   ]
  },
  {
   "cell_type": "code",
   "execution_count": null,
   "id": "cc359c60-25dc-40ec-a5ef-d98d7b307873",
   "metadata": {
    "tags": []
   },
   "outputs": [],
   "source": [
    "Iind = dataCols['Isotope']\n",
    "dataCols.loc[Iind==129,'A/MHz']=data129['Splitting/cm−1']/data129['F′']"
   ]
  },
  {
   "cell_type": "code",
   "execution_count": null,
   "id": "2e23f2cb-c8d0-4c48-9b83-b67e63ff6b5f",
   "metadata": {
    "tags": []
   },
   "outputs": [],
   "source": [
    "dataCols"
   ]
  },
  {
   "cell_type": "code",
   "execution_count": null,
   "id": "8ad1af7f-9034-4b96-ae86-18f186a82d8b",
   "metadata": {
    "tags": []
   },
   "outputs": [],
   "source": [
    "data129.loc[,'A/MHz']=data129['Splitting/cm−1']/data129['F′']  #).values\n",
    "data129"
   ]
  },
  {
   "cell_type": "code",
   "execution_count": null,
   "id": "2f7c52f3-991f-471a-ace6-ee8bd24534d1",
   "metadata": {
    "tags": []
   },
   "outputs": [],
   "source": [
    "dataOut.columns"
   ]
  },
  {
   "cell_type": "code",
   "execution_count": null,
   "id": "2d2e2cbc-7dda-4d1e-9846-5f3e031e6159",
   "metadata": {
    "tags": []
   },
   "outputs": [],
   "source": [
    "np.abs(dataOut['F'] - dataOut['F′'])>1"
   ]
  },
  {
   "cell_type": "code",
   "execution_count": null,
   "id": "e9858230-7bc2-4b3c-8a72-0c621119d647",
   "metadata": {
    "tags": []
   },
   "outputs": [],
   "source": [
    "dataOut[np.abs(dataOut['F'] - dataOut['F′'])>1]"
   ]
  },
  {
   "cell_type": "markdown",
   "id": "5ac28f45-9237-4e2b-b9b2-2be14bebec45",
   "metadata": {},
   "source": [
    "### Use Xarray wrapper - should be easier... V2: extract from PD, then XR"
   ]
  },
  {
   "cell_type": "code",
   "execution_count": null,
   "id": "8e0dd630-d448-4c46-b8df-b8aa5ed2cb85",
   "metadata": {
    "tags": []
   },
   "outputs": [],
   "source": [
    "# xeData = xePropsFit.to_xarray()\n",
    "\n",
    "# xePropsFit.s\n",
    "dataCol = 'Splitting/cm−1'\n",
    "xePropsFit.xs(131)[dataCol]\n",
    "# unstack .to_xarray()"
   ]
  },
  {
   "cell_type": "code",
   "execution_count": null,
   "id": "467c574e-c14a-4a3b-b44d-5b4fba2406e1",
   "metadata": {
    "tags": []
   },
   "outputs": [],
   "source": [
    "# dEXR.loc[{'Isotope':131,'F':2.5,'F′':0.5, 'I':1.5}]"
   ]
  },
  {
   "cell_type": "code",
   "execution_count": null,
   "id": "95c47e7b-1497-4d43-a3ab-ed8a52517eca",
   "metadata": {
    "tags": []
   },
   "outputs": [],
   "source": [
    "# NEW APPROACH - set up specific DA for fitting...\n",
    "# THIS will return required vals only.\n",
    "xeSubSel = xePropsFit.xs(131)[dataCol][0:2].droplevel('F′').to_xarray()  # for f' too?\n",
    "A = xePropsFit.xs(131)['A/MHz'][0:2].droplevel('F′').to_xarray()\n",
    "B = xePropsFit.xs(131)['B/MHz'][0:2].droplevel('F′').to_xarray()\n",
    "\n",
    "dESubSel = dEv2(xeSubSel,A,B)\n",
    "dESubSel"
   ]
  },
  {
   "cell_type": "code",
   "execution_count": null,
   "id": "35bb5384-ca57-45fe-b3ed-d84811af1d03",
   "metadata": {
    "tags": []
   },
   "outputs": [],
   "source": [
    "xeSubSel.squeeze().hvplot()"
   ]
  },
  {
   "cell_type": "code",
   "execution_count": null,
   "id": "e9c31cc7-ad7b-466d-a971-999be53b1895",
   "metadata": {
    "tags": []
   },
   "outputs": [],
   "source": [
    "xeSubSel.squeeze() - dESubSel"
   ]
  },
  {
   "cell_type": "code",
   "execution_count": null,
   "id": "ae42d089-e3a6-449f-950f-17abe232e055",
   "metadata": {},
   "outputs": [],
   "source": [
    "# With Scipy wrapper... test return OK...\n",
    "print(dEv2WrapperScipy([2000,0],xeDataIn=xeSubSel))\n",
    "print(dEv2WrapperScipy([1697,0],xeDataIn=xeSubSel))\n",
    "print(dEv2WrapperScipy([1697,-8],xeDataIn=xeSubSel))"
   ]
  },
  {
   "cell_type": "code",
   "execution_count": null,
   "id": "487dda0f-2ff4-4e79-a16d-99a6d7a58529",
   "metadata": {
    "tags": []
   },
   "outputs": [],
   "source": [
    "# # Ah, can't pass additional args to curvefit in any case...????\n",
    "# dsFit = dESubSel.curvefit(\n",
    "\n",
    "#     coords=dESubSel.F,\n",
    "    \n",
    "#     # reduce_dims=\"I\",\n",
    "\n",
    "#     func=dEv2Wrapper,\n",
    "\n",
    "#     bounds={\"A\": (1000, 2000), \"B\": (-15, 15)},\n",
    "    \n",
    "#     param_names=[\"A\",\"B\"],\n",
    "    \n",
    "#     kwargs={'xeDataIn':dESubSel}\n",
    "\n",
    "# )\n",
    "\n",
    "# USE WRAPPER FOR SCIPY DIRECTLY... WORKING...\n",
    "#\n",
    "# Defaults give [1718.15579161,   -2.19752871], [1663.67627212,    4.42848128], [ 1.69247409e+03, -1.49524345e-01]\n",
    "# Seems more dependent on x0in than tolerances...? Could do with more points?\n",
    "# Sets B to ~0 if bounded at 0, so -ve definitely good it seems, although not well defined?\n",
    "#\n",
    "# UPDATE: had mixed new and old values... now fixed...\n",
    "#  [1729.31918052,   37.13028214]  # Seems pretty consistent vs. x0in.\n",
    "#\n",
    "# x0in = [2000,0]\n",
    "# x0in = [1500, 0]\n",
    "x0in = np.random.rand(2)\n",
    "\n",
    "fitOut = scipy.optimize.least_squares(dEv2WrapperScipy, x0in, bounds = ([0,-100],[2500,100]),\n",
    "                                      kwargs = {'xeDataIn':xeSubSel},\n",
    "                                      verbose = 2,\n",
    "                                      xtol=1e-12,ftol=1e-12,gtol=1e-18)"
   ]
  },
  {
   "cell_type": "code",
   "execution_count": null,
   "id": "68be6ebd-5732-416a-85c8-684486ebaa77",
   "metadata": {
    "tags": []
   },
   "outputs": [],
   "source": [
    "fitOut"
   ]
  },
  {
   "cell_type": "code",
   "execution_count": null,
   "id": "39f816c3-30fb-4468-96ff-82ef06656452",
   "metadata": {
    "tags": []
   },
   "outputs": [],
   "source": [
    "fitOut.x"
   ]
  },
  {
   "cell_type": "code",
   "execution_count": null,
   "id": "264f3033-591f-48e0-a68d-aee7ad22ee00",
   "metadata": {
    "tags": []
   },
   "outputs": [],
   "source": [
    "# 17/06/24: now in basic_fitting.py\n",
    "\n",
    "# # V2, testing subselected PD array > Xr\n",
    "# # Calculate dE for Xarray input - in this case all coords should match in size...\n",
    "# # A,B can be Xarray or scalar\n",
    "# # def dEv2(xeDataIn, A, B, units = 'cm-1'):\n",
    "# def dEv2(xeDataIn, A, B):\n",
    "#     \"\"\"\n",
    "#     the hyperfine coupling constants can be determined by fitting to the usual form (see, e.g., ref. \\cite{D_Amico_1999}):\n",
    "#     \\begin{equation}\n",
    "#     \\Delta E_{(F,F-1)}=AF+\\frac{3}{2}BF\\left(\\frac{F^{2}+\\frac{1}{2}-J(J+1)-I(I+1)}{IJ(2J-1)(2I-1)}\\right)\n",
    "#     \\end{equation}\n",
    "    \n",
    "#     NOTE: units currently set for return values only.\n",
    "#     \"\"\"\n",
    "#     # for iso in xeData.Isotope:\n",
    "#     #     print(item)\n",
    "#     units = 'cm-1'\n",
    "#     cmToMHz = 29979.2458\n",
    "    \n",
    "#     # Isotope terms\n",
    "#     J=1\n",
    "#     I=xeDataIn.I\n",
    "#     c1=0.5-J*(J+1)-I*(I+1)\n",
    "#     c2=I*J*(2*J-1)*(2*I-1)\n",
    "    \n",
    "#     # A/B terms\n",
    "#     F = xeDataIn.F\n",
    "#     # F = xeData['F′']  # TODO: fix 129 ordering, needs F,F' swapped! (Or enforce selection here...)\n",
    "#                         # Or swap on max value, or unique values... \n",
    "#                         # Or check on dF, xeData.F - xeData['F′'] ...?\n",
    "#     # This works, but have some redundant values still\n",
    "#     # Ffixed = xr.where(xeData.F > xeData['F′'], xeData.F, xeData['F′'])  # Check greater\n",
    "#     # F = Ffixed[:,1]\n",
    "    \n",
    "#     # Try unique vals only... Breaks 129 case...\n",
    "#     # F = xeData.F.where(xeData.F > 1)\n",
    "    \n",
    "#     # Deltas... filter on these at return?\n",
    "#     # dF = xeData.F - xeData['F′']\n",
    "    \n",
    "    \n",
    "#     t1 = A*F  #* np.sign(dF)\n",
    "    \n",
    "#     # For Xr case avoid Nan propagation\n",
    "#     if isinstance(B, xr.DataArray):\n",
    "#         if unFlag:\n",
    "#             B = xrUnFillna(B)\n",
    "#         else:\n",
    "#             B = B.fillna(0)\n",
    "        \n",
    "        \n",
    "#     t2 = (3/2)*B*((F**2 + c1)/c2)\n",
    "#     t2 = t2.fillna(0)\n",
    "    \n",
    "#     # return t1,t2,t1+t2\n",
    "    \n",
    "#     if units == 'MHz':\n",
    "#         dEout = t1+t2\n",
    "#     elif units == 'cm-1':\n",
    "#         dEout = (t1+t2)*(1/cmToMHz)\n",
    "\n",
    "#     # Check allowed terms...?\n",
    "#     # dEout = dEout.where(np.abs(dF)<2,np.nan)\n",
    "        \n",
    "        \n",
    "#     # TODO: general fix for F-F' > 1..?\n",
    "#     # dEXR.where(dEXR.F - dEXR['F′'] > 1)\n",
    "#     # Quick fix here for Xe131 case only\n",
    "#     # dEout.sel({'F':\n",
    "#     # dEout.loc[{'Isotope':131,'F':2.5,'F′':0.5, 'I':1.5}] = dEout.sel({'Isotope':131,'F':1.5,'F′':0.5, 'I':1.5}) + dEout.sel({'Isotope':131,'F':2.5,'F′':1.5, 'I':1.5})\n",
    "    \n",
    "#     if unFlag:\n",
    "#         dEout.values = unumpy.nominal_values(dEout)\n",
    "        \n",
    "#     return dEout\n",
    "\n",
    "\n",
    "# def dEv2Wrapper(xeDataInNP, A, B, xeDataIn):\n",
    "#     \"\"\"\n",
    "#     Thin wrapper for xr.curvefit.\n",
    "    \n",
    "#     Just swap NP data as passed for XR data to use existing function\n",
    "#     \"\"\"\n",
    "    \n",
    "#     dEOut = dEv2(xeDataIn, A, B)\n",
    "    \n",
    "#     return dEout\n",
    "\n",
    "    \n",
    "# def dEv2WrapperScipy(x0,xeDataIn=None):\n",
    "#     \"\"\"\n",
    "#     ... and wrap for Scipy least_squares...\n",
    "#     \"\"\"\n",
    "    \n",
    "#     dEOut = dEv2(xeDataIn, x0[0], x0[1])\n",
    "    \n",
    "#     res = ((xeDataIn - dEOut)**2).squeeze()\n",
    "    \n",
    "#     return res.values\n",
    "\n",
    "    \n",
    "# def xrUnFillna(xrData):\n",
    "#     \"\"\"\n",
    "#     Implement xr.fillna for Uncertainties data types.\n",
    "#     \"\"\"\n",
    "    \n",
    "#     return xrData.where(~unumpy.isnan(xrData),0)"
   ]
  },
  {
   "cell_type": "markdown",
   "id": "66f9505e-fd88-4a1f-8dcb-8cfa9b9e80ab",
   "metadata": {},
   "source": [
    "### Use Xarray wrapper - should be easier... V1: pure Xr, lots of redun"
   ]
  },
  {
   "cell_type": "code",
   "execution_count": null,
   "id": "d3d4b48a-1237-4fb5-aa26-678ca4b250ec",
   "metadata": {
    "tags": []
   },
   "outputs": [],
   "source": [
    "xeData = xePropsFit.to_xarray()\n",
    "xeData"
   ]
  },
  {
   "cell_type": "code",
   "execution_count": null,
   "id": "d1c829b3-af0d-4355-b2ed-13fae8b4133b",
   "metadata": {
    "tags": []
   },
   "outputs": [],
   "source": [
    "xeData.F"
   ]
  },
  {
   "cell_type": "code",
   "execution_count": null,
   "id": "1a42e4ea-b8c0-4b4a-820f-8705dbacc6c0",
   "metadata": {
    "tags": []
   },
   "outputs": [],
   "source": [
    "# 17/06/24: now in basic_fitting.py\n",
    "\n",
    "# # V1, assumes full PD array > Xr\n",
    "# # Calculate dE for Xarray input - in this case all coords should match in size...\n",
    "# # A,B can be Xarray or scalar\n",
    "# def dE(xeDataIn, A, B, units = 'cm-1'):\n",
    "#     \"\"\"\n",
    "#     the hyperfine coupling constants can be determined by fitting to the usual form (see, e.g., ref. \\cite{D_Amico_1999}):\n",
    "#     \\begin{equation}\n",
    "#     \\Delta E_{(F,F-1)}=AF+\\frac{3}{2}BF\\left(\\frac{F^{2}+\\frac{1}{2}-J(J+1)-I(I+1)}{IJ(2J-1)(2I-1)}\\right)\n",
    "#     \\end{equation}\n",
    "    \n",
    "#     NOTE: units currently set for return values only.\n",
    "#     \"\"\"\n",
    "#     # for iso in xeData.Isotope:\n",
    "#     #     print(item)\n",
    "#     cmToMHz = 29979.2458\n",
    "    \n",
    "#     # Isotope terms\n",
    "#     J=1\n",
    "#     I=xeDataIn.I\n",
    "#     c1=0.5-J*(J+1)-I*(I+1)\n",
    "#     c2=I*J*(2*J-1)*(2*I-1)\n",
    "    \n",
    "#     # A/B terms\n",
    "#     # F = xeDataIn.F\n",
    "#     # F = xeData['F′']  # TODO: fix 129 ordering, needs F,F' swapped! (Or enforce selection here...)\n",
    "#                         # Or swap on max value, or unique values... \n",
    "#                         # Or check on dF, xeData.F - xeData['F′'] ...?\n",
    "#     # This works, but have some redundant values still\n",
    "#     Ffixed = xr.where(xeData.F > xeData['F′'], xeData.F, xeData['F′'])  # Check greater\n",
    "#     F = Ffixed[:,1]\n",
    "    \n",
    "#     # Try unique vals only... Breaks 129 case...\n",
    "#     # F = xeData.F.where(xeData.F > 1)\n",
    "    \n",
    "#     # Deltas... filter on these at return?\n",
    "#     dF = xeData.F - xeData['F′']\n",
    "    \n",
    "    \n",
    "#     t1 = A*F* np.sign(dF)\n",
    "    \n",
    "#     # For Xr case avoid Nan propagation\n",
    "#     if isinstance(B, xr.DataArray):\n",
    "#         if unFlag:\n",
    "#             B = xrUnFillna(B)\n",
    "#         else:\n",
    "#             B = B.fillna(0)\n",
    "        \n",
    "        \n",
    "#     t2 = (3/2)*B*((F**2 + c1)/c2)\n",
    "#     t2 = t2.fillna(0)\n",
    "    \n",
    "#     # return t1,t2,t1+t2\n",
    "    \n",
    "#     if units == 'MHz':\n",
    "#         dEout = t1+t2\n",
    "#     elif units == 'cm-1':\n",
    "#         dEout = (t1+t2)*(1/cmToMHz)\n",
    "\n",
    "#     # Check allowed terms...?\n",
    "#     dEout = dEout.where(np.abs(dF)<2,np.nan)\n",
    "        \n",
    "        \n",
    "#     # TODO: general fix for F-F' > 1..?\n",
    "#     # dEXR.where(dEXR.F - dEXR['F′'] > 1)\n",
    "#     # Quick fix here for Xe131 case only\n",
    "#     # dEout.sel({'F':\n",
    "#     # dEout.loc[{'Isotope':131,'F':2.5,'F′':0.5, 'I':1.5}] = dEout.sel({'Isotope':131,'F':1.5,'F′':0.5, 'I':1.5}) + dEout.sel({'Isotope':131,'F':2.5,'F′':1.5, 'I':1.5})\n",
    "    \n",
    "    \n",
    "#     return dEout\n",
    "\n",
    "# def xrUnFillna(xrData):\n",
    "#     \"\"\"\n",
    "#     Implement xr.fillna for Uncertainties data types.\n",
    "#     \"\"\"\n",
    "    \n",
    "#     return xrData.where(~unumpy.isnan(xrData),0)"
   ]
  },
  {
   "cell_type": "code",
   "execution_count": null,
   "id": "9ca6d269-f361-46b9-805e-5c53a9cd8f83",
   "metadata": {
    "tags": []
   },
   "outputs": [],
   "source": [
    "Ffixed = xr.where(xeData.F > xeData['F′'], xeData.F, xeData['F′'])\n",
    "Ffixed[:,1]"
   ]
  },
  {
   "cell_type": "code",
   "execution_count": null,
   "id": "0be7d921-cf2a-4359-9761-a4fac8381c6d",
   "metadata": {
    "tags": []
   },
   "outputs": [],
   "source": [
    "xeData.F.where(xeData.F > 1)"
   ]
  },
  {
   "cell_type": "code",
   "execution_count": null,
   "id": "148f7a41-adec-4092-b70f-409fd403508e",
   "metadata": {
    "tags": []
   },
   "outputs": [],
   "source": [
    "dF = xeData.F - xeData['F′']\n",
    "xeData.where(np.abs(dF)<2,0)\n",
    "dF"
   ]
  },
  {
   "cell_type": "code",
   "execution_count": null,
   "id": "77ce845e-e5e2-4a17-8cf8-4989cf5ee79a",
   "metadata": {
    "tags": []
   },
   "outputs": [],
   "source": [
    "xeData.F"
   ]
  },
  {
   "cell_type": "code",
   "execution_count": null,
   "id": "f48b930b-3c77-4e10-a94b-a6b9c4ac7a62",
   "metadata": {
    "tags": []
   },
   "outputs": [],
   "source": [
    "dE(xeData,3,10)"
   ]
  },
  {
   "cell_type": "code",
   "execution_count": null,
   "id": "ac1a7c75-c392-4cd1-bec8-e0cf36740bcb",
   "metadata": {
    "tags": []
   },
   "outputs": [],
   "source": [
    "isinstance(xeData['B/MHz'], xr.DataArray)"
   ]
  },
  {
   "cell_type": "code",
   "execution_count": null,
   "id": "4ed511b3-15dc-47f7-8be6-d5bdd658e595",
   "metadata": {
    "tags": []
   },
   "outputs": [],
   "source": [
    "dEXR = dE(xeData, xeData['A/MHz'], xeData['B/MHz'])\n",
    "\n",
    "dEXR  #.sel(Isotope=129)"
   ]
  },
  {
   "cell_type": "code",
   "execution_count": null,
   "id": "6601013a-3d9f-4258-bc86-3d8bab7ac2f6",
   "metadata": {
    "tags": []
   },
   "outputs": [],
   "source": [
    "# Reduce to only required dim for fitting...\n",
    "dEsub = dEXR.loc[{'Isotope':131,'F':[1.5,2.5],'I':1.5}]  #.dropna()\n",
    "\n",
    "# dEsub.hvplot.line(x='F')"
   ]
  },
  {
   "cell_type": "code",
   "execution_count": null,
   "id": "8887b410-14d7-4fba-9182-fc01f3ce36ff",
   "metadata": {
    "tags": []
   },
   "outputs": [],
   "source": [
    "# dEXR.sel({'Isotope':131,'F':2.5,'F′':0.5, 'I':1.5}) = dEXR.sel({'Isotope':131,'F':1.5,'F′':0.5, 'I':1.5}) + dEXR.sel({'Isotope':131,'F':2.5,'F′':1.5, 'I':1.5})\n",
    "dEXR.loc[{'Isotope':131,'F':2.5,'F′':0.5, 'I':1.5}] = dEXR.sel({'Isotope':131,'F':1.5,'F′':0.5, 'I':1.5}) + dEXR.sel({'Isotope':131,'F':2.5,'F′':1.5, 'I':1.5})"
   ]
  },
  {
   "cell_type": "code",
   "execution_count": null,
   "id": "d5ad08ca-507d-4fa9-8c11-75e3a0753bf1",
   "metadata": {
    "tags": []
   },
   "outputs": [],
   "source": [
    "dEXR.loc[{'Isotope':131, 'I':1.5}].drop('F′')"
   ]
  },
  {
   "cell_type": "code",
   "execution_count": null,
   "id": "ce71940c-c656-42fe-8536-1a861ffa8997",
   "metadata": {
    "tags": []
   },
   "outputs": [],
   "source": [
    "Ffixed"
   ]
  },
  {
   "cell_type": "code",
   "execution_count": null,
   "id": "b0b64f2b-b7fa-4316-8192-a3a4b2513454",
   "metadata": {
    "tags": []
   },
   "outputs": [],
   "source": [
    "dEXR.loc[{'Isotope':131,'F':2.5,'F′':0.5, 'I':1.5}]"
   ]
  },
  {
   "cell_type": "code",
   "execution_count": null,
   "id": "fd52b55b-dc2a-4db3-abdf-c46c4d8770fb",
   "metadata": {
    "tags": []
   },
   "outputs": [],
   "source": [
    "dEXR.sel({'Isotope':131,'I':1.5},drop=True) #.flatten()  #.dropna()"
   ]
  },
  {
   "cell_type": "code",
   "execution_count": null,
   "id": "442d9714-5559-4149-9e39-defc01b5e8be",
   "metadata": {
    "tags": []
   },
   "outputs": [],
   "source": [
    "dEXR.where(dEXR.F - dEXR['F′'] > 1)"
   ]
  },
  {
   "cell_type": "code",
   "execution_count": null,
   "id": "ae7ca307-489c-4a50-8eba-fbb413fbfb10",
   "metadata": {
    "tags": []
   },
   "outputs": [],
   "source": [
    "dE(xeData,0,0)"
   ]
  },
  {
   "cell_type": "code",
   "execution_count": null,
   "id": "7692a693-929e-4e83-bbea-27ffbdfe9bf9",
   "metadata": {
    "tags": []
   },
   "outputs": [],
   "source": [
    "F = xeData.F\n",
    "xeData['A/MHz'] * F"
   ]
  },
  {
   "cell_type": "code",
   "execution_count": null,
   "id": "58c0ddd3-50de-4b75-86ac-965f87cab4ff",
   "metadata": {
    "tags": []
   },
   "outputs": [],
   "source": [
    "B = xeData['B/MHz']\n",
    "\n",
    "J=1\n",
    "I=xeData.I\n",
    "c1=0.5-J*(J+1)-I*(I+1)\n",
    "c2=I*J*(2*J-1)*(2*I-1)\n",
    "\n",
    "# For Xr case avoid Nan propagation\n",
    "if isinstance(B, xr.DataArray):\n",
    "    B = B.fillna(0)\n",
    "\n",
    "t2 = (3/2)*B*((F**2 + c1)/c2)\n",
    "t2 = t2.fillna(0)\n",
    "t2"
   ]
  },
  {
   "cell_type": "code",
   "execution_count": null,
   "id": "41bc80f1-2810-4203-b6f4-ea2ac43f9768",
   "metadata": {
    "tags": []
   },
   "outputs": [],
   "source": [
    "# B\n",
    "# uncertainties.umath.isnan(B)\n",
    "unumpy.nominal_values(B)"
   ]
  },
  {
   "cell_type": "code",
   "execution_count": null,
   "id": "5b9df623-ee46-40af-b863-ea3d04230a82",
   "metadata": {
    "tags": []
   },
   "outputs": [],
   "source": [
    "xeData.sel(Isotope=131)['F']"
   ]
  },
  {
   "cell_type": "code",
   "execution_count": null,
   "id": "f3fdb026-04a1-4766-820a-076c03df0df0",
   "metadata": {
    "tags": []
   },
   "outputs": [],
   "source": [
    "xeData.where(F>0.5)"
   ]
  },
  {
   "cell_type": "code",
   "execution_count": null,
   "id": "988294ba-f6e5-449c-ae03-505cca86c1a8",
   "metadata": {
    "tags": []
   },
   "outputs": [],
   "source": [
    "xeData.sel(Isotope=129)['F′']"
   ]
  },
  {
   "cell_type": "code",
   "execution_count": null,
   "id": "5dd5803a-63ea-4339-9e69-717274e24ebb",
   "metadata": {},
   "outputs": [],
   "source": [
    "umath.isnan"
   ]
  },
  {
   "cell_type": "code",
   "execution_count": null,
   "id": "584b5b41-4db2-4c53-9074-803b789ac851",
   "metadata": {
    "tags": []
   },
   "outputs": [],
   "source": [
    "from uncertainties import umath\n",
    "# umath.isnan(B)\n",
    "# B.pipe(umath.isnan)\n",
    "unumpy.isnan(B)"
   ]
  },
  {
   "cell_type": "code",
   "execution_count": null,
   "id": "a8eb191b-32bf-4382-bcab-53a6c8fe5d63",
   "metadata": {
    "tags": []
   },
   "outputs": [],
   "source": [
    "B.where(~unumpy.isnan(B),0)"
   ]
  },
  {
   "cell_type": "code",
   "execution_count": null,
   "id": "04437bac-6f42-40f3-ac02-488339d9df4f",
   "metadata": {
    "tags": []
   },
   "outputs": [],
   "source": [
    "import hvplot.pandas\n",
    "xePropsFit['Splitting/cm−1'].plot()"
   ]
  },
  {
   "cell_type": "code",
   "execution_count": null,
   "id": "40104f52-3779-4aed-b4c0-13b518858893",
   "metadata": {
    "tags": []
   },
   "outputs": [],
   "source": [
    "xePropsFit.index.values"
   ]
  },
  {
   "cell_type": "code",
   "execution_count": null,
   "id": "548e4595-0b2f-46f7-87a7-9214fd52c628",
   "metadata": {},
   "outputs": [],
   "source": []
  },
  {
   "cell_type": "code",
   "execution_count": null,
   "id": "0459d3d5-b883-4eb4-9085-71ad4096015a",
   "metadata": {
    "tags": []
   },
   "outputs": [],
   "source": [
    "# xePropsFit['Splitting/cm−1'].hvplot()  # No multindex support...?\n",
    "\n",
    "# Ah, probably need to flatten - should have code elsewhere for this.\n",
    "# Quick go per https://stackoverflow.com/questions/74860179/hvplot-interactive-pd-dataframe-with-multiindex\n",
    "# Fails for Series... except with names only... can't recall how to fix this right now...\n",
    "dataPlot = xePropsFit['Splitting/cm−1'].set_axis(map(\" \".join, xePropsFit.index.names), axis=0)\n",
    "# dataPlot = xePropsFit['Splitting/cm−1'].set_axis(map(\" \".join, qnDF.columns), axis=0)\n",
    "\n",
    "# qnDF['F']\n",
    "# dataPlot = xePropsFit.set_axis(map(\" \".join, xePropsFit.index.values), axis=1)\n",
    "dataPlot.hvplot()"
   ]
  },
  {
   "cell_type": "code",
   "execution_count": null,
   "id": "a12e282b-bc40-45ef-826e-45302d543d7a",
   "metadata": {
    "tags": []
   },
   "outputs": [],
   "source": [
    "(xePropsFit.loc[(129), 'Splitting/cm−1']/xePropsFit.loc[(129)].index.to_frame()['F′']).values"
   ]
  },
  {
   "cell_type": "code",
   "execution_count": null,
   "id": "a9f856d1-2916-405c-98f6-8b6f61dd95c6",
   "metadata": {
    "tags": []
   },
   "outputs": [],
   "source": [
    "# xePropsFit.loc[(129)].index[0]\n",
    "xePropsFit.loc[(129)].index.to_frame()['F']"
   ]
  },
  {
   "cell_type": "code",
   "execution_count": null,
   "id": "cfd1e77f-6d51-426b-bd29-aee32c071a1f",
   "metadata": {
    "tags": []
   },
   "outputs": [],
   "source": [
    "xeProps"
   ]
  },
  {
   "cell_type": "markdown",
   "id": "46333c9c-e984-4695-832d-01e38cdd9f82",
   "metadata": {},
   "source": [
    "## SCRATCH"
   ]
  },
  {
   "cell_type": "code",
   "execution_count": null,
   "id": "73e1106c-faf9-4851-848c-37265fe04149",
   "metadata": {
    "tags": []
   },
   "outputs": [],
   "source": [
    "xeProps['A/MHz']"
   ]
  },
  {
   "cell_type": "code",
   "execution_count": null,
   "id": "8fda2be9-d21b-488b-81ea-e84d8aa24ba6",
   "metadata": {
    "tags": []
   },
   "outputs": [],
   "source": [
    "xeProps.xs((131,1.5,1.5,0.5))"
   ]
  },
  {
   "cell_type": "code",
   "execution_count": null,
   "id": "1a87b6b0-5b12-4465-b2cf-58cfdda4609c",
   "metadata": {
    "tags": []
   },
   "outputs": [],
   "source": [
    "xeProps.to_xarray()"
   ]
  },
  {
   "cell_type": "code",
   "execution_count": null,
   "id": "d312acf6-789a-4b48-98d2-680d3e03ae11",
   "metadata": {},
   "outputs": [],
   "source": []
  }
 ],
 "metadata": {
  "jupytext": {
   "formats": "ipynb,md:myst"
  },
  "kernelspec": {
   "display_name": "Python 3 (ipykernel)",
   "language": "python",
   "name": "python3"
  },
  "language_info": {
   "codemirror_mode": {
    "name": "ipython",
    "version": 3
   },
   "file_extension": ".py",
   "mimetype": "text/x-python",
   "name": "python",
   "nbconvert_exporter": "python",
   "pygments_lexer": "ipython3",
   "version": "3.10.11"
  }
 },
 "nbformat": 4,
 "nbformat_minor": 5
}
