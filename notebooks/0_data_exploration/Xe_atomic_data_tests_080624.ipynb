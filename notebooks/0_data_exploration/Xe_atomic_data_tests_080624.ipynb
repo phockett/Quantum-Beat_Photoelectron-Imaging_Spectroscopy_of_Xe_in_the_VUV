{
 "cells": [
  {
   "cell_type": "markdown",
   "metadata": {},
   "source": [
    "# Xe atomic data: tests for Pandas and web scraping\n",
    "08/06/24\n",
    "\n",
    "Current results per Table 1 in the manuscript, copied and reformatted to `Quantum-Beat_Photoelectron-Imaging_Spectroscopy_of_Xe_in_the_VUV/scratch/Xe_data_table.ods`\n",
    "\n",
    "TODO: check old docs, may have .ods stuff there too (but not on OSF).\n",
    "\n",
    "UPDATE: yes, see `Quantum-Beat_Photoelectron-Imaging_Spectroscopy_of_Xe_in_the_VUV/scratch/Xe_hyperfine_FT_features_270717.xls` Note this has values for different FT runs/windows etc. too.\n",
    "\n",
    "TODO: uncertainties handling...?\n",
    "\n",
    "UPDATE: yes, seems to be working OK with uncertainties after some string fixes."
   ]
  },
  {
   "cell_type": "markdown",
   "metadata": {},
   "source": [
    "## Test ODS/CSV read\n",
    "\n",
    "May need `pip install odfpy` for Open Doc files"
   ]
  },
  {
   "cell_type": "code",
   "execution_count": 69,
   "metadata": {},
   "outputs": [
    {
     "data": {
      "text/html": [
       "<div>\n",
       "<style scoped>\n",
       "    .dataframe tbody tr th:only-of-type {\n",
       "        vertical-align: middle;\n",
       "    }\n",
       "\n",
       "    .dataframe tbody tr th {\n",
       "        vertical-align: top;\n",
       "    }\n",
       "\n",
       "    .dataframe thead th {\n",
       "        text-align: right;\n",
       "    }\n",
       "</style>\n",
       "<table border=\"1\" class=\"dataframe\">\n",
       "  <thead>\n",
       "    <tr style=\"text-align: right;\">\n",
       "      <th></th>\n",
       "      <th>Isotope</th>\n",
       "      <th>I</th>\n",
       "      <th>A/MHz</th>\n",
       "      <th>B/MHz</th>\n",
       "      <th>F</th>\n",
       "      <th>F′</th>\n",
       "      <th>Splitting/cm−1</th>\n",
       "    </tr>\n",
       "  </thead>\n",
       "  <tbody>\n",
       "    <tr>\n",
       "      <th>0</th>\n",
       "      <td>129</td>\n",
       "      <td>0.5</td>\n",
       "      <td>-5723 (9)</td>\n",
       "      <td>-</td>\n",
       "      <td>0.5</td>\n",
       "      <td>1.5</td>\n",
       "      <td>0.2863 (5)</td>\n",
       "    </tr>\n",
       "    <tr>\n",
       "      <th>1</th>\n",
       "      <td>131</td>\n",
       "      <td>1.5</td>\n",
       "      <td>1697 (30)</td>\n",
       "      <td>-8 (7)</td>\n",
       "      <td>1.5</td>\n",
       "      <td>0.5</td>\n",
       "      <td>0.0855 (10)</td>\n",
       "    </tr>\n",
       "    <tr>\n",
       "      <th>2</th>\n",
       "      <td>131</td>\n",
       "      <td>1.5</td>\n",
       "      <td>1697 (30)</td>\n",
       "      <td>-8 (7)</td>\n",
       "      <td>2.5</td>\n",
       "      <td>1.5</td>\n",
       "      <td>0.1411 (29)</td>\n",
       "    </tr>\n",
       "    <tr>\n",
       "      <th>3</th>\n",
       "      <td>131</td>\n",
       "      <td>1.5</td>\n",
       "      <td>1697 (30)</td>\n",
       "      <td>-8 (7)</td>\n",
       "      <td>2.5</td>\n",
       "      <td>0.5</td>\n",
       "      <td>0.2276 (29)</td>\n",
       "    </tr>\n",
       "  </tbody>\n",
       "</table>\n",
       "</div>"
      ],
      "text/plain": [
       "   Isotope    I      A/MHz   B/MHz    F   F′ Splitting/cm−1\n",
       "0      129  0.5  -5723 (9)       -  0.5  1.5     0.2863 (5)\n",
       "1      131  1.5  1697 (30)  -8 (7)  1.5  0.5    0.0855 (10)\n",
       "2      131  1.5  1697 (30)  -8 (7)  2.5  1.5    0.1411 (29)\n",
       "3      131  1.5  1697 (30)  -8 (7)  2.5  0.5    0.2276 (29)"
      ]
     },
     "execution_count": 69,
     "metadata": {},
     "output_type": "execute_result"
    }
   ],
   "source": [
    "import pandas as pd\n",
    "\n",
    "filePath='../../scratch/Xe_data_table_fixedFractions.ods'\n",
    "rawXeHyperfineResults = pd.read_excel(filePath, sheet_name=1)\n",
    "rawXeHyperfineResults"
   ]
  },
  {
   "cell_type": "code",
   "execution_count": 12,
   "metadata": {},
   "outputs": [
    {
     "data": {
      "text/html": [
       "<div>\n",
       "<style scoped>\n",
       "    .dataframe tbody tr th:only-of-type {\n",
       "        vertical-align: middle;\n",
       "    }\n",
       "\n",
       "    .dataframe tbody tr th {\n",
       "        vertical-align: top;\n",
       "    }\n",
       "\n",
       "    .dataframe thead th {\n",
       "        text-align: right;\n",
       "    }\n",
       "</style>\n",
       "<table border=\"1\" class=\"dataframe\">\n",
       "  <thead>\n",
       "    <tr style=\"text-align: right;\">\n",
       "      <th></th>\n",
       "      <th></th>\n",
       "      <th></th>\n",
       "      <th>A/MHz</th>\n",
       "      <th>B/MHz</th>\n",
       "      <th>F′</th>\n",
       "      <th>Splitting/cm−1</th>\n",
       "    </tr>\n",
       "    <tr>\n",
       "      <th>Isotope</th>\n",
       "      <th>I</th>\n",
       "      <th>F</th>\n",
       "      <th></th>\n",
       "      <th></th>\n",
       "      <th></th>\n",
       "      <th></th>\n",
       "    </tr>\n",
       "  </thead>\n",
       "  <tbody>\n",
       "    <tr>\n",
       "      <th>129</th>\n",
       "      <th>½</th>\n",
       "      <th>½</th>\n",
       "      <td>-5723 (9)</td>\n",
       "      <td>-</td>\n",
       "      <td>3/2</td>\n",
       "      <td>0.2863 (5)</td>\n",
       "    </tr>\n",
       "    <tr>\n",
       "      <th rowspan=\"3\" valign=\"top\">131</th>\n",
       "      <th rowspan=\"3\" valign=\"top\">3/2</th>\n",
       "      <th>3/2</th>\n",
       "      <td>1697 (30)</td>\n",
       "      <td>-8 (7)</td>\n",
       "      <td>½</td>\n",
       "      <td>0.0855 (10)</td>\n",
       "    </tr>\n",
       "    <tr>\n",
       "      <th>5/2</th>\n",
       "      <td>1697 (30)</td>\n",
       "      <td>-8 (7)</td>\n",
       "      <td>3/2</td>\n",
       "      <td>0.1411 (29)</td>\n",
       "    </tr>\n",
       "    <tr>\n",
       "      <th>5/2</th>\n",
       "      <td>1697 (30)</td>\n",
       "      <td>-8 (7)</td>\n",
       "      <td>½</td>\n",
       "      <td>0.2276 (29)</td>\n",
       "    </tr>\n",
       "  </tbody>\n",
       "</table>\n",
       "</div>"
      ],
      "text/plain": [
       "                     A/MHz   B/MHz   F′ Splitting/cm−1\n",
       "Isotope I   F                                         \n",
       "129     ½   ½    -5723 (9)       -  3/2     0.2863 (5)\n",
       "131     3/2 3/2  1697 (30)  -8 (7)    ½    0.0855 (10)\n",
       "            5/2  1697 (30)  -8 (7)  3/2    0.1411 (29)\n",
       "            5/2  1697 (30)  -8 (7)    ½    0.2276 (29)"
      ]
     },
     "execution_count": 12,
     "metadata": {},
     "output_type": "execute_result"
    }
   ],
   "source": [
    "# Tidy up...\n",
    "# Note - may also need to force dtypes here...?\n",
    "rawXeHyperfineResults.set_index(['Isotope','I','F'])"
   ]
  },
  {
   "cell_type": "code",
   "execution_count": 13,
   "metadata": {},
   "outputs": [
    {
     "data": {
      "text/plain": [
       "Isotope            int64\n",
       "I                 object\n",
       "A/MHz             object\n",
       "B/MHz             object\n",
       "F                 object\n",
       "F′                object\n",
       "Splitting/cm−1    object\n",
       "dtype: object"
      ]
     },
     "execution_count": 13,
     "metadata": {},
     "output_type": "execute_result"
    }
   ],
   "source": [
    "rawXeHyperfineResults.dtypes"
   ]
  },
  {
   "cell_type": "code",
   "execution_count": 3,
   "metadata": {},
   "outputs": [
    {
     "name": "stdout",
     "output_type": "stream",
     "text": [
      "/home/paul/anaconda3/envs/epsdev-shared-100122/bin/pip\n"
     ]
    }
   ],
   "source": [
    "!which pip"
   ]
  },
  {
   "cell_type": "code",
   "execution_count": 4,
   "metadata": {},
   "outputs": [
    {
     "name": "stdout",
     "output_type": "stream",
     "text": [
      "Collecting odfpy\n",
      "  Downloading odfpy-1.4.1.tar.gz (717 kB)\n",
      "\u001b[2K     \u001b[90m━━━━━━━━━━━━━━━━━━━━━━━━━━━━━━━━━━━━━━━\u001b[0m \u001b[32m717.0/717.0 kB\u001b[0m \u001b[31m8.5 MB/s\u001b[0m eta \u001b[36m0:00:00\u001b[0m00:01\u001b[0m00:01\u001b[0m\n",
      "\u001b[?25h  Preparing metadata (setup.py) ... \u001b[?25ldone\n",
      "\u001b[?25hRequirement already satisfied: defusedxml in /home/paul/anaconda3/envs/epsdev-shared-100122/lib/python3.7/site-packages (from odfpy) (0.7.1)\n",
      "Building wheels for collected packages: odfpy\n",
      "  Building wheel for odfpy (setup.py) ... \u001b[?25ldone\n",
      "\u001b[?25h  Created wheel for odfpy: filename=odfpy-1.4.1-py2.py3-none-any.whl size=160691 sha256=658b740390f8095fe2aab2296a7e403513c428a084a0ba296fc25ed872a13106\n",
      "  Stored in directory: /home/paul/.cache/pip/wheels/e2/f4/5d/a68c656235d33455a1d0f78e877acddfa006907a6d52d7e6ee\n",
      "Successfully built odfpy\n",
      "Installing collected packages: odfpy\n",
      "Successfully installed odfpy-1.4.1\n"
     ]
    }
   ],
   "source": [
    "!pip install odfpy"
   ]
  },
  {
   "cell_type": "code",
   "execution_count": null,
   "metadata": {},
   "outputs": [],
   "source": []
  },
  {
   "cell_type": "markdown",
   "metadata": {},
   "source": [
    "## Test conversion with uncertainties"
   ]
  },
  {
   "cell_type": "code",
   "execution_count": 4,
   "metadata": {},
   "outputs": [
    {
     "data": {
      "text/plain": [
       "Index(['Isotope', 'I', 'A/MHz', 'B/MHz', 'F', 'F′', 'Splitting/cm−1'], dtype='object')"
      ]
     },
     "execution_count": 4,
     "metadata": {},
     "output_type": "execute_result"
    }
   ],
   "source": [
    "rawXeHyperfineResults.columns"
   ]
  },
  {
   "cell_type": "code",
   "execution_count": 9,
   "metadata": {},
   "outputs": [
    {
     "data": {
      "text/plain": [
       "0    -5723(9)\n",
       "1    1697(30)\n",
       "2    1697(30)\n",
       "3    1697(30)\n",
       "Name: A/MHz, dtype: object"
      ]
     },
     "execution_count": 9,
     "metadata": {},
     "output_type": "execute_result"
    }
   ],
   "source": [
    "rawXeHyperfineResults['A/MHz'].str.replace(' ','')   #.apply(string.strip)"
   ]
  },
  {
   "cell_type": "code",
   "execution_count": 12,
   "metadata": {},
   "outputs": [
    {
     "data": {
      "text/html": [
       "<div>\n",
       "<style scoped>\n",
       "    .dataframe tbody tr th:only-of-type {\n",
       "        vertical-align: middle;\n",
       "    }\n",
       "\n",
       "    .dataframe tbody tr th {\n",
       "        vertical-align: top;\n",
       "    }\n",
       "\n",
       "    .dataframe thead th {\n",
       "        text-align: right;\n",
       "    }\n",
       "</style>\n",
       "<table border=\"1\" class=\"dataframe\">\n",
       "  <thead>\n",
       "    <tr style=\"text-align: right;\">\n",
       "      <th></th>\n",
       "      <th>Isotope</th>\n",
       "      <th>I</th>\n",
       "      <th>A/MHz</th>\n",
       "      <th>B/MHz</th>\n",
       "      <th>F</th>\n",
       "      <th>F′</th>\n",
       "      <th>Splitting/cm−1</th>\n",
       "    </tr>\n",
       "  </thead>\n",
       "  <tbody>\n",
       "    <tr>\n",
       "      <th>0</th>\n",
       "      <td>129</td>\n",
       "      <td>½</td>\n",
       "      <td>-5723 (9)</td>\n",
       "      <td>-</td>\n",
       "      <td>½</td>\n",
       "      <td>3/2</td>\n",
       "      <td>0.2863 (5)</td>\n",
       "    </tr>\n",
       "    <tr>\n",
       "      <th>1</th>\n",
       "      <td>131</td>\n",
       "      <td>3/2</td>\n",
       "      <td>1697 (30)</td>\n",
       "      <td>-8 (7)</td>\n",
       "      <td>3/2</td>\n",
       "      <td>½</td>\n",
       "      <td>0.0855 (10)</td>\n",
       "    </tr>\n",
       "    <tr>\n",
       "      <th>2</th>\n",
       "      <td>131</td>\n",
       "      <td>3/2</td>\n",
       "      <td>1697 (30)</td>\n",
       "      <td>-8 (7)</td>\n",
       "      <td>5/2</td>\n",
       "      <td>3/2</td>\n",
       "      <td>0.1411 (29)</td>\n",
       "    </tr>\n",
       "    <tr>\n",
       "      <th>3</th>\n",
       "      <td>131</td>\n",
       "      <td>3/2</td>\n",
       "      <td>1697 (30)</td>\n",
       "      <td>-8 (7)</td>\n",
       "      <td>5/2</td>\n",
       "      <td>½</td>\n",
       "      <td>0.2276 (29)</td>\n",
       "    </tr>\n",
       "  </tbody>\n",
       "</table>\n",
       "</div>"
      ],
      "text/plain": [
       "   Isotope    I      A/MHz   B/MHz    F   F′ Splitting/cm−1\n",
       "0      129    ½  -5723 (9)       -    ½  3/2     0.2863 (5)\n",
       "1      131  3/2  1697 (30)  -8 (7)  3/2    ½    0.0855 (10)\n",
       "2      131  3/2  1697 (30)  -8 (7)  5/2  3/2    0.1411 (29)\n",
       "3      131  3/2  1697 (30)  -8 (7)  5/2    ½    0.2276 (29)"
      ]
     },
     "execution_count": 12,
     "metadata": {},
     "output_type": "execute_result"
    }
   ],
   "source": [
    "rawXeHyperfineResults.replace(' ','')  # Index only?"
   ]
  },
  {
   "cell_type": "code",
   "execution_count": 63,
   "metadata": {},
   "outputs": [
    {
     "data": {
      "text/html": [
       "<div>\n",
       "<style scoped>\n",
       "    .dataframe tbody tr th:only-of-type {\n",
       "        vertical-align: middle;\n",
       "    }\n",
       "\n",
       "    .dataframe tbody tr th {\n",
       "        vertical-align: top;\n",
       "    }\n",
       "\n",
       "    .dataframe thead th {\n",
       "        text-align: right;\n",
       "    }\n",
       "</style>\n",
       "<table border=\"1\" class=\"dataframe\">\n",
       "  <thead>\n",
       "    <tr style=\"text-align: right;\">\n",
       "      <th></th>\n",
       "      <th>Isotope</th>\n",
       "      <th>I</th>\n",
       "      <th>A/MHz</th>\n",
       "      <th>B/MHz</th>\n",
       "      <th>F</th>\n",
       "      <th>F′</th>\n",
       "      <th>Splitting/cm−1</th>\n",
       "    </tr>\n",
       "  </thead>\n",
       "  <tbody>\n",
       "    <tr>\n",
       "      <th>0</th>\n",
       "      <td>129</td>\n",
       "      <td>0.5</td>\n",
       "      <td>-5723(9)</td>\n",
       "      <td>nan(nan)</td>\n",
       "      <td>0.5</td>\n",
       "      <td>1.5</td>\n",
       "      <td>0.2863(5)</td>\n",
       "    </tr>\n",
       "    <tr>\n",
       "      <th>1</th>\n",
       "      <td>131</td>\n",
       "      <td>1.5</td>\n",
       "      <td>1697(30)</td>\n",
       "      <td>-8(7)</td>\n",
       "      <td>1.5</td>\n",
       "      <td>0.5</td>\n",
       "      <td>0.0855(10)</td>\n",
       "    </tr>\n",
       "    <tr>\n",
       "      <th>2</th>\n",
       "      <td>131</td>\n",
       "      <td>1.5</td>\n",
       "      <td>1697(30)</td>\n",
       "      <td>-8(7)</td>\n",
       "      <td>2.5</td>\n",
       "      <td>1.5</td>\n",
       "      <td>0.1411(29)</td>\n",
       "    </tr>\n",
       "    <tr>\n",
       "      <th>3</th>\n",
       "      <td>131</td>\n",
       "      <td>1.5</td>\n",
       "      <td>1697(30)</td>\n",
       "      <td>-8(7)</td>\n",
       "      <td>2.5</td>\n",
       "      <td>0.5</td>\n",
       "      <td>0.2276(29)</td>\n",
       "    </tr>\n",
       "  </tbody>\n",
       "</table>\n",
       "</div>"
      ],
      "text/plain": [
       "   Isotope    I     A/MHz     B/MHz    F   F′ Splitting/cm−1\n",
       "0      129  0.5  -5723(9)  nan(nan)  0.5  1.5      0.2863(5)\n",
       "1      131  1.5  1697(30)     -8(7)  1.5  0.5     0.0855(10)\n",
       "2      131  1.5  1697(30)     -8(7)  2.5  1.5     0.1411(29)\n",
       "3      131  1.5  1697(30)     -8(7)  2.5  0.5     0.2276(29)"
      ]
     },
     "execution_count": 63,
     "metadata": {},
     "output_type": "execute_result"
    }
   ],
   "source": [
    "# Lambda map...\n",
    "# Works for sub-selected cols\n",
    "# rawXeHyperfineResults[['A/MHz', 'B/MHz']].apply(lambda x: x.str.replace(' ',''))\n",
    "\n",
    "# Fails for full DF?\n",
    "# rawXeHyperfineResults.apply(lambda x: x.str.replace(' ','') if isinstance(x, str) else x, axis=1)\n",
    "\n",
    "# Applymap works overall - works elementwise.\n",
    "tidied = rawXeHyperfineResults.applymap(lambda x: x.replace(' ','') if isinstance(x, str) else x)\n",
    "tidied = tidied.replace('-','nan(nan)')\n",
    "tidied"
   ]
  },
  {
   "cell_type": "code",
   "execution_count": 64,
   "metadata": {},
   "outputs": [],
   "source": [
    "from uncertainties import ufloat_fromstr\n",
    "\n",
    "# tidied['A/MHz'].apply(lambda x: ufloat_fromstr(x))  # OK\n",
    "\n",
    "uList = ['A/MHz','B/MHz','Splitting/cm−1']\n",
    "\n",
    "tidied[uList] = tidied[uList].applymap(lambda x: ufloat_fromstr(x))  # OK"
   ]
  },
  {
   "cell_type": "code",
   "execution_count": 52,
   "metadata": {},
   "outputs": [
    {
     "data": {
      "text/plain": [
       "-5723.0+/-9.0"
      ]
     },
     "execution_count": 52,
     "metadata": {},
     "output_type": "execute_result"
    }
   ],
   "source": [
    "tidied['A/MHz'][0]"
   ]
  },
  {
   "cell_type": "code",
   "execution_count": 65,
   "metadata": {},
   "outputs": [
    {
     "data": {
      "text/html": [
       "<div>\n",
       "<style scoped>\n",
       "    .dataframe tbody tr th:only-of-type {\n",
       "        vertical-align: middle;\n",
       "    }\n",
       "\n",
       "    .dataframe tbody tr th {\n",
       "        vertical-align: top;\n",
       "    }\n",
       "\n",
       "    .dataframe thead th {\n",
       "        text-align: right;\n",
       "    }\n",
       "</style>\n",
       "<table border=\"1\" class=\"dataframe\">\n",
       "  <thead>\n",
       "    <tr style=\"text-align: right;\">\n",
       "      <th></th>\n",
       "      <th>I</th>\n",
       "      <th>F</th>\n",
       "      <th>F′</th>\n",
       "    </tr>\n",
       "  </thead>\n",
       "  <tbody>\n",
       "    <tr>\n",
       "      <th>0</th>\n",
       "      <td>0.5</td>\n",
       "      <td>0.5</td>\n",
       "      <td>1.5</td>\n",
       "    </tr>\n",
       "    <tr>\n",
       "      <th>1</th>\n",
       "      <td>1.5</td>\n",
       "      <td>1.5</td>\n",
       "      <td>0.5</td>\n",
       "    </tr>\n",
       "    <tr>\n",
       "      <th>2</th>\n",
       "      <td>1.5</td>\n",
       "      <td>2.5</td>\n",
       "      <td>1.5</td>\n",
       "    </tr>\n",
       "    <tr>\n",
       "      <th>3</th>\n",
       "      <td>1.5</td>\n",
       "      <td>2.5</td>\n",
       "      <td>0.5</td>\n",
       "    </tr>\n",
       "  </tbody>\n",
       "</table>\n",
       "</div>"
      ],
      "text/plain": [
       "     I    F   F′\n",
       "0  0.5  0.5  1.5\n",
       "1  1.5  1.5  0.5\n",
       "2  1.5  2.5  1.5\n",
       "3  1.5  2.5  0.5"
      ]
     },
     "execution_count": 65,
     "metadata": {},
     "output_type": "execute_result"
    }
   ],
   "source": [
    "# Fix fractions... EASIER TO DO THIS WITH SYMPY, or in source data...?\n",
    "# UPDATE: now fixed, set \"fraction\" rather than \"text\" in ODS sheet cell formats.\n",
    "\n",
    "# tidied[['I','F','F′']].astype(sympy)\n",
    "# tidied[['I','F','F′']].to_numeric()\n",
    "\n",
    "fList = ['I','F','F′']\n",
    "\n",
    "# tidied[fList].applymap(lambda x: x.split(\"/\"))  #.apply(lambda x: float(x[0]) / float(x[1]))\n",
    "tidied[fList]"
   ]
  },
  {
   "cell_type": "code",
   "execution_count": 66,
   "metadata": {},
   "outputs": [
    {
     "data": {
      "text/plain": [
       "Isotope             int64\n",
       "I                 float64\n",
       "A/MHz              object\n",
       "B/MHz              object\n",
       "F                 float64\n",
       "F′                float64\n",
       "Splitting/cm−1     object\n",
       "dtype: object"
      ]
     },
     "execution_count": 66,
     "metadata": {},
     "output_type": "execute_result"
    }
   ],
   "source": [
    "tidied.dtypes"
   ]
  },
  {
   "cell_type": "code",
   "execution_count": 67,
   "metadata": {},
   "outputs": [],
   "source": [
    "tidied.set_index(['Isotope','I','F'], inplace=True)"
   ]
  },
  {
   "cell_type": "code",
   "execution_count": 68,
   "metadata": {},
   "outputs": [
    {
     "data": {
      "text/html": [
       "<div>\n",
       "<style scoped>\n",
       "    .dataframe tbody tr th:only-of-type {\n",
       "        vertical-align: middle;\n",
       "    }\n",
       "\n",
       "    .dataframe tbody tr th {\n",
       "        vertical-align: top;\n",
       "    }\n",
       "\n",
       "    .dataframe thead th {\n",
       "        text-align: right;\n",
       "    }\n",
       "</style>\n",
       "<table border=\"1\" class=\"dataframe\">\n",
       "  <thead>\n",
       "    <tr style=\"text-align: right;\">\n",
       "      <th></th>\n",
       "      <th></th>\n",
       "      <th></th>\n",
       "      <th>A/MHz</th>\n",
       "      <th>B/MHz</th>\n",
       "      <th>F′</th>\n",
       "      <th>Splitting/cm−1</th>\n",
       "    </tr>\n",
       "    <tr>\n",
       "      <th>Isotope</th>\n",
       "      <th>I</th>\n",
       "      <th>F</th>\n",
       "      <th></th>\n",
       "      <th></th>\n",
       "      <th></th>\n",
       "      <th></th>\n",
       "    </tr>\n",
       "  </thead>\n",
       "  <tbody>\n",
       "    <tr>\n",
       "      <th>129</th>\n",
       "      <th>0.5</th>\n",
       "      <th>0.5</th>\n",
       "      <td>-5723+/-9</td>\n",
       "      <td>nan+/-nan</td>\n",
       "      <td>1.5</td>\n",
       "      <td>0.2863+/-0.0005</td>\n",
       "    </tr>\n",
       "    <tr>\n",
       "      <th rowspan=\"3\" valign=\"top\">131</th>\n",
       "      <th rowspan=\"3\" valign=\"top\">1.5</th>\n",
       "      <th>1.5</th>\n",
       "      <td>1697+/-30</td>\n",
       "      <td>-8+/-7</td>\n",
       "      <td>0.5</td>\n",
       "      <td>0.0855+/-0.0010</td>\n",
       "    </tr>\n",
       "    <tr>\n",
       "      <th>2.5</th>\n",
       "      <td>1697+/-30</td>\n",
       "      <td>-8+/-7</td>\n",
       "      <td>1.5</td>\n",
       "      <td>0.1411+/-0.0029</td>\n",
       "    </tr>\n",
       "    <tr>\n",
       "      <th>2.5</th>\n",
       "      <td>1697+/-30</td>\n",
       "      <td>-8+/-7</td>\n",
       "      <td>0.5</td>\n",
       "      <td>0.2276+/-0.0029</td>\n",
       "    </tr>\n",
       "  </tbody>\n",
       "</table>\n",
       "</div>"
      ],
      "text/plain": [
       "                     A/MHz      B/MHz   F′   Splitting/cm−1\n",
       "Isotope I   F                                              \n",
       "129     0.5 0.5  -5723+/-9  nan+/-nan  1.5  0.2863+/-0.0005\n",
       "131     1.5 1.5  1697+/-30     -8+/-7  0.5  0.0855+/-0.0010\n",
       "            2.5  1697+/-30     -8+/-7  1.5  0.1411+/-0.0029\n",
       "            2.5  1697+/-30     -8+/-7  0.5  0.2276+/-0.0029"
      ]
     },
     "execution_count": 68,
     "metadata": {},
     "output_type": "execute_result"
    }
   ],
   "source": [
    "tidied"
   ]
  },
  {
   "cell_type": "code",
   "execution_count": null,
   "metadata": {},
   "outputs": [],
   "source": []
  }
 ],
 "metadata": {
  "kernelspec": {
   "display_name": "Python [conda env:epsdev-shared-100122]",
   "language": "python",
   "name": "conda-env-epsdev-shared-100122-py"
  },
  "language_info": {
   "codemirror_mode": {
    "name": "ipython",
    "version": 3
   },
   "file_extension": ".py",
   "mimetype": "text/x-python",
   "name": "python",
   "nbconvert_exporter": "python",
   "pygments_lexer": "ipython3",
   "version": "3.7.10"
  }
 },
 "nbformat": 4,
 "nbformat_minor": 4
}
