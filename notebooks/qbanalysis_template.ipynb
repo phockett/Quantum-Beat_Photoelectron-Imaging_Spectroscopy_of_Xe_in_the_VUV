{
 "cells": [
  {
   "cell_type": "markdown",
   "id": "c85739d9-7685-42d2-bd3e-3765c2acecc0",
   "metadata": {
    "tags": [
     "remove-cell"
    ]
   },
   "source": [
    "Notes (hidden cell)"
   ]
  },
  {
   "cell_type": "markdown",
   "id": "cdbb0e5d-c394-4932-ace8-834d1d6db3b8",
   "metadata": {},
   "source": [
    "(page:PAGENAME)=\n",
    "# TITLE\n",
    "\n",
    "---\n",
    "\n",
    "From prior work and data:\n",
    "\n",
    "- Forbes, R. et al. (2018) ‘Quantum-beat photoelectron-imaging spectroscopy of Xe in the VUV’, Physical Review A, 97(6), p. 063417. Available at: https://doi.org/10.1103/PhysRevA.97.063417. arXiv: http://arxiv.org/abs/1803.01081, Authorea (original HTML version): https://doi.org/10.22541/au.156045380.07795038\n",
    "- Data (OSF): https://osf.io/ds8mk/\n",
    "- [Quantum Metrology with Photoelectrons (Github repo)](https://github.com/phockett/Quantum-Metrology-with-Photoelectrons), particularly the [Alignment 3 notebook](https://github.com/phockett/Quantum-Metrology-with-Photoelectrons/blob/master/Alignment/Alignment-3.ipynb). Functions from this notebook have been incorporated in the current project, under `qbanalysis.hyperfine`."
   ]
  },
  {
   "cell_type": "markdown",
   "id": "42483ec8-d1d5-411d-8240-479d0e7d203a",
   "metadata": {},
   "source": [
    "### Imports"
   ]
  },
  {
   "cell_type": "code",
   "execution_count": null,
   "id": "fa61f07b-887a-4a43-be2f-01ea5ade99c9",
   "metadata": {
    "tags": []
   },
   "outputs": [],
   "source": [
    "# Load packages\n",
    "# Main functions used herein from qbanalysis.hyperfine\n",
    "from qbanalysis.hyperfine import *\n",
    "import numpy as np\n",
    "from epsproc.sphCalc import setBLMs\n",
    "\n",
    "from pathlib import Path\n",
    "\n",
    "dataPath = Path('/tmp/xe_analysis')\n",
    "# dataTypes = ['BLMall', 'BLMerr', 'BLMerrCycle']   # Read these types, should just do dir scan here.\n",
    "\n",
    "# # Read from HDF5/NetCDF files\n",
    "# # TO FIX: this should be identical to loadFinalDataset(dataPath), but gives slightly different plots - possibly complex/real/abs confusion?\n",
    "# dataDict = {}\n",
    "# for item in dataTypes:\n",
    "#     dataDict[item] = IO.readXarray(fileName=f'Xe_dataset_{item}.nc', filePath=dataPath.as_posix()).real\n",
    "#     dataDict[item].name = item\n",
    "\n",
    "# Read from raw data files\n",
    "from qbanalysis.dataset import loadFinalDataset\n",
    "dataDict = loadFinalDataset(dataPath)\n",
    "\n",
    "# Use Pandas and load Xe local data (ODS)\n",
    "# These values were detemermined from the experimental data as detailed in ref. [4].\n",
    "from qbanalysis.dataset import loadXeProps\n",
    "xeProps = loadXeProps()"
   ]
  },
  {
   "cell_type": "code",
   "execution_count": null,
   "id": "9309bb12-6431-418b-8928-202677750bcc",
   "metadata": {
    "tags": []
   },
   "outputs": [],
   "source": [
    "# v2 pkg\n",
    "from qbanalysis.adv_fitting import * "
   ]
  },
  {
   "cell_type": "code",
   "execution_count": null,
   "id": "9aaa4a64-5591-4690-aa97-e7c4a50e4711",
   "metadata": {
    "tags": [
     "hide-cell"
    ]
   },
   "outputs": [],
   "source": [
    "# Hide future warnings from Xarray concat for fitting on some platforms\n",
    "import warnings\n",
    "# warnings.filterwarnings('ignore')  # ALL WARNINGS\n",
    "# warnings.filterwarnings('ignore', category=DeprecationWarning)\n",
    "warnings.filterwarnings('ignore', category=FutureWarning)"
   ]
  },
  {
   "cell_type": "markdown",
   "id": "8c75fb7d-ad85-4d73-8750-3f62684e4398",
   "metadata": {},
   "source": [
    "## Versions"
   ]
  },
  {
   "cell_type": "code",
   "execution_count": null,
   "id": "ccfb6755-7c92-447c-8d8e-f15d180b00b8",
   "metadata": {},
   "outputs": [],
   "source": [
    "import scooby\n",
    "scooby.Report(additional=['qbanalysis','pemtk','epsproc', 'holoviews', 'hvplot', 'xarray', 'matplotlib', 'bokeh', 'sympy', 'pandas','uncertainties'])"
   ]
  },
  {
   "cell_type": "code",
   "execution_count": null,
   "id": "2541d3b4-164d-490f-a4bf-1da01d9713b6",
   "metadata": {},
   "outputs": [],
   "source": [
    "# # Check current Git commit for local ePSproc version\n",
    "# from pathlib import Path\n",
    "# !git -C {Path(qbanalysis.__file__).parent} branch\n",
    "# !git -C {Path(qbanalysis.__file__).parent} log --format=\"%H\" -n 1"
   ]
  },
  {
   "cell_type": "code",
   "execution_count": null,
   "id": "35759f69-cbda-4b82-b1d1-5adfb9ccd8fb",
   "metadata": {},
   "outputs": [],
   "source": [
    "# # Check current remote commits\n",
    "# !git ls-remote --heads https://github.com/phockett/qbanalysis"
   ]
  },
  {
   "cell_type": "code",
   "execution_count": null,
   "id": "4f34b97c-e4b8-4618-9d46-0464f6a568f2",
   "metadata": {},
   "outputs": [],
   "source": [
    "# Check current Git commit for local code version\n",
    "import qbanalysis\n",
    "!git -C {Path(qbanalysis.__file__).parent} branch\n",
    "!git -C {Path(qbanalysis.__file__).parent} log --format=\"%H\" -n 1"
   ]
  },
  {
   "cell_type": "code",
   "execution_count": null,
   "id": "c381dbb0-2218-4f5a-a7d7-af7ea4593ba1",
   "metadata": {
    "tags": []
   },
   "outputs": [],
   "source": [
    "# Check current remote commits\n",
    "!git ls-remote --heads https://github.com/phockett/Quantum-Beat_Photoelectron-Imaging_Spectroscopy_of_Xe_in_the_VUV"
   ]
  }
 ],
 "metadata": {
  "kernelspec": {
   "display_name": "Python 3 (ipykernel)",
   "language": "python",
   "name": "python3"
  },
  "language_info": {
   "codemirror_mode": {
    "name": "ipython",
    "version": 3
   },
   "file_extension": ".py",
   "mimetype": "text/x-python",
   "name": "python",
   "nbconvert_exporter": "python",
   "pygments_lexer": "ipython3",
   "version": "3.10.11"
  }
 },
 "nbformat": 4,
 "nbformat_minor": 5
}
